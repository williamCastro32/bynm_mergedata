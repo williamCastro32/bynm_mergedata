{
 "cells": [
  {
   "attachments": {},
   "cell_type": "markdown",
   "metadata": {},
   "source": [
    "BYNmasivofy2024*"
   ]
  },
  {
   "cell_type": "code",
   "execution_count": 775,
   "metadata": {},
   "outputs": [],
   "source": [
    "# Importa las librerias a usar\n",
    "import pandas as pd\n",
    "import re\n",
    "import numpy as np\n",
    "import funcionesw as bynm\n",
    "import datetime"
   ]
  },
  {
   "cell_type": "markdown",
   "metadata": {},
   "source": [
    "importar arvhivos a procesar"
   ]
  },
  {
   "cell_type": "code",
   "execution_count": 776,
   "metadata": {},
   "outputs": [],
   "source": [
    "# ubicacion de los archivos\n",
    "patch1 = '../input/Kilometros en Servicio MIO - 05-Mar-2024.xlsx'# Se importa el archivo xlxs\n",
    "patch2 =  '../input/REPORTE FINALIZADO 05_MARZ_2024.xlsx'\n",
    "patch3 = '../input/JERARQUIAS.xlsx'"
   ]
  },
  {
   "cell_type": "code",
   "execution_count": 777,
   "metadata": {},
   "outputs": [],
   "source": [
    "# Se importa el archivo xlxs\n",
    "kmsmio = pd.read_excel(patch1, sheet_name='Programacion')\n",
    "repofi = pd.read_excel(patch2, sheet_name='Programacion')\n",
    "bitacora = pd.read_excel(patch2, sheet_name='Bitacora')\n",
    "jerarquias = pd.read_excel(patch3, sheet_name='Hoja1')\n",
    "# Se eliminan las filas y las columnas vacias\n",
    "kmsmio = kmsmio.dropna(axis=0, how='all').dropna(axis=1, how='all')\n",
    "repofi = repofi.dropna(axis=0, how='all').dropna(axis=1, how='all')\n",
    "bitacora = bitacora.dropna(axis=0, how='all').dropna(axis=1, how='all')"
   ]
  },
  {
   "cell_type": "code",
   "execution_count": 778,
   "metadata": {},
   "outputs": [],
   "source": [
    "# Se crea el df de adicionales\n",
    "adi = kmsmio[kmsmio['Kilometros Programados Plan'].isna()]"
   ]
  },
  {
   "cell_type": "markdown",
   "metadata": {},
   "source": [
    "Porcesar K2"
   ]
  },
  {
   "cell_type": "code",
   "execution_count": 779,
   "metadata": {},
   "outputs": [],
   "source": [
    "# Filtra el DF por Kms en Servicio\n",
    "kmsmio = kmsmio[kmsmio['Tipo Kilómetros']== 'Kms en Servicio']\n",
    "kmsmio = kmsmio[kmsmio['Kilometros Programados Plan'].notna()]"
   ]
  },
  {
   "cell_type": "code",
   "execution_count": 780,
   "metadata": {},
   "outputs": [],
   "source": [
    "def extraer_hora_regex(desde):\n",
    "    \"\"\"\n",
    "    Esta funcion trata las columnas desde y hasta para verificar que las fechas esten iguales.\n",
    "    Extrae la hora en formato hh:mm:ss de una cadena utilizando expresiones regulares.\n",
    "\n",
    "    Parameters:\n",
    "    desde (str): Cadena que contiene la hora en formato hh:mm:ss.\n",
    "\n",
    "    Returns:\n",
    "    str or None: La hora extraída en formato hh:mm:ss si se encuentra en la cadena, None si no se encuentra.\n",
    "    \"\"\"\n",
    "    # Expresión regular para encontrar el patrón de hora (hh:mm:ss)\n",
    "    patron_hora = r'(\\d{2}):(\\d{2}):(\\d{2})'\n",
    "    # Buscar el patrón en la cadena\n",
    "    resultado = re.search(patron_hora, str(desde))\n",
    "    # Si se encontró el patrón\n",
    "    if resultado:\n",
    "        # Extraer la hora, minutos y segundos encontrados\n",
    "        hora = int(resultado.group(1))\n",
    "        minutos = int(resultado.group(2))\n",
    "        segundos = int(resultado.group(3))\n",
    "        # Si la hora es 0, cambiarla a 24\n",
    "        if hora == 0:\n",
    "            hora = 24\n",
    "        # Si la hora es 1, cambiarla a 25\n",
    "        elif hora == 1:\n",
    "            hora = 25\n",
    "        # Devolver la hora modificada en formato hh:mm:ss\n",
    "        return f\"{hora:02d}:{minutos:02d}:{segundos:02d}\"\n",
    "    # Si no se encontró el patrón, devolver None\n",
    "    return None\n"
   ]
  },
  {
   "cell_type": "code",
   "execution_count": 781,
   "metadata": {},
   "outputs": [],
   "source": [
    "kmsmio['Desde'] = kmsmio['Desde'].apply(extraer_hora_regex)\n",
    "kmsmio['hasta'] = kmsmio['hasta'].apply(extraer_hora_regex)"
   ]
  },
  {
   "cell_type": "code",
   "execution_count": 782,
   "metadata": {},
   "outputs": [],
   "source": [
    "# Se crea una nueva columna 'id'\n",
    "kmsmio['id'] = kmsmio.apply(lambda row: '-'.join((str(row['Fecha']), str(row['Línea']), str(row['Número de tarea vehículo']), \n",
    "                                                   str(row['Desde']), str(row['hasta']))), axis=1)\n"
   ]
  },
  {
   "cell_type": "code",
   "execution_count": 783,
   "metadata": {},
   "outputs": [
    {
     "data": {
      "text/plain": [
       "(18645, 40)"
      ]
     },
     "execution_count": 783,
     "metadata": {},
     "output_type": "execute_result"
    }
   ],
   "source": [
    "# Se verifica el tamaño del df\n",
    "kmsmio.shape"
   ]
  },
  {
   "cell_type": "code",
   "execution_count": 784,
   "metadata": {},
   "outputs": [
    {
     "data": {
      "text/plain": [
       "id\n",
       "2024-03-05 00:00:00-A14A-1-05:00:00-05:12:10        1\n",
       "2024-03-05 00:00:00-T47B-2-19:21:48-20:01:10        1\n",
       "2024-03-05 00:00:00-A14A-1-05:26:00-05:38:10        1\n",
       "2024-03-05 00:00:00-A14A-1-05:38:55-05:51:15        1\n",
       "2024-03-05 00:00:00-A14A-1-05:52:00-06:04:43        1\n",
       "                                                   ..\n",
       "2024-03-05 00:00:00-A35A-99753-24:03:04-24:14:39    1\n",
       "2024-03-05 00:00:00-A35A-99753-23:03:04-23:14:39    1\n",
       "2024-03-05 00:00:00-A35A-99753-21:33:04-21:44:07    1\n",
       "2024-03-05 00:00:00-A35A-99753-21:30:02-21:30:17    1\n",
       "2024-03-05 00:00:00-A35A-99753-24:16:10-24:29:23    1\n",
       "Name: count, Length: 18645, dtype: int64"
      ]
     },
     "execution_count": 784,
     "metadata": {},
     "output_type": "execute_result"
    }
   ],
   "source": [
    "# Se verifica que la columna id no tenga id repetidos\n",
    "kmsmio['id'].value_counts().sort_values(ascending=False)"
   ]
  },
  {
   "cell_type": "markdown",
   "metadata": {},
   "source": [
    "Procesar reporte finalizado"
   ]
  },
  {
   "cell_type": "code",
   "execution_count": 785,
   "metadata": {},
   "outputs": [],
   "source": [
    "repofi['desde'] = repofi['desde'].apply(extraer_hora_regex)\n",
    "repofi['hasta'] = repofi['hasta'].apply(extraer_hora_regex)"
   ]
  },
  {
   "cell_type": "code",
   "execution_count": 786,
   "metadata": {},
   "outputs": [],
   "source": [
    "# Filtra el DF por Kms en Servicio\n",
    "repofi = repofi[repofi['Tipo de kilometros']== 'Kms en Servicio']\n",
    "# Se crea una nueva columna 'id'\n",
    "repofi['id'] = repofi.apply(lambda row: '-'.join((str(row['Fecha']), str(row['Línea']), str(row['Número de tarea vehículo']), \n",
    "                                                   str(row['desde']), str(row['hasta']))), axis=1)\n",
    "\n"
   ]
  },
  {
   "cell_type": "code",
   "execution_count": 787,
   "metadata": {},
   "outputs": [
    {
     "data": {
      "text/plain": [
       "id\n",
       "2024-03-05 00:00:00-A14A-1-05:00:00-05:12:10        1\n",
       "2024-03-05 00:00:00-T47B-2-19:21:48-20:01:10        1\n",
       "2024-03-05 00:00:00-A14A-1-05:26:00-05:38:10        1\n",
       "2024-03-05 00:00:00-A14A-1-05:38:55-05:51:15        1\n",
       "2024-03-05 00:00:00-A14A-1-05:52:00-06:04:43        1\n",
       "                                                   ..\n",
       "2024-03-05 00:00:00-A35A-99753-24:03:04-24:14:39    1\n",
       "2024-03-05 00:00:00-A35A-99753-23:03:04-23:14:39    1\n",
       "2024-03-05 00:00:00-A35A-99753-21:33:04-21:44:07    1\n",
       "2024-03-05 00:00:00-A35A-99753-21:30:02-21:30:17    1\n",
       "2024-03-05 00:00:00-A35A-99753-24:16:10-24:29:23    1\n",
       "Name: count, Length: 18645, dtype: int64"
      ]
     },
     "execution_count": 787,
     "metadata": {},
     "output_type": "execute_result"
    }
   ],
   "source": [
    "# Se verifica que el id no tenga datos repetidos\n",
    "repofi['id'].value_counts().sort_values(ascending=False)"
   ]
  },
  {
   "cell_type": "code",
   "execution_count": 788,
   "metadata": {},
   "outputs": [
    {
     "data": {
      "text/plain": [
       "(18645, 32)"
      ]
     },
     "execution_count": 788,
     "metadata": {},
     "output_type": "execute_result"
    }
   ],
   "source": [
    "# Se verifica el tamaño del df\n",
    "repofi.shape"
   ]
  },
  {
   "cell_type": "code",
   "execution_count": 789,
   "metadata": {},
   "outputs": [],
   "source": [
    "# Se seleccionan las columnas del reporte finalizado\n",
    "repofi = repofi[['id', 'Largo', 'Número de secuencia de carro', 'Número de tarea vehículo', 'Secuencia de arcos', \n",
    "                 'Número de viaje', 'Incumplidos','Descripción Novedad','Concesionario de Transporte', 'desde', 'hasta']]"
   ]
  },
  {
   "cell_type": "code",
   "execution_count": 790,
   "metadata": {},
   "outputs": [
    {
     "data": {
      "text/html": [
       "<div>\n",
       "<style scoped>\n",
       "    .dataframe tbody tr th:only-of-type {\n",
       "        vertical-align: middle;\n",
       "    }\n",
       "\n",
       "    .dataframe tbody tr th {\n",
       "        vertical-align: top;\n",
       "    }\n",
       "\n",
       "    .dataframe thead th {\n",
       "        text-align: right;\n",
       "    }\n",
       "</style>\n",
       "<table border=\"1\" class=\"dataframe\">\n",
       "  <thead>\n",
       "    <tr style=\"text-align: right;\">\n",
       "      <th></th>\n",
       "      <th>id</th>\n",
       "      <th>Largo</th>\n",
       "      <th>Número de secuencia de carro</th>\n",
       "      <th>Número de tarea vehículo</th>\n",
       "      <th>Secuencia de arcos</th>\n",
       "      <th>Número de viaje</th>\n",
       "      <th>Incumplidos</th>\n",
       "      <th>Descripción Novedad</th>\n",
       "      <th>Concesionario de Transporte</th>\n",
       "      <th>desde</th>\n",
       "      <th>hasta</th>\n",
       "    </tr>\n",
       "  </thead>\n",
       "  <tbody>\n",
       "    <tr>\n",
       "      <th>6498</th>\n",
       "      <td>2024-03-05 00:00:00-A19A-222-06:24:05-06:53:19</td>\n",
       "      <td>7245</td>\n",
       "      <td>53011</td>\n",
       "      <td>222</td>\n",
       "      <td>A19A_Vuelta_18_29-10-2019_HABIL_SAB_DOM</td>\n",
       "      <td>16.0</td>\n",
       "      <td>NaN</td>\n",
       "      <td>NaN</td>\n",
       "      <td>BYNCPC</td>\n",
       "      <td>06:24:05</td>\n",
       "      <td>06:53:19</td>\n",
       "    </tr>\n",
       "    <tr>\n",
       "      <th>17553</th>\n",
       "      <td>2024-03-05 00:00:00-A13D-756-11:58:31-12:07:42</td>\n",
       "      <td>2803</td>\n",
       "      <td>53011</td>\n",
       "      <td>756</td>\n",
       "      <td>A13D_Ida_5_20-04-2023(HN)</td>\n",
       "      <td>65.0</td>\n",
       "      <td>NaN</td>\n",
       "      <td>Caso: 2374666\\nHora: 11:59\\nLinea: A13D\\nTarea...</td>\n",
       "      <td>BYNCPC</td>\n",
       "      <td>11:58:31</td>\n",
       "      <td>12:07:42</td>\n",
       "    </tr>\n",
       "    <tr>\n",
       "      <th>17554</th>\n",
       "      <td>2024-03-05 00:00:00-A13D-756-12:08:30-12:19:53</td>\n",
       "      <td>3269</td>\n",
       "      <td>53011</td>\n",
       "      <td>756</td>\n",
       "      <td>A13D_Vuelta_5_20-04-2023(HN)</td>\n",
       "      <td>66.0</td>\n",
       "      <td>NaN</td>\n",
       "      <td>NaN</td>\n",
       "      <td>BYNCPC</td>\n",
       "      <td>12:08:30</td>\n",
       "      <td>12:19:53</td>\n",
       "    </tr>\n",
       "    <tr>\n",
       "      <th>17555</th>\n",
       "      <td>2024-03-05 00:00:00-A13D-756-12:20:31-12:29:42</td>\n",
       "      <td>2803</td>\n",
       "      <td>53011</td>\n",
       "      <td>756</td>\n",
       "      <td>A13D_Ida_5_20-04-2023(HN)</td>\n",
       "      <td>67.0</td>\n",
       "      <td>NaN</td>\n",
       "      <td>NaN</td>\n",
       "      <td>BYNCPC</td>\n",
       "      <td>12:20:31</td>\n",
       "      <td>12:29:42</td>\n",
       "    </tr>\n",
       "    <tr>\n",
       "      <th>17556</th>\n",
       "      <td>2024-03-05 00:00:00-A13D-756-12:30:30-12:41:53</td>\n",
       "      <td>3269</td>\n",
       "      <td>53011</td>\n",
       "      <td>756</td>\n",
       "      <td>A13D_Vuelta_5_20-04-2023(HN)</td>\n",
       "      <td>68.0</td>\n",
       "      <td>NaN</td>\n",
       "      <td>Caso: 2375138\\nHora: 12:42\\nLinea: A13D\\nTarea...</td>\n",
       "      <td>BYNCPC</td>\n",
       "      <td>12:30:30</td>\n",
       "      <td>12:41:53</td>\n",
       "    </tr>\n",
       "  </tbody>\n",
       "</table>\n",
       "</div>"
      ],
      "text/plain": [
       "                                                   id  Largo  \\\n",
       "6498   2024-03-05 00:00:00-A19A-222-06:24:05-06:53:19   7245   \n",
       "17553  2024-03-05 00:00:00-A13D-756-11:58:31-12:07:42   2803   \n",
       "17554  2024-03-05 00:00:00-A13D-756-12:08:30-12:19:53   3269   \n",
       "17555  2024-03-05 00:00:00-A13D-756-12:20:31-12:29:42   2803   \n",
       "17556  2024-03-05 00:00:00-A13D-756-12:30:30-12:41:53   3269   \n",
       "\n",
       "      Número de secuencia de carro  Número de tarea vehículo  \\\n",
       "6498                         53011                       222   \n",
       "17553                        53011                       756   \n",
       "17554                        53011                       756   \n",
       "17555                        53011                       756   \n",
       "17556                        53011                       756   \n",
       "\n",
       "                            Secuencia de arcos  Número de viaje  Incumplidos  \\\n",
       "6498   A19A_Vuelta_18_29-10-2019_HABIL_SAB_DOM             16.0          NaN   \n",
       "17553                A13D_Ida_5_20-04-2023(HN)             65.0          NaN   \n",
       "17554             A13D_Vuelta_5_20-04-2023(HN)             66.0          NaN   \n",
       "17555                A13D_Ida_5_20-04-2023(HN)             67.0          NaN   \n",
       "17556             A13D_Vuelta_5_20-04-2023(HN)             68.0          NaN   \n",
       "\n",
       "                                     Descripción Novedad  \\\n",
       "6498                                                 NaN   \n",
       "17553  Caso: 2374666\\nHora: 11:59\\nLinea: A13D\\nTarea...   \n",
       "17554                                                NaN   \n",
       "17555                                                NaN   \n",
       "17556  Caso: 2375138\\nHora: 12:42\\nLinea: A13D\\nTarea...   \n",
       "\n",
       "      Concesionario de Transporte     desde     hasta  \n",
       "6498                       BYNCPC  06:24:05  06:53:19  \n",
       "17553                      BYNCPC  11:58:31  12:07:42  \n",
       "17554                      BYNCPC  12:08:30  12:19:53  \n",
       "17555                      BYNCPC  12:20:31  12:29:42  \n",
       "17556                      BYNCPC  12:30:30  12:41:53  "
      ]
     },
     "execution_count": 790,
     "metadata": {},
     "output_type": "execute_result"
    }
   ],
   "source": [
    "# Prueba\n",
    "repofi[repofi['Número de secuencia de carro']==53011]"
   ]
  },
  {
   "cell_type": "markdown",
   "metadata": {},
   "source": [
    "Se realiza el respectivo Merge con los dos df"
   ]
  },
  {
   "cell_type": "code",
   "execution_count": 791,
   "metadata": {},
   "outputs": [],
   "source": [
    "# Se realiza el merge con outer en la columna id\n",
    "merge = pd.merge(kmsmio, repofi, on='id', how='outer')"
   ]
  },
  {
   "cell_type": "code",
   "execution_count": 792,
   "metadata": {},
   "outputs": [
    {
     "data": {
      "text/html": [
       "<div>\n",
       "<style scoped>\n",
       "    .dataframe tbody tr th:only-of-type {\n",
       "        vertical-align: middle;\n",
       "    }\n",
       "\n",
       "    .dataframe tbody tr th {\n",
       "        vertical-align: top;\n",
       "    }\n",
       "\n",
       "    .dataframe thead th {\n",
       "        text-align: right;\n",
       "    }\n",
       "</style>\n",
       "<table border=\"1\" class=\"dataframe\">\n",
       "  <thead>\n",
       "    <tr style=\"text-align: right;\">\n",
       "      <th></th>\n",
       "      <th>Fecha</th>\n",
       "      <th>Día tipo</th>\n",
       "      <th>Designación de tarea vehículo</th>\n",
       "      <th>Línea</th>\n",
       "      <th>Tipo de viaje corto</th>\n",
       "      <th>Sentido</th>\n",
       "      <th>Tipo Kilómetros</th>\n",
       "      <th>Número de Vehículo</th>\n",
       "      <th>Concesionario de Transporte_x</th>\n",
       "      <th>Número de tarea vehículo_x</th>\n",
       "      <th>...</th>\n",
       "      <th>Largo_y</th>\n",
       "      <th>Número de secuencia de carro</th>\n",
       "      <th>Número de tarea vehículo_y</th>\n",
       "      <th>Secuencia de arcos_y</th>\n",
       "      <th>Número de viaje_y</th>\n",
       "      <th>Incumplidos_y</th>\n",
       "      <th>Descripción Novedad_y</th>\n",
       "      <th>Concesionario de Transporte_y</th>\n",
       "      <th>desde</th>\n",
       "      <th>hasta_y</th>\n",
       "    </tr>\n",
       "  </thead>\n",
       "  <tbody>\n",
       "  </tbody>\n",
       "</table>\n",
       "<p>0 rows × 50 columns</p>\n",
       "</div>"
      ],
      "text/plain": [
       "Empty DataFrame\n",
       "Columns: [Fecha, Día tipo, Designación de tarea vehículo, Línea, Tipo de viaje corto, Sentido, Tipo Kilómetros, Número de Vehículo, Concesionario de Transporte_x, Número de tarea vehículo_x, Desde, hasta_x, Duración, Punto de inicio, Punto de término, Largo_x, Número de viaje_x, Tipo de vehículo del viaje, Secuencia de arcos_x, Descripción Novedad_x, Concesionario Programado, Tipo de vehículo Programado, Incumplidos_x, Kilometros Programados-Desvios, Kilometros Programados Plan, Clase de viaje, a evaluar, TAREA, LINEA, VIAJE, VEHICULO SGCO, Kms en Servicio (MTS PLANEADOS), PARADAS PLANEADAS, PARADAS REALIZADAS SGCO, % PARADAS REALIZADAS SGCO, Kms en Servicio (MTS SGCO), FUENTE SGCO, HORA REAL SALIDA, HORA REAL LLEGADA, id, Largo_y, Número de secuencia de carro, Número de tarea vehículo_y, Secuencia de arcos_y, Número de viaje_y, Incumplidos_y, Descripción Novedad_y, Concesionario de Transporte_y, desde, hasta_y]\n",
       "Index: []\n",
       "\n",
       "[0 rows x 50 columns]"
      ]
     },
     "execution_count": 792,
     "metadata": {},
     "output_type": "execute_result"
    }
   ],
   "source": [
    "merge[merge.duplicated(subset='id')]"
   ]
  },
  {
   "cell_type": "code",
   "execution_count": 793,
   "metadata": {},
   "outputs": [
    {
     "data": {
      "text/html": [
       "<div>\n",
       "<style scoped>\n",
       "    .dataframe tbody tr th:only-of-type {\n",
       "        vertical-align: middle;\n",
       "    }\n",
       "\n",
       "    .dataframe tbody tr th {\n",
       "        vertical-align: top;\n",
       "    }\n",
       "\n",
       "    .dataframe thead th {\n",
       "        text-align: right;\n",
       "    }\n",
       "</style>\n",
       "<table border=\"1\" class=\"dataframe\">\n",
       "  <thead>\n",
       "    <tr style=\"text-align: right;\">\n",
       "      <th></th>\n",
       "      <th>Fecha</th>\n",
       "      <th>Día tipo</th>\n",
       "      <th>Designación de tarea vehículo</th>\n",
       "      <th>Línea</th>\n",
       "      <th>Tipo de viaje corto</th>\n",
       "      <th>Sentido</th>\n",
       "      <th>Tipo Kilómetros</th>\n",
       "      <th>Número de Vehículo</th>\n",
       "      <th>Concesionario de Transporte_x</th>\n",
       "      <th>Número de tarea vehículo_x</th>\n",
       "      <th>...</th>\n",
       "      <th>Largo_y</th>\n",
       "      <th>Número de secuencia de carro</th>\n",
       "      <th>Número de tarea vehículo_y</th>\n",
       "      <th>Secuencia de arcos_y</th>\n",
       "      <th>Número de viaje_y</th>\n",
       "      <th>Incumplidos_y</th>\n",
       "      <th>Descripción Novedad_y</th>\n",
       "      <th>Concesionario de Transporte_y</th>\n",
       "      <th>desde</th>\n",
       "      <th>hasta_y</th>\n",
       "    </tr>\n",
       "  </thead>\n",
       "  <tbody>\n",
       "    <tr>\n",
       "      <th>2333</th>\n",
       "      <td>2024-03-05</td>\n",
       "      <td>DHABIL</td>\n",
       "      <td>756</td>\n",
       "      <td>A13D</td>\n",
       "      <td>Viaje comercial</td>\n",
       "      <td>Ida</td>\n",
       "      <td>Kms en Servicio</td>\n",
       "      <td>NaN</td>\n",
       "      <td>NaN</td>\n",
       "      <td>756</td>\n",
       "      <td>...</td>\n",
       "      <td>2803</td>\n",
       "      <td>53011</td>\n",
       "      <td>756</td>\n",
       "      <td>A13D_Ida_5_20-04-2023(HN)</td>\n",
       "      <td>65.0</td>\n",
       "      <td>NaN</td>\n",
       "      <td>Caso: 2374666\\nHora: 11:59\\nLinea: A13D\\nTarea...</td>\n",
       "      <td>BYNCPC</td>\n",
       "      <td>11:58:31</td>\n",
       "      <td>12:07:42</td>\n",
       "    </tr>\n",
       "    <tr>\n",
       "      <th>2334</th>\n",
       "      <td>2024-03-05</td>\n",
       "      <td>DHABIL</td>\n",
       "      <td>756</td>\n",
       "      <td>A13D</td>\n",
       "      <td>Viaje comercial</td>\n",
       "      <td>Vuelta</td>\n",
       "      <td>Kms en Servicio</td>\n",
       "      <td>NaN</td>\n",
       "      <td>NaN</td>\n",
       "      <td>756</td>\n",
       "      <td>...</td>\n",
       "      <td>3269</td>\n",
       "      <td>53011</td>\n",
       "      <td>756</td>\n",
       "      <td>A13D_Vuelta_5_20-04-2023(HN)</td>\n",
       "      <td>66.0</td>\n",
       "      <td>NaN</td>\n",
       "      <td>NaN</td>\n",
       "      <td>BYNCPC</td>\n",
       "      <td>12:08:30</td>\n",
       "      <td>12:19:53</td>\n",
       "    </tr>\n",
       "    <tr>\n",
       "      <th>2335</th>\n",
       "      <td>2024-03-05</td>\n",
       "      <td>DHABIL</td>\n",
       "      <td>756</td>\n",
       "      <td>A13D</td>\n",
       "      <td>Viaje comercial</td>\n",
       "      <td>Ida</td>\n",
       "      <td>Kms en Servicio</td>\n",
       "      <td>NaN</td>\n",
       "      <td>NaN</td>\n",
       "      <td>756</td>\n",
       "      <td>...</td>\n",
       "      <td>2803</td>\n",
       "      <td>53011</td>\n",
       "      <td>756</td>\n",
       "      <td>A13D_Ida_5_20-04-2023(HN)</td>\n",
       "      <td>67.0</td>\n",
       "      <td>NaN</td>\n",
       "      <td>NaN</td>\n",
       "      <td>BYNCPC</td>\n",
       "      <td>12:20:31</td>\n",
       "      <td>12:29:42</td>\n",
       "    </tr>\n",
       "    <tr>\n",
       "      <th>2336</th>\n",
       "      <td>2024-03-05</td>\n",
       "      <td>DHABIL</td>\n",
       "      <td>756</td>\n",
       "      <td>A13D</td>\n",
       "      <td>Viaje comercial</td>\n",
       "      <td>Vuelta</td>\n",
       "      <td>Kms en Servicio</td>\n",
       "      <td>NaN</td>\n",
       "      <td>NaN</td>\n",
       "      <td>756</td>\n",
       "      <td>...</td>\n",
       "      <td>3269</td>\n",
       "      <td>53011</td>\n",
       "      <td>756</td>\n",
       "      <td>A13D_Vuelta_5_20-04-2023(HN)</td>\n",
       "      <td>68.0</td>\n",
       "      <td>NaN</td>\n",
       "      <td>Caso: 2375138\\nHora: 12:42\\nLinea: A13D\\nTarea...</td>\n",
       "      <td>BYNCPC</td>\n",
       "      <td>12:30:30</td>\n",
       "      <td>12:41:53</td>\n",
       "    </tr>\n",
       "    <tr>\n",
       "      <th>4056</th>\n",
       "      <td>2024-03-05</td>\n",
       "      <td>DHABIL</td>\n",
       "      <td>222</td>\n",
       "      <td>A19A</td>\n",
       "      <td>Viaje comercial</td>\n",
       "      <td>Vuelta</td>\n",
       "      <td>Kms en Servicio</td>\n",
       "      <td>53011</td>\n",
       "      <td>BYNCPC</td>\n",
       "      <td>222</td>\n",
       "      <td>...</td>\n",
       "      <td>7245</td>\n",
       "      <td>53011</td>\n",
       "      <td>222</td>\n",
       "      <td>A19A_Vuelta_18_29-10-2019_HABIL_SAB_DOM</td>\n",
       "      <td>16.0</td>\n",
       "      <td>NaN</td>\n",
       "      <td>NaN</td>\n",
       "      <td>BYNCPC</td>\n",
       "      <td>06:24:05</td>\n",
       "      <td>06:53:19</td>\n",
       "    </tr>\n",
       "  </tbody>\n",
       "</table>\n",
       "<p>5 rows × 50 columns</p>\n",
       "</div>"
      ],
      "text/plain": [
       "          Fecha Día tipo Designación de tarea vehículo Línea  \\\n",
       "2333 2024-03-05   DHABIL                           756  A13D   \n",
       "2334 2024-03-05   DHABIL                           756  A13D   \n",
       "2335 2024-03-05   DHABIL                           756  A13D   \n",
       "2336 2024-03-05   DHABIL                           756  A13D   \n",
       "4056 2024-03-05   DHABIL                           222  A19A   \n",
       "\n",
       "     Tipo de viaje corto Sentido  Tipo Kilómetros Número de Vehículo  \\\n",
       "2333     Viaje comercial     Ida  Kms en Servicio                NaN   \n",
       "2334     Viaje comercial  Vuelta  Kms en Servicio                NaN   \n",
       "2335     Viaje comercial     Ida  Kms en Servicio                NaN   \n",
       "2336     Viaje comercial  Vuelta  Kms en Servicio                NaN   \n",
       "4056     Viaje comercial  Vuelta  Kms en Servicio              53011   \n",
       "\n",
       "     Concesionario de Transporte_x Número de tarea vehículo_x  ... Largo_y  \\\n",
       "2333                           NaN                        756  ...    2803   \n",
       "2334                           NaN                        756  ...    3269   \n",
       "2335                           NaN                        756  ...    2803   \n",
       "2336                           NaN                        756  ...    3269   \n",
       "4056                        BYNCPC                        222  ...    7245   \n",
       "\n",
       "     Número de secuencia de carro Número de tarea vehículo_y  \\\n",
       "2333                        53011                        756   \n",
       "2334                        53011                        756   \n",
       "2335                        53011                        756   \n",
       "2336                        53011                        756   \n",
       "4056                        53011                        222   \n",
       "\n",
       "                         Secuencia de arcos_y Número de viaje_y  \\\n",
       "2333                A13D_Ida_5_20-04-2023(HN)              65.0   \n",
       "2334             A13D_Vuelta_5_20-04-2023(HN)              66.0   \n",
       "2335                A13D_Ida_5_20-04-2023(HN)              67.0   \n",
       "2336             A13D_Vuelta_5_20-04-2023(HN)              68.0   \n",
       "4056  A19A_Vuelta_18_29-10-2019_HABIL_SAB_DOM              16.0   \n",
       "\n",
       "      Incumplidos_y                              Descripción Novedad_y  \\\n",
       "2333            NaN  Caso: 2374666\\nHora: 11:59\\nLinea: A13D\\nTarea...   \n",
       "2334            NaN                                                NaN   \n",
       "2335            NaN                                                NaN   \n",
       "2336            NaN  Caso: 2375138\\nHora: 12:42\\nLinea: A13D\\nTarea...   \n",
       "4056            NaN                                                NaN   \n",
       "\n",
       "     Concesionario de Transporte_y     desde   hasta_y  \n",
       "2333                        BYNCPC  11:58:31  12:07:42  \n",
       "2334                        BYNCPC  12:08:30  12:19:53  \n",
       "2335                        BYNCPC  12:20:31  12:29:42  \n",
       "2336                        BYNCPC  12:30:30  12:41:53  \n",
       "4056                        BYNCPC  06:24:05  06:53:19  \n",
       "\n",
       "[5 rows x 50 columns]"
      ]
     },
     "execution_count": 793,
     "metadata": {},
     "output_type": "execute_result"
    }
   ],
   "source": [
    "# Prueba\n",
    "merge[merge['Número de secuencia de carro']==53011]"
   ]
  },
  {
   "cell_type": "code",
   "execution_count": 794,
   "metadata": {},
   "outputs": [
    {
     "data": {
      "text/plain": [
       "Index(['Fecha', 'Día tipo', 'Designación de tarea vehículo', 'Línea',\n",
       "       'Tipo de viaje corto', 'Sentido', 'Tipo Kilómetros',\n",
       "       'Número de Vehículo', 'Concesionario de Transporte_x',\n",
       "       'Número de tarea vehículo_x', 'Desde', 'hasta_x', 'Duración',\n",
       "       'Punto de inicio', 'Punto de término', 'Largo_x', 'Número de viaje_x',\n",
       "       'Tipo de vehículo del viaje', 'Secuencia de arcos_x',\n",
       "       'Descripción Novedad_x', 'Concesionario Programado',\n",
       "       'Tipo de vehículo Programado', 'Incumplidos_x',\n",
       "       'Kilometros Programados-Desvios', 'Kilometros Programados Plan',\n",
       "       'Clase de viaje', 'a evaluar', 'TAREA', 'LINEA', 'VIAJE',\n",
       "       'VEHICULO SGCO', 'Kms en Servicio (MTS PLANEADOS)', 'PARADAS PLANEADAS',\n",
       "       'PARADAS REALIZADAS SGCO', '% PARADAS REALIZADAS SGCO',\n",
       "       'Kms en Servicio (MTS SGCO)', 'FUENTE SGCO', 'HORA REAL SALIDA',\n",
       "       'HORA REAL LLEGADA', 'id', 'Largo_y', 'Número de secuencia de carro',\n",
       "       'Número de tarea vehículo_y', 'Secuencia de arcos_y',\n",
       "       'Número de viaje_y', 'Incumplidos_y', 'Descripción Novedad_y',\n",
       "       'Concesionario de Transporte_y', 'desde', 'hasta_y'],\n",
       "      dtype='object')"
      ]
     },
     "execution_count": 794,
     "metadata": {},
     "output_type": "execute_result"
    }
   ],
   "source": [
    "merge.columns"
   ]
  },
  {
   "cell_type": "code",
   "execution_count": 795,
   "metadata": {},
   "outputs": [
    {
     "data": {
      "text/plain": [
       "True"
      ]
     },
     "execution_count": 795,
     "metadata": {},
     "output_type": "execute_result"
    }
   ],
   "source": [
    "# Se verifica que el numero de filas en los df sea igual (True), para poder concluir que el merge fue exitoso\n",
    "merge.shape[0] == kmsmio.shape[0] == repofi.shape[0]"
   ]
  },
  {
   "cell_type": "markdown",
   "metadata": {},
   "source": [
    "Calificaciones de jerarquias en Bitacora"
   ]
  },
  {
   "cell_type": "code",
   "execution_count": 796,
   "metadata": {},
   "outputs": [],
   "source": [
    "# Selecciona las columnas a usar\n",
    "jerarquias = jerarquias[['JERARQUIA HGI RECO2',\t'CALIFICACION']]"
   ]
  },
  {
   "cell_type": "code",
   "execution_count": 797,
   "metadata": {},
   "outputs": [],
   "source": [
    "# Esto elimina los espacios en blanco adelante y atras\n",
    "jerarquias['JERARQUIA HGI RECO2'] = jerarquias['JERARQUIA HGI RECO2'].str.strip()"
   ]
  },
  {
   "cell_type": "code",
   "execution_count": 798,
   "metadata": {},
   "outputs": [],
   "source": [
    "#combina los el df de bitacora con el de jerarquias\n",
    "bitacora = pd.merge(bitacora, jerarquias, left_on='Jerarquía', right_on='JERARQUIA HGI RECO2', how='left' )"
   ]
  },
  {
   "cell_type": "code",
   "execution_count": 799,
   "metadata": {},
   "outputs": [
    {
     "data": {
      "text/plain": [
       "Series([], Name: count, dtype: int64)"
      ]
     },
     "execution_count": 799,
     "metadata": {},
     "output_type": "execute_result"
    }
   ],
   "source": [
    "# Esta linea es para verificar las filas que no se cruzaron por jerarquia y agregarlas a la matriz fe jererquia en input\n",
    "x = bitacora[(bitacora['Jerarquía'].str.startswith('Salida'))& bitacora['CALIFICACION'].isnull()]\n",
    "x['Jerarquía'].value_counts()"
   ]
  },
  {
   "cell_type": "code",
   "execution_count": 800,
   "metadata": {},
   "outputs": [],
   "source": [
    "# Este codigo elimina los duplicado de la columna calificaciones eliminando el que no afecta a kilometros\n",
    "\n",
    "# Convertir la columna 'CALIFICACION' a numérica para poder comparar y encontrar el máximo\n",
    "bitacora['CALIFICACION'] = pd.to_numeric(bitacora['CALIFICACION'], errors='coerce')\n",
    "\n",
    "# Agrupar por las columnas 'Viaje' y 'Tarea', y mantener el valor máximo de 'CALIFICACION'\n",
    "bitacora_grouped = bitacora.groupby(['Viaje', 'Tarea']).agg({'CALIFICACION': 'max'}).reset_index()\n",
    "\n",
    "# Identificar las filas duplicadas en la tabla original\n",
    "duplicados = bitacora[bitacora.duplicated(subset=['Viaje', 'Tarea'], keep=False)]\n",
    "\n",
    "# Mantener solo una fila para cada grupo de duplicados en 'Viaje' y 'Tarea'\n",
    "bitacora_sin_duplicados = bitacora.drop_duplicates(subset=['Viaje', 'Tarea'])\n",
    "\n",
    "# Fusionar los datos filtrados con los valores máximos de 'CALIFICACION'\n",
    "bitacora_final = pd.merge(bitacora_sin_duplicados, bitacora_grouped, on=['Viaje', 'Tarea'])\n",
    "\n",
    "# Eliminar cualquiera de las filas duplicadas si ambas tienen valores nulos en 'CALIFICACION'\n",
    "bitacora = bitacora_final.drop_duplicates(subset=['Viaje', 'Tarea'], keep='last', ignore_index=True)\n",
    "    "
   ]
  },
  {
   "cell_type": "code",
   "execution_count": 801,
   "metadata": {},
   "outputs": [
    {
     "data": {
      "text/html": [
       "<div>\n",
       "<style scoped>\n",
       "    .dataframe tbody tr th:only-of-type {\n",
       "        vertical-align: middle;\n",
       "    }\n",
       "\n",
       "    .dataframe tbody tr th {\n",
       "        vertical-align: top;\n",
       "    }\n",
       "\n",
       "    .dataframe thead th {\n",
       "        text-align: right;\n",
       "    }\n",
       "</style>\n",
       "<table border=\"1\" class=\"dataframe\">\n",
       "  <thead>\n",
       "    <tr style=\"text-align: right;\">\n",
       "      <th></th>\n",
       "      <th># Caso MC</th>\n",
       "      <th>Tipo novedad</th>\n",
       "      <th>Jerarquía</th>\n",
       "      <th>Tarea</th>\n",
       "      <th>Viaje</th>\n",
       "      <th>Parada</th>\n",
       "      <th>Operador</th>\n",
       "      <th>Línea</th>\n",
       "      <th>Vehículo</th>\n",
       "      <th>Hora</th>\n",
       "      <th>...</th>\n",
       "      <th>Jerarquia</th>\n",
       "      <th>Tipo de Novedad</th>\n",
       "      <th>Novedad</th>\n",
       "      <th>Retoma/Salida</th>\n",
       "      <th>Unnamed: 16</th>\n",
       "      <th>Unnamed: 17</th>\n",
       "      <th>Unnamed: 18</th>\n",
       "      <th>JERARQUIA HGI RECO2</th>\n",
       "      <th>CALIFICACION_x</th>\n",
       "      <th>CALIFICACION_y</th>\n",
       "    </tr>\n",
       "  </thead>\n",
       "  <tbody>\n",
       "  </tbody>\n",
       "</table>\n",
       "<p>0 rows × 22 columns</p>\n",
       "</div>"
      ],
      "text/plain": [
       "Empty DataFrame\n",
       "Columns: [# Caso MC, Tipo novedad, Jerarquía, Tarea, Viaje, Parada, Operador, Línea, Vehículo, Hora, Fecha, Descripción, Jerarquia, Tipo de Novedad, Novedad, Retoma/Salida, Unnamed: 16, Unnamed: 17, Unnamed: 18, JERARQUIA HGI RECO2, CALIFICACION_x, CALIFICACION_y]\n",
       "Index: []\n",
       "\n",
       "[0 rows x 22 columns]"
      ]
     },
     "execution_count": 801,
     "metadata": {},
     "output_type": "execute_result"
    }
   ],
   "source": [
    "# Se verifica que no hay duplicados\n",
    "bitacora[bitacora.duplicated(subset=['Viaje', 'Tarea'], keep=False)]"
   ]
  },
  {
   "cell_type": "code",
   "execution_count": 802,
   "metadata": {},
   "outputs": [],
   "source": [
    "# Se elimina la columna CALIFICACION_X y se renombra la columna CALIFICACION_Y\n",
    "bitacora.drop(columns='CALIFICACION_x', axis=1, inplace=True)\n",
    "bitacora.rename(columns={'CALIFICACION_y': 'CALIFICACION'}, inplace=True)\n"
   ]
  },
  {
   "cell_type": "markdown",
   "metadata": {},
   "source": [
    "Merge con bitacora\n"
   ]
  },
  {
   "cell_type": "code",
   "execution_count": 803,
   "metadata": {},
   "outputs": [],
   "source": [
    "# Se reemplan las filas nulas por ceros de las dos columnas para posteriormente carbiar el tipo de dato\n",
    "bitacora[['Tarea', 'Viaje']] = bitacora[['Tarea', 'Viaje']].fillna(0).astype(int)"
   ]
  },
  {
   "cell_type": "code",
   "execution_count": 804,
   "metadata": {},
   "outputs": [],
   "source": [
    "# Se selecionan las columnas de Bitacora que se van a usar\n",
    "bitacora = bitacora[['Jerarquía',\t'Tarea',\t'Viaje', 'Parada', 'Vehículo', 'Novedad', 'CALIFICACION']]\n",
    "# Se filtran los casos que no tiene numero de viaje ya que no tiene retoma\n",
    "bitacora = bitacora[bitacora['Viaje'] != 0]"
   ]
  },
  {
   "cell_type": "code",
   "execution_count": 805,
   "metadata": {},
   "outputs": [
    {
     "data": {
      "text/plain": [
       "True"
      ]
     },
     "execution_count": 805,
     "metadata": {},
     "output_type": "execute_result"
    }
   ],
   "source": [
    "# Se compara las filas de los df, el resultado debe ser False\n",
    "bitacora.shape[0]==bitacora.shape[0]"
   ]
  },
  {
   "cell_type": "code",
   "execution_count": 806,
   "metadata": {},
   "outputs": [],
   "source": [
    "# Se agrega al merge anterior la informacion de bitacora\n",
    "# Importante tener en cuenta los vehiculos que tengan mas de un caso en la bitacora, esto genera id duplicados.\n",
    "mergebitacora = pd.merge(merge, bitacora, left_on=['Número de tarea vehículo_x', 'Número de viaje_x'], right_on=['Tarea', 'Viaje'], how='outer' )"
   ]
  },
  {
   "cell_type": "code",
   "execution_count": 807,
   "metadata": {},
   "outputs": [
    {
     "data": {
      "text/plain": [
       "0"
      ]
     },
     "execution_count": 807,
     "metadata": {},
     "output_type": "execute_result"
    }
   ],
   "source": [
    "# Revisar este resultado, ya que los valores que no coinceden deben ser iguales en el filtro\n",
    "mergebitacora.shape[0]- merge.shape[0]"
   ]
  },
  {
   "cell_type": "code",
   "execution_count": 808,
   "metadata": {},
   "outputs": [],
   "source": [
    "# Cambia Blanco y Negro Masivo por BYN en la columna Concesionario Programado\n",
    "mergebitacora['Concesionario Programado'] = mergebitacora['Concesionario Programado'].replace('Blanco y Negro Masivo','BYN')"
   ]
  },
  {
   "cell_type": "markdown",
   "metadata": {},
   "source": [
    "Revisar de numero de vehiculos para posteriormente verificar el incumplimiento"
   ]
  },
  {
   "cell_type": "code",
   "execution_count": 809,
   "metadata": {},
   "outputs": [],
   "source": [
    "def vehiculos_xy_texto(row):\n",
    "    \"\"\"\n",
    "    Asigna un texto descriptivo según las condiciones especificadas sobre los números de vehículo y secuencia de carro.\n",
    "\n",
    "    Parámetros:\n",
    "    row (pandas.Series): Una fila del DataFrame que contiene los datos de la bitácora.\n",
    "\n",
    "    Retorna:\n",
    "    str: Un texto descriptivo que indica el resultado de las comparaciones entre los números de vehículo y secuencia de carro.\n",
    "\n",
    "    Detalles de la lógica:\n",
    "    - Si el número de vehículo es nulo y el número de secuencia de carro no lo es, devuelve 'Revisar caso'.\n",
    "    - Si el número de vehículo no es nulo y el número de secuencia de carro sí lo es, devuelve 'Se reemplaza por el del k2 por nan'.\n",
    "    - Si el número de vehículo es diferente del número de secuencia de carro, devuelve 'Se reemplaza por el del k2 # diferente'.\n",
    "    - En cualquier otro caso, devuelve 'Numero ok'.\n",
    "    \"\"\"\n",
    "    if pd.isna(row['Número de Vehículo']) and pd.notna(row['Número de secuencia de carro']): \n",
    "        return 'Revisar caso # vehiculo'\n",
    "    elif pd.notna(row['Número de Vehículo']) and pd.isna(row['Número de secuencia de carro']):\n",
    "        return 'Se reemplaza por el del k2 por nan'\n",
    "    elif row['Número de Vehículo'] != row['Número de secuencia de carro']:\n",
    "        return 'Se reemplaza por el del k2 # diferente'\n",
    "    else: \n",
    "        return 'Numero ok'"
   ]
  },
  {
   "cell_type": "code",
   "execution_count": 810,
   "metadata": {},
   "outputs": [],
   "source": [
    "# Se crea una nueva columna donde se pondra los cambios que realizara la funcion\n",
    "mergebitacora['texto_cmb_vehi'] = np.nan\n",
    "# Se aplica la funcion al df\n",
    "mergebitacora['texto_cmb_vehi'] = mergebitacora.apply(vehiculos_xy_texto, axis=1)"
   ]
  },
  {
   "cell_type": "code",
   "execution_count": 811,
   "metadata": {},
   "outputs": [
    {
     "data": {
      "text/plain": [
       "texto_cmb_vehi\n",
       "Se reemplaza por el del k2 por nan        9496\n",
       "Numero ok                                 6445\n",
       "Se reemplaza por el del k2 # diferente    2548\n",
       "Revisar caso # vehiculo                    156\n",
       "Name: count, dtype: int64"
      ]
     },
     "execution_count": 811,
     "metadata": {},
     "output_type": "execute_result"
    }
   ],
   "source": [
    "# Se verifica \n",
    "mergebitacora['texto_cmb_vehi'].value_counts()"
   ]
  },
  {
   "cell_type": "code",
   "execution_count": 812,
   "metadata": {},
   "outputs": [],
   "source": [
    "def vehiculo_xy(row):\n",
    "    \"\"\"\n",
    "    Retorna el valor adecuado para el número de vehículo según las condiciones especificadas respecto al número de secuencia de carro.\n",
    "\n",
    "    Parámetros:\n",
    "    row (pandas.Series): Una fila del DataFrame que contiene los datos de la bitácora.\n",
    "\n",
    "    Retorna:\n",
    "    int or float or np.nan: El valor del número de vehículo seleccionado según las condiciones.\n",
    "\n",
    "    Detalles de la lógica:\n",
    "    - Si el número de vehículo es nulo y el número de secuencia de carro no lo es, devuelve el número de secuencia de carro.\n",
    "    - Si el número de vehículo no es nulo y el número de secuencia de carro sí lo es, devuelve el número de vehículo.\n",
    "    - Si el número de vehículo es diferente del número de secuencia de carro, devuelve el número de vehículo.\n",
    "    - En cualquier otro caso, devuelve el mismo valor de número de secuencia de carro.\n",
    "    \"\"\"\n",
    "    if pd.isna(row['Número de Vehículo']) and pd.notna(row['Número de secuencia de carro']): \n",
    "        return row['Número de secuencia de carro']\n",
    "    elif pd.notna(row['Número de Vehículo']) and pd.isna(row['Número de secuencia de carro']):\n",
    "        return row['Número de Vehículo']\n",
    "    elif row['Número de Vehículo'] != row['Número de secuencia de carro']:\n",
    "        return row['Número de Vehículo']\n",
    "    else:\n",
    "        return row['Número de secuencia de carro']"
   ]
  },
  {
   "cell_type": "code",
   "execution_count": 813,
   "metadata": {},
   "outputs": [],
   "source": [
    "# Se aplica la funcion vehiculo_xy\n",
    "mergebitacora['Número de secuencia de carro'] = mergebitacora.apply(vehiculo_xy, axis=1)"
   ]
  },
  {
   "cell_type": "markdown",
   "metadata": {},
   "source": [
    "ok"
   ]
  },
  {
   "cell_type": "markdown",
   "metadata": {},
   "source": [
    "Revision de casos amarillos y rosa"
   ]
  },
  {
   "cell_type": "code",
   "execution_count": 814,
   "metadata": {},
   "outputs": [],
   "source": [
    "# Seleccion de casos Amarillos\n",
    "amarillos = ['INGRESO::RETOMA','SALIDAS::POR FLOTA','SALIDAS::POR ACCIDENTE','SALIDAS::POR ABANDONO DE TAREA','INGRESO::ADICIONAL',\n",
    "            'SALIDAS::POR VANDALISMO','SALIDAS::POR ALARMA','CANCELACION::DE ADICIONAL','SALIDAS::POR OPERADOR'\n",
    "            ]\n",
    "\n"
   ]
  },
  {
   "cell_type": "code",
   "execution_count": 815,
   "metadata": {},
   "outputs": [],
   "source": [
    "# Esta funcion marcara en una columna los cambios que se hagan a la columna Largo_y\n",
    "def rev_amarillos_rosa_text(row):\n",
    "    \"\"\"\n",
    "    Esta función se aplica a cada fila del DataFrame para evaluar si se cumplen ciertas condiciones\n",
    "    basadas en las columnas 'Número de Vehículo', 'Descripción Novedad_x' y 'PARADAS PLANEADAS'.\n",
    "    Según las condiciones cumplidas, devuelve un texto descriptivo correspondiente.\n",
    "\n",
    "    Parámetros:\n",
    "    row (pandas.Series): Una fila del DataFrame que contiene los datos de la bitácora.\n",
    "\n",
    "    Retorna:\n",
    "    str: Un texto descriptivo basado en las condiciones especificadas.\n",
    "\n",
    "    Detalles de la lógica:\n",
    "    - Si 'Número de Vehículo' no es NaN y 'Descripción Novedad_x' no es NaN, se evalúan las condiciones.\n",
    "    - Si 'Descripción Novedad_x' contiene al menos uno de los elementos de la lista 'amarillos',\n",
    "      se procede a realizar búsquedas específicas en 'Descripción Novedad_x'.\n",
    "    - Se utilizan expresiones regulares para buscar patrones relacionados con 'INGRESO', 'SALIDAS' y 'CANCELACION'\n",
    "      seguidos del número de parada en 'Descripción Novedad_x'.\n",
    "    - Dependiendo de los resultados de las búsquedas y de los valores en 'PARADAS PLANEADAS', se devuelve un texto\n",
    "      descriptivo que indica cómo se debe manejar el valor de 'Largo' en esa fila.\n",
    "\n",
    "    \"\"\"\n",
    "    if pd.notna(row['Número de Vehículo']):\n",
    "        if pd.notna(row['Descripción Novedad_x']): \n",
    "            # Casos rosa\n",
    "            if isinstance(row['Descripción Novedad_x'], str) and 'Nro. Caso Desvio:' in row['Descripción Novedad_x']:\n",
    "                    if row['Largo_y'] == row['Kilometros Programados Plan']:\n",
    "                        return 'Se cambia Largo por el k2_if_8'\n",
    "                    elif row['Largo_y'] != row['Kilometros Programados Plan']:\n",
    "                        if row['Largo_y'] != row['Kilometros Programados-Desvios']:\n",
    "                            if row['Largo_y'] < row['Largo_x']:\n",
    "                                return 'Se cambia Largo por el k2__9'\n",
    "                        else:\n",
    "                            'Se mantiene largo_if_10'\n",
    "            # Casos Amarillos                \n",
    "            elif isinstance(amarillos, list) and any(isinstance(amarillo, str) and amarillo in row['Descripción Novedad_x'] for amarillo in amarillos):\n",
    "                ingreso_match = re.search(r'INGRESO.*?Nro\\. Parada:\\s*(\\d{1,3})', row['Descripción Novedad_x'])\n",
    "                salida_match = re.search(r'SALIDAS.*?Nro\\. Parada:\\s*(\\d{1,3})', row['Descripción Novedad_x'])\n",
    "                cancelacion_match = re.search(r'CANCELACION.*?Nro\\. Parada:\\s*(\\d{1,3})', row['Descripción Novedad_x'])       \n",
    "                if ingreso_match and int(ingreso_match.group(1)) == 1 and int(row['PARADAS PLANEADAS']) != 1:\n",
    "                    return 'Se cambia Largo por el k2_if1'\n",
    "                elif ingreso_match and int(ingreso_match.group(1)) != 1:\n",
    "                    return 'Se cambia Largo por el k2_if2'\n",
    "                elif salida_match and int(salida_match.group(1)) != int(row['PARADAS PLANEADAS']):\n",
    "                    return 'Se cambia Largo por el k2_if3'\n",
    "                elif salida_match and int(salida_match.group(1)) == int(row['PARADAS PLANEADAS']):\n",
    "                    return 'Se mantiene largo_if4'\n",
    "                elif cancelacion_match and int(cancelacion_match.group(1)) != int(row['PARADAS PLANEADAS']):\n",
    "                    return 'Se cambia Largo por el k2_if5'\n",
    "                elif cancelacion_match and int(cancelacion_match.group(1)) == int(row['PARADAS PLANEADAS']):\n",
    "                    return 'Se mantiene largo_if_6'\n",
    "                else:\n",
    "                    return 'Se mantiene largo_if7'                       \n",
    "            else:\n",
    "                return 'Se mantiene largo_if_11'\n",
    "        else:\n",
    "            return 'Se mantiene largo_if_12' \n",
    "    else:\n",
    "        return 'Se mantiene largo_if_13' # Se agrega un caso adicional si el 'Número de Vehículo' es NaN\n"
   ]
  },
  {
   "cell_type": "code",
   "execution_count": 816,
   "metadata": {},
   "outputs": [],
   "source": [
    "mergebitacora['texto_colores'] = np.nan"
   ]
  },
  {
   "cell_type": "code",
   "execution_count": 817,
   "metadata": {},
   "outputs": [],
   "source": [
    "mergebitacora['texto_colores'] = mergebitacora.apply(rev_amarillos_rosa_text, axis=1)"
   ]
  },
  {
   "cell_type": "code",
   "execution_count": 818,
   "metadata": {},
   "outputs": [
    {
     "data": {
      "text/plain": [
       "texto_colores\n",
       "Se mantiene largo_if_12           14954\n",
       "Se mantiene largo_if_13            2506\n",
       "Se cambia Largo por el k2_if_8      418\n",
       "Se mantiene largo_if4               311\n",
       "Se cambia Largo por el k2_if1       189\n",
       "Se cambia Largo por el k2_if2       166\n",
       "Se cambia Largo por el k2_if3        63\n",
       "Se mantiene largo_if_11              30\n",
       "Se mantiene largo_if_6                6\n",
       "Se cambia Largo por el k2__9          1\n",
       "Se cambia Largo por el k2_if5         1\n",
       "Name: count, dtype: int64"
      ]
     },
     "execution_count": 818,
     "metadata": {},
     "output_type": "execute_result"
    }
   ],
   "source": [
    "mergebitacora['texto_colores'].value_counts()"
   ]
  },
  {
   "cell_type": "code",
   "execution_count": 819,
   "metadata": {},
   "outputs": [],
   "source": [
    "# Esta funcion marcara en una columna los cambios que se hagan a la columna Largo_y\n",
    "def rev_amarillos_rosa(row):\n",
    "    \"\"\"\n",
    "    Aplica lógica condicional para marcar los cambios realizados en la columna 'Largo_y' en función de las características de la fila.\n",
    "\n",
    "    Parámetros:\n",
    "    row (pandas.Series): Una fila del DataFrame que contiene los datos de la bitácora.\n",
    "\n",
    "    Retorna:\n",
    "    int or float: El valor de 'Largo_y' después de aplicar las modificaciones, o el mismo valor si no se realizan cambios.\n",
    "\n",
    "    Detalles de la lógica:\n",
    "    - Verifica si el 'Número de Vehículo' no es NaN.\n",
    "    - Verifica si la 'Descripción Novedad_x' no es NaN.\n",
    "    - Si la 'Descripción Novedad_x' contiene 'Nro. Caso Desvio:', aplica la lógica específica para estos casos:\n",
    "      - Si 'Largo_y' es igual a 'Kilometros Programados Plan', devuelve 'Kilometros Programados-Desvios'.\n",
    "      - Si 'Largo_y' es diferente a 'Kilometros Programados Plan', pero igual a 'Kilometros Programados-Desvios', devuelve 'Largo_y'.\n",
    "      - Si 'Largo_y' es menor que 'Largo_x', devuelve 'Largo_x', de lo contrario, devuelve 'Largo_y'.\n",
    "    - Si la 'Descripción Novedad_x' contiene alguna de las cadenas definidas en la lista 'amarillos', aplica la lógica específica para estos casos:\n",
    "      - Basado en patrones de expresiones regulares, determina si se deben realizar cambios en 'Largo_y'.\n",
    "      - Si se cumplen las condiciones anteriores, devuelve 'Largo_x' o 'Largo_y' según corresponda.\n",
    "    - Si ninguna de las condiciones anteriores se cumple, devuelve el valor actual de 'Largo_y'.\n",
    "\n",
    "    Casos Especiales:\n",
    "    - Si el 'Número de Vehículo' es NaN, devuelve el valor actual de 'Largo_y'.\n",
    "    \"\"\"\n",
    "    # Lógica condicional para marcar los cambios en 'Largo_y' según las características de la fila\n",
    "      \n",
    "    if pd.notna(row['Número de Vehículo']):\n",
    "        if pd.notna(row['Descripción Novedad_x']): \n",
    "            # Casos rosa\n",
    "            if isinstance(row['Descripción Novedad_x'], str) and 'Nro. Caso Desvio:' in row['Descripción Novedad_x']:\n",
    "                    if row['Largo_y'] == row['Kilometros Programados Plan']:\n",
    "                        return row['Kilometros Programados-Desvios']\n",
    "                    elif row['Largo_y'] != row['Kilometros Programados Plan']:\n",
    "                        if row['Largo_y'] != row['Kilometros Programados-Desvios']:\n",
    "                            if row['Largo_y'] < row['Largo_x']:\n",
    "                                return row['Largo_x']\n",
    "                            else:\n",
    "                                row['Largo_y']\n",
    "                        else:\n",
    "                            row['Largo_y']\n",
    "                    else:\n",
    "                        row['Largo_y']\n",
    "            # Casos Amarillos                \n",
    "            elif isinstance(amarillos, list) and any(isinstance(amarillo, str) and amarillo in row['Descripción Novedad_x'] for amarillo in amarillos):\n",
    "                ingreso_match = re.search(r'INGRESO.*?Nro\\. Parada:\\s*(\\d{1,3})', row['Descripción Novedad_x'])\n",
    "                salida_match = re.search(r'SALIDAS.*?Nro\\. Parada:\\s*(\\d{1,3})', row['Descripción Novedad_x'])\n",
    "                cancelacion_match = re.search(r'CANCELACION.*?Nro\\. Parada:\\s*(\\d{1,3})', row['Descripción Novedad_x'])       \n",
    "                if ingreso_match and int(ingreso_match.group(1)) == 1 and int(row['PARADAS PLANEADAS']) != 1:\n",
    "                    return row['Largo_x']\n",
    "                elif ingreso_match and int(ingreso_match.group(1)) != 1:\n",
    "                    return row['Largo_x']\n",
    "                elif salida_match and int(salida_match.group(1)) != int(row['PARADAS PLANEADAS']):\n",
    "                    return row['Largo_x']\n",
    "                elif salida_match and int(salida_match.group(1)) == int(row['PARADAS PLANEADAS']):\n",
    "                    return  row['Largo_y']\n",
    "                elif cancelacion_match and int(cancelacion_match.group(1)) != int(row['PARADAS PLANEADAS']):\n",
    "                    return row['Largo_x']\n",
    "                elif cancelacion_match and int(cancelacion_match.group(1)) == int(row['PARADAS PLANEADAS']):\n",
    "                    return  row['Largo_y']\n",
    "                else:\n",
    "                    return  row['Largo_y']                       \n",
    "            else:\n",
    "                row['Largo_y']\n",
    "        else:\n",
    "            row['Largo_y'] \n",
    "    else:\n",
    "        return row['Largo_y'] # Se agrega un caso adicional si el 'Número de Vehículo' es Na"
   ]
  },
  {
   "cell_type": "code",
   "execution_count": 820,
   "metadata": {},
   "outputs": [],
   "source": [
    "mergebitacora['Largo_y'] = mergebitacora.apply(rev_amarillos_rosa, axis=1)"
   ]
  },
  {
   "cell_type": "markdown",
   "metadata": {},
   "source": [
    "Casos verdes"
   ]
  },
  {
   "cell_type": "markdown",
   "metadata": {},
   "source": [
    "comparar caso 53011"
   ]
  },
  {
   "cell_type": "code",
   "execution_count": 822,
   "metadata": {},
   "outputs": [],
   "source": [
    "# Se seleccionan las columnas de adicional para el merge\n",
    "adi = adi[['Número de Vehículo','Desde','hasta']]"
   ]
  },
  {
   "cell_type": "code",
   "execution_count": 823,
   "metadata": {},
   "outputs": [
    {
     "data": {
      "text/html": [
       "<div>\n",
       "<style scoped>\n",
       "    .dataframe tbody tr th:only-of-type {\n",
       "        vertical-align: middle;\n",
       "    }\n",
       "\n",
       "    .dataframe tbody tr th {\n",
       "        vertical-align: top;\n",
       "    }\n",
       "\n",
       "    .dataframe thead th {\n",
       "        text-align: right;\n",
       "    }\n",
       "</style>\n",
       "<table border=\"1\" class=\"dataframe\">\n",
       "  <thead>\n",
       "    <tr style=\"text-align: right;\">\n",
       "      <th></th>\n",
       "      <th>Número de Vehículo</th>\n",
       "      <th>Desde</th>\n",
       "      <th>hasta</th>\n",
       "    </tr>\n",
       "  </thead>\n",
       "  <tbody>\n",
       "    <tr>\n",
       "      <th>20307</th>\n",
       "      <td>53011</td>\n",
       "      <td>11:59:31</td>\n",
       "      <td>12:08:42</td>\n",
       "    </tr>\n",
       "    <tr>\n",
       "      <th>20308</th>\n",
       "      <td>53011</td>\n",
       "      <td>12:09:30</td>\n",
       "      <td>12:20:53</td>\n",
       "    </tr>\n",
       "    <tr>\n",
       "      <th>20309</th>\n",
       "      <td>53011</td>\n",
       "      <td>12:21:31</td>\n",
       "      <td>12:30:42</td>\n",
       "    </tr>\n",
       "    <tr>\n",
       "      <th>20310</th>\n",
       "      <td>53011</td>\n",
       "      <td>12:31:30</td>\n",
       "      <td>12:42:53</td>\n",
       "    </tr>\n",
       "  </tbody>\n",
       "</table>\n",
       "</div>"
      ],
      "text/plain": [
       "      Número de Vehículo     Desde     hasta\n",
       "20307              53011  11:59:31  12:08:42\n",
       "20308              53011  12:09:30  12:20:53\n",
       "20309              53011  12:21:31  12:30:42\n",
       "20310              53011  12:31:30  12:42:53"
      ]
     },
     "execution_count": 823,
     "metadata": {},
     "output_type": "execute_result"
    }
   ],
   "source": [
    "adi[adi['Número de Vehículo']==53011]"
   ]
  },
  {
   "cell_type": "code",
   "execution_count": 824,
   "metadata": {},
   "outputs": [],
   "source": [
    "# Convertir la columna 'Desde' a tipo datetime\n",
    "adi['Desde'] = pd.to_datetime(adi['Desde'], format='%H:%M:%S')\n",
    "adi['hasta'] = pd.to_datetime(adi['hasta'], format='%H:%M:%S')\n",
    "# Restar un minuto a cada valor en la columna 'Desde'\n",
    "adi['Desde'] = adi['Desde'] - pd.Timedelta(minutes=1)\n",
    "adi['hasta'] = adi['hasta'] - pd.Timedelta(minutes=1)\n",
    "adi['Desde'] = adi['Desde'].apply(extraer_hora_regex)\n",
    "adi['hasta'] = adi['hasta'].apply(extraer_hora_regex)\n"
   ]
  },
  {
   "cell_type": "code",
   "execution_count": 825,
   "metadata": {},
   "outputs": [],
   "source": [
    "# Crea una nueva columna llamada 'ID' que combine las columnas 'Número de secuencia de carro', 'Desde' y 'hasta_x'\n",
    "mergebitacora['idadi'] = mergebitacora.apply(lambda row: f\"{row['Número de secuencia de carro']}_{row['desde']}_{row['hasta_y']}\", axis=1)"
   ]
  },
  {
   "cell_type": "code",
   "execution_count": 826,
   "metadata": {},
   "outputs": [],
   "source": [
    "# Crea una nueva columna llamada 'ID' que combine las columnas 'Número de secuencia de carro', 'Desde' y 'hasta_x'\n",
    "adi['idadi'] = adi.apply(lambda row: f\"{row['Número de Vehículo']}_{row['Desde']}_{row['hasta']}\", axis=1)"
   ]
  },
  {
   "cell_type": "code",
   "execution_count": 848,
   "metadata": {},
   "outputs": [
    {
     "data": {
      "text/html": [
       "<div>\n",
       "<style scoped>\n",
       "    .dataframe tbody tr th:only-of-type {\n",
       "        vertical-align: middle;\n",
       "    }\n",
       "\n",
       "    .dataframe tbody tr th {\n",
       "        vertical-align: top;\n",
       "    }\n",
       "\n",
       "    .dataframe thead th {\n",
       "        text-align: right;\n",
       "    }\n",
       "</style>\n",
       "<table border=\"1\" class=\"dataframe\">\n",
       "  <thead>\n",
       "    <tr style=\"text-align: right;\">\n",
       "      <th></th>\n",
       "      <th>Número de Vehículo</th>\n",
       "      <th>Desde</th>\n",
       "      <th>hasta</th>\n",
       "      <th>idadi</th>\n",
       "    </tr>\n",
       "  </thead>\n",
       "  <tbody>\n",
       "    <tr>\n",
       "      <th>20274</th>\n",
       "      <td>22117</td>\n",
       "      <td>16:10:09</td>\n",
       "      <td>16:39:28</td>\n",
       "      <td>22117_16:10:09_16:39:28</td>\n",
       "    </tr>\n",
       "    <tr>\n",
       "      <th>20275</th>\n",
       "      <td>22117</td>\n",
       "      <td>16:10:09</td>\n",
       "      <td>16:39:28</td>\n",
       "      <td>22117_16:10:09_16:39:28</td>\n",
       "    </tr>\n",
       "  </tbody>\n",
       "</table>\n",
       "</div>"
      ],
      "text/plain": [
       "      Número de Vehículo     Desde     hasta                    idadi\n",
       "20274              22117  16:10:09  16:39:28  22117_16:10:09_16:39:28\n",
       "20275              22117  16:10:09  16:39:28  22117_16:10:09_16:39:28"
      ]
     },
     "execution_count": 848,
     "metadata": {},
     "output_type": "execute_result"
    }
   ],
   "source": [
    "adi[adi.duplicated(subset='idadi', keep=False)]# Preguntar a cristan"
   ]
  },
  {
   "cell_type": "code",
   "execution_count": 828,
   "metadata": {},
   "outputs": [],
   "source": [
    "x = mergebitacora[mergebitacora['Número de secuencia de carro']==53011]"
   ]
  },
  {
   "cell_type": "code",
   "execution_count": 829,
   "metadata": {},
   "outputs": [],
   "source": [
    "def eliminar_no_realizadps(row):\n",
    "    if pd.isna(row['Número de Vehículo']) and pd.isna(row['Número de secuencia de carro']):\n",
    "        index = row.name\n",
    "        mergebitacora.drop(index, axis=0, inplace=True) \n",
    "\n",
    "            "
   ]
  },
  {
   "cell_type": "code",
   "execution_count": 830,
   "metadata": {},
   "outputs": [
    {
     "data": {
      "text/plain": [
       "0        None\n",
       "1        None\n",
       "2        None\n",
       "3        None\n",
       "4        None\n",
       "         ... \n",
       "18640    None\n",
       "18641    None\n",
       "18642    None\n",
       "18643    None\n",
       "18644    None\n",
       "Length: 18645, dtype: object"
      ]
     },
     "execution_count": 830,
     "metadata": {},
     "output_type": "execute_result"
    }
   ],
   "source": [
    "# Aplicar la función a cada fila del DataFrame mergebitacora\n",
    "mergebitacora.apply(eliminar_no_realizadps, axis=1)\n"
   ]
  },
  {
   "cell_type": "code",
   "execution_count": 847,
   "metadata": {},
   "outputs": [
    {
     "data": {
      "text/html": [
       "<div>\n",
       "<style scoped>\n",
       "    .dataframe tbody tr th:only-of-type {\n",
       "        vertical-align: middle;\n",
       "    }\n",
       "\n",
       "    .dataframe tbody tr th {\n",
       "        vertical-align: top;\n",
       "    }\n",
       "\n",
       "    .dataframe thead th {\n",
       "        text-align: right;\n",
       "    }\n",
       "</style>\n",
       "<table border=\"1\" class=\"dataframe\">\n",
       "  <thead>\n",
       "    <tr style=\"text-align: right;\">\n",
       "      <th></th>\n",
       "      <th>Fecha</th>\n",
       "      <th>Día tipo</th>\n",
       "      <th>Designación de tarea vehículo</th>\n",
       "      <th>Línea</th>\n",
       "      <th>Tipo de viaje corto</th>\n",
       "      <th>Sentido</th>\n",
       "      <th>Tipo Kilómetros</th>\n",
       "      <th>Número de Vehículo_x</th>\n",
       "      <th>Concesionario de Transporte_x</th>\n",
       "      <th>Número de tarea vehículo_x</th>\n",
       "      <th>...</th>\n",
       "      <th>Vehículo</th>\n",
       "      <th>Novedad</th>\n",
       "      <th>CALIFICACION</th>\n",
       "      <th>texto_cmb_vehi</th>\n",
       "      <th>texto_colores</th>\n",
       "      <th>idadi</th>\n",
       "      <th>Número de Vehículo_y</th>\n",
       "      <th>Desde_y</th>\n",
       "      <th>hasta</th>\n",
       "      <th>texto</th>\n",
       "    </tr>\n",
       "  </thead>\n",
       "  <tbody>\n",
       "    <tr>\n",
       "      <th>5263</th>\n",
       "      <td>2024-03-05</td>\n",
       "      <td>DHABIL</td>\n",
       "      <td>222</td>\n",
       "      <td>A19A</td>\n",
       "      <td>Viaje comercial</td>\n",
       "      <td>Vuelta</td>\n",
       "      <td>Kms en Servicio</td>\n",
       "      <td>53011</td>\n",
       "      <td>BYNCPC</td>\n",
       "      <td>222</td>\n",
       "      <td>...</td>\n",
       "      <td>NaN</td>\n",
       "      <td>NaN</td>\n",
       "      <td>NaN</td>\n",
       "      <td>Numero ok</td>\n",
       "      <td>Se mantiene largo_if_12</td>\n",
       "      <td>53011_06:24:05_06:53:19</td>\n",
       "      <td>NaN</td>\n",
       "      <td>NaN</td>\n",
       "      <td>NaN</td>\n",
       "      <td>None</td>\n",
       "    </tr>\n",
       "    <tr>\n",
       "      <th>5264</th>\n",
       "      <td>2024-03-05</td>\n",
       "      <td>DHABIL</td>\n",
       "      <td>222</td>\n",
       "      <td>A19A</td>\n",
       "      <td>Viaje comercial</td>\n",
       "      <td>Ida</td>\n",
       "      <td>Kms en Servicio</td>\n",
       "      <td>53011</td>\n",
       "      <td>BYNCPC</td>\n",
       "      <td>222</td>\n",
       "      <td>...</td>\n",
       "      <td>23006.0</td>\n",
       "      <td>Ingreso adicional</td>\n",
       "      <td>NaN</td>\n",
       "      <td>Se reemplaza por el del k2 # diferente</td>\n",
       "      <td>Se mantiene largo_if_12</td>\n",
       "      <td>53011_06:54:37_07:28:31</td>\n",
       "      <td>NaN</td>\n",
       "      <td>NaN</td>\n",
       "      <td>NaN</td>\n",
       "      <td>None</td>\n",
       "    </tr>\n",
       "    <tr>\n",
       "      <th>5265</th>\n",
       "      <td>2024-03-05</td>\n",
       "      <td>DHABIL</td>\n",
       "      <td>222</td>\n",
       "      <td>A19A</td>\n",
       "      <td>Viaje comercial</td>\n",
       "      <td>Vuelta</td>\n",
       "      <td>Kms en Servicio</td>\n",
       "      <td>53011</td>\n",
       "      <td>BYNCPC</td>\n",
       "      <td>222</td>\n",
       "      <td>...</td>\n",
       "      <td>NaN</td>\n",
       "      <td>NaN</td>\n",
       "      <td>NaN</td>\n",
       "      <td>Se reemplaza por el del k2 # diferente</td>\n",
       "      <td>Se mantiene largo_if_12</td>\n",
       "      <td>53011_07:30:50_08:13:07</td>\n",
       "      <td>NaN</td>\n",
       "      <td>NaN</td>\n",
       "      <td>NaN</td>\n",
       "      <td>None</td>\n",
       "    </tr>\n",
       "    <tr>\n",
       "      <th>5266</th>\n",
       "      <td>2024-03-05</td>\n",
       "      <td>DHABIL</td>\n",
       "      <td>222</td>\n",
       "      <td>A19A</td>\n",
       "      <td>Viaje comercial</td>\n",
       "      <td>Ida</td>\n",
       "      <td>Kms en Servicio</td>\n",
       "      <td>53011</td>\n",
       "      <td>BYNCPC</td>\n",
       "      <td>222</td>\n",
       "      <td>...</td>\n",
       "      <td>NaN</td>\n",
       "      <td>NaN</td>\n",
       "      <td>NaN</td>\n",
       "      <td>Se reemplaza por el del k2 # diferente</td>\n",
       "      <td>Se mantiene largo_if_12</td>\n",
       "      <td>53011_08:13:37_08:41:43</td>\n",
       "      <td>NaN</td>\n",
       "      <td>NaN</td>\n",
       "      <td>NaN</td>\n",
       "      <td>None</td>\n",
       "    </tr>\n",
       "    <tr>\n",
       "      <th>5267</th>\n",
       "      <td>2024-03-05</td>\n",
       "      <td>DHABIL</td>\n",
       "      <td>222</td>\n",
       "      <td>A19A</td>\n",
       "      <td>Viaje comercial</td>\n",
       "      <td>Vuelta</td>\n",
       "      <td>Kms en Servicio</td>\n",
       "      <td>53011</td>\n",
       "      <td>BYNCPC</td>\n",
       "      <td>222</td>\n",
       "      <td>...</td>\n",
       "      <td>NaN</td>\n",
       "      <td>NaN</td>\n",
       "      <td>NaN</td>\n",
       "      <td>Se reemplaza por el del k2 # diferente</td>\n",
       "      <td>Se mantiene largo_if_12</td>\n",
       "      <td>53011_08:42:13_09:13:46</td>\n",
       "      <td>NaN</td>\n",
       "      <td>NaN</td>\n",
       "      <td>NaN</td>\n",
       "      <td>None</td>\n",
       "    </tr>\n",
       "    <tr>\n",
       "      <th>5268</th>\n",
       "      <td>2024-03-05</td>\n",
       "      <td>DHABIL</td>\n",
       "      <td>222</td>\n",
       "      <td>A19A</td>\n",
       "      <td>Viaje comercial</td>\n",
       "      <td>Vuelta</td>\n",
       "      <td>Kms en Servicio</td>\n",
       "      <td>53011</td>\n",
       "      <td>BYNCPC</td>\n",
       "      <td>222</td>\n",
       "      <td>...</td>\n",
       "      <td>NaN</td>\n",
       "      <td>NaN</td>\n",
       "      <td>NaN</td>\n",
       "      <td>Se reemplaza por el del k2 # diferente</td>\n",
       "      <td>Se mantiene largo_if_12</td>\n",
       "      <td>53011_09:40:11_10:08:46</td>\n",
       "      <td>NaN</td>\n",
       "      <td>NaN</td>\n",
       "      <td>NaN</td>\n",
       "      <td>None</td>\n",
       "    </tr>\n",
       "    <tr>\n",
       "      <th>5269</th>\n",
       "      <td>2024-03-05</td>\n",
       "      <td>DHABIL</td>\n",
       "      <td>222</td>\n",
       "      <td>A19A</td>\n",
       "      <td>Viaje comercial</td>\n",
       "      <td>Ida</td>\n",
       "      <td>Kms en Servicio</td>\n",
       "      <td>53011</td>\n",
       "      <td>BYNCPC</td>\n",
       "      <td>222</td>\n",
       "      <td>...</td>\n",
       "      <td>NaN</td>\n",
       "      <td>NaN</td>\n",
       "      <td>NaN</td>\n",
       "      <td>Se reemplaza por el del k2 # diferente</td>\n",
       "      <td>Se mantiene largo_if_12</td>\n",
       "      <td>53011_09:14:16_09:39:41</td>\n",
       "      <td>NaN</td>\n",
       "      <td>NaN</td>\n",
       "      <td>NaN</td>\n",
       "      <td>None</td>\n",
       "    </tr>\n",
       "    <tr>\n",
       "      <th>5270</th>\n",
       "      <td>2024-03-05</td>\n",
       "      <td>DHABIL</td>\n",
       "      <td>222</td>\n",
       "      <td>A19A</td>\n",
       "      <td>Viaje comercial</td>\n",
       "      <td>Vuelta</td>\n",
       "      <td>Kms en Servicio</td>\n",
       "      <td>53011</td>\n",
       "      <td>BYNCPC</td>\n",
       "      <td>222</td>\n",
       "      <td>...</td>\n",
       "      <td>NaN</td>\n",
       "      <td>NaN</td>\n",
       "      <td>NaN</td>\n",
       "      <td>Se reemplaza por el del k2 # diferente</td>\n",
       "      <td>Se mantiene largo_if_12</td>\n",
       "      <td>53011_10:36:35_11:04:02</td>\n",
       "      <td>NaN</td>\n",
       "      <td>NaN</td>\n",
       "      <td>NaN</td>\n",
       "      <td>None</td>\n",
       "    </tr>\n",
       "    <tr>\n",
       "      <th>5271</th>\n",
       "      <td>2024-03-05</td>\n",
       "      <td>DHABIL</td>\n",
       "      <td>222</td>\n",
       "      <td>A19A</td>\n",
       "      <td>Viaje comercial</td>\n",
       "      <td>Ida</td>\n",
       "      <td>Kms en Servicio</td>\n",
       "      <td>53011</td>\n",
       "      <td>BYNCPC</td>\n",
       "      <td>222</td>\n",
       "      <td>...</td>\n",
       "      <td>NaN</td>\n",
       "      <td>NaN</td>\n",
       "      <td>NaN</td>\n",
       "      <td>Se reemplaza por el del k2 # diferente</td>\n",
       "      <td>Se mantiene largo_if_12</td>\n",
       "      <td>53011_10:10:15_10:35:36</td>\n",
       "      <td>NaN</td>\n",
       "      <td>NaN</td>\n",
       "      <td>NaN</td>\n",
       "      <td>None</td>\n",
       "    </tr>\n",
       "    <tr>\n",
       "      <th>5272</th>\n",
       "      <td>2024-03-05</td>\n",
       "      <td>DHABIL</td>\n",
       "      <td>222</td>\n",
       "      <td>A19A</td>\n",
       "      <td>Viaje comercial</td>\n",
       "      <td>Vuelta</td>\n",
       "      <td>Kms en Servicio</td>\n",
       "      <td>53011</td>\n",
       "      <td>BYNCPC</td>\n",
       "      <td>222</td>\n",
       "      <td>...</td>\n",
       "      <td>53011.0</td>\n",
       "      <td>Cambio De Linea</td>\n",
       "      <td>2.0</td>\n",
       "      <td>Se reemplaza por el del k2 # diferente</td>\n",
       "      <td>Se mantiene largo_if4</td>\n",
       "      <td>53011_11:31:05_11:54:55</td>\n",
       "      <td>NaN</td>\n",
       "      <td>NaN</td>\n",
       "      <td>NaN</td>\n",
       "      <td>None</td>\n",
       "    </tr>\n",
       "    <tr>\n",
       "      <th>5273</th>\n",
       "      <td>2024-03-05</td>\n",
       "      <td>DHABIL</td>\n",
       "      <td>222</td>\n",
       "      <td>A19A</td>\n",
       "      <td>Viaje comercial</td>\n",
       "      <td>Ida</td>\n",
       "      <td>Kms en Servicio</td>\n",
       "      <td>53011</td>\n",
       "      <td>BYNCPC</td>\n",
       "      <td>222</td>\n",
       "      <td>...</td>\n",
       "      <td>NaN</td>\n",
       "      <td>NaN</td>\n",
       "      <td>NaN</td>\n",
       "      <td>Se reemplaza por el del k2 # diferente</td>\n",
       "      <td>Se mantiene largo_if_12</td>\n",
       "      <td>53011_11:05:15_11:30:10</td>\n",
       "      <td>NaN</td>\n",
       "      <td>NaN</td>\n",
       "      <td>NaN</td>\n",
       "      <td>None</td>\n",
       "    </tr>\n",
       "    <tr>\n",
       "      <th>14120</th>\n",
       "      <td>2024-03-05</td>\n",
       "      <td>DHABIL</td>\n",
       "      <td>756</td>\n",
       "      <td>A13D</td>\n",
       "      <td>Viaje comercial</td>\n",
       "      <td>Ida</td>\n",
       "      <td>Kms en Servicio</td>\n",
       "      <td>NaN</td>\n",
       "      <td>NaN</td>\n",
       "      <td>756</td>\n",
       "      <td>...</td>\n",
       "      <td>53011.0</td>\n",
       "      <td>Ingreso adicional</td>\n",
       "      <td>NaN</td>\n",
       "      <td>Revisar caso # vehiculo</td>\n",
       "      <td>Se mantiene largo_if_13</td>\n",
       "      <td>53011_11:58:31_12:07:42</td>\n",
       "      <td>53011</td>\n",
       "      <td>11:58:31</td>\n",
       "      <td>12:07:42</td>\n",
       "      <td>ok</td>\n",
       "    </tr>\n",
       "    <tr>\n",
       "      <th>14121</th>\n",
       "      <td>2024-03-05</td>\n",
       "      <td>DHABIL</td>\n",
       "      <td>756</td>\n",
       "      <td>A13D</td>\n",
       "      <td>Viaje comercial</td>\n",
       "      <td>Vuelta</td>\n",
       "      <td>Kms en Servicio</td>\n",
       "      <td>NaN</td>\n",
       "      <td>NaN</td>\n",
       "      <td>756</td>\n",
       "      <td>...</td>\n",
       "      <td>NaN</td>\n",
       "      <td>NaN</td>\n",
       "      <td>NaN</td>\n",
       "      <td>Revisar caso # vehiculo</td>\n",
       "      <td>Se mantiene largo_if_13</td>\n",
       "      <td>53011_12:08:30_12:19:53</td>\n",
       "      <td>53011</td>\n",
       "      <td>12:08:30</td>\n",
       "      <td>12:19:53</td>\n",
       "      <td>ok</td>\n",
       "    </tr>\n",
       "    <tr>\n",
       "      <th>14122</th>\n",
       "      <td>2024-03-05</td>\n",
       "      <td>DHABIL</td>\n",
       "      <td>756</td>\n",
       "      <td>A13D</td>\n",
       "      <td>Viaje comercial</td>\n",
       "      <td>Ida</td>\n",
       "      <td>Kms en Servicio</td>\n",
       "      <td>NaN</td>\n",
       "      <td>NaN</td>\n",
       "      <td>756</td>\n",
       "      <td>...</td>\n",
       "      <td>NaN</td>\n",
       "      <td>NaN</td>\n",
       "      <td>NaN</td>\n",
       "      <td>Revisar caso # vehiculo</td>\n",
       "      <td>Se mantiene largo_if_13</td>\n",
       "      <td>53011_12:20:31_12:29:42</td>\n",
       "      <td>53011</td>\n",
       "      <td>12:20:31</td>\n",
       "      <td>12:29:42</td>\n",
       "      <td>ok</td>\n",
       "    </tr>\n",
       "    <tr>\n",
       "      <th>14123</th>\n",
       "      <td>2024-03-05</td>\n",
       "      <td>DHABIL</td>\n",
       "      <td>756</td>\n",
       "      <td>A13D</td>\n",
       "      <td>Viaje comercial</td>\n",
       "      <td>Vuelta</td>\n",
       "      <td>Kms en Servicio</td>\n",
       "      <td>NaN</td>\n",
       "      <td>NaN</td>\n",
       "      <td>756</td>\n",
       "      <td>...</td>\n",
       "      <td>53011.0</td>\n",
       "      <td>cancelacion de Adicional</td>\n",
       "      <td>2.0</td>\n",
       "      <td>Revisar caso # vehiculo</td>\n",
       "      <td>Se mantiene largo_if_13</td>\n",
       "      <td>53011_12:30:30_12:41:53</td>\n",
       "      <td>53011</td>\n",
       "      <td>12:30:30</td>\n",
       "      <td>12:41:53</td>\n",
       "      <td>ok</td>\n",
       "    </tr>\n",
       "  </tbody>\n",
       "</table>\n",
       "<p>15 rows × 64 columns</p>\n",
       "</div>"
      ],
      "text/plain": [
       "           Fecha Día tipo Designación de tarea vehículo Línea  \\\n",
       "5263  2024-03-05   DHABIL                           222  A19A   \n",
       "5264  2024-03-05   DHABIL                           222  A19A   \n",
       "5265  2024-03-05   DHABIL                           222  A19A   \n",
       "5266  2024-03-05   DHABIL                           222  A19A   \n",
       "5267  2024-03-05   DHABIL                           222  A19A   \n",
       "5268  2024-03-05   DHABIL                           222  A19A   \n",
       "5269  2024-03-05   DHABIL                           222  A19A   \n",
       "5270  2024-03-05   DHABIL                           222  A19A   \n",
       "5271  2024-03-05   DHABIL                           222  A19A   \n",
       "5272  2024-03-05   DHABIL                           222  A19A   \n",
       "5273  2024-03-05   DHABIL                           222  A19A   \n",
       "14120 2024-03-05   DHABIL                           756  A13D   \n",
       "14121 2024-03-05   DHABIL                           756  A13D   \n",
       "14122 2024-03-05   DHABIL                           756  A13D   \n",
       "14123 2024-03-05   DHABIL                           756  A13D   \n",
       "\n",
       "      Tipo de viaje corto Sentido  Tipo Kilómetros Número de Vehículo_x  \\\n",
       "5263      Viaje comercial  Vuelta  Kms en Servicio                53011   \n",
       "5264      Viaje comercial     Ida  Kms en Servicio                53011   \n",
       "5265      Viaje comercial  Vuelta  Kms en Servicio                53011   \n",
       "5266      Viaje comercial     Ida  Kms en Servicio                53011   \n",
       "5267      Viaje comercial  Vuelta  Kms en Servicio                53011   \n",
       "5268      Viaje comercial  Vuelta  Kms en Servicio                53011   \n",
       "5269      Viaje comercial     Ida  Kms en Servicio                53011   \n",
       "5270      Viaje comercial  Vuelta  Kms en Servicio                53011   \n",
       "5271      Viaje comercial     Ida  Kms en Servicio                53011   \n",
       "5272      Viaje comercial  Vuelta  Kms en Servicio                53011   \n",
       "5273      Viaje comercial     Ida  Kms en Servicio                53011   \n",
       "14120     Viaje comercial     Ida  Kms en Servicio                  NaN   \n",
       "14121     Viaje comercial  Vuelta  Kms en Servicio                  NaN   \n",
       "14122     Viaje comercial     Ida  Kms en Servicio                  NaN   \n",
       "14123     Viaje comercial  Vuelta  Kms en Servicio                  NaN   \n",
       "\n",
       "      Concesionario de Transporte_x Número de tarea vehículo_x  ... Vehículo  \\\n",
       "5263                         BYNCPC                        222  ...      NaN   \n",
       "5264                         BYNCPC                        222  ...  23006.0   \n",
       "5265                         BYNCPC                        222  ...      NaN   \n",
       "5266                         BYNCPC                        222  ...      NaN   \n",
       "5267                         BYNCPC                        222  ...      NaN   \n",
       "5268                         BYNCPC                        222  ...      NaN   \n",
       "5269                         BYNCPC                        222  ...      NaN   \n",
       "5270                         BYNCPC                        222  ...      NaN   \n",
       "5271                         BYNCPC                        222  ...      NaN   \n",
       "5272                         BYNCPC                        222  ...  53011.0   \n",
       "5273                         BYNCPC                        222  ...      NaN   \n",
       "14120                           NaN                        756  ...  53011.0   \n",
       "14121                           NaN                        756  ...      NaN   \n",
       "14122                           NaN                        756  ...      NaN   \n",
       "14123                           NaN                        756  ...  53011.0   \n",
       "\n",
       "                        Novedad CALIFICACION  \\\n",
       "5263                        NaN          NaN   \n",
       "5264          Ingreso adicional          NaN   \n",
       "5265                        NaN          NaN   \n",
       "5266                        NaN          NaN   \n",
       "5267                        NaN          NaN   \n",
       "5268                        NaN          NaN   \n",
       "5269                        NaN          NaN   \n",
       "5270                        NaN          NaN   \n",
       "5271                        NaN          NaN   \n",
       "5272            Cambio De Linea          2.0   \n",
       "5273                        NaN          NaN   \n",
       "14120         Ingreso adicional          NaN   \n",
       "14121                       NaN          NaN   \n",
       "14122                       NaN          NaN   \n",
       "14123  cancelacion de Adicional          2.0   \n",
       "\n",
       "                               texto_cmb_vehi            texto_colores  \\\n",
       "5263                                Numero ok  Se mantiene largo_if_12   \n",
       "5264   Se reemplaza por el del k2 # diferente  Se mantiene largo_if_12   \n",
       "5265   Se reemplaza por el del k2 # diferente  Se mantiene largo_if_12   \n",
       "5266   Se reemplaza por el del k2 # diferente  Se mantiene largo_if_12   \n",
       "5267   Se reemplaza por el del k2 # diferente  Se mantiene largo_if_12   \n",
       "5268   Se reemplaza por el del k2 # diferente  Se mantiene largo_if_12   \n",
       "5269   Se reemplaza por el del k2 # diferente  Se mantiene largo_if_12   \n",
       "5270   Se reemplaza por el del k2 # diferente  Se mantiene largo_if_12   \n",
       "5271   Se reemplaza por el del k2 # diferente  Se mantiene largo_if_12   \n",
       "5272   Se reemplaza por el del k2 # diferente    Se mantiene largo_if4   \n",
       "5273   Se reemplaza por el del k2 # diferente  Se mantiene largo_if_12   \n",
       "14120                 Revisar caso # vehiculo  Se mantiene largo_if_13   \n",
       "14121                 Revisar caso # vehiculo  Se mantiene largo_if_13   \n",
       "14122                 Revisar caso # vehiculo  Se mantiene largo_if_13   \n",
       "14123                 Revisar caso # vehiculo  Se mantiene largo_if_13   \n",
       "\n",
       "                         idadi Número de Vehículo_y   Desde_y     hasta texto  \n",
       "5263   53011_06:24:05_06:53:19                  NaN       NaN       NaN  None  \n",
       "5264   53011_06:54:37_07:28:31                  NaN       NaN       NaN  None  \n",
       "5265   53011_07:30:50_08:13:07                  NaN       NaN       NaN  None  \n",
       "5266   53011_08:13:37_08:41:43                  NaN       NaN       NaN  None  \n",
       "5267   53011_08:42:13_09:13:46                  NaN       NaN       NaN  None  \n",
       "5268   53011_09:40:11_10:08:46                  NaN       NaN       NaN  None  \n",
       "5269   53011_09:14:16_09:39:41                  NaN       NaN       NaN  None  \n",
       "5270   53011_10:36:35_11:04:02                  NaN       NaN       NaN  None  \n",
       "5271   53011_10:10:15_10:35:36                  NaN       NaN       NaN  None  \n",
       "5272   53011_11:31:05_11:54:55                  NaN       NaN       NaN  None  \n",
       "5273   53011_11:05:15_11:30:10                  NaN       NaN       NaN  None  \n",
       "14120  53011_11:58:31_12:07:42                53011  11:58:31  12:07:42    ok  \n",
       "14121  53011_12:08:30_12:19:53                53011  12:08:30  12:19:53    ok  \n",
       "14122  53011_12:20:31_12:29:42                53011  12:20:31  12:29:42    ok  \n",
       "14123  53011_12:30:30_12:41:53                53011  12:30:30  12:41:53    ok  \n",
       "\n",
       "[15 rows x 64 columns]"
      ]
     },
     "execution_count": 847,
     "metadata": {},
     "output_type": "execute_result"
    }
   ],
   "source": [
    "mergebitacora[mergebitacora['Número de secuencia de carro']==53011]"
   ]
  },
  {
   "cell_type": "code",
   "execution_count": 832,
   "metadata": {},
   "outputs": [],
   "source": [
    "\n",
    "mergebitacora = pd.merge(mergebitacora, adi, on='idadi', how='left')"
   ]
  },
  {
   "cell_type": "code",
   "execution_count": 839,
   "metadata": {},
   "outputs": [],
   "source": [
    "# Esta funcion en caso de tener adicioneales realiza el siguiente proceso\n",
    "def verdes(row):\n",
    "    if pd.notna(row['Desde_y']):\n",
    "        row['Incumplidos_y'] = row['Incumplidos_x']\n",
    "        row['Número de secuencia de carro'] = np.nan\n",
    "        row['Largo_y'] = row['Largo_x']\n",
    "        return 'ok'   "
   ]
  },
  {
   "cell_type": "code",
   "execution_count": 835,
   "metadata": {},
   "outputs": [],
   "source": [
    "mergebitacora['texto'] = np.nan"
   ]
  },
  {
   "cell_type": "code",
   "execution_count": 853,
   "metadata": {},
   "outputs": [],
   "source": [
    "mergebitacora['texto'] = mergebitacora.apply(verdes, axis=1)"
   ]
  },
  {
   "cell_type": "code",
   "execution_count": 850,
   "metadata": {},
   "outputs": [],
   "source": [
    "x =mergebitacora[mergebitacora['texto'].notna()]"
   ]
  },
  {
   "cell_type": "code",
   "execution_count": 855,
   "metadata": {},
   "outputs": [
    {
     "data": {
      "text/html": [
       "<div>\n",
       "<style scoped>\n",
       "    .dataframe tbody tr th:only-of-type {\n",
       "        vertical-align: middle;\n",
       "    }\n",
       "\n",
       "    .dataframe tbody tr th {\n",
       "        vertical-align: top;\n",
       "    }\n",
       "\n",
       "    .dataframe thead th {\n",
       "        text-align: right;\n",
       "    }\n",
       "</style>\n",
       "<table border=\"1\" class=\"dataframe\">\n",
       "  <thead>\n",
       "    <tr style=\"text-align: right;\">\n",
       "      <th></th>\n",
       "      <th>Número de secuencia de carro</th>\n",
       "      <th>Número de Vehículo_x</th>\n",
       "      <th>Incumplidos_y</th>\n",
       "      <th>Incumplidos_x</th>\n",
       "    </tr>\n",
       "  </thead>\n",
       "  <tbody>\n",
       "    <tr>\n",
       "      <th>14120</th>\n",
       "      <td>53011</td>\n",
       "      <td>NaN</td>\n",
       "      <td>NaN</td>\n",
       "      <td>2.0</td>\n",
       "    </tr>\n",
       "    <tr>\n",
       "      <th>14121</th>\n",
       "      <td>53011</td>\n",
       "      <td>NaN</td>\n",
       "      <td>NaN</td>\n",
       "      <td>2.0</td>\n",
       "    </tr>\n",
       "    <tr>\n",
       "      <th>14122</th>\n",
       "      <td>53011</td>\n",
       "      <td>NaN</td>\n",
       "      <td>NaN</td>\n",
       "      <td>2.0</td>\n",
       "    </tr>\n",
       "    <tr>\n",
       "      <th>14123</th>\n",
       "      <td>53011</td>\n",
       "      <td>NaN</td>\n",
       "      <td>NaN</td>\n",
       "      <td>2.0</td>\n",
       "    </tr>\n",
       "    <tr>\n",
       "      <th>16089</th>\n",
       "      <td>22098</td>\n",
       "      <td>NaN</td>\n",
       "      <td>NaN</td>\n",
       "      <td>2.0</td>\n",
       "    </tr>\n",
       "    <tr>\n",
       "      <th>16090</th>\n",
       "      <td>22098</td>\n",
       "      <td>NaN</td>\n",
       "      <td>NaN</td>\n",
       "      <td>2.0</td>\n",
       "    </tr>\n",
       "    <tr>\n",
       "      <th>16091</th>\n",
       "      <td>22098</td>\n",
       "      <td>NaN</td>\n",
       "      <td>NaN</td>\n",
       "      <td>2.0</td>\n",
       "    </tr>\n",
       "    <tr>\n",
       "      <th>16092</th>\n",
       "      <td>22098</td>\n",
       "      <td>NaN</td>\n",
       "      <td>NaN</td>\n",
       "      <td>2.0</td>\n",
       "    </tr>\n",
       "  </tbody>\n",
       "</table>\n",
       "</div>"
      ],
      "text/plain": [
       "      Número de secuencia de carro Número de Vehículo_x  Incumplidos_y  \\\n",
       "14120                        53011                  NaN            NaN   \n",
       "14121                        53011                  NaN            NaN   \n",
       "14122                        53011                  NaN            NaN   \n",
       "14123                        53011                  NaN            NaN   \n",
       "16089                        22098                  NaN            NaN   \n",
       "16090                        22098                  NaN            NaN   \n",
       "16091                        22098                  NaN            NaN   \n",
       "16092                        22098                  NaN            NaN   \n",
       "\n",
       "       Incumplidos_x  \n",
       "14120            2.0  \n",
       "14121            2.0  \n",
       "14122            2.0  \n",
       "14123            2.0  \n",
       "16089            2.0  \n",
       "16090            2.0  \n",
       "16091            2.0  \n",
       "16092            2.0  "
      ]
     },
     "execution_count": 855,
     "metadata": {},
     "output_type": "execute_result"
    }
   ],
   "source": [
    "x[['Número de secuencia de carro','Número de Vehículo_x', 'Incumplidos_y','Incumplidos_x']]"
   ]
  },
  {
   "cell_type": "code",
   "execution_count": 1268,
   "metadata": {},
   "outputs": [],
   "source": [
    "# Elimina las columnas que no son necesarias\n",
    "mergebitacora.drop(columns=['Número de Vehículo_y', 'Desde_y', 'hasta', 'texto'], inplace= True)"
   ]
  },
  {
   "cell_type": "code",
   "execution_count": 1269,
   "metadata": {},
   "outputs": [
    {
     "data": {
      "text/plain": [
       "(16139, 81)"
      ]
     },
     "execution_count": 1269,
     "metadata": {},
     "output_type": "execute_result"
    }
   ],
   "source": [
    "mergebitacora.shape"
   ]
  },
  {
   "cell_type": "code",
   "execution_count": 1271,
   "metadata": {},
   "outputs": [
    {
     "data": {
      "text/plain": [
       "Incumplidos_x\n",
       "2.0    196\n",
       "0.0     55\n",
       "1.0     54\n",
       "3.0      4\n",
       "Name: count, dtype: int64"
      ]
     },
     "execution_count": 1271,
     "metadata": {},
     "output_type": "execute_result"
    }
   ],
   "source": [
    "mergebitacora['Incumplidos_x'].value_counts()"
   ]
  },
  {
   "cell_type": "markdown",
   "metadata": {},
   "source": [
    "ok"
   ]
  },
  {
   "cell_type": "markdown",
   "metadata": {},
   "source": [
    "Calificaciones incumplimineto "
   ]
  },
  {
   "cell_type": "code",
   "execution_count": 1207,
   "metadata": {},
   "outputs": [],
   "source": [
    "# Funcion replica de la funcion de Excel para el calculo de incumpliminetos, pero la siguiente funcion la anula, revisar si es necesaria\n",
    "def col_calificaciones_funtion(row, df):\n",
    "    \"\"\"\n",
    "    Calcula el valor del incumplimiento según las condiciones especificadas.\n",
    "\n",
    "    Parámetros:\n",
    "    row (pandas.Series): Una fila del DataFrame que contiene los datos de la bitácora.\n",
    "    df (pandas.DataFrame): DataFrame que contiene los datos de la bitácora.\n",
    "\n",
    "    Retorna:\n",
    "    int or float or np.nan: El valor del incumplimiento calculado según las condiciones.\n",
    "    \"\"\"\n",
    "    \n",
    "    # Obtener el índice de la fila actual\n",
    "    index = row.name\n",
    "    \n",
    "    # Calcular el índice de la fila siguiente\n",
    "    next_index = index + 1\n",
    "    next_index_next = index + 2\n",
    "    \n",
    "    # Obtener la fila siguiente si el índice es válido, de lo contrario, establecerla como None\n",
    "    next_row = df.iloc[next_index] if next_index < len(df) else None\n",
    "    next_row_next = df.iloc[next_index_next] if next_index_next < len(df) else None\n",
    "\n",
    "    \n",
    "    if row['Tipo Kilómetros'] == \"Kms en Servicio\" and pd.isna(row['Número de secuencia de carro']):\n",
    "        if row['Tipo de viaje corto_x'] == \"Viaje comercial\":\n",
    "            return 2\n",
    "        elif row['Tipo de viaje corto_x'] in [\"Viaje de punto operacional\", \"Viaje de posicionamiento\"]:\n",
    "            if next_row is not None and pd.isna(next_row['Número de secuencia de carro']):\n",
    "                if (next_row['Incumplidos_y'] == 2) and (row['Largo_y'] in [0, 1]):\n",
    "                    return 1\n",
    "                elif (row['Largo_y'] not in [0, 1]) or (next_row['Largo_y']  in [0, 1]):\n",
    "                    if pd.notna(next_row_next['Incumplidos_y']):\n",
    "                        return next_row_next['Incumplidos_y'] \n",
    "                    else:\n",
    "                        return 2\n",
    "                else:\n",
    "                    return next_row['Incumplidos_y']\n",
    "            else:\n",
    "                if row is not None and row['Largo_y'] in [0, 1]:\n",
    "                    return 1\n",
    "                else:\n",
    "                    return 2\n",
    "        else:\n",
    "            return np.nan\n",
    "    elif (row['Número de secuencia de carro'] in [\"CAMBIO\", \"CANCELADA\"]) and row['Tipo Kilómetros'] == \"Kms en Vacio\":\n",
    "        return 0\n",
    "    else:\n",
    "        return np.nan\n"
   ]
  },
  {
   "cell_type": "code",
   "execution_count": 1208,
   "metadata": {},
   "outputs": [],
   "source": [
    "#Aplicar la función a todo el DataFrame\n",
    "mergebitacora['Incumplido_y'] = mergebitacora.apply(col_calificaciones_funtion, axis=1, args=(mergebitacora,))"
   ]
  },
  {
   "cell_type": "code",
   "execution_count": 1209,
   "metadata": {},
   "outputs": [
    {
     "data": {
      "text/plain": [
       "Incumplidos_y\n",
       "0.0    38\n",
       "2.0    28\n",
       "Name: count, dtype: int64"
      ]
     },
     "execution_count": 1209,
     "metadata": {},
     "output_type": "execute_result"
    }
   ],
   "source": [
    "mergebitacora['Incumplidos_y'].value_counts()"
   ]
  },
  {
   "cell_type": "code",
   "execution_count": 1210,
   "metadata": {},
   "outputs": [],
   "source": [
    "def col_calificaciones(row, df):\n",
    "    \"\"\"\n",
    "    Calcula el valor del incumplimiento según las condiciones especificadas.\n",
    "\n",
    "    Parámetros:\n",
    "    row (pandas.Series): Una fila del DataFrame que contiene los datos de la bitácora.\n",
    "    df (pandas.DataFrame): DataFrame que contiene los datos de la bitácora.\n",
    "\n",
    "    Retorna:\n",
    "    int or float or np.nan: El valor del incumplimiento calculado según las condiciones.\n",
    "    \"\"\"\n",
    "   \n",
    "    if pd.isna(row['Incumplidos_x']) and pd.notna(row['Incumplidos_y']):\n",
    "        return np.nan\n",
    "    elif row['Incumplidos_x'] == 0:\n",
    "        return 0\n",
    "    elif row['Incumplidos_x'] in [2,3] and row['CALIFICACION'] == 1:\n",
    "        return row['CALIFICACION']\n",
    "    elif row['Incumplidos_x'] == 3:\n",
    "        return row['Incumplidos_x']\n",
    "    elif row['Incumplidos_x'] in [0,1,3] and row['Incumplidos_y']== 2:\n",
    "        return row['Incumplidos_x'] \n",
    "    elif row['Incumplidos_x']== 2 and  row['Incumplidos_y']== 2:\n",
    "        return row['Incumplidos_x'] \n",
    "    else:\n",
    "        np.nan\n"
   ]
  },
  {
   "cell_type": "code",
   "execution_count": 1214,
   "metadata": {},
   "outputs": [],
   "source": [
    "# Aplicar la función a todo el DataFrame\n",
    "mergebitacora['Incumplidos_y'] = mergebitacora.apply(col_calificaciones, axis=1, args=(mergebitacora,))"
   ]
  },
  {
   "cell_type": "code",
   "execution_count": 1215,
   "metadata": {},
   "outputs": [
    {
     "data": {
      "text/plain": [
       "Incumplidos_y\n",
       "0.0    55\n",
       "2.0    11\n",
       "1.0     4\n",
       "3.0     2\n",
       "Name: count, dtype: int64"
      ]
     },
     "execution_count": 1215,
     "metadata": {},
     "output_type": "execute_result"
    }
   ],
   "source": [
    "mergebitacora['Incumplidos_y'].value_counts()"
   ]
  },
  {
   "cell_type": "code",
   "execution_count": 1152,
   "metadata": {},
   "outputs": [
    {
     "data": {
      "text/plain": [
       "(16139, 81)"
      ]
     },
     "execution_count": 1152,
     "metadata": {},
     "output_type": "execute_result"
    }
   ],
   "source": [
    "mergebitacora.shape"
   ]
  },
  {
   "cell_type": "markdown",
   "metadata": {},
   "source": [
    "OK pendiente revisar calificaciones"
   ]
  },
  {
   "cell_type": "code",
   "execution_count": 45,
   "metadata": {},
   "outputs": [],
   "source": [
    "z = mergebitacora[(mergebitacora['Incumplidos_x'].isna())&(mergebitacora['Incumplidos_y'].notna())]"
   ]
  },
  {
   "cell_type": "code",
   "execution_count": 46,
   "metadata": {},
   "outputs": [
    {
     "data": {
      "text/html": [
       "<div>\n",
       "<style scoped>\n",
       "    .dataframe tbody tr th:only-of-type {\n",
       "        vertical-align: middle;\n",
       "    }\n",
       "\n",
       "    .dataframe tbody tr th {\n",
       "        vertical-align: top;\n",
       "    }\n",
       "\n",
       "    .dataframe thead th {\n",
       "        text-align: right;\n",
       "    }\n",
       "</style>\n",
       "<table border=\"1\" class=\"dataframe\">\n",
       "  <thead>\n",
       "    <tr style=\"text-align: right;\">\n",
       "      <th></th>\n",
       "      <th>VIAJE</th>\n",
       "      <th>TAREA</th>\n",
       "      <th>Incumplidos_x</th>\n",
       "      <th>Incumplidos_y</th>\n",
       "    </tr>\n",
       "  </thead>\n",
       "  <tbody>\n",
       "  </tbody>\n",
       "</table>\n",
       "</div>"
      ],
      "text/plain": [
       "Empty DataFrame\n",
       "Columns: [VIAJE, TAREA, Incumplidos_x, Incumplidos_y]\n",
       "Index: []"
      ]
     },
     "execution_count": 46,
     "metadata": {},
     "output_type": "execute_result"
    }
   ],
   "source": [
    "z[['VIAJE', 'TAREA', 'Incumplidos_x', 'Incumplidos_y']]"
   ]
  },
  {
   "cell_type": "code",
   "execution_count": 47,
   "metadata": {},
   "outputs": [
    {
     "data": {
      "text/html": [
       "<div>\n",
       "<style scoped>\n",
       "    .dataframe tbody tr th:only-of-type {\n",
       "        vertical-align: middle;\n",
       "    }\n",
       "\n",
       "    .dataframe tbody tr th {\n",
       "        vertical-align: top;\n",
       "    }\n",
       "\n",
       "    .dataframe thead th {\n",
       "        text-align: right;\n",
       "    }\n",
       "</style>\n",
       "<table border=\"1\" class=\"dataframe\">\n",
       "  <thead>\n",
       "    <tr style=\"text-align: right;\">\n",
       "      <th></th>\n",
       "      <th>VIAJE</th>\n",
       "      <th>TAREA</th>\n",
       "      <th>Incumplidos_x</th>\n",
       "      <th>Incumplidos_y</th>\n",
       "    </tr>\n",
       "  </thead>\n",
       "  <tbody>\n",
       "    <tr>\n",
       "      <th>0</th>\n",
       "      <td>1.0</td>\n",
       "      <td>1.0</td>\n",
       "      <td>NaN</td>\n",
       "      <td>NaN</td>\n",
       "    </tr>\n",
       "    <tr>\n",
       "      <th>1</th>\n",
       "      <td>2.0</td>\n",
       "      <td>1.0</td>\n",
       "      <td>NaN</td>\n",
       "      <td>NaN</td>\n",
       "    </tr>\n",
       "    <tr>\n",
       "      <th>2</th>\n",
       "      <td>9.0</td>\n",
       "      <td>1.0</td>\n",
       "      <td>NaN</td>\n",
       "      <td>NaN</td>\n",
       "    </tr>\n",
       "    <tr>\n",
       "      <th>3</th>\n",
       "      <td>10.0</td>\n",
       "      <td>1.0</td>\n",
       "      <td>NaN</td>\n",
       "      <td>NaN</td>\n",
       "    </tr>\n",
       "    <tr>\n",
       "      <th>4</th>\n",
       "      <td>17.0</td>\n",
       "      <td>1.0</td>\n",
       "      <td>NaN</td>\n",
       "      <td>NaN</td>\n",
       "    </tr>\n",
       "    <tr>\n",
       "      <th>...</th>\n",
       "      <td>...</td>\n",
       "      <td>...</td>\n",
       "      <td>...</td>\n",
       "      <td>...</td>\n",
       "    </tr>\n",
       "    <tr>\n",
       "      <th>18640</th>\n",
       "      <td>9955.0</td>\n",
       "      <td>99753.0</td>\n",
       "      <td>NaN</td>\n",
       "      <td>NaN</td>\n",
       "    </tr>\n",
       "    <tr>\n",
       "      <th>18641</th>\n",
       "      <td>9956.0</td>\n",
       "      <td>99753.0</td>\n",
       "      <td>NaN</td>\n",
       "      <td>NaN</td>\n",
       "    </tr>\n",
       "    <tr>\n",
       "      <th>18642</th>\n",
       "      <td>9957.0</td>\n",
       "      <td>99753.0</td>\n",
       "      <td>NaN</td>\n",
       "      <td>NaN</td>\n",
       "    </tr>\n",
       "    <tr>\n",
       "      <th>18643</th>\n",
       "      <td>9958.0</td>\n",
       "      <td>99753.0</td>\n",
       "      <td>NaN</td>\n",
       "      <td>NaN</td>\n",
       "    </tr>\n",
       "    <tr>\n",
       "      <th>18644</th>\n",
       "      <td>9959.0</td>\n",
       "      <td>99753.0</td>\n",
       "      <td>NaN</td>\n",
       "      <td>NaN</td>\n",
       "    </tr>\n",
       "  </tbody>\n",
       "</table>\n",
       "<p>18645 rows × 4 columns</p>\n",
       "</div>"
      ],
      "text/plain": [
       "        VIAJE    TAREA  Incumplidos_x  Incumplidos_y\n",
       "0         1.0      1.0            NaN            NaN\n",
       "1         2.0      1.0            NaN            NaN\n",
       "2         9.0      1.0            NaN            NaN\n",
       "3        10.0      1.0            NaN            NaN\n",
       "4        17.0      1.0            NaN            NaN\n",
       "...       ...      ...            ...            ...\n",
       "18640  9955.0  99753.0            NaN            NaN\n",
       "18641  9956.0  99753.0            NaN            NaN\n",
       "18642  9957.0  99753.0            NaN            NaN\n",
       "18643  9958.0  99753.0            NaN            NaN\n",
       "18644  9959.0  99753.0            NaN            NaN\n",
       "\n",
       "[18645 rows x 4 columns]"
      ]
     },
     "execution_count": 47,
     "metadata": {},
     "output_type": "execute_result"
    }
   ],
   "source": [
    "mergebitacora[['VIAJE', 'TAREA', 'Incumplidos_x', 'Incumplidos_y']]"
   ]
  },
  {
   "cell_type": "markdown",
   "metadata": {},
   "source": [
    "verificacion"
   ]
  },
  {
   "cell_type": "code",
   "execution_count": 48,
   "metadata": {},
   "outputs": [],
   "source": [
    "##\n",
    "##\n",
    "##no va\n",
    "##\n",
    "##\n",
    "# Definir una función para aplicar a cada grupo\n",
    "def eliminar_duplicados_bitacora(row):\n",
    "    # Verificar si hay al menos un valor en 'Incumplidos_x'\n",
    "    if row['Incumplidos_x'].isnull() and row['Incumplidos_x'].isnull():   \n",
    "        return row[row['Incumplidos_x'].notnull()]  # Conservar la fila con 'Incumplidos_x' no nulo\n",
    "    # Verificar si hay al menos un valor en 'Incumplidos_y'\n",
    "    elif row['Incumplidos_y'].notnull().any():\n",
    "        return row[row['Incumplidos_y'].notnull()]  # Conservar la fila con 'Incumplidos_y' no nulo\n",
    "    # Conservar la fila con el valor más bajo en 'CALIFICACION'\n",
    "    else:\n",
    "        return row.loc[row['CALIFICACION'].idxmin()]"
   ]
  },
  {
   "cell_type": "code",
   "execution_count": 49,
   "metadata": {},
   "outputs": [
    {
     "data": {
      "text/html": [
       "<div>\n",
       "<style scoped>\n",
       "    .dataframe tbody tr th:only-of-type {\n",
       "        vertical-align: middle;\n",
       "    }\n",
       "\n",
       "    .dataframe tbody tr th {\n",
       "        vertical-align: top;\n",
       "    }\n",
       "\n",
       "    .dataframe thead th {\n",
       "        text-align: right;\n",
       "    }\n",
       "</style>\n",
       "<table border=\"1\" class=\"dataframe\">\n",
       "  <thead>\n",
       "    <tr style=\"text-align: right;\">\n",
       "      <th></th>\n",
       "      <th>Fecha_x</th>\n",
       "      <th>Día tipo_x</th>\n",
       "      <th>Designación de tarea vehículo_x</th>\n",
       "      <th>Línea_x</th>\n",
       "      <th>Tipo de viaje corto_x</th>\n",
       "      <th>Sentido_x</th>\n",
       "      <th>Tipo Kilómetros</th>\n",
       "      <th>Número de Vehículo</th>\n",
       "      <th>Concesionario de Transporte_x</th>\n",
       "      <th>Número de tarea vehículo_x</th>\n",
       "      <th>...</th>\n",
       "      <th>Kms cancelados</th>\n",
       "      <th>Jerarquía</th>\n",
       "      <th>Tarea</th>\n",
       "      <th>Viaje</th>\n",
       "      <th>Parada</th>\n",
       "      <th>Vehículo_y</th>\n",
       "      <th>Novedad</th>\n",
       "      <th>CALIFICACION</th>\n",
       "      <th>texto_cmb_vehi</th>\n",
       "      <th>Incumplido_y</th>\n",
       "    </tr>\n",
       "  </thead>\n",
       "  <tbody>\n",
       "  </tbody>\n",
       "</table>\n",
       "<p>0 rows × 80 columns</p>\n",
       "</div>"
      ],
      "text/plain": [
       "Empty DataFrame\n",
       "Columns: [Fecha_x, Día tipo_x, Designación de tarea vehículo_x, Línea_x, Tipo de viaje corto_x, Sentido_x, Tipo Kilómetros, Número de Vehículo, Concesionario de Transporte_x, Número de tarea vehículo_x, Desde, hasta_x, Duración_x, Punto de inicio_x, Punto de término_x, Largo_x, Número de viaje_x, Tipo de vehículo del viaje_x, Secuencia de arcos_x, Descripción Novedad_x, Concesionario Programado, Tipo de vehículo Programado, Incumplidos_x, Kilometros Programados-Desvios, Kilometros Programados Plan, Clase de viaje, a evaluar, TAREA, LINEA, VIAJE, VEHICULO SGCO, Kms en Servicio (MTS PLANEADOS), PARADAS PLANEADAS, PARADAS REALIZADAS SGCO, % PARADAS REALIZADAS SGCO, Kms en Servicio (MTS SGCO), FUENTE SGCO, HORA REAL SALIDA, HORA REAL LLEGADA, id, Fecha_y, Día tipo_y, Designación de tarea vehículo_y, Línea_y, Tipo de viaje corto_y, Sentido_y, Tipo de kilometros, Número de secuencia de carro, Concesionario de Transporte_y, Número de tarea vehículo_y, desde, hasta_y, Duración_y, Punto de inicio_y, Punto de término_y, Largo_y, Número de viaje_y, Tipo de vehículo del viaje_y, Secuencia de arcos_y, Descripción Novedad_y, Subcontratista, Tipo de vehículo del viaje.1, Incumplidos_y, Nro de caso, Tipo, Lugar, Jerarquia, Vehículo_x, Kms Planeados, Kms Perdidos, Kms cancelados, Jerarquía, Tarea, Viaje, Parada, Vehículo_y, Novedad, CALIFICACION, texto_cmb_vehi, Incumplido_y]\n",
       "Index: []\n",
       "\n",
       "[0 rows x 80 columns]"
      ]
     },
     "execution_count": 49,
     "metadata": {},
     "output_type": "execute_result"
    }
   ],
   "source": [
    "# Muestra los id duplicados producto del merge con bitacora\n",
    "mergebitacora[mergebitacora['id'].duplicated()]"
   ]
  },
  {
   "cell_type": "markdown",
   "metadata": {},
   "source": [
    "Revision de Adicionales"
   ]
  },
  {
   "cell_type": "markdown",
   "metadata": {},
   "source": [
    "Columna condicional "
   ]
  },
  {
   "cell_type": "code",
   "execution_count": 50,
   "metadata": {},
   "outputs": [],
   "source": [
    "# Se cambian los vehiculos del cierre por los de k2##\n",
    "mergebitacora['Número de secuencia de carro'] = [x if pd.notna(x) else y for x, y in zip(mergebitacora['Número de secuencia de carro'], mergebitacora['Número de Vehículo'])]\n",
    "# Marca en la columnas Cambios los cambios que realiza el código\n",
    "mergebitacora['condicion'] = [ np.nan if  pd.notna(x) else 'Se Cambia # V RF' for x, y in zip(mergebitacora['Número de secuencia de carro'], mergebitacora['Número de Vehículo'])]\n"
   ]
  },
  {
   "cell_type": "code",
   "execution_count": 51,
   "metadata": {},
   "outputs": [],
   "source": [
    "# # Función para actualizar el texto de la columna condicion para Largo_y si Largo_x es mayor\n",
    "def actualizar_largo_texto(row):\n",
    "    if pd.isna(row['Largo_y']) and pd.isna(row['condicion']) :\n",
    "        return 'Cambia largo por NAN'\n",
    "    elif pd.isna(row['Largo_y']) and pd.notnull(row['condicion']) :\n",
    "        return row['condicion'] + '/Cambia largo por NAN'\n",
    "    elif row['Largo_x'] > row['Largo_y'] and pd.isna(row['condicion']):\n",
    "        return 'Cambia x Mayor largo'\n",
    "    elif row['Largo_x'] > row['Largo_y'] and pd.notnull(row['condicion']) :\n",
    "        return row['condicion'] + '/Cambia x Mayor largo'\n",
    "    else:\n",
    "        if pd.notnull(row['condicion']):\n",
    "            return row['condicion']\n",
    "            "
   ]
  },
  {
   "cell_type": "code",
   "execution_count": 52,
   "metadata": {},
   "outputs": [],
   "source": [
    "# Función para actualizar los valores de Largo_y si Largo_x es mayor\n",
    "def actualizar_largo(row):\n",
    "    if pd.isna(row['Largo_y']):\n",
    "        return row['Largo_x']\n",
    "    elif row['Largo_x'] > row['Largo_y']:\n",
    "        return row['Largo_x']\n",
    "    else:\n",
    "        return row['Largo_y']"
   ]
  },
  {
   "cell_type": "code",
   "execution_count": 53,
   "metadata": {},
   "outputs": [],
   "source": [
    "# Marcar las filas donde se realizan cambios en una nueva columna\n",
    "mergebitacora['condicion'] = mergebitacora.apply(actualizar_largo_texto, axis=1)"
   ]
  },
  {
   "cell_type": "code",
   "execution_count": 54,
   "metadata": {},
   "outputs": [],
   "source": [
    "# Aplicar la función a la columna Largo_y\n",
    "mergebitacora['Largo_y'] = mergebitacora.apply(actualizar_largo, axis=1)"
   ]
  },
  {
   "cell_type": "code",
   "execution_count": 55,
   "metadata": {},
   "outputs": [
    {
     "data": {
      "text/plain": [
       "condicion\n",
       "Cambia largo por NAN                     15876\n",
       "Se Cambia # V RF/Cambia largo por NAN     2350\n",
       "Name: count, dtype: int64"
      ]
     },
     "execution_count": 55,
     "metadata": {},
     "output_type": "execute_result"
    }
   ],
   "source": [
    "#Se verifican los cambios realizados\n",
    "mergebitacora['condicion'].value_counts()"
   ]
  },
  {
   "cell_type": "code",
   "execution_count": null,
   "metadata": {},
   "outputs": [],
   "source": []
  },
  {
   "cell_type": "code",
   "execution_count": 56,
   "metadata": {},
   "outputs": [
    {
     "data": {
      "text/plain": [
       "('Número de secuencia de carro',\n",
       " 'Secuencia de arcos',\n",
       " 'Concesionario Programado')"
      ]
     },
     "execution_count": 56,
     "metadata": {},
     "output_type": "execute_result"
    }
   ],
   "source": [
    "'Número de secuencia de carro', 'Secuencia de arcos', 'Concesionario Programado'"
   ]
  },
  {
   "cell_type": "code",
   "execution_count": 57,
   "metadata": {},
   "outputs": [],
   "source": [
    "# Condiciones para la columna condicional\n",
    "condicion1 = mergebitacora['Largo_x'] != mergebitacora['Largo_y']\n",
    "condicion2 = mergebitacora['Número de Vehículo'] != mergebitacora['Número de secuencia de carro']\n",
    "condicion3 = mergebitacora['Secuencia de arcos_x'] != mergebitacora['Secuencia de arcos_y']\n",
    "condicion4 = mergebitacora['Concesionario de Transporte_x'] != mergebitacora['Concesionario Programado']\n",
    "\n",
    "# Aplicar condiciones y asignar valores a la nueva columna\n",
    "mergebitacora['condicional2'] = np.where(condicion1 & condicion2 & condicion3 & condicion4, 'Revisar largo, parada, vehículo y consecionario',\n",
    "                                    np.where(condicion1 & condicion2 & condicion3, 'Revisar largo, parada y vehículo',\n",
    "                                        np.where(condicion1 & condicion2 & condicion4, 'Revisar largo, parada y consecionario',         \n",
    "                                            np.where(condicion1 & condicion3 & condicion4, 'Revisar largo, parada y consecionarios',\n",
    "                                                np.where(condicion2 & condicion3 & condicion4, 'Revisar vehiculo, parada y consecionarios',        \n",
    "                                                    np.where(condicion1 & condicion2, 'Revisar largo y vehiculo',\n",
    "                                                        np.where(condicion1 & condicion3, 'Revisar largo y parada',\n",
    "                                                            np.where(condicion1 & condicion4, 'Revisar largo y consecionario', \n",
    "                                                                np.where(condicion2 & condicion3, 'Revisar vehiculo y parada',\n",
    "                                                                    np.where(condicion2 & condicion4, 'Revisar vehiculo y consecionario',        \n",
    "                                                                        np.where(condicion3 & condicion4, 'Revisar parada y consecionario',                                            \n",
    "                                                                            np.where(condicion1, 'Revisar largo', \n",
    "                                                                                np.where(condicion2, 'Revisar numero de vehiculo',\n",
    "                                                                                    np.where(condicion3, 'Revisar paradas',\n",
    "                                                                                        np.where(condicion4, 'Revisar consesionario', 'OK')))))))))))))))"
   ]
  },
  {
   "cell_type": "code",
   "execution_count": 58,
   "metadata": {},
   "outputs": [
    {
     "data": {
      "text/plain": [
       "condicional2\n",
       "OK                                  10235\n",
       "Revisar consesionario                5875\n",
       "Revisar vehiculo y consecionario     2506\n",
       "Revisar largo                          28\n",
       "Revisar largo y consecionario           1\n",
       "Name: count, dtype: int64"
      ]
     },
     "execution_count": 58,
     "metadata": {},
     "output_type": "execute_result"
    }
   ],
   "source": [
    "mergebitacora['condicional2'].value_counts()"
   ]
  },
  {
   "cell_type": "code",
   "execution_count": 59,
   "metadata": {},
   "outputs": [],
   "source": [
    "# Exporta a un archivo excel el Df\n",
    "#mergebitacora.to_excel('../output/prueba_mergebita.xlsx', index=False, sheet_name='k2_procesado')"
   ]
  }
 ],
 "metadata": {
  "kernelspec": {
   "display_name": "w-env",
   "language": "python",
   "name": "w-env"
  },
  "language_info": {
   "codemirror_mode": {
    "name": "ipython",
    "version": 3
   },
   "file_extension": ".py",
   "mimetype": "text/x-python",
   "name": "python",
   "nbconvert_exporter": "python",
   "pygments_lexer": "ipython3",
   "version": "3.12.2"
  },
  "orig_nbformat": 4
 },
 "nbformat": 4,
 "nbformat_minor": 2
}
