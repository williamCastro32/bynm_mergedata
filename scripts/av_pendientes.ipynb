{
 "cells": [
  {
   "cell_type": "markdown",
   "metadata": {},
   "source": [
    "Modificaciones pendientes por agregar al código principal"
   ]
  },
  {
   "cell_type": "markdown",
   "metadata": {},
   "source": [
    "Filtro para columna condicional"
   ]
  },
  {
   "cell_type": "code",
   "execution_count": null,
   "metadata": {},
   "outputs": [],
   "source": [
    "# Filtro para verificar \n",
    "filtro = merge"
   ]
  },
  {
   "cell_type": "code",
   "execution_count": null,
   "metadata": {},
   "outputs": [],
   "source": [
    "# Estos son los filtros para crear la nueva columna que servira para filtrar la informacion\n",
    "filtro = merge[merge['Largo_x'] != merge['Largo_y']]\n",
    "#862\n",
    "filtro = merge[merge['Número de Vehículo'] != merge['Número de secuencia de carro']]\n",
    "#12200  \n",
    "filtro = merge[merge['Secuencia de arcos_x'] != merge['Secuencia de arcos_y']]\n",
    "#replece blanco y negro a byn\n",
    "merge['Concesionario Programado'].replace('Blanco y Negro Masivo', 'BYN', inplace=True)"
   ]
  },
  {
   "cell_type": "code",
   "execution_count": null,
   "metadata": {},
   "outputs": [],
   "source": [
    "# Condiciones para la nueva columna\n",
    "condicion1 = merge['Largo_x'] != merge['Largo_y']\n",
    "condicion2 = merge['Número de Vehículo'] != merge['Número de secuencia de carro']\n",
    "condicion3 = merge['Secuencia de arcos_x'] != merge['Secuencia de arcos_y']\n",
    "condicion4 = merge['Concesionario de Transporte_x'] != merge['Concesionario Programado']\n",
    "\n",
    "# Aplicar condiciones y asignar valores a la nueva columna\n",
    "filtro['condicional'] = np.where(condicion1 & condicion2 & condicion3, 'Revisar largo, parada y vehículo',\n",
    "                                 np.where(condicion1, 'Revisar largo', \n",
    "                                          np.where(condicion2, 'Revisar numero de vehiculo',\n",
    "                                                   np.where(condicion3, 'Revisar paradas',\n",
    "                                                            np.where(condicion4, 'Revisar consesionario', 'OK')))))\n"
   ]
  },
  {
   "cell_type": "code",
   "execution_count": null,
   "metadata": {},
   "outputs": [],
   "source": [
    "filtro['condicional'].value_counts()"
   ]
  },
  {
   "cell_type": "markdown",
   "metadata": {},
   "source": [
    "Incumplido"
   ]
  },
  {
   "cell_type": "code",
   "execution_count": null,
   "metadata": {},
   "outputs": [],
   "source": [
    "# Aplicar la lógica a cada fila del DataFrame y asignar el resultado a una nueva columna\n",
    "merge['resultado'] = merge.apply(lambda row: \\\n",
    "    2 if (row['Tipo Kilómetros'] == \"Kms en Servicio\" and pd.isna(row['AC193'])) \\\n",
    "      and row['Tipo de viaje corto'] == \"Viaje comercial\" \\\n",
    "    else (1 if (row['Tipo Kilómetros'] == \"Kms en Servicio\" and pd.isna(row['AC193'])) \\\n",
    "      and ((row['Tipo de viaje corto'] == \"Viaje de punto operacional\" or row['Tipo de viaje corto'] == \"Viaje de posicionamiento\") \\\n",
    "      and (pd.isna(row['Número de Vehículo']) and (row['AH194'] == 2 and (row['AF193'] == 0 or row['AF193'] == 1) \\\n",
    "      or ((row['AF193'] != 0 and row['AF193'] != 1) or (row['AF194'] == 0 or row['AF194'] == 1)) and (pd.notna(row['AH195']) or 2))))) \\\n",
    "    else (0 if (row['AC193'] == \"CAMBIO\" or row['AC193'] == \"CANCELADA\") and row['G193'] != \"Kms en Vacio\" else \"\"), axis=1)"
   ]
  },
  {
   "cell_type": "code",
   "execution_count": null,
   "metadata": {},
   "outputs": [],
   "source": [
    "if G193 != \"Kms en Vacio\":\n",
    "    if P193 != AF193:\n",
    "        if AD193 == \"\":\n",
    "            resultado = \"#Error\"\n",
    "        else:\n",
    "            resultado = \"Arco va desde \" + AD193 + \" hasta \" + AE193 + \" con un arco de \" + str(AF193) + \", revisar calificacion\"\n",
    "    elif W193 != AH193:\n",
    "        resultado = \"Calificacion debe ser \" + str(AH193) + \" verificar\"\n",
    "    elif H193 and H193[1] != AC193[1]:\n",
    "        if AC193 == \"\" or AC193 == 0:\n",
    "            if H193 == \"\":\n",
    "                resultado = \"\"\n",
    "            else:\n",
    "                resultado = \"Verificar Vehiculo: \" + H193\n",
    "        else:\n",
    "            resultado = \"Actualizar vehiculo: \" + str(AC193)\n",
    "    else:\n",
    "        resultado = \"\"\n",
    "else:\n",
    "    resultado = \"\""
   ]
  },
  {
   "cell_type": "markdown",
   "metadata": {},
   "source": [
    "Jerarquias, este codigo toma la info de descriciones y crea dos columnas causales y novedades"
   ]
  },
  {
   "cell_type": "code",
   "execution_count": null,
   "metadata": {},
   "outputs": [],
   "source": [
    "prueba = bitacora['Jerarquía'].drop_duplicates().to_frame()"
   ]
  },
  {
   "cell_type": "code",
   "execution_count": null,
   "metadata": {},
   "outputs": [],
   "source": [
    "# Función para dividir el texto en base a \":\" y seleccionar la parte deseada\n",
    "def split_text(text):\n",
    "    if \":\" in text:\n",
    "        # Dividir el texto en base a \":\" y tomar la primera parte\n",
    "        return text.split(\":\", 1)[0]\n",
    "    else:\n",
    "        return text"
   ]
  },
  {
   "cell_type": "code",
   "execution_count": null,
   "metadata": {},
   "outputs": [],
   "source": [
    "# Aplicar la función a la columna 'Jerarquía'\n",
    "prueba['Texto_Antes'] = prueba['Jerarquía'].apply(split_text)"
   ]
  },
  {
   "cell_type": "code",
   "execution_count": null,
   "metadata": {},
   "outputs": [],
   "source": [
    "# Funcion para obtener el ultimo dato de la columna\n",
    "def obtener_texto_despues_ultimo(texto):\n",
    "    # Usamos una expresión regular para encontrar el texto después del último \":\"\n",
    "    match = re.search(r'[^:]*$', texto)\n",
    "    if match:\n",
    "        return match.group(0)\n",
    "    else:\n",
    "        return ''"
   ]
  },
  {
   "cell_type": "code",
   "execution_count": null,
   "metadata": {},
   "outputs": [],
   "source": [
    "\n",
    "prueba['despues_text'] = prueba['Jerarquía'].apply(obtener_texto_despues_ultimo)\n"
   ]
  },
  {
   "cell_type": "code",
   "execution_count": null,
   "metadata": {},
   "outputs": [],
   "source": [
    "# Se cambian los vehiculos del cierre por los de k2##\n",
    "mergebitacora['Número de secuencia de carro'] = [x if pd.notna(x) else y for x, y in zip(mergebitacora['Número de secuencia de carro'], mergebitacora['Número de Vehículo'])]\n",
    "# Marca en la columnas Cambios los cambios que realiza el código\n",
    "mergebitacora['condicion'] = [ np.nan if  pd.notna(x) else 'Se Cambia # V RF' for x, y in zip(mergebitacora['Número de secuencia de carro'], mergebitacora['Número de Vehículo'])]\n",
    "# Función para actualizar los valores de Largo_y si Largo_x es mayor\n",
    "def actualizar_largo(row):\n",
    "    if pd.isna(row['Largo_y']):\n",
    "        return row['Largo_x']\n",
    "    elif row['Largo_x'] > row['Largo_y']:\n",
    "        return row['Largo_x']\n",
    "    else:\n",
    "        return row['Largo_y']\n",
    "# Función para actualizar los valores de Largo_y si Largo_x es mayor\n",
    "def actualizar_largo_texto(row):\n",
    "    if pd.isna(row['Largo_y']) and pd.isna(row['condicion']) :\n",
    "        return 'Cambia por NAN'\n",
    "    elif pd.isna(row['Largo_y']) and pd.notnull(row['condicion']) :\n",
    "        return row['condicion'] + '/Cambia por NAN'\n",
    "    elif row['Largo_x'] > row['Largo_y'] and pd.isna(row['condicion']):\n",
    "        return 'Cambia x Mayor1'\n",
    "    elif row['Largo_x'] > row['Largo_y'] and pd.notnull(row['condicion']) :\n",
    "        return row['condicion'] + '/Cambia x Mayor2'\n",
    "    else:\n",
    "        if pd.notnull(row['condicion']):\n",
    "            return row['condicion']\n",
    "# Aplicar la función a la columna Largo_y\n",
    "mergebitacora['Largo_y'] = mergebitacora.apply(actualizar_largo, axis=1)\n",
    "\n",
    "# Marcar las filas donde se realizan cambios en una nueva columna\n",
    "mergebitacora['condicion'] = mergebitacora.apply(actualizar_largo_texto, axis=1)"
   ]
  }
 ],
 "metadata": {
  "language_info": {
   "name": "python"
  }
 },
 "nbformat": 4,
 "nbformat_minor": 2
}
