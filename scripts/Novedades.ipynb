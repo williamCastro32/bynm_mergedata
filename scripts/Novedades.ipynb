{
 "cells": [
  {
   "cell_type": "markdown",
   "metadata": {},
   "source": [
    "Novedades"
   ]
  },
  {
   "cell_type": "code",
   "execution_count": 3,
   "metadata": {},
   "outputs": [],
   "source": [
    "# Importa las librerias a usar\n",
    "import pandas as pd"
   ]
  },
  {
   "cell_type": "markdown",
   "metadata": {},
   "source": [
    "K2"
   ]
  },
  {
   "cell_type": "code",
   "execution_count": 1,
   "metadata": {},
   "outputs": [],
   "source": [
    "# Ubicacion de los archivos a usar\n",
    "patch1 = '../input/Kilometros en Servicio MIO - 05-Mar-2024.xlsx'"
   ]
  },
  {
   "cell_type": "code",
   "execution_count": 8,
   "metadata": {},
   "outputs": [],
   "source": [
    "# Se importa el archivo xlxs\n",
    "evenday = pd.read_excel(patch1, sheet_name='Eventos Dia')\n",
    "# Se eliminan las filas y las columnas vacias\n",
    "evenday = evenday.dropna(axis=0, how='all').dropna(axis=1, how='all')\n"
   ]
  },
  {
   "cell_type": "code",
   "execution_count": 9,
   "metadata": {},
   "outputs": [
    {
     "name": "stdout",
     "output_type": "stream",
     "text": [
      "<class 'pandas.core.frame.DataFrame'>\n",
      "RangeIndex: 1127 entries, 0 to 1126\n",
      "Data columns (total 38 columns):\n",
      " #   Column                       Non-Null Count  Dtype  \n",
      "---  ------                       --------------  -----  \n",
      " 0   NUMERO_DE_CASO               1127 non-null   int64  \n",
      " 1   AGENTE_REGISTRA              1127 non-null   object \n",
      " 2   TIPO_EVENTO                  1127 non-null   object \n",
      " 3   JERARQUIA                    1127 non-null   object \n",
      " 4   ESTADO                       125 non-null    object \n",
      " 5   FECHA_CREACION               1127 non-null   object \n",
      " 6   TIPO                         1127 non-null   object \n",
      " 7   COLA                         1112 non-null   object \n",
      " 8   DESCRIPCION_CASO             125 non-null    object \n",
      " 9   ULTIMA_NOTA                  503 non-null    object \n",
      " 10  UBICACION                    125 non-null    object \n",
      " 11  NUMERO_VEHICULO              1080 non-null   object \n",
      " 12  NUMERO_VIAJE                 987 non-null    object \n",
      " 13  TAREA                        987 non-null    float64\n",
      " 14  HORA_EVENTO                  1127 non-null   object \n",
      " 15  CODIGO_OPERADOR              987 non-null    object \n",
      " 16  RUTA                         1002 non-null   object \n",
      " 17  SITIO_SALIDA                 987 non-null    object \n",
      " 18  SITIO_EVENTO                 958 non-null    object \n",
      " 19  USUARIO_CLIENTE              125 non-null    object \n",
      " 20  IMPACTO                      125 non-null    object \n",
      " 21  ASUNTO                       125 non-null    object \n",
      " 22  NUMERO_LESIONADOS            958 non-null    float64\n",
      " 23  HORA_INICIO_EVENTO           140 non-null    object \n",
      " 24  HORA_FIN_EVENTO              140 non-null    object \n",
      " 25  LONGITUD                     15 non-null     float64\n",
      " 26  PARADA_INICIO                15 non-null     object \n",
      " 27  PARADA_FIN                   15 non-null     object \n",
      " 28  VEHICULOS_INSPECCIONADOS     32 non-null     float64\n",
      " 29  VEHICULOS_NO_CONFORMES       32 non-null     float64\n",
      " 30  ORIGEN                       1127 non-null   object \n",
      " 31  TIPO_BLOQUEO                 958 non-null    object \n",
      " 32  TIEMPO_BLOQUEO               958 non-null    object \n",
      " 33  ACCION_BLOQUEO               958 non-null    object \n",
      " 34  SENTIDO                      15 non-null     object \n",
      " 35  TOTAL_VIAJES_ADICIONALES     29 non-null     float64\n",
      " 36  OBSERVACIONES_COT            7 non-null      object \n",
      " 37  RESPUESTA_CCO_METROCALI_S_A  7 non-null      object \n",
      "dtypes: float64(6), int64(1), object(31)\n",
      "memory usage: 334.7+ KB\n"
     ]
    }
   ],
   "source": [
    "evenday.info()"
   ]
  },
  {
   "cell_type": "code",
   "execution_count": 10,
   "metadata": {},
   "outputs": [
    {
     "data": {
      "text/html": [
       "<div>\n",
       "<style scoped>\n",
       "    .dataframe tbody tr th:only-of-type {\n",
       "        vertical-align: middle;\n",
       "    }\n",
       "\n",
       "    .dataframe tbody tr th {\n",
       "        vertical-align: top;\n",
       "    }\n",
       "\n",
       "    .dataframe thead th {\n",
       "        text-align: right;\n",
       "    }\n",
       "</style>\n",
       "<table border=\"1\" class=\"dataframe\">\n",
       "  <thead>\n",
       "    <tr style=\"text-align: right;\">\n",
       "      <th></th>\n",
       "      <th>NUMERO_DE_CASO</th>\n",
       "      <th>AGENTE_REGISTRA</th>\n",
       "      <th>TIPO_EVENTO</th>\n",
       "      <th>JERARQUIA</th>\n",
       "      <th>ESTADO</th>\n",
       "      <th>FECHA_CREACION</th>\n",
       "      <th>TIPO</th>\n",
       "      <th>COLA</th>\n",
       "      <th>DESCRIPCION_CASO</th>\n",
       "      <th>ULTIMA_NOTA</th>\n",
       "      <th>...</th>\n",
       "      <th>VEHICULOS_INSPECCIONADOS</th>\n",
       "      <th>VEHICULOS_NO_CONFORMES</th>\n",
       "      <th>ORIGEN</th>\n",
       "      <th>TIPO_BLOQUEO</th>\n",
       "      <th>TIEMPO_BLOQUEO</th>\n",
       "      <th>ACCION_BLOQUEO</th>\n",
       "      <th>SENTIDO</th>\n",
       "      <th>TOTAL_VIAJES_ADICIONALES</th>\n",
       "      <th>OBSERVACIONES_COT</th>\n",
       "      <th>RESPUESTA_CCO_METROCALI_S_A</th>\n",
       "    </tr>\n",
       "  </thead>\n",
       "  <tbody>\n",
       "    <tr>\n",
       "      <th>0</th>\n",
       "      <td>2374273</td>\n",
       "      <td>mperez</td>\n",
       "      <td>Incidente</td>\n",
       "      <td>METROCALI::INCIDENTE::POR FLOTA::CON PROTOCOLO...</td>\n",
       "      <td>NaN</td>\n",
       "      <td>05/03/2024 5:26</td>\n",
       "      <td>METROCALI</td>\n",
       "      <td>GIT MASIVO</td>\n",
       "      <td>NaN</td>\n",
       "      <td>*SOLICITUD OTRS // Salto de paradas. Confirma ...</td>\n",
       "      <td>...</td>\n",
       "      <td>NaN</td>\n",
       "      <td>NaN</td>\n",
       "      <td>BOW</td>\n",
       "      <td>N.A</td>\n",
       "      <td>N.A</td>\n",
       "      <td>N.A</td>\n",
       "      <td>NaN</td>\n",
       "      <td>NaN</td>\n",
       "      <td>NaN</td>\n",
       "      <td>NaN</td>\n",
       "    </tr>\n",
       "    <tr>\n",
       "      <th>1</th>\n",
       "      <td>2374274</td>\n",
       "      <td>mperez</td>\n",
       "      <td>Incidente</td>\n",
       "      <td>METROCALI::INCIDENTE::POR FLOTA::CON PROTOCOLO...</td>\n",
       "      <td>NaN</td>\n",
       "      <td>05/03/2024 5:32</td>\n",
       "      <td>METROCALI</td>\n",
       "      <td>BYN</td>\n",
       "      <td>NaN</td>\n",
       "      <td>*Salto de paradas. Confirma C-218.</td>\n",
       "      <td>...</td>\n",
       "      <td>NaN</td>\n",
       "      <td>NaN</td>\n",
       "      <td>BOW</td>\n",
       "      <td>N.A</td>\n",
       "      <td>N.A</td>\n",
       "      <td>N.A</td>\n",
       "      <td>NaN</td>\n",
       "      <td>NaN</td>\n",
       "      <td>NaN</td>\n",
       "      <td>NaN</td>\n",
       "    </tr>\n",
       "    <tr>\n",
       "      <th>2</th>\n",
       "      <td>2374275</td>\n",
       "      <td>mperez</td>\n",
       "      <td>Incidente</td>\n",
       "      <td>METROCALI::INCIDENTE::POR FLOTA::CON PROTOCOLO...</td>\n",
       "      <td>NaN</td>\n",
       "      <td>05/03/2024 5:40</td>\n",
       "      <td>METROCALI</td>\n",
       "      <td>ETM</td>\n",
       "      <td>NaN</td>\n",
       "      <td>*Salto de paradas. Confirma C-218.</td>\n",
       "      <td>...</td>\n",
       "      <td>NaN</td>\n",
       "      <td>NaN</td>\n",
       "      <td>BOW</td>\n",
       "      <td>N.A</td>\n",
       "      <td>N.A</td>\n",
       "      <td>N.A</td>\n",
       "      <td>NaN</td>\n",
       "      <td>NaN</td>\n",
       "      <td>NaN</td>\n",
       "      <td>NaN</td>\n",
       "    </tr>\n",
       "    <tr>\n",
       "      <th>3</th>\n",
       "      <td>2374276</td>\n",
       "      <td>ysinisterra</td>\n",
       "      <td>Incidente</td>\n",
       "      <td>METROCALI::INCIDENTE::POR FLOTA::CON PROTOCOLO...</td>\n",
       "      <td>NaN</td>\n",
       "      <td>05/03/2024 5:43</td>\n",
       "      <td>METROCALI</td>\n",
       "      <td>BYN</td>\n",
       "      <td>NaN</td>\n",
       "      <td>*Confirma C308. Verificar en plataforma tecnol...</td>\n",
       "      <td>...</td>\n",
       "      <td>NaN</td>\n",
       "      <td>NaN</td>\n",
       "      <td>BOW</td>\n",
       "      <td>N.A</td>\n",
       "      <td>N.A</td>\n",
       "      <td>N.A</td>\n",
       "      <td>NaN</td>\n",
       "      <td>NaN</td>\n",
       "      <td>NaN</td>\n",
       "      <td>NaN</td>\n",
       "    </tr>\n",
       "    <tr>\n",
       "      <th>4</th>\n",
       "      <td>2374277</td>\n",
       "      <td>mperez</td>\n",
       "      <td>Desvios</td>\n",
       "      <td>N.A</td>\n",
       "      <td>NaN</td>\n",
       "      <td>05/03/2024 5:47</td>\n",
       "      <td>METROCALI</td>\n",
       "      <td>NaN</td>\n",
       "      <td>NaN</td>\n",
       "      <td>Después de atender la parada de A4NC23 realiza...</td>\n",
       "      <td>...</td>\n",
       "      <td>NaN</td>\n",
       "      <td>NaN</td>\n",
       "      <td>BOW</td>\n",
       "      <td>NaN</td>\n",
       "      <td>NaN</td>\n",
       "      <td>NaN</td>\n",
       "      <td>Vuelta</td>\n",
       "      <td>NaN</td>\n",
       "      <td>NaN</td>\n",
       "      <td>NaN</td>\n",
       "    </tr>\n",
       "  </tbody>\n",
       "</table>\n",
       "<p>5 rows × 38 columns</p>\n",
       "</div>"
      ],
      "text/plain": [
       "   NUMERO_DE_CASO AGENTE_REGISTRA TIPO_EVENTO  \\\n",
       "0         2374273          mperez   Incidente   \n",
       "1         2374274          mperez   Incidente   \n",
       "2         2374275          mperez   Incidente   \n",
       "3         2374276     ysinisterra   Incidente   \n",
       "4         2374277          mperez     Desvios   \n",
       "\n",
       "                                           JERARQUIA ESTADO   FECHA_CREACION  \\\n",
       "0  METROCALI::INCIDENTE::POR FLOTA::CON PROTOCOLO...    NaN  05/03/2024 5:26   \n",
       "1  METROCALI::INCIDENTE::POR FLOTA::CON PROTOCOLO...    NaN  05/03/2024 5:32   \n",
       "2  METROCALI::INCIDENTE::POR FLOTA::CON PROTOCOLO...    NaN  05/03/2024 5:40   \n",
       "3  METROCALI::INCIDENTE::POR FLOTA::CON PROTOCOLO...    NaN  05/03/2024 5:43   \n",
       "4                                                N.A    NaN  05/03/2024 5:47   \n",
       "\n",
       "        TIPO        COLA DESCRIPCION_CASO  \\\n",
       "0  METROCALI  GIT MASIVO              NaN   \n",
       "1  METROCALI         BYN              NaN   \n",
       "2  METROCALI         ETM              NaN   \n",
       "3  METROCALI         BYN              NaN   \n",
       "4  METROCALI         NaN              NaN   \n",
       "\n",
       "                                         ULTIMA_NOTA  ...  \\\n",
       "0  *SOLICITUD OTRS // Salto de paradas. Confirma ...  ...   \n",
       "1                 *Salto de paradas. Confirma C-218.  ...   \n",
       "2                 *Salto de paradas. Confirma C-218.  ...   \n",
       "3  *Confirma C308. Verificar en plataforma tecnol...  ...   \n",
       "4  Después de atender la parada de A4NC23 realiza...  ...   \n",
       "\n",
       "  VEHICULOS_INSPECCIONADOS VEHICULOS_NO_CONFORMES ORIGEN  TIPO_BLOQUEO  \\\n",
       "0                      NaN                    NaN    BOW           N.A   \n",
       "1                      NaN                    NaN    BOW           N.A   \n",
       "2                      NaN                    NaN    BOW           N.A   \n",
       "3                      NaN                    NaN    BOW           N.A   \n",
       "4                      NaN                    NaN    BOW           NaN   \n",
       "\n",
       "  TIEMPO_BLOQUEO ACCION_BLOQUEO SENTIDO TOTAL_VIAJES_ADICIONALES  \\\n",
       "0            N.A            N.A     NaN                      NaN   \n",
       "1            N.A            N.A     NaN                      NaN   \n",
       "2            N.A            N.A     NaN                      NaN   \n",
       "3            N.A            N.A     NaN                      NaN   \n",
       "4            NaN            NaN  Vuelta                      NaN   \n",
       "\n",
       "  OBSERVACIONES_COT RESPUESTA_CCO_METROCALI_S_A  \n",
       "0               NaN                         NaN  \n",
       "1               NaN                         NaN  \n",
       "2               NaN                         NaN  \n",
       "3               NaN                         NaN  \n",
       "4               NaN                         NaN  \n",
       "\n",
       "[5 rows x 38 columns]"
      ]
     },
     "execution_count": 10,
     "metadata": {},
     "output_type": "execute_result"
    }
   ],
   "source": [
    "evenday.head()"
   ]
  },
  {
   "cell_type": "code",
   "execution_count": 16,
   "metadata": {},
   "outputs": [],
   "source": [
    "evenday['NUMERO_DE_CASO'] = evenday['NUMERO_DE_CASO'].astype(int)"
   ]
  },
  {
   "cell_type": "markdown",
   "metadata": {},
   "source": [
    "Reporte finalizado"
   ]
  },
  {
   "cell_type": "code",
   "execution_count": 11,
   "metadata": {},
   "outputs": [],
   "source": [
    "patch2 =  '../input/REPORTE FINALIZADO 05_MARZ_2024.xlsx'"
   ]
  },
  {
   "cell_type": "code",
   "execution_count": 13,
   "metadata": {},
   "outputs": [],
   "source": [
    "# Se importa el archivo xlxs\n",
    "bitacora = pd.read_excel(patch2, sheet_name='Bitacora')\n",
    "cancelaciones = pd.read_excel(patch2, sheet_name='Cancelaciones')\n",
    "reporte = pd.read_excel(patch2, sheet_name='Reporte')\n",
    "# Se eliminan las filas y las columnas vacias\n",
    "bitacora = bitacora.dropna(axis=0, how='all').dropna(axis=1, how='all')\n",
    "cancelaciones = cancelaciones.dropna(axis=0, how='all').dropna(axis=1, how='all')\n",
    "reporte = reporte.dropna(axis=0, how='all').dropna(axis=1, how='all')"
   ]
  },
  {
   "cell_type": "code",
   "execution_count": 17,
   "metadata": {},
   "outputs": [
    {
     "data": {
      "text/plain": [
       "Index(['# Caso MC', 'Tipo novedad', 'Jerarquía', 'Tarea', 'Viaje', 'Parada',\n",
       "       'Operador', 'Línea', 'Vehículo', 'Hora', 'Fecha', 'Descripción',\n",
       "       'Jerarquia', 'Tipo de Novedad', 'Novedad', 'Retoma/Salida',\n",
       "       'Unnamed: 16', 'Unnamed: 17', 'Unnamed: 18'],\n",
       "      dtype='object')"
      ]
     },
     "execution_count": 17,
     "metadata": {},
     "output_type": "execute_result"
    }
   ],
   "source": [
    "bitacora.columns"
   ]
  },
  {
   "cell_type": "markdown",
   "metadata": {},
   "source": []
  },
  {
   "cell_type": "code",
   "execution_count": 24,
   "metadata": {},
   "outputs": [
    {
     "data": {
      "text/plain": [
       "Index([                              'FECHA',\n",
       "                                    'TAREA ',\n",
       "                                    'LINEA ',\n",
       "                                    'CÓDIGO',\n",
       "                                 'VEHÍCULO ',\n",
       "                                  'NOVEDAD ',\n",
       "                           'HORA SALIDA VIA',\n",
       "                           'HORA RETOMA VIA',\n",
       "                                'Pos Salida',\n",
       "                                'Pos retoma',\n",
       "                             'TIEMPO RETOMA',\n",
       "                              'KMS PERDIDOS',\n",
       "                              'ITIINERARIOS',\n",
       "                                    'ESTADO',\n",
       "                            'Caso de salida',\n",
       "                           'Caso de ingreso',\n",
       "                                  '< 1 HORA',\n",
       "                                 'TIPOLOGÍA',\n",
       "                            'TIEMPO RETOMA1',\n",
       "                            'TIEMPO RETOMA2',\n",
       "                               'Unnamed: 24',\n",
       "                                        True,\n",
       "                          'PENDIENTE RETOMA',\n",
       "                                       False,\n",
       "                                 'NO APLICA',\n",
       "                                    07:30:00,\n",
       "                                '07:30:00.1',\n",
       "                                    01:00:00,\n",
       "                               'Unnamed: 32',\n",
       "                               'Unnamed: 33',\n",
       "                               'Unnamed: 34',\n",
       "                               'Unnamed: 35',\n",
       "                  'Total tareas con novedad',\n",
       "       'Tareas operando y/o que han operado',\n",
       "                               'Unnamed: 44'],\n",
       "      dtype='object')"
      ]
     },
     "execution_count": 24,
     "metadata": {},
     "output_type": "execute_result"
    }
   ],
   "source": [
    "cancelaciones.columns"
   ]
  },
  {
   "cell_type": "code",
   "execution_count": 19,
   "metadata": {},
   "outputs": [
    {
     "data": {
      "text/plain": [
       "Index([                              'FECHA',\n",
       "                                    'TAREA ',\n",
       "                                    'LINEA ',\n",
       "                                    'CÓDIGO',\n",
       "                                 'VEHÍCULO ',\n",
       "                                  'NOVEDAD ',\n",
       "                           'HORA SALIDA PCS',\n",
       "                              'HORA RETOMA ',\n",
       "                           'HORA SALIDA VIA',\n",
       "                           'HORA RETOMA VIA',\n",
       "                                'Pos Salida',\n",
       "                                'Pos retoma',\n",
       "                             'TIEMPO RETOMA',\n",
       "                              'KMS PERDIDOS',\n",
       "                              'ITIINERARIOS',\n",
       "                                    'ESTADO',\n",
       "                            'Caso de salida',\n",
       "                           'Caso de ingreso',\n",
       "                                  '< 1 HORA',\n",
       "                                 'TIPOLOGÍA',\n",
       "                            'TIEMPO RETOMA1',\n",
       "                            'TIEMPO RETOMA2',\n",
       "                               'Unnamed: 24',\n",
       "                                        True,\n",
       "                          'PENDIENTE RETOMA',\n",
       "                                       False,\n",
       "                                 'NO APLICA',\n",
       "                                    07:30:00,\n",
       "                                '07:30:00.1',\n",
       "                                    01:00:00,\n",
       "                               'Unnamed: 32',\n",
       "                               'Unnamed: 33',\n",
       "                               'Unnamed: 34',\n",
       "                               'Unnamed: 35',\n",
       "                  'Total tareas con novedad',\n",
       "       'Tareas operando y/o que han operado',\n",
       "                               'Unnamed: 44'],\n",
       "      dtype='object')"
      ]
     },
     "execution_count": 19,
     "metadata": {},
     "output_type": "execute_result"
    }
   ],
   "source": [
    "reporte.columns"
   ]
  },
  {
   "cell_type": "code",
   "execution_count": 25,
   "metadata": {},
   "outputs": [
    {
     "name": "stdout",
     "output_type": "stream",
     "text": [
      "Columnas diferentes en 'cancelaciones': Index([], dtype='object')\n",
      "Columnas diferentes en 'reporte': Index(['HORA RETOMA ', 'HORA SALIDA PCS'], dtype='object')\n"
     ]
    }
   ],
   "source": [
    "diferentes_cancelaciones = cancelaciones.columns.difference(reporte.columns)\n",
    "diferentes_reporte = reporte.columns.difference(cancelaciones.columns)\n",
    "\n",
    "print(\"Columnas diferentes en 'cancelaciones':\", diferentes_cancelaciones)\n",
    "print(\"Columnas diferentes en 'reporte':\", diferentes_reporte)\n"
   ]
  }
 ],
 "metadata": {
  "kernelspec": {
   "display_name": "w-env",
   "language": "python",
   "name": "w-env"
  },
  "language_info": {
   "codemirror_mode": {
    "name": "ipython",
    "version": 3
   },
   "file_extension": ".py",
   "mimetype": "text/x-python",
   "name": "python",
   "nbconvert_exporter": "python",
   "pygments_lexer": "ipython3",
   "version": "3.12.2"
  },
  "orig_nbformat": 4
 },
 "nbformat": 4,
 "nbformat_minor": 2
}
