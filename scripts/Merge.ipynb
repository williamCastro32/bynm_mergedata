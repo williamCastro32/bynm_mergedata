{
 "cells": [
  {
   "attachments": {},
   "cell_type": "markdown",
   "metadata": {},
   "source": [
    "BYNmasivofy2024*"
   ]
  },
  {
   "cell_type": "code",
   "execution_count": 599,
   "metadata": {},
   "outputs": [],
   "source": [
    "# Importa las librerias a usar\n",
    "import pandas as pd\n",
    "import re\n",
    "import numpy as np\n",
    "import funcionesw as bynm\n",
    "import datetime"
   ]
  },
  {
   "cell_type": "markdown",
   "metadata": {},
   "source": [
    "importar arvhivos a procesar"
   ]
  },
  {
   "cell_type": "code",
   "execution_count": 600,
   "metadata": {},
   "outputs": [],
   "source": [
    "# ubicacion de los archivos\n",
    "patch1 = '../input/Kilometros en Servicio MIO - 05-Mar-2024.xlsx'# Se importa el archivo xlxs\n",
    "patch2 =  '../input/REPORTE FINALIZADO 05_MARZ_2024.xlsx'\n",
    "patch3 = '../input/JERARQUIAS.xlsx'"
   ]
  },
  {
   "cell_type": "code",
   "execution_count": 601,
   "metadata": {},
   "outputs": [],
   "source": [
    "# Se importa el archivo xlxs\n",
    "kmsmio = pd.read_excel(patch1, sheet_name='Programacion')\n",
    "repofi = pd.read_excel(patch2, sheet_name='Programacion')\n",
    "bitacora = pd.read_excel(patch2, sheet_name='Bitacora')\n",
    "jerarquias = pd.read_excel(patch3, sheet_name='Hoja1')\n",
    "# Se eliminan las filas y las columnas vacias\n",
    "kmsmio = kmsmio.dropna(axis=0, how='all').dropna(axis=1, how='all')\n",
    "repofi = repofi.dropna(axis=0, how='all').dropna(axis=1, how='all')\n",
    "bitacora = bitacora.dropna(axis=0, how='all').dropna(axis=1, how='all')"
   ]
  },
  {
   "cell_type": "code",
   "execution_count": 602,
   "metadata": {},
   "outputs": [],
   "source": [
    "# Se crea el df de adicionales\n",
    "adi = kmsmio[kmsmio['Kilometros Programados Plan'].isna()]"
   ]
  },
  {
   "cell_type": "markdown",
   "metadata": {},
   "source": [
    "Porcesar K2"
   ]
  },
  {
   "cell_type": "code",
   "execution_count": 603,
   "metadata": {},
   "outputs": [],
   "source": [
    "# Filtra el DF por Kms en Servicio\n",
    "kmsmio = kmsmio[kmsmio['Tipo Kilómetros']== 'Kms en Servicio']\n",
    "kmsmio = kmsmio[kmsmio['Kilometros Programados Plan'].notna()]"
   ]
  },
  {
   "cell_type": "code",
   "execution_count": 604,
   "metadata": {},
   "outputs": [],
   "source": [
    "def extraer_hora_regex(desde):\n",
    "    \"\"\"\n",
    "    Esta funcion trata las columnas desde y hasta para verificar que las fechas esten iguales.\n",
    "    Extrae la hora en formato hh:mm:ss de una cadena utilizando expresiones regulares.\n",
    "\n",
    "    Parameters:\n",
    "    desde (str): Cadena que contiene la hora en formato hh:mm:ss.\n",
    "\n",
    "    Returns:\n",
    "    str or None: La hora extraída en formato hh:mm:ss si se encuentra en la cadena, None si no se encuentra.\n",
    "    \"\"\"\n",
    "    # Expresión regular para encontrar el patrón de hora (hh:mm:ss)\n",
    "    patron_hora = r'(\\d{2}):(\\d{2}):(\\d{2})'\n",
    "    # Buscar el patrón en la cadena\n",
    "    resultado = re.search(patron_hora, str(desde))\n",
    "    # Si se encontró el patrón\n",
    "    if resultado:\n",
    "        # Extraer la hora, minutos y segundos encontrados\n",
    "        hora = int(resultado.group(1))\n",
    "        minutos = int(resultado.group(2))\n",
    "        segundos = int(resultado.group(3))\n",
    "        # Si la hora es 0, cambiarla a 24\n",
    "        if hora == 0:\n",
    "            hora = 24\n",
    "        # Si la hora es 1, cambiarla a 25\n",
    "        elif hora == 1:\n",
    "            hora = 25\n",
    "        # Devolver la hora modificada en formato hh:mm:ss\n",
    "        return f\"{hora:02d}:{minutos:02d}:{segundos:02d}\"\n",
    "    # Si no se encontró el patrón, devolver None\n",
    "    return None\n"
   ]
  },
  {
   "cell_type": "code",
   "execution_count": 605,
   "metadata": {},
   "outputs": [],
   "source": [
    "kmsmio['Desde'] = kmsmio['Desde'].apply(extraer_hora_regex)\n",
    "kmsmio['hasta'] = kmsmio['hasta'].apply(extraer_hora_regex)"
   ]
  },
  {
   "cell_type": "code",
   "execution_count": 606,
   "metadata": {},
   "outputs": [],
   "source": [
    "# Se crea una nueva columna 'id'\n",
    "kmsmio['id'] = kmsmio.apply(lambda row: '-'.join((str(row['Fecha']), str(row['Línea']), str(row['Número de tarea vehículo']), \n",
    "                                                   str(row['Desde']), str(row['hasta']))), axis=1)\n"
   ]
  },
  {
   "cell_type": "code",
   "execution_count": 607,
   "metadata": {},
   "outputs": [
    {
     "data": {
      "text/plain": [
       "(18645, 40)"
      ]
     },
     "execution_count": 607,
     "metadata": {},
     "output_type": "execute_result"
    }
   ],
   "source": [
    "# Se verifica el tamaño del df\n",
    "kmsmio.shape"
   ]
  },
  {
   "cell_type": "code",
   "execution_count": 608,
   "metadata": {},
   "outputs": [
    {
     "data": {
      "text/plain": [
       "id\n",
       "2024-03-05 00:00:00-A14A-1-05:00:00-05:12:10        1\n",
       "2024-03-05 00:00:00-T47B-2-19:21:48-20:01:10        1\n",
       "2024-03-05 00:00:00-A14A-1-05:26:00-05:38:10        1\n",
       "2024-03-05 00:00:00-A14A-1-05:38:55-05:51:15        1\n",
       "2024-03-05 00:00:00-A14A-1-05:52:00-06:04:43        1\n",
       "                                                   ..\n",
       "2024-03-05 00:00:00-A35A-99753-24:03:04-24:14:39    1\n",
       "2024-03-05 00:00:00-A35A-99753-23:03:04-23:14:39    1\n",
       "2024-03-05 00:00:00-A35A-99753-21:33:04-21:44:07    1\n",
       "2024-03-05 00:00:00-A35A-99753-21:30:02-21:30:17    1\n",
       "2024-03-05 00:00:00-A35A-99753-24:16:10-24:29:23    1\n",
       "Name: count, Length: 18645, dtype: int64"
      ]
     },
     "execution_count": 608,
     "metadata": {},
     "output_type": "execute_result"
    }
   ],
   "source": [
    "# Se verifica que la columna id no tenga id repetidos\n",
    "kmsmio['id'].value_counts().sort_values(ascending=False)"
   ]
  },
  {
   "cell_type": "markdown",
   "metadata": {},
   "source": [
    "Procesar reporte finalizado"
   ]
  },
  {
   "cell_type": "code",
   "execution_count": 609,
   "metadata": {},
   "outputs": [],
   "source": [
    "repofi['desde'] = repofi['desde'].apply(extraer_hora_regex)\n",
    "repofi['hasta'] = repofi['hasta'].apply(extraer_hora_regex)"
   ]
  },
  {
   "cell_type": "code",
   "execution_count": 610,
   "metadata": {},
   "outputs": [],
   "source": [
    "# Filtra el DF por Kms en Servicio\n",
    "repofi = repofi[repofi['Tipo de kilometros']== 'Kms en Servicio']\n",
    "# Se crea una nueva columna 'id'\n",
    "repofi['id'] = repofi.apply(lambda row: '-'.join((str(row['Fecha']), str(row['Línea']), str(row['Número de tarea vehículo']), \n",
    "                                                   str(row['desde']), str(row['hasta']))), axis=1)\n",
    "\n"
   ]
  },
  {
   "cell_type": "code",
   "execution_count": 611,
   "metadata": {},
   "outputs": [
    {
     "data": {
      "text/plain": [
       "id\n",
       "2024-03-05 00:00:00-A14A-1-05:00:00-05:12:10        1\n",
       "2024-03-05 00:00:00-T47B-2-19:21:48-20:01:10        1\n",
       "2024-03-05 00:00:00-A14A-1-05:26:00-05:38:10        1\n",
       "2024-03-05 00:00:00-A14A-1-05:38:55-05:51:15        1\n",
       "2024-03-05 00:00:00-A14A-1-05:52:00-06:04:43        1\n",
       "                                                   ..\n",
       "2024-03-05 00:00:00-A35A-99753-24:03:04-24:14:39    1\n",
       "2024-03-05 00:00:00-A35A-99753-23:03:04-23:14:39    1\n",
       "2024-03-05 00:00:00-A35A-99753-21:33:04-21:44:07    1\n",
       "2024-03-05 00:00:00-A35A-99753-21:30:02-21:30:17    1\n",
       "2024-03-05 00:00:00-A35A-99753-24:16:10-24:29:23    1\n",
       "Name: count, Length: 18645, dtype: int64"
      ]
     },
     "execution_count": 611,
     "metadata": {},
     "output_type": "execute_result"
    }
   ],
   "source": [
    "# Se verifica que el id no tenga datos repetidos\n",
    "repofi['id'].value_counts().sort_values(ascending=False)"
   ]
  },
  {
   "cell_type": "code",
   "execution_count": 612,
   "metadata": {},
   "outputs": [
    {
     "data": {
      "text/plain": [
       "(18645, 32)"
      ]
     },
     "execution_count": 612,
     "metadata": {},
     "output_type": "execute_result"
    }
   ],
   "source": [
    "# Se verifica el tamaño del df\n",
    "repofi.shape"
   ]
  },
  {
   "cell_type": "code",
   "execution_count": 613,
   "metadata": {},
   "outputs": [],
   "source": [
    "reporf = repofi[['id', 'Largo', 'Número de secuencia de carro', 'Secuencia de arcos', 'Concesionario de Transporte']]"
   ]
  },
  {
   "cell_type": "markdown",
   "metadata": {},
   "source": [
    "Se realiza el respectivo Merge con los dos df"
   ]
  },
  {
   "cell_type": "code",
   "execution_count": 614,
   "metadata": {},
   "outputs": [],
   "source": [
    "# Se realiza el merge con outer en la columna id\n",
    "merge = pd.merge(kmsmio, repofi, on='id', how='outer')"
   ]
  },
  {
   "cell_type": "code",
   "execution_count": 615,
   "metadata": {},
   "outputs": [
    {
     "data": {
      "text/html": [
       "<div>\n",
       "<style scoped>\n",
       "    .dataframe tbody tr th:only-of-type {\n",
       "        vertical-align: middle;\n",
       "    }\n",
       "\n",
       "    .dataframe tbody tr th {\n",
       "        vertical-align: top;\n",
       "    }\n",
       "\n",
       "    .dataframe thead th {\n",
       "        text-align: right;\n",
       "    }\n",
       "</style>\n",
       "<table border=\"1\" class=\"dataframe\">\n",
       "  <thead>\n",
       "    <tr style=\"text-align: right;\">\n",
       "      <th></th>\n",
       "      <th>Fecha_x</th>\n",
       "      <th>Día tipo_x</th>\n",
       "      <th>Designación de tarea vehículo_x</th>\n",
       "      <th>Línea_x</th>\n",
       "      <th>Tipo de viaje corto_x</th>\n",
       "      <th>Sentido_x</th>\n",
       "      <th>Tipo Kilómetros</th>\n",
       "      <th>Número de Vehículo</th>\n",
       "      <th>Concesionario de Transporte_x</th>\n",
       "      <th>Número de tarea vehículo_x</th>\n",
       "      <th>...</th>\n",
       "      <th>Tipo de vehículo del viaje.1</th>\n",
       "      <th>Incumplidos_y</th>\n",
       "      <th>Nro de caso</th>\n",
       "      <th>Tipo</th>\n",
       "      <th>Lugar</th>\n",
       "      <th>Jerarquia</th>\n",
       "      <th>Vehículo</th>\n",
       "      <th>Kms Planeados</th>\n",
       "      <th>Kms Perdidos</th>\n",
       "      <th>Kms cancelados</th>\n",
       "    </tr>\n",
       "  </thead>\n",
       "  <tbody>\n",
       "  </tbody>\n",
       "</table>\n",
       "<p>0 rows × 71 columns</p>\n",
       "</div>"
      ],
      "text/plain": [
       "Empty DataFrame\n",
       "Columns: [Fecha_x, Día tipo_x, Designación de tarea vehículo_x, Línea_x, Tipo de viaje corto_x, Sentido_x, Tipo Kilómetros, Número de Vehículo, Concesionario de Transporte_x, Número de tarea vehículo_x, Desde, hasta_x, Duración_x, Punto de inicio_x, Punto de término_x, Largo_x, Número de viaje_x, Tipo de vehículo del viaje_x, Secuencia de arcos_x, Descripción Novedad_x, Concesionario Programado, Tipo de vehículo Programado, Incumplidos_x, Kilometros Programados-Desvios, Kilometros Programados Plan, Clase de viaje, a evaluar, TAREA, LINEA, VIAJE, VEHICULO SGCO, Kms en Servicio (MTS PLANEADOS), PARADAS PLANEADAS, PARADAS REALIZADAS SGCO, % PARADAS REALIZADAS SGCO, Kms en Servicio (MTS SGCO), FUENTE SGCO, HORA REAL SALIDA, HORA REAL LLEGADA, id, Fecha_y, Día tipo_y, Designación de tarea vehículo_y, Línea_y, Tipo de viaje corto_y, Sentido_y, Tipo de kilometros, Número de secuencia de carro, Concesionario de Transporte_y, Número de tarea vehículo_y, desde, hasta_y, Duración_y, Punto de inicio_y, Punto de término_y, Largo_y, Número de viaje_y, Tipo de vehículo del viaje_y, Secuencia de arcos_y, Descripción Novedad_y, Subcontratista, Tipo de vehículo del viaje.1, Incumplidos_y, Nro de caso, Tipo, Lugar, Jerarquia, Vehículo, Kms Planeados, Kms Perdidos, Kms cancelados]\n",
       "Index: []\n",
       "\n",
       "[0 rows x 71 columns]"
      ]
     },
     "execution_count": 615,
     "metadata": {},
     "output_type": "execute_result"
    }
   ],
   "source": [
    "merge[merge.duplicated(subset='id')]"
   ]
  },
  {
   "cell_type": "code",
   "execution_count": 616,
   "metadata": {},
   "outputs": [
    {
     "data": {
      "text/plain": [
       "True"
      ]
     },
     "execution_count": 616,
     "metadata": {},
     "output_type": "execute_result"
    }
   ],
   "source": [
    "# Se verifica que el numero de filas en los df sea igual (True), para poder concluir que el merge fue exitoso\n",
    "merge.shape[0] == kmsmio.shape[0] == repofi.shape[0]"
   ]
  },
  {
   "cell_type": "markdown",
   "metadata": {},
   "source": [
    "Calificaciones de jerarquias en Bitacora"
   ]
  },
  {
   "cell_type": "code",
   "execution_count": 617,
   "metadata": {},
   "outputs": [],
   "source": [
    "# Selecciona las columnas a usar\n",
    "jerarquias = jerarquias[['JERARQUIA HGI RECO2',\t'CALIFICACION']]"
   ]
  },
  {
   "cell_type": "code",
   "execution_count": 618,
   "metadata": {},
   "outputs": [],
   "source": [
    "# Esto elimina los espacios en blanco adelante y atras\n",
    "jerarquias['JERARQUIA HGI RECO2'] = jerarquias['JERARQUIA HGI RECO2'].str.strip()"
   ]
  },
  {
   "cell_type": "code",
   "execution_count": 619,
   "metadata": {},
   "outputs": [],
   "source": [
    "#combina los el df de bitacora con el de jerarquias\n",
    "bitacora = pd.merge(bitacora, jerarquias, left_on='Jerarquía', right_on='JERARQUIA HGI RECO2', how='left' )"
   ]
  },
  {
   "cell_type": "code",
   "execution_count": 620,
   "metadata": {},
   "outputs": [
    {
     "data": {
      "text/plain": [
       "Series([], Name: count, dtype: int64)"
      ]
     },
     "execution_count": 620,
     "metadata": {},
     "output_type": "execute_result"
    }
   ],
   "source": [
    "# Esta linea es para verificar las filas que no se cruzaron por jerarquia y agregarlas a la matriz fe jererquia en input\n",
    "x = bitacora[(bitacora['Jerarquía'].str.startswith('Salida'))& bitacora['CALIFICACION'].isnull()]\n",
    "x['Jerarquía'].value_counts()"
   ]
  },
  {
   "cell_type": "code",
   "execution_count": 621,
   "metadata": {},
   "outputs": [],
   "source": [
    "# Este codigo elimina los duplicado de la columna calificaciones eliminando el que no afecta a kilometros\n",
    "\n",
    "# Convertir la columna 'CALIFICACION' a numérica para poder comparar y encontrar el máximo\n",
    "bitacora['CALIFICACION'] = pd.to_numeric(bitacora['CALIFICACION'], errors='coerce')\n",
    "\n",
    "# Agrupar por las columnas 'Viaje' y 'Tarea', y mantener el valor máximo de 'CALIFICACION'\n",
    "bitacora_grouped = bitacora.groupby(['Viaje', 'Tarea']).agg({'CALIFICACION': 'max'}).reset_index()\n",
    "\n",
    "# Identificar las filas duplicadas en la tabla original\n",
    "duplicados = bitacora[bitacora.duplicated(subset=['Viaje', 'Tarea'], keep=False)]\n",
    "\n",
    "# Mantener solo una fila para cada grupo de duplicados en 'Viaje' y 'Tarea'\n",
    "bitacora_sin_duplicados = bitacora.drop_duplicates(subset=['Viaje', 'Tarea'])\n",
    "\n",
    "# Fusionar los datos filtrados con los valores máximos de 'CALIFICACION'\n",
    "bitacora_final = pd.merge(bitacora_sin_duplicados, bitacora_grouped, on=['Viaje', 'Tarea'])\n",
    "\n",
    "# Eliminar cualquiera de las filas duplicadas si ambas tienen valores nulos en 'CALIFICACION'\n",
    "bitacora = bitacora_final.drop_duplicates(subset=['Viaje', 'Tarea'], keep='last', ignore_index=True)\n",
    "    "
   ]
  },
  {
   "cell_type": "code",
   "execution_count": 622,
   "metadata": {},
   "outputs": [
    {
     "data": {
      "text/html": [
       "<div>\n",
       "<style scoped>\n",
       "    .dataframe tbody tr th:only-of-type {\n",
       "        vertical-align: middle;\n",
       "    }\n",
       "\n",
       "    .dataframe tbody tr th {\n",
       "        vertical-align: top;\n",
       "    }\n",
       "\n",
       "    .dataframe thead th {\n",
       "        text-align: right;\n",
       "    }\n",
       "</style>\n",
       "<table border=\"1\" class=\"dataframe\">\n",
       "  <thead>\n",
       "    <tr style=\"text-align: right;\">\n",
       "      <th></th>\n",
       "      <th># Caso MC</th>\n",
       "      <th>Tipo novedad</th>\n",
       "      <th>Jerarquía</th>\n",
       "      <th>Tarea</th>\n",
       "      <th>Viaje</th>\n",
       "      <th>Parada</th>\n",
       "      <th>Operador</th>\n",
       "      <th>Línea</th>\n",
       "      <th>Vehículo</th>\n",
       "      <th>Hora</th>\n",
       "      <th>...</th>\n",
       "      <th>Jerarquia</th>\n",
       "      <th>Tipo de Novedad</th>\n",
       "      <th>Novedad</th>\n",
       "      <th>Retoma/Salida</th>\n",
       "      <th>Unnamed: 16</th>\n",
       "      <th>Unnamed: 17</th>\n",
       "      <th>Unnamed: 18</th>\n",
       "      <th>JERARQUIA HGI RECO2</th>\n",
       "      <th>CALIFICACION_x</th>\n",
       "      <th>CALIFICACION_y</th>\n",
       "    </tr>\n",
       "  </thead>\n",
       "  <tbody>\n",
       "  </tbody>\n",
       "</table>\n",
       "<p>0 rows × 22 columns</p>\n",
       "</div>"
      ],
      "text/plain": [
       "Empty DataFrame\n",
       "Columns: [# Caso MC, Tipo novedad, Jerarquía, Tarea, Viaje, Parada, Operador, Línea, Vehículo, Hora, Fecha, Descripción, Jerarquia, Tipo de Novedad, Novedad, Retoma/Salida, Unnamed: 16, Unnamed: 17, Unnamed: 18, JERARQUIA HGI RECO2, CALIFICACION_x, CALIFICACION_y]\n",
       "Index: []\n",
       "\n",
       "[0 rows x 22 columns]"
      ]
     },
     "execution_count": 622,
     "metadata": {},
     "output_type": "execute_result"
    }
   ],
   "source": [
    "# Se verifica que no hay duplicados\n",
    "bitacora[bitacora.duplicated(subset=['Viaje', 'Tarea'], keep=False)]"
   ]
  },
  {
   "cell_type": "code",
   "execution_count": 623,
   "metadata": {},
   "outputs": [],
   "source": [
    "# Se elimina la columna CALIFICACION_X y se renombra la columna CALIFICACION_Y\n",
    "bitacora.drop(columns='CALIFICACION_x', axis=1, inplace=True)\n",
    "bitacora.rename(columns={'CALIFICACION_y': 'CALIFICACION'}, inplace=True)\n"
   ]
  },
  {
   "cell_type": "markdown",
   "metadata": {},
   "source": [
    "Merge con bitacora\n"
   ]
  },
  {
   "cell_type": "code",
   "execution_count": 624,
   "metadata": {},
   "outputs": [],
   "source": [
    "# Se reemplan las filas nulas por ceros de las dos columnas para posteriormente carbiar el tipo de dato\n",
    "bitacora[['Tarea', 'Viaje']] = bitacora[['Tarea', 'Viaje']].fillna(0).astype(int)"
   ]
  },
  {
   "cell_type": "code",
   "execution_count": 625,
   "metadata": {},
   "outputs": [],
   "source": [
    "# Se selecionan las columnas de Bitacora que se van a usar\n",
    "bitacora = bitacora[['Jerarquía',\t'Tarea',\t'Viaje', 'Parada', 'Vehículo', 'Novedad', 'CALIFICACION']]\n",
    "# Se filtran los casos que no tiene numero de viaje ya que no tiene retoma\n",
    "bitacora = bitacora[bitacora['Viaje'] != 0]"
   ]
  },
  {
   "cell_type": "code",
   "execution_count": 626,
   "metadata": {},
   "outputs": [
    {
     "data": {
      "text/plain": [
       "True"
      ]
     },
     "execution_count": 626,
     "metadata": {},
     "output_type": "execute_result"
    }
   ],
   "source": [
    "# Se compara las filas de los df, el resultado debe ser False\n",
    "bitacora.shape[0]==bitacora.shape[0]"
   ]
  },
  {
   "cell_type": "code",
   "execution_count": 627,
   "metadata": {},
   "outputs": [],
   "source": [
    "# Se agrega al merge anterior la informacion de bitacora\n",
    "# Importante tener en cuenta los vehiculos que tengan mas de un caso en la bitacora, esto genera id duplicados.\n",
    "mergebitacora = pd.merge(merge, bitacora, left_on=['Número de tarea vehículo_x', 'Número de viaje_x'], right_on=['Tarea', 'Viaje'], how='outer' )"
   ]
  },
  {
   "cell_type": "code",
   "execution_count": 628,
   "metadata": {},
   "outputs": [
    {
     "data": {
      "text/plain": [
       "0"
      ]
     },
     "execution_count": 628,
     "metadata": {},
     "output_type": "execute_result"
    }
   ],
   "source": [
    "# Revisar este resultado, ya que los valores que no coinceden deben ser iguales en el filtro\n",
    "mergebitacora.shape[0]- merge.shape[0]"
   ]
  },
  {
   "cell_type": "code",
   "execution_count": 629,
   "metadata": {},
   "outputs": [],
   "source": [
    "# Cambia Blanco y Negro Masivo por BYN en la columna Concesionario Programado\n",
    "mergebitacora['Concesionario Programado'] = mergebitacora['Concesionario Programado'].replace('Blanco y Negro Masivo','BYN')"
   ]
  },
  {
   "cell_type": "markdown",
   "metadata": {},
   "source": [
    "Revisar de numero de vehiculos para posteriormente verificar el incumplimiento"
   ]
  },
  {
   "cell_type": "code",
   "execution_count": 630,
   "metadata": {},
   "outputs": [],
   "source": [
    "def vehiculos_xy_texto(row):\n",
    "    \"\"\"\n",
    "    Asigna un texto descriptivo según las condiciones especificadas sobre los números de vehículo y secuencia de carro.\n",
    "\n",
    "    Parámetros:\n",
    "    row (pandas.Series): Una fila del DataFrame que contiene los datos de la bitácora.\n",
    "\n",
    "    Retorna:\n",
    "    str: Un texto descriptivo que indica el resultado de las comparaciones entre los números de vehículo y secuencia de carro.\n",
    "\n",
    "    Detalles de la lógica:\n",
    "    - Si el número de vehículo es nulo y el número de secuencia de carro no lo es, devuelve 'Revisar caso'.\n",
    "    - Si el número de vehículo no es nulo y el número de secuencia de carro sí lo es, devuelve 'Se reemplaza por el del k2 por nan'.\n",
    "    - Si el número de vehículo es diferente del número de secuencia de carro, devuelve 'Se reemplaza por el del k2 # diferente'.\n",
    "    - En cualquier otro caso, devuelve 'Numero ok'.\n",
    "    \"\"\"\n",
    "    if pd.isna(row['Número de Vehículo']) and pd.notna(row['Número de secuencia de carro']): \n",
    "        return 'Revisar caso # vehiculo'\n",
    "    elif pd.notna(row['Número de Vehículo']) and pd.isna(row['Número de secuencia de carro']):\n",
    "        return 'Se reemplaza por el del k2 por nan'\n",
    "    elif row['Número de Vehículo'] != row['Número de secuencia de carro']:\n",
    "        return 'Se reemplaza por el del k2 # diferente'\n",
    "    else: \n",
    "        return 'Numero ok'"
   ]
  },
  {
   "cell_type": "code",
   "execution_count": 631,
   "metadata": {},
   "outputs": [],
   "source": [
    "# Se crea una nueva columna donde se pondra los cambios que realizara la funcion\n",
    "mergebitacora['texto_cmb_vehi'] = np.nan\n",
    "# Se aplica la funcion al df\n",
    "mergebitacora['texto_cmb_vehi'] = mergebitacora.apply(vehiculos_xy_texto, axis=1)"
   ]
  },
  {
   "cell_type": "code",
   "execution_count": 632,
   "metadata": {},
   "outputs": [
    {
     "data": {
      "text/plain": [
       "texto_cmb_vehi\n",
       "Se reemplaza por el del k2 por nan        9496\n",
       "Numero ok                                 6445\n",
       "Se reemplaza por el del k2 # diferente    2548\n",
       "Revisar caso # vehiculo                    156\n",
       "Name: count, dtype: int64"
      ]
     },
     "execution_count": 632,
     "metadata": {},
     "output_type": "execute_result"
    }
   ],
   "source": [
    "# Se verifica \n",
    "mergebitacora['texto_cmb_vehi'].value_counts()"
   ]
  },
  {
   "cell_type": "code",
   "execution_count": 633,
   "metadata": {},
   "outputs": [],
   "source": [
    "def vehiculo_xy(row):\n",
    "    \"\"\"\n",
    "    Retorna el valor adecuado para el número de vehículo según las condiciones especificadas respecto al número de secuencia de carro.\n",
    "\n",
    "    Parámetros:\n",
    "    row (pandas.Series): Una fila del DataFrame que contiene los datos de la bitácora.\n",
    "\n",
    "    Retorna:\n",
    "    int or float or np.nan: El valor del número de vehículo seleccionado según las condiciones.\n",
    "\n",
    "    Detalles de la lógica:\n",
    "    - Si el número de vehículo es nulo y el número de secuencia de carro no lo es, devuelve el número de secuencia de carro.\n",
    "    - Si el número de vehículo no es nulo y el número de secuencia de carro sí lo es, devuelve el número de vehículo.\n",
    "    - Si el número de vehículo es diferente del número de secuencia de carro, devuelve el número de vehículo.\n",
    "    - En cualquier otro caso, devuelve el mismo valor de número de secuencia de carro.\n",
    "    \"\"\"\n",
    "    if pd.isna(row['Número de Vehículo']) and pd.notna(row['Número de secuencia de carro']): \n",
    "        return row['Número de secuencia de carro']\n",
    "    elif pd.notna(row['Número de Vehículo']) and pd.isna(row['Número de secuencia de carro']):\n",
    "        return row['Número de Vehículo']\n",
    "    elif row['Número de Vehículo'] != row['Número de secuencia de carro']:\n",
    "        return row['Número de Vehículo']\n",
    "    else:\n",
    "        return row['Número de secuencia de carro']"
   ]
  },
  {
   "cell_type": "code",
   "execution_count": 634,
   "metadata": {},
   "outputs": [],
   "source": [
    "# Se aplica la funcion vehiculo_xy\n",
    "mergebitacora['Número de secuencia de carro'] = mergebitacora.apply(vehiculo_xy, axis=1)"
   ]
  },
  {
   "cell_type": "markdown",
   "metadata": {},
   "source": [
    "ok"
   ]
  },
  {
   "cell_type": "markdown",
   "metadata": {},
   "source": [
    "Revision de casos amarillos y rosa"
   ]
  },
  {
   "cell_type": "code",
   "execution_count": 635,
   "metadata": {},
   "outputs": [],
   "source": [
    "# Seleccion de casos Amarillos\n",
    "amarillos = ['INGRESO::RETOMA','SALIDAS::POR FLOTA','SALIDAS::POR ACCIDENTE','SALIDAS::POR ABANDONO DE TAREA','INGRESO::ADICIONAL',\n",
    "            'SALIDAS::POR VANDALISMO','SALIDAS::POR ALARMA','CANCELACION::DE ADICIONAL','SALIDAS::POR OPERADOR'\n",
    "            ]\n",
    "\n"
   ]
  },
  {
   "cell_type": "code",
   "execution_count": 636,
   "metadata": {},
   "outputs": [],
   "source": [
    "# Esta funcion marcara en una columna los cambios que se hagan a la columna Largo_y\n",
    "def rev_amarillos_rosa_text(row):\n",
    "    \"\"\"\n",
    "    Esta función se aplica a cada fila del DataFrame para evaluar si se cumplen ciertas condiciones\n",
    "    basadas en las columnas 'Número de Vehículo', 'Descripción Novedad_x' y 'PARADAS PLANEADAS'.\n",
    "    Según las condiciones cumplidas, devuelve un texto descriptivo correspondiente.\n",
    "\n",
    "    Parámetros:\n",
    "    row (pandas.Series): Una fila del DataFrame que contiene los datos de la bitácora.\n",
    "\n",
    "    Retorna:\n",
    "    str: Un texto descriptivo basado en las condiciones especificadas.\n",
    "\n",
    "    Detalles de la lógica:\n",
    "    - Si 'Número de Vehículo' no es NaN y 'Descripción Novedad_x' no es NaN, se evalúan las condiciones.\n",
    "    - Si 'Descripción Novedad_x' contiene al menos uno de los elementos de la lista 'amarillos',\n",
    "      se procede a realizar búsquedas específicas en 'Descripción Novedad_x'.\n",
    "    - Se utilizan expresiones regulares para buscar patrones relacionados con 'INGRESO', 'SALIDAS' y 'CANCELACION'\n",
    "      seguidos del número de parada en 'Descripción Novedad_x'.\n",
    "    - Dependiendo de los resultados de las búsquedas y de los valores en 'PARADAS PLANEADAS', se devuelve un texto\n",
    "      descriptivo que indica cómo se debe manejar el valor de 'Largo' en esa fila.\n",
    "\n",
    "    \"\"\"\n",
    "    if pd.notna(row['Número de Vehículo']):\n",
    "        if pd.notna(row['Descripción Novedad_x']): \n",
    "            # Casos rosa\n",
    "            if isinstance(row['Descripción Novedad_x'], str) and 'Nro. Caso Desvio:' in row['Descripción Novedad_x']:\n",
    "                    if row['Largo_y'] == row['Kilometros Programados Plan']:\n",
    "                        return 'Se cambia Largo por el k2_if_8'\n",
    "                    elif row['Largo_y'] != row['Kilometros Programados Plan']:\n",
    "                        if row['Largo_y'] != row['Kilometros Programados-Desvios']:\n",
    "                            if row['Largo_y'] < row['Largo_x']:\n",
    "                                return 'Se cambia Largo por el k2__9'\n",
    "                        else:\n",
    "                            'Se mantiene largo_if_10'\n",
    "            # Casos Amarillos                \n",
    "            elif isinstance(amarillos, list) and any(isinstance(amarillo, str) and amarillo in row['Descripción Novedad_x'] for amarillo in amarillos):\n",
    "                ingreso_match = re.search(r'INGRESO.*?Nro\\. Parada:\\s*(\\d{1,3})', row['Descripción Novedad_x'])\n",
    "                salida_match = re.search(r'SALIDAS.*?Nro\\. Parada:\\s*(\\d{1,3})', row['Descripción Novedad_x'])\n",
    "                cancelacion_match = re.search(r'CANCELACION.*?Nro\\. Parada:\\s*(\\d{1,3})', row['Descripción Novedad_x'])       \n",
    "                if ingreso_match and int(ingreso_match.group(1)) == 1 and int(row['PARADAS PLANEADAS']) != 1:\n",
    "                    return 'Se cambia Largo por el k2_if1'\n",
    "                elif ingreso_match and int(ingreso_match.group(1)) != 1:\n",
    "                    return 'Se cambia Largo por el k2_if2'\n",
    "                elif salida_match and int(salida_match.group(1)) != int(row['PARADAS PLANEADAS']):\n",
    "                    return 'Se cambia Largo por el k2_if3'\n",
    "                elif salida_match and int(salida_match.group(1)) == int(row['PARADAS PLANEADAS']):\n",
    "                    return 'Se mantiene largo_if4'\n",
    "                elif cancelacion_match and int(cancelacion_match.group(1)) != int(row['PARADAS PLANEADAS']):\n",
    "                    return 'Se cambia Largo por el k2_if5'\n",
    "                elif cancelacion_match and int(cancelacion_match.group(1)) == int(row['PARADAS PLANEADAS']):\n",
    "                    return 'Se mantiene largo_if_6'\n",
    "                else:\n",
    "                    return 'Se mantiene largo_if7'                       \n",
    "            else:\n",
    "                return 'Se mantiene largo_if_11'\n",
    "        else:\n",
    "            return 'Se mantiene largo_if_12' \n",
    "    else:\n",
    "        return 'Se mantiene largo_if_13' # Se agrega un caso adicional si el 'Número de Vehículo' es NaN\n"
   ]
  },
  {
   "cell_type": "code",
   "execution_count": 637,
   "metadata": {},
   "outputs": [],
   "source": [
    "mergebitacora['texto_colores'] = np.nan"
   ]
  },
  {
   "cell_type": "code",
   "execution_count": 638,
   "metadata": {},
   "outputs": [],
   "source": [
    "mergebitacora['texto_colores'] = mergebitacora.apply(rev_amarillos_rosa_text, axis=1)"
   ]
  },
  {
   "cell_type": "code",
   "execution_count": 639,
   "metadata": {},
   "outputs": [
    {
     "data": {
      "text/plain": [
       "texto_colores\n",
       "Se mantiene largo_if_12           14954\n",
       "Se mantiene largo_if_13            2506\n",
       "Se cambia Largo por el k2_if_8      418\n",
       "Se mantiene largo_if4               311\n",
       "Se cambia Largo por el k2_if1       189\n",
       "Se cambia Largo por el k2_if2       166\n",
       "Se cambia Largo por el k2_if3        63\n",
       "Se mantiene largo_if_11              30\n",
       "Se mantiene largo_if_6                6\n",
       "Se cambia Largo por el k2__9          1\n",
       "Se cambia Largo por el k2_if5         1\n",
       "Name: count, dtype: int64"
      ]
     },
     "execution_count": 639,
     "metadata": {},
     "output_type": "execute_result"
    }
   ],
   "source": [
    "mergebitacora['texto_colores'].value_counts()"
   ]
  },
  {
   "cell_type": "markdown",
   "metadata": {},
   "source": [
    "colocar amarillos y rosas en una misma funcion para simplificar codigo"
   ]
  },
  {
   "cell_type": "code",
   "execution_count": 640,
   "metadata": {},
   "outputs": [],
   "source": [
    "# Esta funcion marcara en una columna los cambios que se hagan a la columna Largo_y\n",
    "def rev_amarillos_rosa(row):\n",
    "    \"\"\"\n",
    "    Aplica lógica condicional para marcar los cambios realizados en la columna 'Largo_y' en función de las características de la fila.\n",
    "\n",
    "    Parámetros:\n",
    "    row (pandas.Series): Una fila del DataFrame que contiene los datos de la bitácora.\n",
    "\n",
    "    Retorna:\n",
    "    int or float: El valor de 'Largo_y' después de aplicar las modificaciones, o el mismo valor si no se realizan cambios.\n",
    "\n",
    "    Detalles de la lógica:\n",
    "    - Verifica si el 'Número de Vehículo' no es NaN.\n",
    "    - Verifica si la 'Descripción Novedad_x' no es NaN.\n",
    "    - Si la 'Descripción Novedad_x' contiene 'Nro. Caso Desvio:', aplica la lógica específica para estos casos:\n",
    "      - Si 'Largo_y' es igual a 'Kilometros Programados Plan', devuelve 'Kilometros Programados-Desvios'.\n",
    "      - Si 'Largo_y' es diferente a 'Kilometros Programados Plan', pero igual a 'Kilometros Programados-Desvios', devuelve 'Largo_y'.\n",
    "      - Si 'Largo_y' es menor que 'Largo_x', devuelve 'Largo_x', de lo contrario, devuelve 'Largo_y'.\n",
    "    - Si la 'Descripción Novedad_x' contiene alguna de las cadenas definidas en la lista 'amarillos', aplica la lógica específica para estos casos:\n",
    "      - Basado en patrones de expresiones regulares, determina si se deben realizar cambios en 'Largo_y'.\n",
    "      - Si se cumplen las condiciones anteriores, devuelve 'Largo_x' o 'Largo_y' según corresponda.\n",
    "    - Si ninguna de las condiciones anteriores se cumple, devuelve el valor actual de 'Largo_y'.\n",
    "\n",
    "    Casos Especiales:\n",
    "    - Si el 'Número de Vehículo' es NaN, devuelve el valor actual de 'Largo_y'.\n",
    "    \"\"\"\n",
    "    # Lógica condicional para marcar los cambios en 'Largo_y' según las características de la fila\n",
    "      \n",
    "    if pd.notna(row['Número de Vehículo']):\n",
    "        if pd.notna(row['Descripción Novedad_x']): \n",
    "            # Casos rosa\n",
    "            if isinstance(row['Descripción Novedad_x'], str) and 'Nro. Caso Desvio:' in row['Descripción Novedad_x']:\n",
    "                    if row['Largo_y'] == row['Kilometros Programados Plan']:\n",
    "                        return row['Kilometros Programados-Desvios']\n",
    "                    elif row['Largo_y'] != row['Kilometros Programados Plan']:\n",
    "                        if row['Largo_y'] != row['Kilometros Programados-Desvios']:\n",
    "                            if row['Largo_y'] < row['Largo_x']:\n",
    "                                return row['Largo_x']\n",
    "                            else:\n",
    "                                row['Largo_y']\n",
    "                        else:\n",
    "                            row['Largo_y']\n",
    "                    else:\n",
    "                        row['Largo_y']\n",
    "            # Casos Amarillos                \n",
    "            elif isinstance(amarillos, list) and any(isinstance(amarillo, str) and amarillo in row['Descripción Novedad_x'] for amarillo in amarillos):\n",
    "                ingreso_match = re.search(r'INGRESO.*?Nro\\. Parada:\\s*(\\d{1,3})', row['Descripción Novedad_x'])\n",
    "                salida_match = re.search(r'SALIDAS.*?Nro\\. Parada:\\s*(\\d{1,3})', row['Descripción Novedad_x'])\n",
    "                cancelacion_match = re.search(r'CANCELACION.*?Nro\\. Parada:\\s*(\\d{1,3})', row['Descripción Novedad_x'])       \n",
    "                if ingreso_match and int(ingreso_match.group(1)) == 1 and int(row['PARADAS PLANEADAS']) != 1:\n",
    "                    return row['Largo_x']\n",
    "                elif ingreso_match and int(ingreso_match.group(1)) != 1:\n",
    "                    return row['Largo_x']\n",
    "                elif salida_match and int(salida_match.group(1)) != int(row['PARADAS PLANEADAS']):\n",
    "                    return row['Largo_x']\n",
    "                elif salida_match and int(salida_match.group(1)) == int(row['PARADAS PLANEADAS']):\n",
    "                    return  row['Largo_y']\n",
    "                elif cancelacion_match and int(cancelacion_match.group(1)) != int(row['PARADAS PLANEADAS']):\n",
    "                    return row['Largo_x']\n",
    "                elif cancelacion_match and int(cancelacion_match.group(1)) == int(row['PARADAS PLANEADAS']):\n",
    "                    return  row['Largo_y']\n",
    "                else:\n",
    "                    return  row['Largo_y']                       \n",
    "            else:\n",
    "                row['Largo_y']\n",
    "        else:\n",
    "            row['Largo_y'] \n",
    "    else:\n",
    "        return row['Largo_y'] # Se agrega un caso adicional si el 'Número de Vehículo' es Na"
   ]
  },
  {
   "cell_type": "code",
   "execution_count": 641,
   "metadata": {},
   "outputs": [],
   "source": [
    "mergebitacora['Largo_y'] = mergebitacora.apply(rev_amarillos_rosa, axis=1)"
   ]
  },
  {
   "cell_type": "markdown",
   "metadata": {},
   "source": [
    "Casos verdes"
   ]
  },
  {
   "cell_type": "markdown",
   "metadata": {},
   "source": [
    "comparar caso 53011"
   ]
  },
  {
   "cell_type": "code",
   "execution_count": 642,
   "metadata": {},
   "outputs": [
    {
     "data": {
      "text/plain": [
       "(18645, 80)"
      ]
     },
     "execution_count": 642,
     "metadata": {},
     "output_type": "execute_result"
    }
   ],
   "source": [
    "mergebitacora.shape"
   ]
  },
  {
   "cell_type": "code",
   "execution_count": 655,
   "metadata": {},
   "outputs": [
    {
     "data": {
      "text/html": [
       "<div>\n",
       "<style scoped>\n",
       "    .dataframe tbody tr th:only-of-type {\n",
       "        vertical-align: middle;\n",
       "    }\n",
       "\n",
       "    .dataframe tbody tr th {\n",
       "        vertical-align: top;\n",
       "    }\n",
       "\n",
       "    .dataframe thead th {\n",
       "        text-align: right;\n",
       "    }\n",
       "</style>\n",
       "<table border=\"1\" class=\"dataframe\">\n",
       "  <thead>\n",
       "    <tr style=\"text-align: right;\">\n",
       "      <th></th>\n",
       "      <th>Número de Vehículo</th>\n",
       "      <th>desde</th>\n",
       "      <th>hasta_y</th>\n",
       "    </tr>\n",
       "  </thead>\n",
       "  <tbody>\n",
       "    <tr>\n",
       "      <th>6055</th>\n",
       "      <td>53011</td>\n",
       "      <td>06:24:05</td>\n",
       "      <td>06:53:19</td>\n",
       "    </tr>\n",
       "    <tr>\n",
       "      <th>6056</th>\n",
       "      <td>53011</td>\n",
       "      <td>06:54:37</td>\n",
       "      <td>07:28:31</td>\n",
       "    </tr>\n",
       "    <tr>\n",
       "      <th>6057</th>\n",
       "      <td>53011</td>\n",
       "      <td>07:30:50</td>\n",
       "      <td>08:13:07</td>\n",
       "    </tr>\n",
       "    <tr>\n",
       "      <th>6058</th>\n",
       "      <td>53011</td>\n",
       "      <td>08:13:37</td>\n",
       "      <td>08:41:43</td>\n",
       "    </tr>\n",
       "    <tr>\n",
       "      <th>6059</th>\n",
       "      <td>53011</td>\n",
       "      <td>08:42:13</td>\n",
       "      <td>09:13:46</td>\n",
       "    </tr>\n",
       "    <tr>\n",
       "      <th>6060</th>\n",
       "      <td>53011</td>\n",
       "      <td>09:40:11</td>\n",
       "      <td>10:08:46</td>\n",
       "    </tr>\n",
       "    <tr>\n",
       "      <th>6061</th>\n",
       "      <td>53011</td>\n",
       "      <td>09:14:16</td>\n",
       "      <td>09:39:41</td>\n",
       "    </tr>\n",
       "    <tr>\n",
       "      <th>6062</th>\n",
       "      <td>53011</td>\n",
       "      <td>10:36:35</td>\n",
       "      <td>11:04:02</td>\n",
       "    </tr>\n",
       "    <tr>\n",
       "      <th>6063</th>\n",
       "      <td>53011</td>\n",
       "      <td>10:10:15</td>\n",
       "      <td>10:35:36</td>\n",
       "    </tr>\n",
       "    <tr>\n",
       "      <th>6064</th>\n",
       "      <td>53011</td>\n",
       "      <td>11:31:05</td>\n",
       "      <td>11:54:55</td>\n",
       "    </tr>\n",
       "    <tr>\n",
       "      <th>6065</th>\n",
       "      <td>53011</td>\n",
       "      <td>11:05:15</td>\n",
       "      <td>11:30:10</td>\n",
       "    </tr>\n",
       "  </tbody>\n",
       "</table>\n",
       "</div>"
      ],
      "text/plain": [
       "     Número de Vehículo     desde   hasta_y\n",
       "6055              53011  06:24:05  06:53:19\n",
       "6056              53011  06:54:37  07:28:31\n",
       "6057              53011  07:30:50  08:13:07\n",
       "6058              53011  08:13:37  08:41:43\n",
       "6059              53011  08:42:13  09:13:46\n",
       "6060              53011  09:40:11  10:08:46\n",
       "6061              53011  09:14:16  09:39:41\n",
       "6062              53011  10:36:35  11:04:02\n",
       "6063              53011  10:10:15  10:35:36\n",
       "6064              53011  11:31:05  11:54:55\n",
       "6065              53011  11:05:15  11:30:10"
      ]
     },
     "execution_count": 655,
     "metadata": {},
     "output_type": "execute_result"
    }
   ],
   "source": [
    "x = mergebitacora[mergebitacora['Número de Vehículo']==53011]\n",
    "x[['Número de Vehículo','desde','hasta_y']]"
   ]
  },
  {
   "cell_type": "code",
   "execution_count": 644,
   "metadata": {},
   "outputs": [],
   "source": [
    "# Se filtran las filas en las que no hay número de vehículo ni en 'x' ni en 'y'\n",
    "mergebitacora = mergebitacora[(mergebitacora['Número de Vehículo'].notnull()) & (mergebitacora['Número de secuencia de carro'].notna())]"
   ]
  },
  {
   "cell_type": "code",
   "execution_count": 645,
   "metadata": {},
   "outputs": [
    {
     "data": {
      "text/plain": [
       "(16139, 80)"
      ]
     },
     "execution_count": 645,
     "metadata": {},
     "output_type": "execute_result"
    }
   ],
   "source": [
    "mergebitacora.shape"
   ]
  },
  {
   "cell_type": "code",
   "execution_count": 646,
   "metadata": {},
   "outputs": [],
   "source": [
    "# Se seleccionan las columnas de adicional para el merge\n",
    "adi = adi[['Número de Vehículo','Desde','hasta']]"
   ]
  },
  {
   "cell_type": "code",
   "execution_count": 647,
   "metadata": {},
   "outputs": [
    {
     "data": {
      "text/html": [
       "<div>\n",
       "<style scoped>\n",
       "    .dataframe tbody tr th:only-of-type {\n",
       "        vertical-align: middle;\n",
       "    }\n",
       "\n",
       "    .dataframe tbody tr th {\n",
       "        vertical-align: top;\n",
       "    }\n",
       "\n",
       "    .dataframe thead th {\n",
       "        text-align: right;\n",
       "    }\n",
       "</style>\n",
       "<table border=\"1\" class=\"dataframe\">\n",
       "  <thead>\n",
       "    <tr style=\"text-align: right;\">\n",
       "      <th></th>\n",
       "      <th>Número de Vehículo</th>\n",
       "      <th>Desde</th>\n",
       "      <th>hasta</th>\n",
       "    </tr>\n",
       "  </thead>\n",
       "  <tbody>\n",
       "    <tr>\n",
       "      <th>20307</th>\n",
       "      <td>53011</td>\n",
       "      <td>11:59:31</td>\n",
       "      <td>12:08:42</td>\n",
       "    </tr>\n",
       "    <tr>\n",
       "      <th>20308</th>\n",
       "      <td>53011</td>\n",
       "      <td>12:09:30</td>\n",
       "      <td>12:20:53</td>\n",
       "    </tr>\n",
       "    <tr>\n",
       "      <th>20309</th>\n",
       "      <td>53011</td>\n",
       "      <td>12:21:31</td>\n",
       "      <td>12:30:42</td>\n",
       "    </tr>\n",
       "    <tr>\n",
       "      <th>20310</th>\n",
       "      <td>53011</td>\n",
       "      <td>12:31:30</td>\n",
       "      <td>12:42:53</td>\n",
       "    </tr>\n",
       "  </tbody>\n",
       "</table>\n",
       "</div>"
      ],
      "text/plain": [
       "      Número de Vehículo     Desde     hasta\n",
       "20307              53011  11:59:31  12:08:42\n",
       "20308              53011  12:09:30  12:20:53\n",
       "20309              53011  12:21:31  12:30:42\n",
       "20310              53011  12:31:30  12:42:53"
      ]
     },
     "execution_count": 647,
     "metadata": {},
     "output_type": "execute_result"
    }
   ],
   "source": [
    "adi[adi['Número de Vehículo']==53011]"
   ]
  },
  {
   "cell_type": "code",
   "execution_count": 648,
   "metadata": {},
   "outputs": [],
   "source": [
    "x = mergebitacora[mergebitacora['Número de Vehículo']==53011]"
   ]
  },
  {
   "cell_type": "code",
   "execution_count": 649,
   "metadata": {},
   "outputs": [
    {
     "data": {
      "text/html": [
       "<div>\n",
       "<style scoped>\n",
       "    .dataframe tbody tr th:only-of-type {\n",
       "        vertical-align: middle;\n",
       "    }\n",
       "\n",
       "    .dataframe tbody tr th {\n",
       "        vertical-align: top;\n",
       "    }\n",
       "\n",
       "    .dataframe thead th {\n",
       "        text-align: right;\n",
       "    }\n",
       "</style>\n",
       "<table border=\"1\" class=\"dataframe\">\n",
       "  <thead>\n",
       "    <tr style=\"text-align: right;\">\n",
       "      <th></th>\n",
       "      <th>Número de Vehículo</th>\n",
       "      <th>Desde</th>\n",
       "      <th>hasta_x</th>\n",
       "    </tr>\n",
       "  </thead>\n",
       "  <tbody>\n",
       "    <tr>\n",
       "      <th>6055</th>\n",
       "      <td>53011</td>\n",
       "      <td>06:24:05</td>\n",
       "      <td>06:53:19</td>\n",
       "    </tr>\n",
       "    <tr>\n",
       "      <th>6056</th>\n",
       "      <td>53011</td>\n",
       "      <td>06:54:37</td>\n",
       "      <td>07:28:31</td>\n",
       "    </tr>\n",
       "    <tr>\n",
       "      <th>6057</th>\n",
       "      <td>53011</td>\n",
       "      <td>07:30:50</td>\n",
       "      <td>08:13:07</td>\n",
       "    </tr>\n",
       "    <tr>\n",
       "      <th>6058</th>\n",
       "      <td>53011</td>\n",
       "      <td>08:13:37</td>\n",
       "      <td>08:41:43</td>\n",
       "    </tr>\n",
       "    <tr>\n",
       "      <th>6059</th>\n",
       "      <td>53011</td>\n",
       "      <td>08:42:13</td>\n",
       "      <td>09:13:46</td>\n",
       "    </tr>\n",
       "    <tr>\n",
       "      <th>6060</th>\n",
       "      <td>53011</td>\n",
       "      <td>09:40:11</td>\n",
       "      <td>10:08:46</td>\n",
       "    </tr>\n",
       "    <tr>\n",
       "      <th>6061</th>\n",
       "      <td>53011</td>\n",
       "      <td>09:14:16</td>\n",
       "      <td>09:39:41</td>\n",
       "    </tr>\n",
       "    <tr>\n",
       "      <th>6062</th>\n",
       "      <td>53011</td>\n",
       "      <td>10:36:35</td>\n",
       "      <td>11:04:02</td>\n",
       "    </tr>\n",
       "    <tr>\n",
       "      <th>6063</th>\n",
       "      <td>53011</td>\n",
       "      <td>10:10:15</td>\n",
       "      <td>10:35:36</td>\n",
       "    </tr>\n",
       "    <tr>\n",
       "      <th>6064</th>\n",
       "      <td>53011</td>\n",
       "      <td>11:31:05</td>\n",
       "      <td>11:54:55</td>\n",
       "    </tr>\n",
       "    <tr>\n",
       "      <th>6065</th>\n",
       "      <td>53011</td>\n",
       "      <td>11:05:15</td>\n",
       "      <td>11:30:10</td>\n",
       "    </tr>\n",
       "  </tbody>\n",
       "</table>\n",
       "</div>"
      ],
      "text/plain": [
       "     Número de Vehículo     Desde   hasta_x\n",
       "6055              53011  06:24:05  06:53:19\n",
       "6056              53011  06:54:37  07:28:31\n",
       "6057              53011  07:30:50  08:13:07\n",
       "6058              53011  08:13:37  08:41:43\n",
       "6059              53011  08:42:13  09:13:46\n",
       "6060              53011  09:40:11  10:08:46\n",
       "6061              53011  09:14:16  09:39:41\n",
       "6062              53011  10:36:35  11:04:02\n",
       "6063              53011  10:10:15  10:35:36\n",
       "6064              53011  11:31:05  11:54:55\n",
       "6065              53011  11:05:15  11:30:10"
      ]
     },
     "execution_count": 649,
     "metadata": {},
     "output_type": "execute_result"
    }
   ],
   "source": [
    "x[['Número de Vehículo','Desde','hasta_x']]"
   ]
  },
  {
   "cell_type": "code",
   "execution_count": 650,
   "metadata": {},
   "outputs": [],
   "source": [
    "# Convertir la columna 'Desde' a tipo datetime\n",
    "adi['Desde'] = pd.to_datetime(adi['Desde'], format='%H:%M:%S')\n",
    "adi['hasta'] = pd.to_datetime(adi['hasta'], format='%H:%M:%S')\n",
    "# Restar un minuto a cada valor en la columna 'Desde'\n",
    "adi['Desde'] = adi['Desde'] - pd.Timedelta(minutes=1)\n",
    "adi['hasta'] = adi['hasta'] - pd.Timedelta(minutes=1)\n",
    "adi['Desde'] = adi['Desde'].apply(extraer_hora_regex)\n",
    "adi['hasta'] = adi['hasta'].apply(extraer_hora_regex)\n"
   ]
  },
  {
   "cell_type": "code",
   "execution_count": 651,
   "metadata": {},
   "outputs": [],
   "source": [
    "# Crea una nueva columna llamada 'ID' que combine las columnas 'Número de secuencia de carro', 'Desde' y 'hasta_x'\n",
    "mergebitacora['idadi'] = mergebitacora.apply(lambda row: f\"{row['Número de secuencia de carro']}_{row['desde']}_{row['hasta_y']}\", axis=1)"
   ]
  },
  {
   "cell_type": "code",
   "execution_count": 652,
   "metadata": {},
   "outputs": [],
   "source": [
    "# Crea una nueva columna llamada 'ID' que combine las columnas 'Número de secuencia de carro', 'Desde' y 'hasta_x'\n",
    "adi['idadi'] = adi.apply(lambda row: f\"{row['Número de Vehículo']}_{row['Desde']}_{row['hasta']}\", axis=1)"
   ]
  },
  {
   "cell_type": "code",
   "execution_count": 653,
   "metadata": {},
   "outputs": [
    {
     "data": {
      "text/html": [
       "<div>\n",
       "<style scoped>\n",
       "    .dataframe tbody tr th:only-of-type {\n",
       "        vertical-align: middle;\n",
       "    }\n",
       "\n",
       "    .dataframe tbody tr th {\n",
       "        vertical-align: top;\n",
       "    }\n",
       "\n",
       "    .dataframe thead th {\n",
       "        text-align: right;\n",
       "    }\n",
       "</style>\n",
       "<table border=\"1\" class=\"dataframe\">\n",
       "  <thead>\n",
       "    <tr style=\"text-align: right;\">\n",
       "      <th></th>\n",
       "      <th>Número de Vehículo</th>\n",
       "      <th>Desde</th>\n",
       "      <th>hasta</th>\n",
       "      <th>idadi</th>\n",
       "    </tr>\n",
       "  </thead>\n",
       "  <tbody>\n",
       "    <tr>\n",
       "      <th>20274</th>\n",
       "      <td>22117</td>\n",
       "      <td>16:10:09</td>\n",
       "      <td>16:39:28</td>\n",
       "      <td>22117_16:10:09_16:39:28</td>\n",
       "    </tr>\n",
       "    <tr>\n",
       "      <th>20275</th>\n",
       "      <td>22117</td>\n",
       "      <td>16:10:09</td>\n",
       "      <td>16:39:28</td>\n",
       "      <td>22117_16:10:09_16:39:28</td>\n",
       "    </tr>\n",
       "  </tbody>\n",
       "</table>\n",
       "</div>"
      ],
      "text/plain": [
       "      Número de Vehículo     Desde     hasta                    idadi\n",
       "20274              22117  16:10:09  16:39:28  22117_16:10:09_16:39:28\n",
       "20275              22117  16:10:09  16:39:28  22117_16:10:09_16:39:28"
      ]
     },
     "execution_count": 653,
     "metadata": {},
     "output_type": "execute_result"
    }
   ],
   "source": [
    "adi[adi.duplicated(subset='idadi', keep=False)]# Preguntar a cristan"
   ]
  },
  {
   "cell_type": "code",
   "execution_count": 654,
   "metadata": {},
   "outputs": [
    {
     "data": {
      "text/html": [
       "<div>\n",
       "<style scoped>\n",
       "    .dataframe tbody tr th:only-of-type {\n",
       "        vertical-align: middle;\n",
       "    }\n",
       "\n",
       "    .dataframe tbody tr th {\n",
       "        vertical-align: top;\n",
       "    }\n",
       "\n",
       "    .dataframe thead th {\n",
       "        text-align: right;\n",
       "    }\n",
       "</style>\n",
       "<table border=\"1\" class=\"dataframe\">\n",
       "  <thead>\n",
       "    <tr style=\"text-align: right;\">\n",
       "      <th></th>\n",
       "      <th>Fecha_x</th>\n",
       "      <th>Día tipo_x</th>\n",
       "      <th>Designación de tarea vehículo_x</th>\n",
       "      <th>Línea_x</th>\n",
       "      <th>Tipo de viaje corto_x</th>\n",
       "      <th>Sentido_x</th>\n",
       "      <th>Tipo Kilómetros</th>\n",
       "      <th>Número de Vehículo</th>\n",
       "      <th>Concesionario de Transporte_x</th>\n",
       "      <th>Número de tarea vehículo_x</th>\n",
       "      <th>...</th>\n",
       "      <th>Jerarquía</th>\n",
       "      <th>Tarea</th>\n",
       "      <th>Viaje</th>\n",
       "      <th>Parada</th>\n",
       "      <th>Vehículo_y</th>\n",
       "      <th>Novedad</th>\n",
       "      <th>CALIFICACION</th>\n",
       "      <th>texto_cmb_vehi</th>\n",
       "      <th>texto_colores</th>\n",
       "      <th>idadi</th>\n",
       "    </tr>\n",
       "  </thead>\n",
       "  <tbody>\n",
       "  </tbody>\n",
       "</table>\n",
       "<p>0 rows × 81 columns</p>\n",
       "</div>"
      ],
      "text/plain": [
       "Empty DataFrame\n",
       "Columns: [Fecha_x, Día tipo_x, Designación de tarea vehículo_x, Línea_x, Tipo de viaje corto_x, Sentido_x, Tipo Kilómetros, Número de Vehículo, Concesionario de Transporte_x, Número de tarea vehículo_x, Desde, hasta_x, Duración_x, Punto de inicio_x, Punto de término_x, Largo_x, Número de viaje_x, Tipo de vehículo del viaje_x, Secuencia de arcos_x, Descripción Novedad_x, Concesionario Programado, Tipo de vehículo Programado, Incumplidos_x, Kilometros Programados-Desvios, Kilometros Programados Plan, Clase de viaje, a evaluar, TAREA, LINEA, VIAJE, VEHICULO SGCO, Kms en Servicio (MTS PLANEADOS), PARADAS PLANEADAS, PARADAS REALIZADAS SGCO, % PARADAS REALIZADAS SGCO, Kms en Servicio (MTS SGCO), FUENTE SGCO, HORA REAL SALIDA, HORA REAL LLEGADA, id, Fecha_y, Día tipo_y, Designación de tarea vehículo_y, Línea_y, Tipo de viaje corto_y, Sentido_y, Tipo de kilometros, Número de secuencia de carro, Concesionario de Transporte_y, Número de tarea vehículo_y, desde, hasta_y, Duración_y, Punto de inicio_y, Punto de término_y, Largo_y, Número de viaje_y, Tipo de vehículo del viaje_y, Secuencia de arcos_y, Descripción Novedad_y, Subcontratista, Tipo de vehículo del viaje.1, Incumplidos_y, Nro de caso, Tipo, Lugar, Jerarquia, Vehículo_x, Kms Planeados, Kms Perdidos, Kms cancelados, Jerarquía, Tarea, Viaje, Parada, Vehículo_y, Novedad, CALIFICACION, texto_cmb_vehi, texto_colores, idadi]\n",
       "Index: []\n",
       "\n",
       "[0 rows x 81 columns]"
      ]
     },
     "execution_count": 654,
     "metadata": {},
     "output_type": "execute_result"
    }
   ],
   "source": [
    "mergebitacora[mergebitacora.duplicated(subset='idadi', keep=False)]"
   ]
  },
  {
   "cell_type": "code",
   "execution_count": 594,
   "metadata": {},
   "outputs": [],
   "source": [
    "mergebitacora = pd.merge(mergebitacora, adi, on='idadi', how='left')"
   ]
  },
  {
   "cell_type": "code",
   "execution_count": 595,
   "metadata": {},
   "outputs": [
    {
     "data": {
      "text/html": [
       "<div>\n",
       "<style scoped>\n",
       "    .dataframe tbody tr th:only-of-type {\n",
       "        vertical-align: middle;\n",
       "    }\n",
       "\n",
       "    .dataframe tbody tr th {\n",
       "        vertical-align: top;\n",
       "    }\n",
       "\n",
       "    .dataframe thead th {\n",
       "        text-align: right;\n",
       "    }\n",
       "</style>\n",
       "<table border=\"1\" class=\"dataframe\">\n",
       "  <thead>\n",
       "    <tr style=\"text-align: right;\">\n",
       "      <th></th>\n",
       "      <th>Fecha_x</th>\n",
       "      <th>Día tipo_x</th>\n",
       "      <th>Designación de tarea vehículo_x</th>\n",
       "      <th>Línea_x</th>\n",
       "      <th>Tipo de viaje corto_x</th>\n",
       "      <th>Sentido_x</th>\n",
       "      <th>Tipo Kilómetros</th>\n",
       "      <th>Número de Vehículo_x</th>\n",
       "      <th>Concesionario de Transporte_x</th>\n",
       "      <th>Número de tarea vehículo_x</th>\n",
       "      <th>...</th>\n",
       "      <th>Parada</th>\n",
       "      <th>Vehículo_y</th>\n",
       "      <th>Novedad</th>\n",
       "      <th>CALIFICACION</th>\n",
       "      <th>texto_cmb_vehi</th>\n",
       "      <th>texto_colores</th>\n",
       "      <th>idadi</th>\n",
       "      <th>Número de Vehículo_y</th>\n",
       "      <th>Desde_y</th>\n",
       "      <th>hasta</th>\n",
       "    </tr>\n",
       "  </thead>\n",
       "  <tbody>\n",
       "  </tbody>\n",
       "</table>\n",
       "<p>0 rows × 84 columns</p>\n",
       "</div>"
      ],
      "text/plain": [
       "Empty DataFrame\n",
       "Columns: [Fecha_x, Día tipo_x, Designación de tarea vehículo_x, Línea_x, Tipo de viaje corto_x, Sentido_x, Tipo Kilómetros, Número de Vehículo_x, Concesionario de Transporte_x, Número de tarea vehículo_x, Desde_x, hasta_x, Duración_x, Punto de inicio_x, Punto de término_x, Largo_x, Número de viaje_x, Tipo de vehículo del viaje_x, Secuencia de arcos_x, Descripción Novedad_x, Concesionario Programado, Tipo de vehículo Programado, Incumplidos_x, Kilometros Programados-Desvios, Kilometros Programados Plan, Clase de viaje, a evaluar, TAREA, LINEA, VIAJE, VEHICULO SGCO, Kms en Servicio (MTS PLANEADOS), PARADAS PLANEADAS, PARADAS REALIZADAS SGCO, % PARADAS REALIZADAS SGCO, Kms en Servicio (MTS SGCO), FUENTE SGCO, HORA REAL SALIDA, HORA REAL LLEGADA, id, Fecha_y, Día tipo_y, Designación de tarea vehículo_y, Línea_y, Tipo de viaje corto_y, Sentido_y, Tipo de kilometros, Número de secuencia de carro, Concesionario de Transporte_y, Número de tarea vehículo_y, desde, hasta_y, Duración_y, Punto de inicio_y, Punto de término_y, Largo_y, Número de viaje_y, Tipo de vehículo del viaje_y, Secuencia de arcos_y, Descripción Novedad_y, Subcontratista, Tipo de vehículo del viaje.1, Incumplidos_y, Nro de caso, Tipo, Lugar, Jerarquia, Vehículo_x, Kms Planeados, Kms Perdidos, Kms cancelados, Jerarquía, Tarea, Viaje, Parada, Vehículo_y, Novedad, CALIFICACION, texto_cmb_vehi, texto_colores, idadi, Número de Vehículo_y, Desde_y, hasta]\n",
       "Index: []\n",
       "\n",
       "[0 rows x 84 columns]"
      ]
     },
     "execution_count": 595,
     "metadata": {},
     "output_type": "execute_result"
    }
   ],
   "source": [
    "mergebitacora[mergebitacora['Fecha_x'].isnull()]"
   ]
  },
  {
   "cell_type": "code",
   "execution_count": 596,
   "metadata": {},
   "outputs": [],
   "source": [
    "# Esta funcin en caso de tener adicioneales realiza el siguiente proceso\n",
    "def verdes(row):\n",
    "    if pd.notna(row['Número de Vehículo_y']):\n",
    "        row['Incumplimiento_y'] = row['Incumplimiento_x']\n",
    "        row['Número de secuencia de carro'] = np.nan\n",
    "        row['Largo_y'] = row['Largo_x']\n",
    "        return 'ok'   "
   ]
  },
  {
   "cell_type": "code",
   "execution_count": 597,
   "metadata": {},
   "outputs": [],
   "source": [
    "mergebitacora['texto'] = np.nan"
   ]
  },
  {
   "cell_type": "code",
   "execution_count": 598,
   "metadata": {},
   "outputs": [
    {
     "ename": "KeyError",
     "evalue": "'Incumplimiento_x'",
     "output_type": "error",
     "traceback": [
      "\u001b[1;31m---------------------------------------------------------------------------\u001b[0m",
      "\u001b[1;31mKeyError\u001b[0m                                  Traceback (most recent call last)",
      "File \u001b[1;32mc:\\Users\\miguel.ortiz\\Desktop\\WILLIAM\\w-env\\Lib\\site-packages\\pandas\\core\\indexes\\base.py:3805\u001b[0m, in \u001b[0;36mIndex.get_loc\u001b[1;34m(self, key)\u001b[0m\n\u001b[0;32m   3804\u001b[0m \u001b[38;5;28;01mtry\u001b[39;00m:\n\u001b[1;32m-> 3805\u001b[0m     \u001b[38;5;28;01mreturn\u001b[39;00m \u001b[38;5;28;43mself\u001b[39;49m\u001b[38;5;241;43m.\u001b[39;49m\u001b[43m_engine\u001b[49m\u001b[38;5;241;43m.\u001b[39;49m\u001b[43mget_loc\u001b[49m\u001b[43m(\u001b[49m\u001b[43mcasted_key\u001b[49m\u001b[43m)\u001b[49m\n\u001b[0;32m   3806\u001b[0m \u001b[38;5;28;01mexcept\u001b[39;00m \u001b[38;5;167;01mKeyError\u001b[39;00m \u001b[38;5;28;01mas\u001b[39;00m err:\n",
      "File \u001b[1;32mindex.pyx:167\u001b[0m, in \u001b[0;36mpandas._libs.index.IndexEngine.get_loc\u001b[1;34m()\u001b[0m\n",
      "File \u001b[1;32mindex.pyx:196\u001b[0m, in \u001b[0;36mpandas._libs.index.IndexEngine.get_loc\u001b[1;34m()\u001b[0m\n",
      "File \u001b[1;32mpandas\\\\_libs\\\\hashtable_class_helper.pxi:7081\u001b[0m, in \u001b[0;36mpandas._libs.hashtable.PyObjectHashTable.get_item\u001b[1;34m()\u001b[0m\n",
      "File \u001b[1;32mpandas\\\\_libs\\\\hashtable_class_helper.pxi:7089\u001b[0m, in \u001b[0;36mpandas._libs.hashtable.PyObjectHashTable.get_item\u001b[1;34m()\u001b[0m\n",
      "\u001b[1;31mKeyError\u001b[0m: 'Incumplimiento_x'",
      "\nThe above exception was the direct cause of the following exception:\n",
      "\u001b[1;31mKeyError\u001b[0m                                  Traceback (most recent call last)",
      "Cell \u001b[1;32mIn[598], line 1\u001b[0m\n\u001b[1;32m----> 1\u001b[0m mergebitacora[\u001b[38;5;124m'\u001b[39m\u001b[38;5;124mtexto\u001b[39m\u001b[38;5;124m'\u001b[39m] \u001b[38;5;241m=\u001b[39m \u001b[43mmergebitacora\u001b[49m\u001b[38;5;241;43m.\u001b[39;49m\u001b[43mapply\u001b[49m\u001b[43m(\u001b[49m\u001b[43mverdes\u001b[49m\u001b[43m,\u001b[49m\u001b[43m \u001b[49m\u001b[43maxis\u001b[49m\u001b[38;5;241;43m=\u001b[39;49m\u001b[38;5;241;43m1\u001b[39;49m\u001b[43m)\u001b[49m\n",
      "File \u001b[1;32mc:\\Users\\miguel.ortiz\\Desktop\\WILLIAM\\w-env\\Lib\\site-packages\\pandas\\core\\frame.py:10361\u001b[0m, in \u001b[0;36mDataFrame.apply\u001b[1;34m(self, func, axis, raw, result_type, args, by_row, engine, engine_kwargs, **kwargs)\u001b[0m\n\u001b[0;32m  10347\u001b[0m \u001b[38;5;28;01mfrom\u001b[39;00m \u001b[38;5;21;01mpandas\u001b[39;00m\u001b[38;5;21;01m.\u001b[39;00m\u001b[38;5;21;01mcore\u001b[39;00m\u001b[38;5;21;01m.\u001b[39;00m\u001b[38;5;21;01mapply\u001b[39;00m \u001b[38;5;28;01mimport\u001b[39;00m frame_apply\n\u001b[0;32m  10349\u001b[0m op \u001b[38;5;241m=\u001b[39m frame_apply(\n\u001b[0;32m  10350\u001b[0m     \u001b[38;5;28mself\u001b[39m,\n\u001b[0;32m  10351\u001b[0m     func\u001b[38;5;241m=\u001b[39mfunc,\n\u001b[1;32m   (...)\u001b[0m\n\u001b[0;32m  10359\u001b[0m     kwargs\u001b[38;5;241m=\u001b[39mkwargs,\n\u001b[0;32m  10360\u001b[0m )\n\u001b[1;32m> 10361\u001b[0m \u001b[38;5;28;01mreturn\u001b[39;00m \u001b[43mop\u001b[49m\u001b[38;5;241;43m.\u001b[39;49m\u001b[43mapply\u001b[49m\u001b[43m(\u001b[49m\u001b[43m)\u001b[49m\u001b[38;5;241m.\u001b[39m__finalize__(\u001b[38;5;28mself\u001b[39m, method\u001b[38;5;241m=\u001b[39m\u001b[38;5;124m\"\u001b[39m\u001b[38;5;124mapply\u001b[39m\u001b[38;5;124m\"\u001b[39m)\n",
      "File \u001b[1;32mc:\\Users\\miguel.ortiz\\Desktop\\WILLIAM\\w-env\\Lib\\site-packages\\pandas\\core\\apply.py:916\u001b[0m, in \u001b[0;36mFrameApply.apply\u001b[1;34m(self)\u001b[0m\n\u001b[0;32m    913\u001b[0m \u001b[38;5;28;01melif\u001b[39;00m \u001b[38;5;28mself\u001b[39m\u001b[38;5;241m.\u001b[39mraw:\n\u001b[0;32m    914\u001b[0m     \u001b[38;5;28;01mreturn\u001b[39;00m \u001b[38;5;28mself\u001b[39m\u001b[38;5;241m.\u001b[39mapply_raw(engine\u001b[38;5;241m=\u001b[39m\u001b[38;5;28mself\u001b[39m\u001b[38;5;241m.\u001b[39mengine, engine_kwargs\u001b[38;5;241m=\u001b[39m\u001b[38;5;28mself\u001b[39m\u001b[38;5;241m.\u001b[39mengine_kwargs)\n\u001b[1;32m--> 916\u001b[0m \u001b[38;5;28;01mreturn\u001b[39;00m \u001b[38;5;28;43mself\u001b[39;49m\u001b[38;5;241;43m.\u001b[39;49m\u001b[43mapply_standard\u001b[49m\u001b[43m(\u001b[49m\u001b[43m)\u001b[49m\n",
      "File \u001b[1;32mc:\\Users\\miguel.ortiz\\Desktop\\WILLIAM\\w-env\\Lib\\site-packages\\pandas\\core\\apply.py:1063\u001b[0m, in \u001b[0;36mFrameApply.apply_standard\u001b[1;34m(self)\u001b[0m\n\u001b[0;32m   1061\u001b[0m \u001b[38;5;28;01mdef\u001b[39;00m \u001b[38;5;21mapply_standard\u001b[39m(\u001b[38;5;28mself\u001b[39m):\n\u001b[0;32m   1062\u001b[0m     \u001b[38;5;28;01mif\u001b[39;00m \u001b[38;5;28mself\u001b[39m\u001b[38;5;241m.\u001b[39mengine \u001b[38;5;241m==\u001b[39m \u001b[38;5;124m\"\u001b[39m\u001b[38;5;124mpython\u001b[39m\u001b[38;5;124m\"\u001b[39m:\n\u001b[1;32m-> 1063\u001b[0m         results, res_index \u001b[38;5;241m=\u001b[39m \u001b[38;5;28;43mself\u001b[39;49m\u001b[38;5;241;43m.\u001b[39;49m\u001b[43mapply_series_generator\u001b[49m\u001b[43m(\u001b[49m\u001b[43m)\u001b[49m\n\u001b[0;32m   1064\u001b[0m     \u001b[38;5;28;01melse\u001b[39;00m:\n\u001b[0;32m   1065\u001b[0m         results, res_index \u001b[38;5;241m=\u001b[39m \u001b[38;5;28mself\u001b[39m\u001b[38;5;241m.\u001b[39mapply_series_numba()\n",
      "File \u001b[1;32mc:\\Users\\miguel.ortiz\\Desktop\\WILLIAM\\w-env\\Lib\\site-packages\\pandas\\core\\apply.py:1081\u001b[0m, in \u001b[0;36mFrameApply.apply_series_generator\u001b[1;34m(self)\u001b[0m\n\u001b[0;32m   1078\u001b[0m \u001b[38;5;28;01mwith\u001b[39;00m option_context(\u001b[38;5;124m\"\u001b[39m\u001b[38;5;124mmode.chained_assignment\u001b[39m\u001b[38;5;124m\"\u001b[39m, \u001b[38;5;28;01mNone\u001b[39;00m):\n\u001b[0;32m   1079\u001b[0m     \u001b[38;5;28;01mfor\u001b[39;00m i, v \u001b[38;5;129;01min\u001b[39;00m \u001b[38;5;28menumerate\u001b[39m(series_gen):\n\u001b[0;32m   1080\u001b[0m         \u001b[38;5;66;03m# ignore SettingWithCopy here in case the user mutates\u001b[39;00m\n\u001b[1;32m-> 1081\u001b[0m         results[i] \u001b[38;5;241m=\u001b[39m \u001b[38;5;28;43mself\u001b[39;49m\u001b[38;5;241;43m.\u001b[39;49m\u001b[43mfunc\u001b[49m\u001b[43m(\u001b[49m\u001b[43mv\u001b[49m\u001b[43m,\u001b[49m\u001b[43m \u001b[49m\u001b[38;5;241;43m*\u001b[39;49m\u001b[38;5;28;43mself\u001b[39;49m\u001b[38;5;241;43m.\u001b[39;49m\u001b[43margs\u001b[49m\u001b[43m,\u001b[49m\u001b[43m \u001b[49m\u001b[38;5;241;43m*\u001b[39;49m\u001b[38;5;241;43m*\u001b[39;49m\u001b[38;5;28;43mself\u001b[39;49m\u001b[38;5;241;43m.\u001b[39;49m\u001b[43mkwargs\u001b[49m\u001b[43m)\u001b[49m\n\u001b[0;32m   1082\u001b[0m         \u001b[38;5;28;01mif\u001b[39;00m \u001b[38;5;28misinstance\u001b[39m(results[i], ABCSeries):\n\u001b[0;32m   1083\u001b[0m             \u001b[38;5;66;03m# If we have a view on v, we need to make a copy because\u001b[39;00m\n\u001b[0;32m   1084\u001b[0m             \u001b[38;5;66;03m#  series_generator will swap out the underlying data\u001b[39;00m\n\u001b[0;32m   1085\u001b[0m             results[i] \u001b[38;5;241m=\u001b[39m results[i]\u001b[38;5;241m.\u001b[39mcopy(deep\u001b[38;5;241m=\u001b[39m\u001b[38;5;28;01mFalse\u001b[39;00m)\n",
      "Cell \u001b[1;32mIn[596], line 4\u001b[0m, in \u001b[0;36mverdes\u001b[1;34m(row)\u001b[0m\n\u001b[0;32m      2\u001b[0m \u001b[38;5;28;01mdef\u001b[39;00m \u001b[38;5;21mverdes\u001b[39m(row):\n\u001b[0;32m      3\u001b[0m     \u001b[38;5;28;01mif\u001b[39;00m pd\u001b[38;5;241m.\u001b[39mnotna(row[\u001b[38;5;124m'\u001b[39m\u001b[38;5;124mNúmero de Vehículo_y\u001b[39m\u001b[38;5;124m'\u001b[39m]):\n\u001b[1;32m----> 4\u001b[0m         row[\u001b[38;5;124m'\u001b[39m\u001b[38;5;124mIncumplimiento_y\u001b[39m\u001b[38;5;124m'\u001b[39m] \u001b[38;5;241m=\u001b[39m \u001b[43mrow\u001b[49m\u001b[43m[\u001b[49m\u001b[38;5;124;43m'\u001b[39;49m\u001b[38;5;124;43mIncumplimiento_x\u001b[39;49m\u001b[38;5;124;43m'\u001b[39;49m\u001b[43m]\u001b[49m\n\u001b[0;32m      5\u001b[0m         row[\u001b[38;5;124m'\u001b[39m\u001b[38;5;124mNúmero de secuencia de carro\u001b[39m\u001b[38;5;124m'\u001b[39m] \u001b[38;5;241m=\u001b[39m np\u001b[38;5;241m.\u001b[39mnan\n\u001b[0;32m      6\u001b[0m         row[\u001b[38;5;124m'\u001b[39m\u001b[38;5;124mLargo_y\u001b[39m\u001b[38;5;124m'\u001b[39m] \u001b[38;5;241m=\u001b[39m row[\u001b[38;5;124m'\u001b[39m\u001b[38;5;124mLargo_x\u001b[39m\u001b[38;5;124m'\u001b[39m]\n",
      "File \u001b[1;32mc:\\Users\\miguel.ortiz\\Desktop\\WILLIAM\\w-env\\Lib\\site-packages\\pandas\\core\\series.py:1112\u001b[0m, in \u001b[0;36mSeries.__getitem__\u001b[1;34m(self, key)\u001b[0m\n\u001b[0;32m   1109\u001b[0m     \u001b[38;5;28;01mreturn\u001b[39;00m \u001b[38;5;28mself\u001b[39m\u001b[38;5;241m.\u001b[39m_values[key]\n\u001b[0;32m   1111\u001b[0m \u001b[38;5;28;01melif\u001b[39;00m key_is_scalar:\n\u001b[1;32m-> 1112\u001b[0m     \u001b[38;5;28;01mreturn\u001b[39;00m \u001b[38;5;28;43mself\u001b[39;49m\u001b[38;5;241;43m.\u001b[39;49m\u001b[43m_get_value\u001b[49m\u001b[43m(\u001b[49m\u001b[43mkey\u001b[49m\u001b[43m)\u001b[49m\n\u001b[0;32m   1114\u001b[0m \u001b[38;5;66;03m# Convert generator to list before going through hashable part\u001b[39;00m\n\u001b[0;32m   1115\u001b[0m \u001b[38;5;66;03m# (We will iterate through the generator there to check for slices)\u001b[39;00m\n\u001b[0;32m   1116\u001b[0m \u001b[38;5;28;01mif\u001b[39;00m is_iterator(key):\n",
      "File \u001b[1;32mc:\\Users\\miguel.ortiz\\Desktop\\WILLIAM\\w-env\\Lib\\site-packages\\pandas\\core\\series.py:1228\u001b[0m, in \u001b[0;36mSeries._get_value\u001b[1;34m(self, label, takeable)\u001b[0m\n\u001b[0;32m   1225\u001b[0m     \u001b[38;5;28;01mreturn\u001b[39;00m \u001b[38;5;28mself\u001b[39m\u001b[38;5;241m.\u001b[39m_values[label]\n\u001b[0;32m   1227\u001b[0m \u001b[38;5;66;03m# Similar to Index.get_value, but we do not fall back to positional\u001b[39;00m\n\u001b[1;32m-> 1228\u001b[0m loc \u001b[38;5;241m=\u001b[39m \u001b[38;5;28;43mself\u001b[39;49m\u001b[38;5;241;43m.\u001b[39;49m\u001b[43mindex\u001b[49m\u001b[38;5;241;43m.\u001b[39;49m\u001b[43mget_loc\u001b[49m\u001b[43m(\u001b[49m\u001b[43mlabel\u001b[49m\u001b[43m)\u001b[49m\n\u001b[0;32m   1230\u001b[0m \u001b[38;5;28;01mif\u001b[39;00m is_integer(loc):\n\u001b[0;32m   1231\u001b[0m     \u001b[38;5;28;01mreturn\u001b[39;00m \u001b[38;5;28mself\u001b[39m\u001b[38;5;241m.\u001b[39m_values[loc]\n",
      "File \u001b[1;32mc:\\Users\\miguel.ortiz\\Desktop\\WILLIAM\\w-env\\Lib\\site-packages\\pandas\\core\\indexes\\base.py:3812\u001b[0m, in \u001b[0;36mIndex.get_loc\u001b[1;34m(self, key)\u001b[0m\n\u001b[0;32m   3807\u001b[0m     \u001b[38;5;28;01mif\u001b[39;00m \u001b[38;5;28misinstance\u001b[39m(casted_key, \u001b[38;5;28mslice\u001b[39m) \u001b[38;5;129;01mor\u001b[39;00m (\n\u001b[0;32m   3808\u001b[0m         \u001b[38;5;28misinstance\u001b[39m(casted_key, abc\u001b[38;5;241m.\u001b[39mIterable)\n\u001b[0;32m   3809\u001b[0m         \u001b[38;5;129;01mand\u001b[39;00m \u001b[38;5;28many\u001b[39m(\u001b[38;5;28misinstance\u001b[39m(x, \u001b[38;5;28mslice\u001b[39m) \u001b[38;5;28;01mfor\u001b[39;00m x \u001b[38;5;129;01min\u001b[39;00m casted_key)\n\u001b[0;32m   3810\u001b[0m     ):\n\u001b[0;32m   3811\u001b[0m         \u001b[38;5;28;01mraise\u001b[39;00m InvalidIndexError(key)\n\u001b[1;32m-> 3812\u001b[0m     \u001b[38;5;28;01mraise\u001b[39;00m \u001b[38;5;167;01mKeyError\u001b[39;00m(key) \u001b[38;5;28;01mfrom\u001b[39;00m \u001b[38;5;21;01merr\u001b[39;00m\n\u001b[0;32m   3813\u001b[0m \u001b[38;5;28;01mexcept\u001b[39;00m \u001b[38;5;167;01mTypeError\u001b[39;00m:\n\u001b[0;32m   3814\u001b[0m     \u001b[38;5;66;03m# If we have a listlike key, _check_indexing_error will raise\u001b[39;00m\n\u001b[0;32m   3815\u001b[0m     \u001b[38;5;66;03m#  InvalidIndexError. Otherwise we fall through and re-raise\u001b[39;00m\n\u001b[0;32m   3816\u001b[0m     \u001b[38;5;66;03m#  the TypeError.\u001b[39;00m\n\u001b[0;32m   3817\u001b[0m     \u001b[38;5;28mself\u001b[39m\u001b[38;5;241m.\u001b[39m_check_indexing_error(key)\n",
      "\u001b[1;31mKeyError\u001b[0m: 'Incumplimiento_x'"
     ]
    }
   ],
   "source": [
    "mergebitacora['texto'] = mergebitacora.apply(verdes, axis=1)"
   ]
  },
  {
   "cell_type": "code",
   "execution_count": null,
   "metadata": {},
   "outputs": [
    {
     "data": {
      "text/html": [
       "<div>\n",
       "<style scoped>\n",
       "    .dataframe tbody tr th:only-of-type {\n",
       "        vertical-align: middle;\n",
       "    }\n",
       "\n",
       "    .dataframe tbody tr th {\n",
       "        vertical-align: top;\n",
       "    }\n",
       "\n",
       "    .dataframe thead th {\n",
       "        text-align: right;\n",
       "    }\n",
       "</style>\n",
       "<table border=\"1\" class=\"dataframe\">\n",
       "  <thead>\n",
       "    <tr style=\"text-align: right;\">\n",
       "      <th></th>\n",
       "      <th>Fecha_x</th>\n",
       "      <th>Día tipo_x</th>\n",
       "      <th>Designación de tarea vehículo_x</th>\n",
       "      <th>Línea_x</th>\n",
       "      <th>Tipo de viaje corto_x</th>\n",
       "      <th>Sentido_x</th>\n",
       "      <th>Tipo Kilómetros</th>\n",
       "      <th>Número de Vehículo_x</th>\n",
       "      <th>Concesionario de Transporte_x</th>\n",
       "      <th>Número de tarea vehículo_x</th>\n",
       "      <th>...</th>\n",
       "      <th>Vehículo_y</th>\n",
       "      <th>Novedad</th>\n",
       "      <th>CALIFICACION</th>\n",
       "      <th>texto_cmb_vehi</th>\n",
       "      <th>texto_colores</th>\n",
       "      <th>idadi</th>\n",
       "      <th>Número de Vehículo_y</th>\n",
       "      <th>Desde_y</th>\n",
       "      <th>hasta</th>\n",
       "      <th>texto</th>\n",
       "    </tr>\n",
       "  </thead>\n",
       "  <tbody>\n",
       "  </tbody>\n",
       "</table>\n",
       "<p>0 rows × 85 columns</p>\n",
       "</div>"
      ],
      "text/plain": [
       "Empty DataFrame\n",
       "Columns: [Fecha_x, Día tipo_x, Designación de tarea vehículo_x, Línea_x, Tipo de viaje corto_x, Sentido_x, Tipo Kilómetros, Número de Vehículo_x, Concesionario de Transporte_x, Número de tarea vehículo_x, Desde_x, hasta_x, Duración_x, Punto de inicio_x, Punto de término_x, Largo_x, Número de viaje_x, Tipo de vehículo del viaje_x, Secuencia de arcos_x, Descripción Novedad_x, Concesionario Programado, Tipo de vehículo Programado, Incumplidos_x, Kilometros Programados-Desvios, Kilometros Programados Plan, Clase de viaje, a evaluar, TAREA, LINEA, VIAJE, VEHICULO SGCO, Kms en Servicio (MTS PLANEADOS), PARADAS PLANEADAS, PARADAS REALIZADAS SGCO, % PARADAS REALIZADAS SGCO, Kms en Servicio (MTS SGCO), FUENTE SGCO, HORA REAL SALIDA, HORA REAL LLEGADA, id, Fecha_y, Día tipo_y, Designación de tarea vehículo_y, Línea_y, Tipo de viaje corto_y, Sentido_y, Tipo de kilometros, Número de secuencia de carro, Concesionario de Transporte_y, Número de tarea vehículo_y, desde, hasta_y, Duración_y, Punto de inicio_y, Punto de término_y, Largo_y, Número de viaje_y, Tipo de vehículo del viaje_y, Secuencia de arcos_y, Descripción Novedad_y, Subcontratista, Tipo de vehículo del viaje.1, Incumplidos_y, Nro de caso, Tipo, Lugar, Jerarquia, Vehículo_x, Kms Planeados, Kms Perdidos, Kms cancelados, Jerarquía, Tarea, Viaje, Parada, Vehículo_y, Novedad, CALIFICACION, texto_cmb_vehi, texto_colores, idadi, Número de Vehículo_y, Desde_y, hasta, texto]\n",
       "Index: []\n",
       "\n",
       "[0 rows x 85 columns]"
      ]
     },
     "execution_count": 491,
     "metadata": {},
     "output_type": "execute_result"
    }
   ],
   "source": [
    "mergebitacora[mergebitacora['texto'].notna()]"
   ]
  },
  {
   "cell_type": "code",
   "execution_count": 492,
   "metadata": {},
   "outputs": [
    {
     "data": {
      "text/html": [
       "<div>\n",
       "<style scoped>\n",
       "    .dataframe tbody tr th:only-of-type {\n",
       "        vertical-align: middle;\n",
       "    }\n",
       "\n",
       "    .dataframe tbody tr th {\n",
       "        vertical-align: top;\n",
       "    }\n",
       "\n",
       "    .dataframe thead th {\n",
       "        text-align: right;\n",
       "    }\n",
       "</style>\n",
       "<table border=\"1\" class=\"dataframe\">\n",
       "  <thead>\n",
       "    <tr style=\"text-align: right;\">\n",
       "      <th></th>\n",
       "      <th>Fecha_x</th>\n",
       "      <th>Día tipo_x</th>\n",
       "      <th>Designación de tarea vehículo_x</th>\n",
       "      <th>Línea_x</th>\n",
       "      <th>Tipo de viaje corto_x</th>\n",
       "      <th>Sentido_x</th>\n",
       "      <th>Tipo Kilómetros</th>\n",
       "      <th>Número de Vehículo_x</th>\n",
       "      <th>Concesionario de Transporte_x</th>\n",
       "      <th>Número de tarea vehículo_x</th>\n",
       "      <th>...</th>\n",
       "      <th>Vehículo_y</th>\n",
       "      <th>Novedad</th>\n",
       "      <th>CALIFICACION</th>\n",
       "      <th>texto_cmb_vehi</th>\n",
       "      <th>texto_colores</th>\n",
       "      <th>idadi</th>\n",
       "      <th>Número de Vehículo_y</th>\n",
       "      <th>Desde_y</th>\n",
       "      <th>hasta</th>\n",
       "      <th>texto</th>\n",
       "    </tr>\n",
       "  </thead>\n",
       "  <tbody>\n",
       "  </tbody>\n",
       "</table>\n",
       "<p>0 rows × 85 columns</p>\n",
       "</div>"
      ],
      "text/plain": [
       "Empty DataFrame\n",
       "Columns: [Fecha_x, Día tipo_x, Designación de tarea vehículo_x, Línea_x, Tipo de viaje corto_x, Sentido_x, Tipo Kilómetros, Número de Vehículo_x, Concesionario de Transporte_x, Número de tarea vehículo_x, Desde_x, hasta_x, Duración_x, Punto de inicio_x, Punto de término_x, Largo_x, Número de viaje_x, Tipo de vehículo del viaje_x, Secuencia de arcos_x, Descripción Novedad_x, Concesionario Programado, Tipo de vehículo Programado, Incumplidos_x, Kilometros Programados-Desvios, Kilometros Programados Plan, Clase de viaje, a evaluar, TAREA, LINEA, VIAJE, VEHICULO SGCO, Kms en Servicio (MTS PLANEADOS), PARADAS PLANEADAS, PARADAS REALIZADAS SGCO, % PARADAS REALIZADAS SGCO, Kms en Servicio (MTS SGCO), FUENTE SGCO, HORA REAL SALIDA, HORA REAL LLEGADA, id, Fecha_y, Día tipo_y, Designación de tarea vehículo_y, Línea_y, Tipo de viaje corto_y, Sentido_y, Tipo de kilometros, Número de secuencia de carro, Concesionario de Transporte_y, Número de tarea vehículo_y, desde, hasta_y, Duración_y, Punto de inicio_y, Punto de término_y, Largo_y, Número de viaje_y, Tipo de vehículo del viaje_y, Secuencia de arcos_y, Descripción Novedad_y, Subcontratista, Tipo de vehículo del viaje.1, Incumplidos_y, Nro de caso, Tipo, Lugar, Jerarquia, Vehículo_x, Kms Planeados, Kms Perdidos, Kms cancelados, Jerarquía, Tarea, Viaje, Parada, Vehículo_y, Novedad, CALIFICACION, texto_cmb_vehi, texto_colores, idadi, Número de Vehículo_y, Desde_y, hasta, texto]\n",
       "Index: []\n",
       "\n",
       "[0 rows x 85 columns]"
      ]
     },
     "execution_count": 492,
     "metadata": {},
     "output_type": "execute_result"
    }
   ],
   "source": [
    "mergebitacora[mergebitacora['texto'].notna()]"
   ]
  },
  {
   "cell_type": "code",
   "execution_count": 1268,
   "metadata": {},
   "outputs": [],
   "source": [
    "# Elimina las columnas que no son necesarias\n",
    "mergebitacora.drop(columns=['Número de Vehículo_y', 'Desde_y', 'hasta', 'texto'], inplace= True)"
   ]
  },
  {
   "cell_type": "code",
   "execution_count": 1269,
   "metadata": {},
   "outputs": [
    {
     "data": {
      "text/plain": [
       "(16139, 81)"
      ]
     },
     "execution_count": 1269,
     "metadata": {},
     "output_type": "execute_result"
    }
   ],
   "source": [
    "mergebitacora.shape"
   ]
  },
  {
   "cell_type": "code",
   "execution_count": 1271,
   "metadata": {},
   "outputs": [
    {
     "data": {
      "text/plain": [
       "Incumplidos_x\n",
       "2.0    196\n",
       "0.0     55\n",
       "1.0     54\n",
       "3.0      4\n",
       "Name: count, dtype: int64"
      ]
     },
     "execution_count": 1271,
     "metadata": {},
     "output_type": "execute_result"
    }
   ],
   "source": [
    "mergebitacora['Incumplidos_x'].value_counts()"
   ]
  },
  {
   "cell_type": "markdown",
   "metadata": {},
   "source": [
    "ok"
   ]
  },
  {
   "cell_type": "markdown",
   "metadata": {},
   "source": [
    "Calificaciones incumplimineto "
   ]
  },
  {
   "cell_type": "code",
   "execution_count": 1207,
   "metadata": {},
   "outputs": [],
   "source": [
    "# Funcion replica de la funcion de Excel para el calculo de incumpliminetos, pero la siguiente funcion la anula, revisar si es necesaria\n",
    "def col_calificaciones_funtion(row, df):\n",
    "    \"\"\"\n",
    "    Calcula el valor del incumplimiento según las condiciones especificadas.\n",
    "\n",
    "    Parámetros:\n",
    "    row (pandas.Series): Una fila del DataFrame que contiene los datos de la bitácora.\n",
    "    df (pandas.DataFrame): DataFrame que contiene los datos de la bitácora.\n",
    "\n",
    "    Retorna:\n",
    "    int or float or np.nan: El valor del incumplimiento calculado según las condiciones.\n",
    "    \"\"\"\n",
    "    \n",
    "    # Obtener el índice de la fila actual\n",
    "    index = row.name\n",
    "    \n",
    "    # Calcular el índice de la fila siguiente\n",
    "    next_index = index + 1\n",
    "    next_index_next = index + 2\n",
    "    \n",
    "    # Obtener la fila siguiente si el índice es válido, de lo contrario, establecerla como None\n",
    "    next_row = df.iloc[next_index] if next_index < len(df) else None\n",
    "    next_row_next = df.iloc[next_index_next] if next_index_next < len(df) else None\n",
    "\n",
    "    \n",
    "    if row['Tipo Kilómetros'] == \"Kms en Servicio\" and pd.isna(row['Número de secuencia de carro']):\n",
    "        if row['Tipo de viaje corto_x'] == \"Viaje comercial\":\n",
    "            return 2\n",
    "        elif row['Tipo de viaje corto_x'] in [\"Viaje de punto operacional\", \"Viaje de posicionamiento\"]:\n",
    "            if next_row is not None and pd.isna(next_row['Número de secuencia de carro']):\n",
    "                if (next_row['Incumplidos_y'] == 2) and (row['Largo_y'] in [0, 1]):\n",
    "                    return 1\n",
    "                elif (row['Largo_y'] not in [0, 1]) or (next_row['Largo_y']  in [0, 1]):\n",
    "                    if pd.notna(next_row_next['Incumplidos_y']):\n",
    "                        return next_row_next['Incumplidos_y'] \n",
    "                    else:\n",
    "                        return 2\n",
    "                else:\n",
    "                    return next_row['Incumplidos_y']\n",
    "            else:\n",
    "                if row is not None and row['Largo_y'] in [0, 1]:\n",
    "                    return 1\n",
    "                else:\n",
    "                    return 2\n",
    "        else:\n",
    "            return np.nan\n",
    "    elif (row['Número de secuencia de carro'] in [\"CAMBIO\", \"CANCELADA\"]) and row['Tipo Kilómetros'] == \"Kms en Vacio\":\n",
    "        return 0\n",
    "    else:\n",
    "        return np.nan\n"
   ]
  },
  {
   "cell_type": "code",
   "execution_count": 1208,
   "metadata": {},
   "outputs": [],
   "source": [
    "#Aplicar la función a todo el DataFrame\n",
    "mergebitacora['Incumplido_y'] = mergebitacora.apply(col_calificaciones_funtion, axis=1, args=(mergebitacora,))"
   ]
  },
  {
   "cell_type": "code",
   "execution_count": 1209,
   "metadata": {},
   "outputs": [
    {
     "data": {
      "text/plain": [
       "Incumplidos_y\n",
       "0.0    38\n",
       "2.0    28\n",
       "Name: count, dtype: int64"
      ]
     },
     "execution_count": 1209,
     "metadata": {},
     "output_type": "execute_result"
    }
   ],
   "source": [
    "mergebitacora['Incumplidos_y'].value_counts()"
   ]
  },
  {
   "cell_type": "code",
   "execution_count": 1210,
   "metadata": {},
   "outputs": [],
   "source": [
    "def col_calificaciones(row, df):\n",
    "    \"\"\"\n",
    "    Calcula el valor del incumplimiento según las condiciones especificadas.\n",
    "\n",
    "    Parámetros:\n",
    "    row (pandas.Series): Una fila del DataFrame que contiene los datos de la bitácora.\n",
    "    df (pandas.DataFrame): DataFrame que contiene los datos de la bitácora.\n",
    "\n",
    "    Retorna:\n",
    "    int or float or np.nan: El valor del incumplimiento calculado según las condiciones.\n",
    "    \"\"\"\n",
    "   \n",
    "    if pd.isna(row['Incumplidos_x']) and pd.notna(row['Incumplidos_y']):\n",
    "        return np.nan\n",
    "    elif row['Incumplidos_x'] == 0:\n",
    "        return 0\n",
    "    elif row['Incumplidos_x'] in [2,3] and row['CALIFICACION'] == 1:\n",
    "        return row['CALIFICACION']\n",
    "    elif row['Incumplidos_x'] == 3:\n",
    "        return row['Incumplidos_x']\n",
    "    elif row['Incumplidos_x'] in [0,1,3] and row['Incumplidos_y']== 2:\n",
    "        return row['Incumplidos_x'] \n",
    "    elif row['Incumplidos_x']== 2 and  row['Incumplidos_y']== 2:\n",
    "        return row['Incumplidos_x'] \n",
    "    else:\n",
    "        np.nan\n"
   ]
  },
  {
   "cell_type": "code",
   "execution_count": 1214,
   "metadata": {},
   "outputs": [],
   "source": [
    "# Aplicar la función a todo el DataFrame\n",
    "mergebitacora['Incumplidos_y'] = mergebitacora.apply(col_calificaciones, axis=1, args=(mergebitacora,))"
   ]
  },
  {
   "cell_type": "code",
   "execution_count": 1215,
   "metadata": {},
   "outputs": [
    {
     "data": {
      "text/plain": [
       "Incumplidos_y\n",
       "0.0    55\n",
       "2.0    11\n",
       "1.0     4\n",
       "3.0     2\n",
       "Name: count, dtype: int64"
      ]
     },
     "execution_count": 1215,
     "metadata": {},
     "output_type": "execute_result"
    }
   ],
   "source": [
    "mergebitacora['Incumplidos_y'].value_counts()"
   ]
  },
  {
   "cell_type": "code",
   "execution_count": 1152,
   "metadata": {},
   "outputs": [
    {
     "data": {
      "text/plain": [
       "(16139, 81)"
      ]
     },
     "execution_count": 1152,
     "metadata": {},
     "output_type": "execute_result"
    }
   ],
   "source": [
    "mergebitacora.shape"
   ]
  },
  {
   "cell_type": "markdown",
   "metadata": {},
   "source": [
    "OK pendiente revisar calificaciones"
   ]
  },
  {
   "cell_type": "code",
   "execution_count": 45,
   "metadata": {},
   "outputs": [],
   "source": [
    "z = mergebitacora[(mergebitacora['Incumplidos_x'].isna())&(mergebitacora['Incumplidos_y'].notna())]"
   ]
  },
  {
   "cell_type": "code",
   "execution_count": 46,
   "metadata": {},
   "outputs": [
    {
     "data": {
      "text/html": [
       "<div>\n",
       "<style scoped>\n",
       "    .dataframe tbody tr th:only-of-type {\n",
       "        vertical-align: middle;\n",
       "    }\n",
       "\n",
       "    .dataframe tbody tr th {\n",
       "        vertical-align: top;\n",
       "    }\n",
       "\n",
       "    .dataframe thead th {\n",
       "        text-align: right;\n",
       "    }\n",
       "</style>\n",
       "<table border=\"1\" class=\"dataframe\">\n",
       "  <thead>\n",
       "    <tr style=\"text-align: right;\">\n",
       "      <th></th>\n",
       "      <th>VIAJE</th>\n",
       "      <th>TAREA</th>\n",
       "      <th>Incumplidos_x</th>\n",
       "      <th>Incumplidos_y</th>\n",
       "    </tr>\n",
       "  </thead>\n",
       "  <tbody>\n",
       "  </tbody>\n",
       "</table>\n",
       "</div>"
      ],
      "text/plain": [
       "Empty DataFrame\n",
       "Columns: [VIAJE, TAREA, Incumplidos_x, Incumplidos_y]\n",
       "Index: []"
      ]
     },
     "execution_count": 46,
     "metadata": {},
     "output_type": "execute_result"
    }
   ],
   "source": [
    "z[['VIAJE', 'TAREA', 'Incumplidos_x', 'Incumplidos_y']]"
   ]
  },
  {
   "cell_type": "code",
   "execution_count": 47,
   "metadata": {},
   "outputs": [
    {
     "data": {
      "text/html": [
       "<div>\n",
       "<style scoped>\n",
       "    .dataframe tbody tr th:only-of-type {\n",
       "        vertical-align: middle;\n",
       "    }\n",
       "\n",
       "    .dataframe tbody tr th {\n",
       "        vertical-align: top;\n",
       "    }\n",
       "\n",
       "    .dataframe thead th {\n",
       "        text-align: right;\n",
       "    }\n",
       "</style>\n",
       "<table border=\"1\" class=\"dataframe\">\n",
       "  <thead>\n",
       "    <tr style=\"text-align: right;\">\n",
       "      <th></th>\n",
       "      <th>VIAJE</th>\n",
       "      <th>TAREA</th>\n",
       "      <th>Incumplidos_x</th>\n",
       "      <th>Incumplidos_y</th>\n",
       "    </tr>\n",
       "  </thead>\n",
       "  <tbody>\n",
       "    <tr>\n",
       "      <th>0</th>\n",
       "      <td>1.0</td>\n",
       "      <td>1.0</td>\n",
       "      <td>NaN</td>\n",
       "      <td>NaN</td>\n",
       "    </tr>\n",
       "    <tr>\n",
       "      <th>1</th>\n",
       "      <td>2.0</td>\n",
       "      <td>1.0</td>\n",
       "      <td>NaN</td>\n",
       "      <td>NaN</td>\n",
       "    </tr>\n",
       "    <tr>\n",
       "      <th>2</th>\n",
       "      <td>9.0</td>\n",
       "      <td>1.0</td>\n",
       "      <td>NaN</td>\n",
       "      <td>NaN</td>\n",
       "    </tr>\n",
       "    <tr>\n",
       "      <th>3</th>\n",
       "      <td>10.0</td>\n",
       "      <td>1.0</td>\n",
       "      <td>NaN</td>\n",
       "      <td>NaN</td>\n",
       "    </tr>\n",
       "    <tr>\n",
       "      <th>4</th>\n",
       "      <td>17.0</td>\n",
       "      <td>1.0</td>\n",
       "      <td>NaN</td>\n",
       "      <td>NaN</td>\n",
       "    </tr>\n",
       "    <tr>\n",
       "      <th>...</th>\n",
       "      <td>...</td>\n",
       "      <td>...</td>\n",
       "      <td>...</td>\n",
       "      <td>...</td>\n",
       "    </tr>\n",
       "    <tr>\n",
       "      <th>18640</th>\n",
       "      <td>9955.0</td>\n",
       "      <td>99753.0</td>\n",
       "      <td>NaN</td>\n",
       "      <td>NaN</td>\n",
       "    </tr>\n",
       "    <tr>\n",
       "      <th>18641</th>\n",
       "      <td>9956.0</td>\n",
       "      <td>99753.0</td>\n",
       "      <td>NaN</td>\n",
       "      <td>NaN</td>\n",
       "    </tr>\n",
       "    <tr>\n",
       "      <th>18642</th>\n",
       "      <td>9957.0</td>\n",
       "      <td>99753.0</td>\n",
       "      <td>NaN</td>\n",
       "      <td>NaN</td>\n",
       "    </tr>\n",
       "    <tr>\n",
       "      <th>18643</th>\n",
       "      <td>9958.0</td>\n",
       "      <td>99753.0</td>\n",
       "      <td>NaN</td>\n",
       "      <td>NaN</td>\n",
       "    </tr>\n",
       "    <tr>\n",
       "      <th>18644</th>\n",
       "      <td>9959.0</td>\n",
       "      <td>99753.0</td>\n",
       "      <td>NaN</td>\n",
       "      <td>NaN</td>\n",
       "    </tr>\n",
       "  </tbody>\n",
       "</table>\n",
       "<p>18645 rows × 4 columns</p>\n",
       "</div>"
      ],
      "text/plain": [
       "        VIAJE    TAREA  Incumplidos_x  Incumplidos_y\n",
       "0         1.0      1.0            NaN            NaN\n",
       "1         2.0      1.0            NaN            NaN\n",
       "2         9.0      1.0            NaN            NaN\n",
       "3        10.0      1.0            NaN            NaN\n",
       "4        17.0      1.0            NaN            NaN\n",
       "...       ...      ...            ...            ...\n",
       "18640  9955.0  99753.0            NaN            NaN\n",
       "18641  9956.0  99753.0            NaN            NaN\n",
       "18642  9957.0  99753.0            NaN            NaN\n",
       "18643  9958.0  99753.0            NaN            NaN\n",
       "18644  9959.0  99753.0            NaN            NaN\n",
       "\n",
       "[18645 rows x 4 columns]"
      ]
     },
     "execution_count": 47,
     "metadata": {},
     "output_type": "execute_result"
    }
   ],
   "source": [
    "mergebitacora[['VIAJE', 'TAREA', 'Incumplidos_x', 'Incumplidos_y']]"
   ]
  },
  {
   "cell_type": "markdown",
   "metadata": {},
   "source": [
    "verificacion"
   ]
  },
  {
   "cell_type": "code",
   "execution_count": 48,
   "metadata": {},
   "outputs": [],
   "source": [
    "##\n",
    "##\n",
    "##no va\n",
    "##\n",
    "##\n",
    "# Definir una función para aplicar a cada grupo\n",
    "def eliminar_duplicados_bitacora(row):\n",
    "    # Verificar si hay al menos un valor en 'Incumplidos_x'\n",
    "    if row['Incumplidos_x'].isnull() and row['Incumplidos_x'].isnull():   \n",
    "        return row[row['Incumplidos_x'].notnull()]  # Conservar la fila con 'Incumplidos_x' no nulo\n",
    "    # Verificar si hay al menos un valor en 'Incumplidos_y'\n",
    "    elif row['Incumplidos_y'].notnull().any():\n",
    "        return row[row['Incumplidos_y'].notnull()]  # Conservar la fila con 'Incumplidos_y' no nulo\n",
    "    # Conservar la fila con el valor más bajo en 'CALIFICACION'\n",
    "    else:\n",
    "        return row.loc[row['CALIFICACION'].idxmin()]"
   ]
  },
  {
   "cell_type": "code",
   "execution_count": 49,
   "metadata": {},
   "outputs": [
    {
     "data": {
      "text/html": [
       "<div>\n",
       "<style scoped>\n",
       "    .dataframe tbody tr th:only-of-type {\n",
       "        vertical-align: middle;\n",
       "    }\n",
       "\n",
       "    .dataframe tbody tr th {\n",
       "        vertical-align: top;\n",
       "    }\n",
       "\n",
       "    .dataframe thead th {\n",
       "        text-align: right;\n",
       "    }\n",
       "</style>\n",
       "<table border=\"1\" class=\"dataframe\">\n",
       "  <thead>\n",
       "    <tr style=\"text-align: right;\">\n",
       "      <th></th>\n",
       "      <th>Fecha_x</th>\n",
       "      <th>Día tipo_x</th>\n",
       "      <th>Designación de tarea vehículo_x</th>\n",
       "      <th>Línea_x</th>\n",
       "      <th>Tipo de viaje corto_x</th>\n",
       "      <th>Sentido_x</th>\n",
       "      <th>Tipo Kilómetros</th>\n",
       "      <th>Número de Vehículo</th>\n",
       "      <th>Concesionario de Transporte_x</th>\n",
       "      <th>Número de tarea vehículo_x</th>\n",
       "      <th>...</th>\n",
       "      <th>Kms cancelados</th>\n",
       "      <th>Jerarquía</th>\n",
       "      <th>Tarea</th>\n",
       "      <th>Viaje</th>\n",
       "      <th>Parada</th>\n",
       "      <th>Vehículo_y</th>\n",
       "      <th>Novedad</th>\n",
       "      <th>CALIFICACION</th>\n",
       "      <th>texto_cmb_vehi</th>\n",
       "      <th>Incumplido_y</th>\n",
       "    </tr>\n",
       "  </thead>\n",
       "  <tbody>\n",
       "  </tbody>\n",
       "</table>\n",
       "<p>0 rows × 80 columns</p>\n",
       "</div>"
      ],
      "text/plain": [
       "Empty DataFrame\n",
       "Columns: [Fecha_x, Día tipo_x, Designación de tarea vehículo_x, Línea_x, Tipo de viaje corto_x, Sentido_x, Tipo Kilómetros, Número de Vehículo, Concesionario de Transporte_x, Número de tarea vehículo_x, Desde, hasta_x, Duración_x, Punto de inicio_x, Punto de término_x, Largo_x, Número de viaje_x, Tipo de vehículo del viaje_x, Secuencia de arcos_x, Descripción Novedad_x, Concesionario Programado, Tipo de vehículo Programado, Incumplidos_x, Kilometros Programados-Desvios, Kilometros Programados Plan, Clase de viaje, a evaluar, TAREA, LINEA, VIAJE, VEHICULO SGCO, Kms en Servicio (MTS PLANEADOS), PARADAS PLANEADAS, PARADAS REALIZADAS SGCO, % PARADAS REALIZADAS SGCO, Kms en Servicio (MTS SGCO), FUENTE SGCO, HORA REAL SALIDA, HORA REAL LLEGADA, id, Fecha_y, Día tipo_y, Designación de tarea vehículo_y, Línea_y, Tipo de viaje corto_y, Sentido_y, Tipo de kilometros, Número de secuencia de carro, Concesionario de Transporte_y, Número de tarea vehículo_y, desde, hasta_y, Duración_y, Punto de inicio_y, Punto de término_y, Largo_y, Número de viaje_y, Tipo de vehículo del viaje_y, Secuencia de arcos_y, Descripción Novedad_y, Subcontratista, Tipo de vehículo del viaje.1, Incumplidos_y, Nro de caso, Tipo, Lugar, Jerarquia, Vehículo_x, Kms Planeados, Kms Perdidos, Kms cancelados, Jerarquía, Tarea, Viaje, Parada, Vehículo_y, Novedad, CALIFICACION, texto_cmb_vehi, Incumplido_y]\n",
       "Index: []\n",
       "\n",
       "[0 rows x 80 columns]"
      ]
     },
     "execution_count": 49,
     "metadata": {},
     "output_type": "execute_result"
    }
   ],
   "source": [
    "# Muestra los id duplicados producto del merge con bitacora\n",
    "mergebitacora[mergebitacora['id'].duplicated()]"
   ]
  },
  {
   "cell_type": "markdown",
   "metadata": {},
   "source": [
    "Revision de Adicionales"
   ]
  },
  {
   "cell_type": "markdown",
   "metadata": {},
   "source": [
    "Columna condicional "
   ]
  },
  {
   "cell_type": "code",
   "execution_count": 50,
   "metadata": {},
   "outputs": [],
   "source": [
    "# Se cambian los vehiculos del cierre por los de k2##\n",
    "mergebitacora['Número de secuencia de carro'] = [x if pd.notna(x) else y for x, y in zip(mergebitacora['Número de secuencia de carro'], mergebitacora['Número de Vehículo'])]\n",
    "# Marca en la columnas Cambios los cambios que realiza el código\n",
    "mergebitacora['condicion'] = [ np.nan if  pd.notna(x) else 'Se Cambia # V RF' for x, y in zip(mergebitacora['Número de secuencia de carro'], mergebitacora['Número de Vehículo'])]\n"
   ]
  },
  {
   "cell_type": "code",
   "execution_count": 51,
   "metadata": {},
   "outputs": [],
   "source": [
    "# # Función para actualizar el texto de la columna condicion para Largo_y si Largo_x es mayor\n",
    "def actualizar_largo_texto(row):\n",
    "    if pd.isna(row['Largo_y']) and pd.isna(row['condicion']) :\n",
    "        return 'Cambia largo por NAN'\n",
    "    elif pd.isna(row['Largo_y']) and pd.notnull(row['condicion']) :\n",
    "        return row['condicion'] + '/Cambia largo por NAN'\n",
    "    elif row['Largo_x'] > row['Largo_y'] and pd.isna(row['condicion']):\n",
    "        return 'Cambia x Mayor largo'\n",
    "    elif row['Largo_x'] > row['Largo_y'] and pd.notnull(row['condicion']) :\n",
    "        return row['condicion'] + '/Cambia x Mayor largo'\n",
    "    else:\n",
    "        if pd.notnull(row['condicion']):\n",
    "            return row['condicion']\n",
    "            "
   ]
  },
  {
   "cell_type": "code",
   "execution_count": 52,
   "metadata": {},
   "outputs": [],
   "source": [
    "# Función para actualizar los valores de Largo_y si Largo_x es mayor\n",
    "def actualizar_largo(row):\n",
    "    if pd.isna(row['Largo_y']):\n",
    "        return row['Largo_x']\n",
    "    elif row['Largo_x'] > row['Largo_y']:\n",
    "        return row['Largo_x']\n",
    "    else:\n",
    "        return row['Largo_y']"
   ]
  },
  {
   "cell_type": "code",
   "execution_count": 53,
   "metadata": {},
   "outputs": [],
   "source": [
    "# Marcar las filas donde se realizan cambios en una nueva columna\n",
    "mergebitacora['condicion'] = mergebitacora.apply(actualizar_largo_texto, axis=1)"
   ]
  },
  {
   "cell_type": "code",
   "execution_count": 54,
   "metadata": {},
   "outputs": [],
   "source": [
    "# Aplicar la función a la columna Largo_y\n",
    "mergebitacora['Largo_y'] = mergebitacora.apply(actualizar_largo, axis=1)"
   ]
  },
  {
   "cell_type": "code",
   "execution_count": 55,
   "metadata": {},
   "outputs": [
    {
     "data": {
      "text/plain": [
       "condicion\n",
       "Cambia largo por NAN                     15876\n",
       "Se Cambia # V RF/Cambia largo por NAN     2350\n",
       "Name: count, dtype: int64"
      ]
     },
     "execution_count": 55,
     "metadata": {},
     "output_type": "execute_result"
    }
   ],
   "source": [
    "#Se verifican los cambios realizados\n",
    "mergebitacora['condicion'].value_counts()"
   ]
  },
  {
   "cell_type": "code",
   "execution_count": null,
   "metadata": {},
   "outputs": [],
   "source": []
  },
  {
   "cell_type": "code",
   "execution_count": 56,
   "metadata": {},
   "outputs": [
    {
     "data": {
      "text/plain": [
       "('Número de secuencia de carro',\n",
       " 'Secuencia de arcos',\n",
       " 'Concesionario Programado')"
      ]
     },
     "execution_count": 56,
     "metadata": {},
     "output_type": "execute_result"
    }
   ],
   "source": [
    "'Número de secuencia de carro', 'Secuencia de arcos', 'Concesionario Programado'"
   ]
  },
  {
   "cell_type": "code",
   "execution_count": 57,
   "metadata": {},
   "outputs": [],
   "source": [
    "# Condiciones para la columna condicional\n",
    "condicion1 = mergebitacora['Largo_x'] != mergebitacora['Largo_y']\n",
    "condicion2 = mergebitacora['Número de Vehículo'] != mergebitacora['Número de secuencia de carro']\n",
    "condicion3 = mergebitacora['Secuencia de arcos_x'] != mergebitacora['Secuencia de arcos_y']\n",
    "condicion4 = mergebitacora['Concesionario de Transporte_x'] != mergebitacora['Concesionario Programado']\n",
    "\n",
    "# Aplicar condiciones y asignar valores a la nueva columna\n",
    "mergebitacora['condicional2'] = np.where(condicion1 & condicion2 & condicion3 & condicion4, 'Revisar largo, parada, vehículo y consecionario',\n",
    "                                    np.where(condicion1 & condicion2 & condicion3, 'Revisar largo, parada y vehículo',\n",
    "                                        np.where(condicion1 & condicion2 & condicion4, 'Revisar largo, parada y consecionario',         \n",
    "                                            np.where(condicion1 & condicion3 & condicion4, 'Revisar largo, parada y consecionarios',\n",
    "                                                np.where(condicion2 & condicion3 & condicion4, 'Revisar vehiculo, parada y consecionarios',        \n",
    "                                                    np.where(condicion1 & condicion2, 'Revisar largo y vehiculo',\n",
    "                                                        np.where(condicion1 & condicion3, 'Revisar largo y parada',\n",
    "                                                            np.where(condicion1 & condicion4, 'Revisar largo y consecionario', \n",
    "                                                                np.where(condicion2 & condicion3, 'Revisar vehiculo y parada',\n",
    "                                                                    np.where(condicion2 & condicion4, 'Revisar vehiculo y consecionario',        \n",
    "                                                                        np.where(condicion3 & condicion4, 'Revisar parada y consecionario',                                            \n",
    "                                                                            np.where(condicion1, 'Revisar largo', \n",
    "                                                                                np.where(condicion2, 'Revisar numero de vehiculo',\n",
    "                                                                                    np.where(condicion3, 'Revisar paradas',\n",
    "                                                                                        np.where(condicion4, 'Revisar consesionario', 'OK')))))))))))))))"
   ]
  },
  {
   "cell_type": "code",
   "execution_count": 58,
   "metadata": {},
   "outputs": [
    {
     "data": {
      "text/plain": [
       "condicional2\n",
       "OK                                  10235\n",
       "Revisar consesionario                5875\n",
       "Revisar vehiculo y consecionario     2506\n",
       "Revisar largo                          28\n",
       "Revisar largo y consecionario           1\n",
       "Name: count, dtype: int64"
      ]
     },
     "execution_count": 58,
     "metadata": {},
     "output_type": "execute_result"
    }
   ],
   "source": [
    "mergebitacora['condicional2'].value_counts()"
   ]
  },
  {
   "cell_type": "code",
   "execution_count": 59,
   "metadata": {},
   "outputs": [],
   "source": [
    "# Exporta a un archivo excel el Df\n",
    "#mergebitacora.to_excel('../output/prueba_mergebita.xlsx', index=False, sheet_name='k2_procesado')"
   ]
  }
 ],
 "metadata": {
  "kernelspec": {
   "display_name": "w-env",
   "language": "python",
   "name": "w-env"
  },
  "language_info": {
   "codemirror_mode": {
    "name": "ipython",
    "version": 3
   },
   "file_extension": ".py",
   "mimetype": "text/x-python",
   "name": "python",
   "nbconvert_exporter": "python",
   "pygments_lexer": "ipython3",
   "version": "3.12.2"
  },
  "orig_nbformat": 4
 },
 "nbformat": 4,
 "nbformat_minor": 2
}
