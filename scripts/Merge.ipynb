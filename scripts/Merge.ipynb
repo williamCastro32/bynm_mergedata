{
 "cells": [
  {
   "attachments": {},
   "cell_type": "markdown",
   "metadata": {},
   "source": [
    "BYNmasivofy2024*"
   ]
  },
  {
   "cell_type": "code",
   "execution_count": 1426,
   "metadata": {},
   "outputs": [],
   "source": [
    "# Importa las librerias a usar\n",
    "import pandas as pd\n",
    "import re\n",
    "import numpy as np\n",
    "import funcionesw as bynm\n",
    "import datetime"
   ]
  },
  {
   "cell_type": "markdown",
   "metadata": {},
   "source": [
    "importar arvhivos a procesar"
   ]
  },
  {
   "cell_type": "code",
   "execution_count": 1427,
   "metadata": {},
   "outputs": [],
   "source": [
    "# ubicacion de los archivos\n",
    "patch1 = '../input/Kilometros en Servicio MIO - 05-Mar-2024.xlsx'# Se importa el archivo xlxs\n",
    "patch2 =  '../input/REPORTE FINALIZADO 05_MARZ_2024.xlsx'\n",
    "patch3 = '../input/JERARQUIAS.xlsx'"
   ]
  },
  {
   "cell_type": "code",
   "execution_count": 1428,
   "metadata": {},
   "outputs": [],
   "source": [
    "# Se importa el archivo xlxs\n",
    "kmsmio = pd.read_excel(patch1, sheet_name='Programacion')\n",
    "repofi = pd.read_excel(patch2, sheet_name='Programacion')\n",
    "bitacora = pd.read_excel(patch2, sheet_name='Bitacora')\n",
    "jerarquias = pd.read_excel(patch3, sheet_name='Hoja1')\n",
    "# Se eliminan las filas y las columnas vacias\n",
    "kmsmio = kmsmio.dropna(axis=0, how='all').dropna(axis=1, how='all')\n",
    "repofi = repofi.dropna(axis=0, how='all').dropna(axis=1, how='all')\n",
    "bitacora = bitacora.dropna(axis=0, how='all').dropna(axis=1, how='all')"
   ]
  },
  {
   "cell_type": "code",
   "execution_count": 1429,
   "metadata": {},
   "outputs": [],
   "source": [
    "# Se crea el df de adicionales\n",
    "adi = kmsmio[kmsmio['Kilometros Programados Plan'].isna()]"
   ]
  },
  {
   "cell_type": "markdown",
   "metadata": {},
   "source": [
    "Porcesar K2"
   ]
  },
  {
   "cell_type": "code",
   "execution_count": 1430,
   "metadata": {},
   "outputs": [],
   "source": [
    "# Filtra el DF por Kms en Servicio\n",
    "kmsmio = kmsmio[kmsmio['Tipo Kilómetros']== 'Kms en Servicio']\n",
    "kmsmio = kmsmio[kmsmio['Kilometros Programados Plan'].notna()]"
   ]
  },
  {
   "cell_type": "code",
   "execution_count": 1431,
   "metadata": {},
   "outputs": [],
   "source": [
    "# Cambiamos la hora 24 por 0\n",
    "kmsmio['Desde'] = kmsmio['Desde'].replace('24', '0')\n",
    "kmsmio = kmsmio[kmsmio['Desde'] != '0']\n"
   ]
  },
  {
   "cell_type": "code",
   "execution_count": 1432,
   "metadata": {},
   "outputs": [],
   "source": [
    "# Se crea una nueva columna 'id'\n",
    "kmsmio['id'] = kmsmio.apply(lambda row: '-'.join([str(row['Línea']), str(row['Número de tarea vehículo']), \n",
    "                                                   str(row['Desde']), str(row['hasta'])]), axis=1)\n"
   ]
  },
  {
   "cell_type": "code",
   "execution_count": 1433,
   "metadata": {},
   "outputs": [
    {
     "data": {
      "text/plain": [
       "(18645, 40)"
      ]
     },
     "execution_count": 1433,
     "metadata": {},
     "output_type": "execute_result"
    }
   ],
   "source": [
    "# Se verifica el tamaño del df\n",
    "kmsmio.shape"
   ]
  },
  {
   "cell_type": "code",
   "execution_count": 1434,
   "metadata": {},
   "outputs": [
    {
     "data": {
      "text/plain": [
       "id\n",
       "A14A-1-05:00:00-05:12:10                              1\n",
       "T47B-2-19:21:48-20:01:10                              1\n",
       "A14A-1-05:26:00-05:38:10                              1\n",
       "A14A-1-05:38:55-05:51:15                              1\n",
       "A14A-1-05:52:00-06:04:43                              1\n",
       "                                                     ..\n",
       "A35A-99753-1900-01-01 00:03:04-1900-01-01 00:14:39    1\n",
       "A35A-99753-23:03:04-23:14:39                          1\n",
       "A35A-99753-21:33:04-21:44:07                          1\n",
       "A35A-99753-21:30:02-21:30:17                          1\n",
       "A35A-99753-1900-01-01 00:16:10-1900-01-01 00:29:23    1\n",
       "Name: count, Length: 18645, dtype: int64"
      ]
     },
     "execution_count": 1434,
     "metadata": {},
     "output_type": "execute_result"
    }
   ],
   "source": [
    "# Se verifica que la columna id no tenga id repetidos\n",
    "kmsmio['id'].value_counts().sort_values(ascending=False)"
   ]
  },
  {
   "cell_type": "markdown",
   "metadata": {},
   "source": [
    "Procesar reporte finalizado"
   ]
  },
  {
   "cell_type": "code",
   "execution_count": 1435,
   "metadata": {},
   "outputs": [],
   "source": [
    "# Filtra el DF por Kms en Servicio\n",
    "repofi = repofi[repofi['Tipo de kilometros']== 'Kms en Servicio']\n",
    "# Se crea una nueva columna 'id'\n",
    "repofi['id'] = repofi.apply(lambda row: '-'.join([str(row['Línea']), str(row['Número de tarea vehículo']), \n",
    "                                                  str(row['desde']),str(row['hasta'])]), axis=1)\n"
   ]
  },
  {
   "cell_type": "code",
   "execution_count": 1436,
   "metadata": {},
   "outputs": [
    {
     "data": {
      "text/plain": [
       "id\n",
       "A14A-1-05:00:00-05:12:10                              1\n",
       "T47B-2-19:21:48-20:01:10                              1\n",
       "A14A-1-05:26:00-05:38:10                              1\n",
       "A14A-1-05:38:55-05:51:15                              1\n",
       "A14A-1-05:52:00-06:04:43                              1\n",
       "                                                     ..\n",
       "A35A-99753-1900-01-01 00:03:04-1900-01-01 00:14:39    1\n",
       "A35A-99753-23:03:04-23:14:39                          1\n",
       "A35A-99753-21:33:04-21:44:07                          1\n",
       "A35A-99753-21:30:02-21:30:17                          1\n",
       "A35A-99753-1900-01-01 00:16:10-1900-01-01 00:29:23    1\n",
       "Name: count, Length: 18645, dtype: int64"
      ]
     },
     "execution_count": 1436,
     "metadata": {},
     "output_type": "execute_result"
    }
   ],
   "source": [
    "# Se verifica que el id no tenga datos repetidos\n",
    "repofi['id'].value_counts().sort_values(ascending=False)"
   ]
  },
  {
   "cell_type": "code",
   "execution_count": 1437,
   "metadata": {},
   "outputs": [
    {
     "data": {
      "text/plain": [
       "(18645, 32)"
      ]
     },
     "execution_count": 1437,
     "metadata": {},
     "output_type": "execute_result"
    }
   ],
   "source": [
    "# Se verifica el tamaño del df\n",
    "repofi.shape"
   ]
  },
  {
   "cell_type": "code",
   "execution_count": 1438,
   "metadata": {},
   "outputs": [],
   "source": [
    "reporf = repofi[['id', 'Largo', 'Número de secuencia de carro', 'Secuencia de arcos', 'Concesionario de Transporte']]"
   ]
  },
  {
   "cell_type": "markdown",
   "metadata": {},
   "source": [
    "Se realiza el respectivo Merge con los dos df"
   ]
  },
  {
   "cell_type": "code",
   "execution_count": 1439,
   "metadata": {},
   "outputs": [],
   "source": [
    "# Se realiza el merge con outer en la columna id\n",
    "merge = pd.merge(kmsmio, repofi, on='id', how='outer')"
   ]
  },
  {
   "cell_type": "code",
   "execution_count": 1440,
   "metadata": {},
   "outputs": [
    {
     "data": {
      "text/plain": [
       "True"
      ]
     },
     "execution_count": 1440,
     "metadata": {},
     "output_type": "execute_result"
    }
   ],
   "source": [
    "# Se verifica que el numero de filas en los df sea igual (True), para poder concluir que el merge fue exitoso\n",
    "merge.shape[0] == kmsmio.shape[0] == repofi.shape[0]"
   ]
  },
  {
   "cell_type": "markdown",
   "metadata": {},
   "source": [
    "Calificaciones de jerarquias en Bitacora"
   ]
  },
  {
   "cell_type": "code",
   "execution_count": 1441,
   "metadata": {},
   "outputs": [],
   "source": [
    "# Selecciona las columnas a usar\n",
    "jerarquias = jerarquias[['JERARQUIA HGI RECO2',\t'CALIFICACION']]"
   ]
  },
  {
   "cell_type": "code",
   "execution_count": 1442,
   "metadata": {},
   "outputs": [],
   "source": [
    "# Esto elimina los espacios en blanco adelante y atras\n",
    "jerarquias['JERARQUIA HGI RECO2'] = jerarquias['JERARQUIA HGI RECO2'].str.strip()"
   ]
  },
  {
   "cell_type": "code",
   "execution_count": 1443,
   "metadata": {},
   "outputs": [],
   "source": [
    "#combina los el df de bitacora con el de jerarquias\n",
    "bitacora = pd.merge(bitacora, jerarquias, left_on='Jerarquía', right_on='JERARQUIA HGI RECO2', how='left' )"
   ]
  },
  {
   "cell_type": "code",
   "execution_count": 1444,
   "metadata": {},
   "outputs": [
    {
     "data": {
      "text/plain": [
       "Series([], Name: count, dtype: int64)"
      ]
     },
     "execution_count": 1444,
     "metadata": {},
     "output_type": "execute_result"
    }
   ],
   "source": [
    "# Esta linea es para verificar las filas que no se cruzaron por jerarquia y agregarlas a la matriz fe jererquia en input\n",
    "x = bitacora[(bitacora['Jerarquía'].str.startswith('Salida'))& bitacora['CALIFICACION'].isnull()]\n",
    "x['Jerarquía'].value_counts()"
   ]
  },
  {
   "cell_type": "code",
   "execution_count": 1445,
   "metadata": {},
   "outputs": [],
   "source": [
    "# Este codigo elimina los duplicado de la columna calificaciones eliminando el que no afecta a kilometros\n",
    "\n",
    "# Convertir la columna 'CALIFICACION' a numérica para poder comparar y encontrar el máximo\n",
    "bitacora['CALIFICACION'] = pd.to_numeric(bitacora['CALIFICACION'], errors='coerce')\n",
    "\n",
    "# Agrupar por las columnas 'Viaje' y 'Tarea', y mantener el valor máximo de 'CALIFICACION'\n",
    "bitacora_grouped = bitacora.groupby(['Viaje', 'Tarea']).agg({'CALIFICACION': 'max'}).reset_index()\n",
    "\n",
    "# Identificar las filas duplicadas en la tabla original\n",
    "duplicados = bitacora[bitacora.duplicated(subset=['Viaje', 'Tarea'], keep=False)]\n",
    "\n",
    "# Mantener solo una fila para cada grupo de duplicados en 'Viaje' y 'Tarea'\n",
    "bitacora_sin_duplicados = bitacora.drop_duplicates(subset=['Viaje', 'Tarea'])\n",
    "\n",
    "# Fusionar los datos filtrados con los valores máximos de 'CALIFICACION'\n",
    "bitacora_final = pd.merge(bitacora_sin_duplicados, bitacora_grouped, on=['Viaje', 'Tarea'])\n",
    "\n",
    "# Eliminar cualquiera de las filas duplicadas si ambas tienen valores nulos en 'CALIFICACION'\n",
    "bitacora = bitacora_final.drop_duplicates(subset=['Viaje', 'Tarea'], keep='last', ignore_index=True)\n",
    "    "
   ]
  },
  {
   "cell_type": "code",
   "execution_count": 1446,
   "metadata": {},
   "outputs": [
    {
     "data": {
      "text/html": [
       "<div>\n",
       "<style scoped>\n",
       "    .dataframe tbody tr th:only-of-type {\n",
       "        vertical-align: middle;\n",
       "    }\n",
       "\n",
       "    .dataframe tbody tr th {\n",
       "        vertical-align: top;\n",
       "    }\n",
       "\n",
       "    .dataframe thead th {\n",
       "        text-align: right;\n",
       "    }\n",
       "</style>\n",
       "<table border=\"1\" class=\"dataframe\">\n",
       "  <thead>\n",
       "    <tr style=\"text-align: right;\">\n",
       "      <th></th>\n",
       "      <th># Caso MC</th>\n",
       "      <th>Tipo novedad</th>\n",
       "      <th>Jerarquía</th>\n",
       "      <th>Tarea</th>\n",
       "      <th>Viaje</th>\n",
       "      <th>Parada</th>\n",
       "      <th>Operador</th>\n",
       "      <th>Línea</th>\n",
       "      <th>Vehículo</th>\n",
       "      <th>Hora</th>\n",
       "      <th>...</th>\n",
       "      <th>Jerarquia</th>\n",
       "      <th>Tipo de Novedad</th>\n",
       "      <th>Novedad</th>\n",
       "      <th>Retoma/Salida</th>\n",
       "      <th>Unnamed: 16</th>\n",
       "      <th>Unnamed: 17</th>\n",
       "      <th>Unnamed: 18</th>\n",
       "      <th>JERARQUIA HGI RECO2</th>\n",
       "      <th>CALIFICACION_x</th>\n",
       "      <th>CALIFICACION_y</th>\n",
       "    </tr>\n",
       "  </thead>\n",
       "  <tbody>\n",
       "  </tbody>\n",
       "</table>\n",
       "<p>0 rows × 22 columns</p>\n",
       "</div>"
      ],
      "text/plain": [
       "Empty DataFrame\n",
       "Columns: [# Caso MC, Tipo novedad, Jerarquía, Tarea, Viaje, Parada, Operador, Línea, Vehículo, Hora, Fecha, Descripción, Jerarquia, Tipo de Novedad, Novedad, Retoma/Salida, Unnamed: 16, Unnamed: 17, Unnamed: 18, JERARQUIA HGI RECO2, CALIFICACION_x, CALIFICACION_y]\n",
       "Index: []\n",
       "\n",
       "[0 rows x 22 columns]"
      ]
     },
     "execution_count": 1446,
     "metadata": {},
     "output_type": "execute_result"
    }
   ],
   "source": [
    "# Se verifica que no hay duplicados\n",
    "bitacora[bitacora.duplicated(subset=['Viaje', 'Tarea'], keep=False)]"
   ]
  },
  {
   "cell_type": "code",
   "execution_count": 1447,
   "metadata": {},
   "outputs": [],
   "source": [
    "# Se elimina la columna CALIFICACION_X y se renombra la columna CALIFICACION_Y\n",
    "bitacora.drop(columns='CALIFICACION_x', axis=1, inplace=True)\n",
    "bitacora.rename(columns={'CALIFICACION_y': 'CALIFICACION'}, inplace=True)\n"
   ]
  },
  {
   "cell_type": "markdown",
   "metadata": {},
   "source": [
    "Merge con bitacora\n"
   ]
  },
  {
   "cell_type": "code",
   "execution_count": 1448,
   "metadata": {},
   "outputs": [],
   "source": [
    "# Se reemplan las filas nulas por ceros de las dos columnas para posteriormente carbiar el tipo de dato\n",
    "bitacora[['Tarea', 'Viaje']] = bitacora[['Tarea', 'Viaje']].fillna(0).astype(int)"
   ]
  },
  {
   "cell_type": "code",
   "execution_count": 1449,
   "metadata": {},
   "outputs": [],
   "source": [
    "# Se selecionan las columnas de Bitacora que se van a usar\n",
    "bitacora = bitacora[['Jerarquía',\t'Tarea',\t'Viaje', 'Parada', 'Vehículo', 'Novedad', 'CALIFICACION']]\n",
    "# Se filtran los casos que no tiene numero de viaje ya que no tiene retoma\n",
    "bitacora = bitacora[bitacora['Viaje'] != 0]"
   ]
  },
  {
   "cell_type": "code",
   "execution_count": 1450,
   "metadata": {},
   "outputs": [
    {
     "data": {
      "text/plain": [
       "True"
      ]
     },
     "execution_count": 1450,
     "metadata": {},
     "output_type": "execute_result"
    }
   ],
   "source": [
    "# Se compara las filas de los df, el resultado debe ser False\n",
    "bitacora.shape[0]==bitacora.shape[0]"
   ]
  },
  {
   "cell_type": "code",
   "execution_count": 1451,
   "metadata": {},
   "outputs": [],
   "source": [
    "# Se agrega al merge anterior la informacion de bitacora\n",
    "# Importante tener en cuenta los vehiculos que tengan mas de un caso en la bitacora, esto genera id duplicados.\n",
    "mergebitacora = pd.merge(merge, bitacora, left_on=['Número de tarea vehículo_x', 'Número de viaje_x'], right_on=['Tarea', 'Viaje'], how='outer' )"
   ]
  },
  {
   "cell_type": "code",
   "execution_count": 1452,
   "metadata": {},
   "outputs": [
    {
     "data": {
      "text/plain": [
       "0"
      ]
     },
     "execution_count": 1452,
     "metadata": {},
     "output_type": "execute_result"
    }
   ],
   "source": [
    "# Revisar este resultado, ya que los valores que no coinceden deben ser iguales en el filtro\n",
    "mergebitacora.shape[0]- merge.shape[0]"
   ]
  },
  {
   "cell_type": "code",
   "execution_count": 1453,
   "metadata": {},
   "outputs": [],
   "source": [
    "# Cambia Blanco y Negro Masivo por BYN en la columna Concesionario Programado\n",
    "mergebitacora['Concesionario Programado'] = mergebitacora['Concesionario Programado'].replace('Blanco y Negro Masivo','BYN')"
   ]
  },
  {
   "cell_type": "markdown",
   "metadata": {},
   "source": [
    "Revisar de numero de vehiculos para posteriormente verificar el incumplimiento"
   ]
  },
  {
   "cell_type": "code",
   "execution_count": 1454,
   "metadata": {},
   "outputs": [],
   "source": [
    "def vehiculos_xy_texto(row):\n",
    "    \"\"\"\n",
    "    Asigna un texto descriptivo según las condiciones especificadas sobre los números de vehículo y secuencia de carro.\n",
    "\n",
    "    Parámetros:\n",
    "    row (pandas.Series): Una fila del DataFrame que contiene los datos de la bitácora.\n",
    "\n",
    "    Retorna:\n",
    "    str: Un texto descriptivo que indica el resultado de las comparaciones entre los números de vehículo y secuencia de carro.\n",
    "\n",
    "    Detalles de la lógica:\n",
    "    - Si el número de vehículo es nulo y el número de secuencia de carro no lo es, devuelve 'Revisar caso'.\n",
    "    - Si el número de vehículo no es nulo y el número de secuencia de carro sí lo es, devuelve 'Se reemplaza por el del k2 por nan'.\n",
    "    - Si el número de vehículo es diferente del número de secuencia de carro, devuelve 'Se reemplaza por el del k2 # diferente'.\n",
    "    - En cualquier otro caso, devuelve 'Numero ok'.\n",
    "    \"\"\"\n",
    "    if pd.isna(row['Número de Vehículo']) and pd.notna(row['Número de secuencia de carro']): \n",
    "        return 'Revisar caso # vehiculo'\n",
    "    elif pd.notna(row['Número de Vehículo']) and pd.isna(row['Número de secuencia de carro']):\n",
    "        return 'Se reemplaza por el del k2 por nan'\n",
    "    elif row['Número de Vehículo'] != row['Número de secuencia de carro']:\n",
    "        return 'Se reemplaza por el del k2 # diferente'\n",
    "    else: \n",
    "        return 'Numero ok'"
   ]
  },
  {
   "cell_type": "code",
   "execution_count": 1455,
   "metadata": {},
   "outputs": [],
   "source": [
    "# Se crea una nueva columna donde se pondra los cambios que realizara la funcion\n",
    "mergebitacora['texto_cmb_vehi'] = np.nan\n",
    "# Se aplica la funcion al df\n",
    "mergebitacora['texto_cmb_vehi'] = mergebitacora.apply(vehiculos_xy_texto, axis=1)"
   ]
  },
  {
   "cell_type": "code",
   "execution_count": 1456,
   "metadata": {},
   "outputs": [
    {
     "data": {
      "text/plain": [
       "texto_cmb_vehi\n",
       "Se reemplaza por el del k2 por nan        9496\n",
       "Numero ok                                 6445\n",
       "Se reemplaza por el del k2 # diferente    2548\n",
       "Revisar caso # vehiculo                    156\n",
       "Name: count, dtype: int64"
      ]
     },
     "execution_count": 1456,
     "metadata": {},
     "output_type": "execute_result"
    }
   ],
   "source": [
    "# Se verifica \n",
    "mergebitacora['texto_cmb_vehi'].value_counts()"
   ]
  },
  {
   "cell_type": "code",
   "execution_count": 1457,
   "metadata": {},
   "outputs": [],
   "source": [
    "def vehiculo_xy(row):\n",
    "    \"\"\"\n",
    "    Retorna el valor adecuado para el número de vehículo según las condiciones especificadas respecto al número de secuencia de carro.\n",
    "\n",
    "    Parámetros:\n",
    "    row (pandas.Series): Una fila del DataFrame que contiene los datos de la bitácora.\n",
    "\n",
    "    Retorna:\n",
    "    int or float or np.nan: El valor del número de vehículo seleccionado según las condiciones.\n",
    "\n",
    "    Detalles de la lógica:\n",
    "    - Si el número de vehículo es nulo y el número de secuencia de carro no lo es, devuelve el número de secuencia de carro.\n",
    "    - Si el número de vehículo no es nulo y el número de secuencia de carro sí lo es, devuelve el número de vehículo.\n",
    "    - Si el número de vehículo es diferente del número de secuencia de carro, devuelve el número de vehículo.\n",
    "    - En cualquier otro caso, devuelve el mismo valor de número de secuencia de carro.\n",
    "    \"\"\"\n",
    "    if pd.isna(row['Número de Vehículo']) and pd.notna(row['Número de secuencia de carro']): \n",
    "        return row['Número de secuencia de carro']\n",
    "    elif pd.notna(row['Número de Vehículo']) and pd.isna(row['Número de secuencia de carro']):\n",
    "        return row['Número de Vehículo']\n",
    "    elif row['Número de Vehículo'] != row['Número de secuencia de carro']:\n",
    "        return row['Número de Vehículo']\n",
    "    else:\n",
    "        return row['Número de secuencia de carro']"
   ]
  },
  {
   "cell_type": "code",
   "execution_count": 1458,
   "metadata": {},
   "outputs": [],
   "source": [
    "# Se aplica la funcion vehiculo_xy\n",
    "mergebitacora['Número de secuencia de carro'] = mergebitacora.apply(vehiculo_xy, axis=1)"
   ]
  },
  {
   "cell_type": "markdown",
   "metadata": {},
   "source": [
    "ok"
   ]
  },
  {
   "cell_type": "markdown",
   "metadata": {},
   "source": [
    "Revision de casos amarillos y rosa"
   ]
  },
  {
   "cell_type": "code",
   "execution_count": 1459,
   "metadata": {},
   "outputs": [],
   "source": [
    "# Seleccion de casos Amarillos\n",
    "amarillos = ['INGRESO::RETOMA','SALIDAS::POR FLOTA','SALIDAS::POR ACCIDENTE','SALIDAS::POR ABANDONO DE TAREA','INGRESO::ADICIONAL',\n",
    "            'SALIDAS::POR VANDALISMO','SALIDAS::POR ALARMA','CANCELACION::DE ADICIONAL','SALIDAS::POR OPERADOR'\n",
    "            ]\n",
    "\n"
   ]
  },
  {
   "cell_type": "code",
   "execution_count": 1460,
   "metadata": {},
   "outputs": [],
   "source": [
    "# Esta funcion marcara en una columna los cambios que se hagan a la columna Largo_y\n",
    "def rev_amarillos_rosa_text(row):\n",
    "    \"\"\"\n",
    "    Esta función se aplica a cada fila del DataFrame para evaluar si se cumplen ciertas condiciones\n",
    "    basadas en las columnas 'Número de Vehículo', 'Descripción Novedad_x' y 'PARADAS PLANEADAS'.\n",
    "    Según las condiciones cumplidas, devuelve un texto descriptivo correspondiente.\n",
    "\n",
    "    Parámetros:\n",
    "    row (pandas.Series): Una fila del DataFrame que contiene los datos de la bitácora.\n",
    "\n",
    "    Retorna:\n",
    "    str: Un texto descriptivo basado en las condiciones especificadas.\n",
    "\n",
    "    Detalles de la lógica:\n",
    "    - Si 'Número de Vehículo' no es NaN y 'Descripción Novedad_x' no es NaN, se evalúan las condiciones.\n",
    "    - Si 'Descripción Novedad_x' contiene al menos uno de los elementos de la lista 'amarillos',\n",
    "      se procede a realizar búsquedas específicas en 'Descripción Novedad_x'.\n",
    "    - Se utilizan expresiones regulares para buscar patrones relacionados con 'INGRESO', 'SALIDAS' y 'CANCELACION'\n",
    "      seguidos del número de parada en 'Descripción Novedad_x'.\n",
    "    - Dependiendo de los resultados de las búsquedas y de los valores en 'PARADAS PLANEADAS', se devuelve un texto\n",
    "      descriptivo que indica cómo se debe manejar el valor de 'Largo' en esa fila.\n",
    "\n",
    "    \"\"\"\n",
    "    if pd.notna(row['Número de Vehículo']):\n",
    "        if pd.notna(row['Descripción Novedad_x']): \n",
    "            # Casos rosa\n",
    "            if isinstance(row['Descripción Novedad_x'], str) and 'Nro. Caso Desvio:' in row['Descripción Novedad_x']:\n",
    "                    if row['Largo_y'] == row['Kilometros Programados Plan']:\n",
    "                        return 'Se cambia Largo por el k2_if_8'\n",
    "                    elif row['Largo_y'] != row['Kilometros Programados Plan']:\n",
    "                        if row['Largo_y'] != row['Kilometros Programados-Desvios']:\n",
    "                            if row['Largo_y'] < row['Largo_x']:\n",
    "                                return 'Se cambia Largo por el k2__9'\n",
    "                        else:\n",
    "                            'Se mantiene largo_if_10'\n",
    "            # Casos Amarillos                \n",
    "            elif isinstance(amarillos, list) and any(isinstance(amarillo, str) and amarillo in row['Descripción Novedad_x'] for amarillo in amarillos):\n",
    "                ingreso_match = re.search(r'INGRESO.*?Nro\\. Parada:\\s*(\\d{1,3})', row['Descripción Novedad_x'])\n",
    "                salida_match = re.search(r'SALIDAS.*?Nro\\. Parada:\\s*(\\d{1,3})', row['Descripción Novedad_x'])\n",
    "                cancelacion_match = re.search(r'CANCELACION.*?Nro\\. Parada:\\s*(\\d{1,3})', row['Descripción Novedad_x'])       \n",
    "                if ingreso_match and int(ingreso_match.group(1)) == 1 and int(row['PARADAS PLANEADAS']) != 1:\n",
    "                    return 'Se cambia Largo por el k2_if1'\n",
    "                elif ingreso_match and int(ingreso_match.group(1)) != 1:\n",
    "                    return 'Se cambia Largo por el k2_if2'\n",
    "                elif salida_match and int(salida_match.group(1)) != int(row['PARADAS PLANEADAS']):\n",
    "                    return 'Se cambia Largo por el k2_if3'\n",
    "                elif salida_match and int(salida_match.group(1)) == int(row['PARADAS PLANEADAS']):\n",
    "                    return 'Se mantiene largo_if4'\n",
    "                elif cancelacion_match and int(cancelacion_match.group(1)) != int(row['PARADAS PLANEADAS']):\n",
    "                    return 'Se cambia Largo por el k2_if5'\n",
    "                elif cancelacion_match and int(cancelacion_match.group(1)) == int(row['PARADAS PLANEADAS']):\n",
    "                    return 'Se mantiene largo_if_6'\n",
    "                else:\n",
    "                    return 'Se mantiene largo_if7'                       \n",
    "            else:\n",
    "                return 'Se mantiene largo_if_11'\n",
    "        else:\n",
    "            return 'Se mantiene largo_if_12' \n",
    "    else:\n",
    "        return 'Se mantiene largo_if_13' # Se agrega un caso adicional si el 'Número de Vehículo' es NaN\n"
   ]
  },
  {
   "cell_type": "code",
   "execution_count": 1461,
   "metadata": {},
   "outputs": [],
   "source": [
    "mergebitacora['texto_colores'] = np.nan"
   ]
  },
  {
   "cell_type": "code",
   "execution_count": 1462,
   "metadata": {},
   "outputs": [],
   "source": [
    "mergebitacora['texto_colores'] = mergebitacora.apply(rev_amarillos_rosa_text, axis=1)"
   ]
  },
  {
   "cell_type": "code",
   "execution_count": 1463,
   "metadata": {},
   "outputs": [
    {
     "data": {
      "text/plain": [
       "texto_colores\n",
       "Se mantiene largo_if_12           14954\n",
       "Se mantiene largo_if_13            2506\n",
       "Se cambia Largo por el k2_if_8      418\n",
       "Se mantiene largo_if4               311\n",
       "Se cambia Largo por el k2_if1       189\n",
       "Se cambia Largo por el k2_if2       166\n",
       "Se cambia Largo por el k2_if3        63\n",
       "Se mantiene largo_if_11              30\n",
       "Se mantiene largo_if_6                6\n",
       "Se cambia Largo por el k2__9          1\n",
       "Se cambia Largo por el k2_if5         1\n",
       "Name: count, dtype: int64"
      ]
     },
     "execution_count": 1463,
     "metadata": {},
     "output_type": "execute_result"
    }
   ],
   "source": [
    "mergebitacora['texto_colores'].value_counts()"
   ]
  },
  {
   "cell_type": "markdown",
   "metadata": {},
   "source": [
    "colocar amarillos y rosas en una misma funcion para simplificar codigo"
   ]
  },
  {
   "cell_type": "code",
   "execution_count": 1464,
   "metadata": {},
   "outputs": [],
   "source": [
    "# Esta funcion marcara en una columna los cambios que se hagan a la columna Largo_y\n",
    "def rev_amarillos_rosa(row):\n",
    "    \"\"\"\n",
    "    Aplica lógica condicional para marcar los cambios realizados en la columna 'Largo_y' en función de las características de la fila.\n",
    "\n",
    "    Parámetros:\n",
    "    row (pandas.Series): Una fila del DataFrame que contiene los datos de la bitácora.\n",
    "\n",
    "    Retorna:\n",
    "    int or float: El valor de 'Largo_y' después de aplicar las modificaciones, o el mismo valor si no se realizan cambios.\n",
    "\n",
    "    Detalles de la lógica:\n",
    "    - Verifica si el 'Número de Vehículo' no es NaN.\n",
    "    - Verifica si la 'Descripción Novedad_x' no es NaN.\n",
    "    - Si la 'Descripción Novedad_x' contiene 'Nro. Caso Desvio:', aplica la lógica específica para estos casos:\n",
    "      - Si 'Largo_y' es igual a 'Kilometros Programados Plan', devuelve 'Kilometros Programados-Desvios'.\n",
    "      - Si 'Largo_y' es diferente a 'Kilometros Programados Plan', pero igual a 'Kilometros Programados-Desvios', devuelve 'Largo_y'.\n",
    "      - Si 'Largo_y' es menor que 'Largo_x', devuelve 'Largo_x', de lo contrario, devuelve 'Largo_y'.\n",
    "    - Si la 'Descripción Novedad_x' contiene alguna de las cadenas definidas en la lista 'amarillos', aplica la lógica específica para estos casos:\n",
    "      - Basado en patrones de expresiones regulares, determina si se deben realizar cambios en 'Largo_y'.\n",
    "      - Si se cumplen las condiciones anteriores, devuelve 'Largo_x' o 'Largo_y' según corresponda.\n",
    "    - Si ninguna de las condiciones anteriores se cumple, devuelve el valor actual de 'Largo_y'.\n",
    "\n",
    "    Casos Especiales:\n",
    "    - Si el 'Número de Vehículo' es NaN, devuelve el valor actual de 'Largo_y'.\n",
    "    \"\"\"\n",
    "    # Lógica condicional para marcar los cambios en 'Largo_y' según las características de la fila\n",
    "      \n",
    "    if pd.notna(row['Número de Vehículo']):\n",
    "        if pd.notna(row['Descripción Novedad_x']): \n",
    "            # Casos rosa\n",
    "            if isinstance(row['Descripción Novedad_x'], str) and 'Nro. Caso Desvio:' in row['Descripción Novedad_x']:\n",
    "                    if row['Largo_y'] == row['Kilometros Programados Plan']:\n",
    "                        return row['Kilometros Programados-Desvios']\n",
    "                    elif row['Largo_y'] != row['Kilometros Programados Plan']:\n",
    "                        if row['Largo_y'] != row['Kilometros Programados-Desvios']:\n",
    "                            if row['Largo_y'] < row['Largo_x']:\n",
    "                                return row['Largo_x']\n",
    "                            else:\n",
    "                                row['Largo_y']\n",
    "                        else:\n",
    "                            row['Largo_y']\n",
    "                    else:\n",
    "                        row['Largo_y']\n",
    "            # Casos Amarillos                \n",
    "            elif isinstance(amarillos, list) and any(isinstance(amarillo, str) and amarillo in row['Descripción Novedad_x'] for amarillo in amarillos):\n",
    "                ingreso_match = re.search(r'INGRESO.*?Nro\\. Parada:\\s*(\\d{1,3})', row['Descripción Novedad_x'])\n",
    "                salida_match = re.search(r'SALIDAS.*?Nro\\. Parada:\\s*(\\d{1,3})', row['Descripción Novedad_x'])\n",
    "                cancelacion_match = re.search(r'CANCELACION.*?Nro\\. Parada:\\s*(\\d{1,3})', row['Descripción Novedad_x'])       \n",
    "                if ingreso_match and int(ingreso_match.group(1)) == 1 and int(row['PARADAS PLANEADAS']) != 1:\n",
    "                    return row['Largo_x']\n",
    "                elif ingreso_match and int(ingreso_match.group(1)) != 1:\n",
    "                    return row['Largo_x']\n",
    "                elif salida_match and int(salida_match.group(1)) != int(row['PARADAS PLANEADAS']):\n",
    "                    return row['Largo_x']\n",
    "                elif salida_match and int(salida_match.group(1)) == int(row['PARADAS PLANEADAS']):\n",
    "                    return  row['Largo_y']\n",
    "                elif cancelacion_match and int(cancelacion_match.group(1)) != int(row['PARADAS PLANEADAS']):\n",
    "                    return row['Largo_x']\n",
    "                elif cancelacion_match and int(cancelacion_match.group(1)) == int(row['PARADAS PLANEADAS']):\n",
    "                    return  row['Largo_y']\n",
    "                else:\n",
    "                    return  row['Largo_y']                       \n",
    "            else:\n",
    "                row['Largo_y']\n",
    "        else:\n",
    "            row['Largo_y'] \n",
    "    else:\n",
    "        return row['Largo_y'] # Se agrega un caso adicional si el 'Número de Vehículo' es Na"
   ]
  },
  {
   "cell_type": "code",
   "execution_count": 1465,
   "metadata": {},
   "outputs": [],
   "source": [
    "mergebitacora['Largo_y'] = mergebitacora.apply(rev_amarillos_rosa, axis=1)"
   ]
  },
  {
   "cell_type": "markdown",
   "metadata": {},
   "source": [
    "Casos verdes"
   ]
  },
  {
   "cell_type": "code",
   "execution_count": 1466,
   "metadata": {},
   "outputs": [],
   "source": [
    "# Se filtran las filas en las que no hay número de vehículo ni en 'x' ni en 'y'\n",
    "mergebitacora = mergebitacora[(mergebitacora['Número de Vehículo'].notnull()) & (mergebitacora['Número de secuencia de carro'].notna())]"
   ]
  },
  {
   "cell_type": "code",
   "execution_count": 1467,
   "metadata": {},
   "outputs": [],
   "source": [
    "# Se seleccionan las columnas de adicional para el merge\n",
    "adi = adi[['Número de Vehículo','Desde','hasta']]"
   ]
  },
  {
   "cell_type": "code",
   "execution_count": 1468,
   "metadata": {},
   "outputs": [],
   "source": [
    "# Cambiamos la hora 24 por 0\n",
    "adi['Desde'] = adi['Desde'].replace('24', '0')\n",
    "# Filtramos el DataFrame para excluir las filas donde 'Desde' es '0'\n",
    "adi = adi[adi['Desde'] != '0']\n",
    "# Cambiamos la hora 24 por 0\n",
    "adi['hasta'] = adi['hasta'].replace('24', '0')\n",
    "# Filtramos el DataFrame para excluir las filas donde 'Desde' es '0'\n",
    "adi = adi[adi['hasta'] != '0']\n"
   ]
  },
  {
   "cell_type": "code",
   "execution_count": 1469,
   "metadata": {},
   "outputs": [],
   "source": [
    "\n",
    "\n",
    "# Función para restar un minuto a un objeto datetime.time\n",
    "def subtract_one_minute(time):\n",
    "    # Convertir el tiempo a segundos\n",
    "    total_seconds = time.hour * 3600 + time.minute * 60 + time.second\n",
    "    # Restar 60 segundos (un minuto)\n",
    "    total_seconds -= 60\n",
    "    # Manejar el caso cuando el resultado es negativo\n",
    "    if total_seconds < 0:\n",
    "        total_seconds += 24 * 3600  # Sumar un día en segundos\n",
    "    # Convertir de nuevo a objeto datetime.time\n",
    "    new_time = datetime.time(total_seconds // 3600, (total_seconds % 3600) // 60, total_seconds % 60)\n",
    "    return new_time\n",
    "\n",
    "# Aplicar la función a la columna 'Desde'\n",
    "adi['Desde'] = adi['Desde'].apply(subtract_one_minute)\n",
    "adi['hasta'] = adi['hasta'].apply(subtract_one_minute)"
   ]
  },
  {
   "cell_type": "code",
   "execution_count": 1470,
   "metadata": {},
   "outputs": [],
   "source": [
    "# Crea una nueva columna llamada 'ID' que combine las columnas 'Número de secuencia de carro', 'Desde' y 'hasta_x'\n",
    "mergebitacora['idadi'] = mergebitacora.apply(lambda row: f\"{row['Número de secuencia de carro']}_{row['Desde']}_{row['hasta_x']}\", axis=1)"
   ]
  },
  {
   "cell_type": "code",
   "execution_count": 1471,
   "metadata": {},
   "outputs": [],
   "source": [
    "# Crea una nueva columna llamada 'ID' que combine las columnas 'Número de secuencia de carro', 'Desde' y 'hasta_x'\n",
    "adi['idadi'] = adi.apply(lambda row: f\"{row['Número de Vehículo']}_{row['Desde']}_{row['hasta']}\", axis=1)"
   ]
  },
  {
   "cell_type": "code",
   "execution_count": 1472,
   "metadata": {},
   "outputs": [
    {
     "data": {
      "text/html": [
       "<div>\n",
       "<style scoped>\n",
       "    .dataframe tbody tr th:only-of-type {\n",
       "        vertical-align: middle;\n",
       "    }\n",
       "\n",
       "    .dataframe tbody tr th {\n",
       "        vertical-align: top;\n",
       "    }\n",
       "\n",
       "    .dataframe thead th {\n",
       "        text-align: right;\n",
       "    }\n",
       "</style>\n",
       "<table border=\"1\" class=\"dataframe\">\n",
       "  <thead>\n",
       "    <tr style=\"text-align: right;\">\n",
       "      <th></th>\n",
       "      <th>Número de Vehículo</th>\n",
       "      <th>Desde</th>\n",
       "      <th>hasta</th>\n",
       "      <th>idadi</th>\n",
       "    </tr>\n",
       "  </thead>\n",
       "  <tbody>\n",
       "    <tr>\n",
       "      <th>20274</th>\n",
       "      <td>22117</td>\n",
       "      <td>16:10:09</td>\n",
       "      <td>16:39:28</td>\n",
       "      <td>22117_16:10:09_16:39:28</td>\n",
       "    </tr>\n",
       "    <tr>\n",
       "      <th>20275</th>\n",
       "      <td>22117</td>\n",
       "      <td>16:10:09</td>\n",
       "      <td>16:39:28</td>\n",
       "      <td>22117_16:10:09_16:39:28</td>\n",
       "    </tr>\n",
       "  </tbody>\n",
       "</table>\n",
       "</div>"
      ],
      "text/plain": [
       "      Número de Vehículo     Desde     hasta                    idadi\n",
       "20274              22117  16:10:09  16:39:28  22117_16:10:09_16:39:28\n",
       "20275              22117  16:10:09  16:39:28  22117_16:10:09_16:39:28"
      ]
     },
     "execution_count": 1472,
     "metadata": {},
     "output_type": "execute_result"
    }
   ],
   "source": [
    "adi[adi.duplicated(subset='idadi', keep=False)]# Preguntar a cristan"
   ]
  },
  {
   "cell_type": "code",
   "execution_count": 1473,
   "metadata": {},
   "outputs": [
    {
     "data": {
      "text/html": [
       "<div>\n",
       "<style scoped>\n",
       "    .dataframe tbody tr th:only-of-type {\n",
       "        vertical-align: middle;\n",
       "    }\n",
       "\n",
       "    .dataframe tbody tr th {\n",
       "        vertical-align: top;\n",
       "    }\n",
       "\n",
       "    .dataframe thead th {\n",
       "        text-align: right;\n",
       "    }\n",
       "</style>\n",
       "<table border=\"1\" class=\"dataframe\">\n",
       "  <thead>\n",
       "    <tr style=\"text-align: right;\">\n",
       "      <th></th>\n",
       "      <th>Fecha_x</th>\n",
       "      <th>Día tipo_x</th>\n",
       "      <th>Designación de tarea vehículo_x</th>\n",
       "      <th>Línea_x</th>\n",
       "      <th>Tipo de viaje corto_x</th>\n",
       "      <th>Sentido_x</th>\n",
       "      <th>Tipo Kilómetros</th>\n",
       "      <th>Número de Vehículo</th>\n",
       "      <th>Concesionario de Transporte_x</th>\n",
       "      <th>Número de tarea vehículo_x</th>\n",
       "      <th>...</th>\n",
       "      <th>Jerarquía</th>\n",
       "      <th>Tarea</th>\n",
       "      <th>Viaje</th>\n",
       "      <th>Parada</th>\n",
       "      <th>Vehículo_y</th>\n",
       "      <th>Novedad</th>\n",
       "      <th>CALIFICACION</th>\n",
       "      <th>texto_cmb_vehi</th>\n",
       "      <th>texto_colores</th>\n",
       "      <th>idadi</th>\n",
       "    </tr>\n",
       "  </thead>\n",
       "  <tbody>\n",
       "  </tbody>\n",
       "</table>\n",
       "<p>0 rows × 81 columns</p>\n",
       "</div>"
      ],
      "text/plain": [
       "Empty DataFrame\n",
       "Columns: [Fecha_x, Día tipo_x, Designación de tarea vehículo_x, Línea_x, Tipo de viaje corto_x, Sentido_x, Tipo Kilómetros, Número de Vehículo, Concesionario de Transporte_x, Número de tarea vehículo_x, Desde, hasta_x, Duración_x, Punto de inicio_x, Punto de término_x, Largo_x, Número de viaje_x, Tipo de vehículo del viaje_x, Secuencia de arcos_x, Descripción Novedad_x, Concesionario Programado, Tipo de vehículo Programado, Incumplidos_x, Kilometros Programados-Desvios, Kilometros Programados Plan, Clase de viaje, a evaluar, TAREA, LINEA, VIAJE, VEHICULO SGCO, Kms en Servicio (MTS PLANEADOS), PARADAS PLANEADAS, PARADAS REALIZADAS SGCO, % PARADAS REALIZADAS SGCO, Kms en Servicio (MTS SGCO), FUENTE SGCO, HORA REAL SALIDA, HORA REAL LLEGADA, id, Fecha_y, Día tipo_y, Designación de tarea vehículo_y, Línea_y, Tipo de viaje corto_y, Sentido_y, Tipo de kilometros, Número de secuencia de carro, Concesionario de Transporte_y, Número de tarea vehículo_y, desde, hasta_y, Duración_y, Punto de inicio_y, Punto de término_y, Largo_y, Número de viaje_y, Tipo de vehículo del viaje_y, Secuencia de arcos_y, Descripción Novedad_y, Subcontratista, Tipo de vehículo del viaje.1, Incumplidos_y, Nro de caso, Tipo, Lugar, Jerarquia, Vehículo_x, Kms Planeados, Kms Perdidos, Kms cancelados, Jerarquía, Tarea, Viaje, Parada, Vehículo_y, Novedad, CALIFICACION, texto_cmb_vehi, texto_colores, idadi]\n",
       "Index: []\n",
       "\n",
       "[0 rows x 81 columns]"
      ]
     },
     "execution_count": 1473,
     "metadata": {},
     "output_type": "execute_result"
    }
   ],
   "source": [
    "mergebitacora[mergebitacora.duplicated(subset='idadi', keep=False)]"
   ]
  },
  {
   "cell_type": "code",
   "execution_count": 1474,
   "metadata": {},
   "outputs": [],
   "source": [
    "mergebitacora = pd.merge(mergebitacora, adi, on='idadi', how='left')"
   ]
  },
  {
   "cell_type": "code",
   "execution_count": 1475,
   "metadata": {},
   "outputs": [
    {
     "data": {
      "text/html": [
       "<div>\n",
       "<style scoped>\n",
       "    .dataframe tbody tr th:only-of-type {\n",
       "        vertical-align: middle;\n",
       "    }\n",
       "\n",
       "    .dataframe tbody tr th {\n",
       "        vertical-align: top;\n",
       "    }\n",
       "\n",
       "    .dataframe thead th {\n",
       "        text-align: right;\n",
       "    }\n",
       "</style>\n",
       "<table border=\"1\" class=\"dataframe\">\n",
       "  <thead>\n",
       "    <tr style=\"text-align: right;\">\n",
       "      <th></th>\n",
       "      <th>Fecha_x</th>\n",
       "      <th>Día tipo_x</th>\n",
       "      <th>Designación de tarea vehículo_x</th>\n",
       "      <th>Línea_x</th>\n",
       "      <th>Tipo de viaje corto_x</th>\n",
       "      <th>Sentido_x</th>\n",
       "      <th>Tipo Kilómetros</th>\n",
       "      <th>Número de Vehículo_x</th>\n",
       "      <th>Concesionario de Transporte_x</th>\n",
       "      <th>Número de tarea vehículo_x</th>\n",
       "      <th>...</th>\n",
       "      <th>Parada</th>\n",
       "      <th>Vehículo_y</th>\n",
       "      <th>Novedad</th>\n",
       "      <th>CALIFICACION</th>\n",
       "      <th>texto_cmb_vehi</th>\n",
       "      <th>texto_colores</th>\n",
       "      <th>idadi</th>\n",
       "      <th>Número de Vehículo_y</th>\n",
       "      <th>Desde_y</th>\n",
       "      <th>hasta</th>\n",
       "    </tr>\n",
       "  </thead>\n",
       "  <tbody>\n",
       "  </tbody>\n",
       "</table>\n",
       "<p>0 rows × 84 columns</p>\n",
       "</div>"
      ],
      "text/plain": [
       "Empty DataFrame\n",
       "Columns: [Fecha_x, Día tipo_x, Designación de tarea vehículo_x, Línea_x, Tipo de viaje corto_x, Sentido_x, Tipo Kilómetros, Número de Vehículo_x, Concesionario de Transporte_x, Número de tarea vehículo_x, Desde_x, hasta_x, Duración_x, Punto de inicio_x, Punto de término_x, Largo_x, Número de viaje_x, Tipo de vehículo del viaje_x, Secuencia de arcos_x, Descripción Novedad_x, Concesionario Programado, Tipo de vehículo Programado, Incumplidos_x, Kilometros Programados-Desvios, Kilometros Programados Plan, Clase de viaje, a evaluar, TAREA, LINEA, VIAJE, VEHICULO SGCO, Kms en Servicio (MTS PLANEADOS), PARADAS PLANEADAS, PARADAS REALIZADAS SGCO, % PARADAS REALIZADAS SGCO, Kms en Servicio (MTS SGCO), FUENTE SGCO, HORA REAL SALIDA, HORA REAL LLEGADA, id, Fecha_y, Día tipo_y, Designación de tarea vehículo_y, Línea_y, Tipo de viaje corto_y, Sentido_y, Tipo de kilometros, Número de secuencia de carro, Concesionario de Transporte_y, Número de tarea vehículo_y, desde, hasta_y, Duración_y, Punto de inicio_y, Punto de término_y, Largo_y, Número de viaje_y, Tipo de vehículo del viaje_y, Secuencia de arcos_y, Descripción Novedad_y, Subcontratista, Tipo de vehículo del viaje.1, Incumplidos_y, Nro de caso, Tipo, Lugar, Jerarquia, Vehículo_x, Kms Planeados, Kms Perdidos, Kms cancelados, Jerarquía, Tarea, Viaje, Parada, Vehículo_y, Novedad, CALIFICACION, texto_cmb_vehi, texto_colores, idadi, Número de Vehículo_y, Desde_y, hasta]\n",
       "Index: []\n",
       "\n",
       "[0 rows x 84 columns]"
      ]
     },
     "execution_count": 1475,
     "metadata": {},
     "output_type": "execute_result"
    }
   ],
   "source": [
    "mergebitacora[mergebitacora['Fecha_x'].isnull()]"
   ]
  },
  {
   "cell_type": "code",
   "execution_count": 1476,
   "metadata": {},
   "outputs": [],
   "source": [
    "# Esta funcin en caso de tener adicioneales realiza el siguiente proceso\n",
    "def verdes(row):\n",
    "    if pd.notna(row['Número de Vehículo_y']):\n",
    "        row['Incumplimiento_y'] = row['Incumplimiento_x']\n",
    "        row['Número de secuencia de carro'] = np.nan\n",
    "        row['Largo_y'] = row['Largo_x']\n",
    "        return 'ok'   "
   ]
  },
  {
   "cell_type": "code",
   "execution_count": 1477,
   "metadata": {},
   "outputs": [],
   "source": [
    "mergebitacora['texto'] = np.nan"
   ]
  },
  {
   "cell_type": "code",
   "execution_count": 1478,
   "metadata": {},
   "outputs": [],
   "source": [
    "mergebitacora['texto'] = mergebitacora.apply(verdes, axis=1)"
   ]
  },
  {
   "cell_type": "code",
   "execution_count": 1267,
   "metadata": {},
   "outputs": [
    {
     "data": {
      "text/html": [
       "<div>\n",
       "<style scoped>\n",
       "    .dataframe tbody tr th:only-of-type {\n",
       "        vertical-align: middle;\n",
       "    }\n",
       "\n",
       "    .dataframe tbody tr th {\n",
       "        vertical-align: top;\n",
       "    }\n",
       "\n",
       "    .dataframe thead th {\n",
       "        text-align: right;\n",
       "    }\n",
       "</style>\n",
       "<table border=\"1\" class=\"dataframe\">\n",
       "  <thead>\n",
       "    <tr style=\"text-align: right;\">\n",
       "      <th></th>\n",
       "      <th>Fecha_x</th>\n",
       "      <th>Día tipo_x</th>\n",
       "      <th>Designación de tarea vehículo_x</th>\n",
       "      <th>Línea_x</th>\n",
       "      <th>Tipo de viaje corto_x</th>\n",
       "      <th>Sentido_x</th>\n",
       "      <th>Tipo Kilómetros</th>\n",
       "      <th>Número de Vehículo_x</th>\n",
       "      <th>Concesionario de Transporte_x</th>\n",
       "      <th>Número de tarea vehículo_x</th>\n",
       "      <th>...</th>\n",
       "      <th>Vehículo_y</th>\n",
       "      <th>Novedad</th>\n",
       "      <th>CALIFICACION</th>\n",
       "      <th>texto_cmb_vehi</th>\n",
       "      <th>texto_colores</th>\n",
       "      <th>idadi</th>\n",
       "      <th>Número de Vehículo_y</th>\n",
       "      <th>Desde_y</th>\n",
       "      <th>hasta</th>\n",
       "      <th>texto</th>\n",
       "    </tr>\n",
       "  </thead>\n",
       "  <tbody>\n",
       "  </tbody>\n",
       "</table>\n",
       "<p>0 rows × 85 columns</p>\n",
       "</div>"
      ],
      "text/plain": [
       "Empty DataFrame\n",
       "Columns: [Fecha_x, Día tipo_x, Designación de tarea vehículo_x, Línea_x, Tipo de viaje corto_x, Sentido_x, Tipo Kilómetros, Número de Vehículo_x, Concesionario de Transporte_x, Número de tarea vehículo_x, Desde_x, hasta_x, Duración_x, Punto de inicio_x, Punto de término_x, Largo_x, Número de viaje_x, Tipo de vehículo del viaje_x, Secuencia de arcos_x, Descripción Novedad_x, Concesionario Programado, Tipo de vehículo Programado, Incumplidos_x, Kilometros Programados-Desvios, Kilometros Programados Plan, Clase de viaje, a evaluar, TAREA, LINEA, VIAJE, VEHICULO SGCO, Kms en Servicio (MTS PLANEADOS), PARADAS PLANEADAS, PARADAS REALIZADAS SGCO, % PARADAS REALIZADAS SGCO, Kms en Servicio (MTS SGCO), FUENTE SGCO, HORA REAL SALIDA, HORA REAL LLEGADA, id, Fecha_y, Día tipo_y, Designación de tarea vehículo_y, Línea_y, Tipo de viaje corto_y, Sentido_y, Tipo de kilometros, Número de secuencia de carro, Concesionario de Transporte_y, Número de tarea vehículo_y, desde, hasta_y, Duración_y, Punto de inicio_y, Punto de término_y, Largo_y, Número de viaje_y, Tipo de vehículo del viaje_y, Secuencia de arcos_y, Descripción Novedad_y, Subcontratista, Tipo de vehículo del viaje.1, Incumplidos_y, Nro de caso, Tipo, Lugar, Jerarquia, Vehículo_x, Kms Planeados, Kms Perdidos, Kms cancelados, Jerarquía, Tarea, Viaje, Parada, Vehículo_y, Novedad, CALIFICACION, texto_cmb_vehi, texto_colores, idadi, Número de Vehículo_y, Desde_y, hasta, texto]\n",
       "Index: []\n",
       "\n",
       "[0 rows x 85 columns]"
      ]
     },
     "execution_count": 1267,
     "metadata": {},
     "output_type": "execute_result"
    }
   ],
   "source": [
    "mergebitacora[mergebitacora['texto'].notna()]"
   ]
  },
  {
   "cell_type": "code",
   "execution_count": 1479,
   "metadata": {},
   "outputs": [
    {
     "data": {
      "text/html": [
       "<div>\n",
       "<style scoped>\n",
       "    .dataframe tbody tr th:only-of-type {\n",
       "        vertical-align: middle;\n",
       "    }\n",
       "\n",
       "    .dataframe tbody tr th {\n",
       "        vertical-align: top;\n",
       "    }\n",
       "\n",
       "    .dataframe thead th {\n",
       "        text-align: right;\n",
       "    }\n",
       "</style>\n",
       "<table border=\"1\" class=\"dataframe\">\n",
       "  <thead>\n",
       "    <tr style=\"text-align: right;\">\n",
       "      <th></th>\n",
       "      <th>Fecha_x</th>\n",
       "      <th>Día tipo_x</th>\n",
       "      <th>Designación de tarea vehículo_x</th>\n",
       "      <th>Línea_x</th>\n",
       "      <th>Tipo de viaje corto_x</th>\n",
       "      <th>Sentido_x</th>\n",
       "      <th>Tipo Kilómetros</th>\n",
       "      <th>Número de Vehículo_x</th>\n",
       "      <th>Concesionario de Transporte_x</th>\n",
       "      <th>Número de tarea vehículo_x</th>\n",
       "      <th>...</th>\n",
       "      <th>Vehículo_y</th>\n",
       "      <th>Novedad</th>\n",
       "      <th>CALIFICACION</th>\n",
       "      <th>texto_cmb_vehi</th>\n",
       "      <th>texto_colores</th>\n",
       "      <th>idadi</th>\n",
       "      <th>Número de Vehículo_y</th>\n",
       "      <th>Desde_y</th>\n",
       "      <th>hasta</th>\n",
       "      <th>texto</th>\n",
       "    </tr>\n",
       "  </thead>\n",
       "  <tbody>\n",
       "  </tbody>\n",
       "</table>\n",
       "<p>0 rows × 85 columns</p>\n",
       "</div>"
      ],
      "text/plain": [
       "Empty DataFrame\n",
       "Columns: [Fecha_x, Día tipo_x, Designación de tarea vehículo_x, Línea_x, Tipo de viaje corto_x, Sentido_x, Tipo Kilómetros, Número de Vehículo_x, Concesionario de Transporte_x, Número de tarea vehículo_x, Desde_x, hasta_x, Duración_x, Punto de inicio_x, Punto de término_x, Largo_x, Número de viaje_x, Tipo de vehículo del viaje_x, Secuencia de arcos_x, Descripción Novedad_x, Concesionario Programado, Tipo de vehículo Programado, Incumplidos_x, Kilometros Programados-Desvios, Kilometros Programados Plan, Clase de viaje, a evaluar, TAREA, LINEA, VIAJE, VEHICULO SGCO, Kms en Servicio (MTS PLANEADOS), PARADAS PLANEADAS, PARADAS REALIZADAS SGCO, % PARADAS REALIZADAS SGCO, Kms en Servicio (MTS SGCO), FUENTE SGCO, HORA REAL SALIDA, HORA REAL LLEGADA, id, Fecha_y, Día tipo_y, Designación de tarea vehículo_y, Línea_y, Tipo de viaje corto_y, Sentido_y, Tipo de kilometros, Número de secuencia de carro, Concesionario de Transporte_y, Número de tarea vehículo_y, desde, hasta_y, Duración_y, Punto de inicio_y, Punto de término_y, Largo_y, Número de viaje_y, Tipo de vehículo del viaje_y, Secuencia de arcos_y, Descripción Novedad_y, Subcontratista, Tipo de vehículo del viaje.1, Incumplidos_y, Nro de caso, Tipo, Lugar, Jerarquia, Vehículo_x, Kms Planeados, Kms Perdidos, Kms cancelados, Jerarquía, Tarea, Viaje, Parada, Vehículo_y, Novedad, CALIFICACION, texto_cmb_vehi, texto_colores, idadi, Número de Vehículo_y, Desde_y, hasta, texto]\n",
       "Index: []\n",
       "\n",
       "[0 rows x 85 columns]"
      ]
     },
     "execution_count": 1479,
     "metadata": {},
     "output_type": "execute_result"
    }
   ],
   "source": [
    "mergebitacora[mergebitacora['texto'].notna()]"
   ]
  },
  {
   "cell_type": "code",
   "execution_count": 1268,
   "metadata": {},
   "outputs": [],
   "source": [
    "# Elimina las columnas que no son necesarias\n",
    "mergebitacora.drop(columns=['Número de Vehículo_y', 'Desde_y', 'hasta', 'texto'], inplace= True)"
   ]
  },
  {
   "cell_type": "code",
   "execution_count": 1269,
   "metadata": {},
   "outputs": [
    {
     "data": {
      "text/plain": [
       "(16139, 81)"
      ]
     },
     "execution_count": 1269,
     "metadata": {},
     "output_type": "execute_result"
    }
   ],
   "source": [
    "mergebitacora.shape"
   ]
  },
  {
   "cell_type": "code",
   "execution_count": 1271,
   "metadata": {},
   "outputs": [
    {
     "data": {
      "text/plain": [
       "Incumplidos_x\n",
       "2.0    196\n",
       "0.0     55\n",
       "1.0     54\n",
       "3.0      4\n",
       "Name: count, dtype: int64"
      ]
     },
     "execution_count": 1271,
     "metadata": {},
     "output_type": "execute_result"
    }
   ],
   "source": [
    "mergebitacora['Incumplidos_x'].value_counts()"
   ]
  },
  {
   "cell_type": "markdown",
   "metadata": {},
   "source": [
    "ok"
   ]
  },
  {
   "cell_type": "markdown",
   "metadata": {},
   "source": [
    "Calificaciones incumplimineto "
   ]
  },
  {
   "cell_type": "code",
   "execution_count": 1207,
   "metadata": {},
   "outputs": [],
   "source": [
    "# Funcion replica de la funcion de Excel para el calculo de incumpliminetos, pero la siguiente funcion la anula, revisar si es necesaria\n",
    "def col_calificaciones_funtion(row, df):\n",
    "    \"\"\"\n",
    "    Calcula el valor del incumplimiento según las condiciones especificadas.\n",
    "\n",
    "    Parámetros:\n",
    "    row (pandas.Series): Una fila del DataFrame que contiene los datos de la bitácora.\n",
    "    df (pandas.DataFrame): DataFrame que contiene los datos de la bitácora.\n",
    "\n",
    "    Retorna:\n",
    "    int or float or np.nan: El valor del incumplimiento calculado según las condiciones.\n",
    "    \"\"\"\n",
    "    \n",
    "    # Obtener el índice de la fila actual\n",
    "    index = row.name\n",
    "    \n",
    "    # Calcular el índice de la fila siguiente\n",
    "    next_index = index + 1\n",
    "    next_index_next = index + 2\n",
    "    \n",
    "    # Obtener la fila siguiente si el índice es válido, de lo contrario, establecerla como None\n",
    "    next_row = df.iloc[next_index] if next_index < len(df) else None\n",
    "    next_row_next = df.iloc[next_index_next] if next_index_next < len(df) else None\n",
    "\n",
    "    \n",
    "    if row['Tipo Kilómetros'] == \"Kms en Servicio\" and pd.isna(row['Número de secuencia de carro']):\n",
    "        if row['Tipo de viaje corto_x'] == \"Viaje comercial\":\n",
    "            return 2\n",
    "        elif row['Tipo de viaje corto_x'] in [\"Viaje de punto operacional\", \"Viaje de posicionamiento\"]:\n",
    "            if next_row is not None and pd.isna(next_row['Número de secuencia de carro']):\n",
    "                if (next_row['Incumplidos_y'] == 2) and (row['Largo_y'] in [0, 1]):\n",
    "                    return 1\n",
    "                elif (row['Largo_y'] not in [0, 1]) or (next_row['Largo_y']  in [0, 1]):\n",
    "                    if pd.notna(next_row_next['Incumplidos_y']):\n",
    "                        return next_row_next['Incumplidos_y'] \n",
    "                    else:\n",
    "                        return 2\n",
    "                else:\n",
    "                    return next_row['Incumplidos_y']\n",
    "            else:\n",
    "                if row is not None and row['Largo_y'] in [0, 1]:\n",
    "                    return 1\n",
    "                else:\n",
    "                    return 2\n",
    "        else:\n",
    "            return np.nan\n",
    "    elif (row['Número de secuencia de carro'] in [\"CAMBIO\", \"CANCELADA\"]) and row['Tipo Kilómetros'] == \"Kms en Vacio\":\n",
    "        return 0\n",
    "    else:\n",
    "        return np.nan\n"
   ]
  },
  {
   "cell_type": "code",
   "execution_count": 1208,
   "metadata": {},
   "outputs": [],
   "source": [
    "#Aplicar la función a todo el DataFrame\n",
    "mergebitacora['Incumplido_y'] = mergebitacora.apply(col_calificaciones_funtion, axis=1, args=(mergebitacora,))"
   ]
  },
  {
   "cell_type": "code",
   "execution_count": 1209,
   "metadata": {},
   "outputs": [
    {
     "data": {
      "text/plain": [
       "Incumplidos_y\n",
       "0.0    38\n",
       "2.0    28\n",
       "Name: count, dtype: int64"
      ]
     },
     "execution_count": 1209,
     "metadata": {},
     "output_type": "execute_result"
    }
   ],
   "source": [
    "mergebitacora['Incumplidos_y'].value_counts()"
   ]
  },
  {
   "cell_type": "code",
   "execution_count": 1210,
   "metadata": {},
   "outputs": [],
   "source": [
    "def col_calificaciones(row, df):\n",
    "    \"\"\"\n",
    "    Calcula el valor del incumplimiento según las condiciones especificadas.\n",
    "\n",
    "    Parámetros:\n",
    "    row (pandas.Series): Una fila del DataFrame que contiene los datos de la bitácora.\n",
    "    df (pandas.DataFrame): DataFrame que contiene los datos de la bitácora.\n",
    "\n",
    "    Retorna:\n",
    "    int or float or np.nan: El valor del incumplimiento calculado según las condiciones.\n",
    "    \"\"\"\n",
    "   \n",
    "    if pd.isna(row['Incumplidos_x']) and pd.notna(row['Incumplidos_y']):\n",
    "        return np.nan\n",
    "    elif row['Incumplidos_x'] == 0:\n",
    "        return 0\n",
    "    elif row['Incumplidos_x'] in [2,3] and row['CALIFICACION'] == 1:\n",
    "        return row['CALIFICACION']\n",
    "    elif row['Incumplidos_x'] == 3:\n",
    "        return row['Incumplidos_x']\n",
    "    elif row['Incumplidos_x'] in [0,1,3] and row['Incumplidos_y']== 2:\n",
    "        return row['Incumplidos_x'] \n",
    "    elif row['Incumplidos_x']== 2 and  row['Incumplidos_y']== 2:\n",
    "        return row['Incumplidos_x'] \n",
    "    else:\n",
    "        np.nan\n"
   ]
  },
  {
   "cell_type": "code",
   "execution_count": 1214,
   "metadata": {},
   "outputs": [],
   "source": [
    "# Aplicar la función a todo el DataFrame\n",
    "mergebitacora['Incumplidos_y'] = mergebitacora.apply(col_calificaciones, axis=1, args=(mergebitacora,))"
   ]
  },
  {
   "cell_type": "code",
   "execution_count": 1215,
   "metadata": {},
   "outputs": [
    {
     "data": {
      "text/plain": [
       "Incumplidos_y\n",
       "0.0    55\n",
       "2.0    11\n",
       "1.0     4\n",
       "3.0     2\n",
       "Name: count, dtype: int64"
      ]
     },
     "execution_count": 1215,
     "metadata": {},
     "output_type": "execute_result"
    }
   ],
   "source": [
    "mergebitacora['Incumplidos_y'].value_counts()"
   ]
  },
  {
   "cell_type": "code",
   "execution_count": 1152,
   "metadata": {},
   "outputs": [
    {
     "data": {
      "text/plain": [
       "(16139, 81)"
      ]
     },
     "execution_count": 1152,
     "metadata": {},
     "output_type": "execute_result"
    }
   ],
   "source": [
    "mergebitacora.shape"
   ]
  },
  {
   "cell_type": "markdown",
   "metadata": {},
   "source": [
    "OK pendiente revisar calificaciones"
   ]
  },
  {
   "cell_type": "code",
   "execution_count": 45,
   "metadata": {},
   "outputs": [],
   "source": [
    "z = mergebitacora[(mergebitacora['Incumplidos_x'].isna())&(mergebitacora['Incumplidos_y'].notna())]"
   ]
  },
  {
   "cell_type": "code",
   "execution_count": 46,
   "metadata": {},
   "outputs": [
    {
     "data": {
      "text/html": [
       "<div>\n",
       "<style scoped>\n",
       "    .dataframe tbody tr th:only-of-type {\n",
       "        vertical-align: middle;\n",
       "    }\n",
       "\n",
       "    .dataframe tbody tr th {\n",
       "        vertical-align: top;\n",
       "    }\n",
       "\n",
       "    .dataframe thead th {\n",
       "        text-align: right;\n",
       "    }\n",
       "</style>\n",
       "<table border=\"1\" class=\"dataframe\">\n",
       "  <thead>\n",
       "    <tr style=\"text-align: right;\">\n",
       "      <th></th>\n",
       "      <th>VIAJE</th>\n",
       "      <th>TAREA</th>\n",
       "      <th>Incumplidos_x</th>\n",
       "      <th>Incumplidos_y</th>\n",
       "    </tr>\n",
       "  </thead>\n",
       "  <tbody>\n",
       "  </tbody>\n",
       "</table>\n",
       "</div>"
      ],
      "text/plain": [
       "Empty DataFrame\n",
       "Columns: [VIAJE, TAREA, Incumplidos_x, Incumplidos_y]\n",
       "Index: []"
      ]
     },
     "execution_count": 46,
     "metadata": {},
     "output_type": "execute_result"
    }
   ],
   "source": [
    "z[['VIAJE', 'TAREA', 'Incumplidos_x', 'Incumplidos_y']]"
   ]
  },
  {
   "cell_type": "code",
   "execution_count": 47,
   "metadata": {},
   "outputs": [
    {
     "data": {
      "text/html": [
       "<div>\n",
       "<style scoped>\n",
       "    .dataframe tbody tr th:only-of-type {\n",
       "        vertical-align: middle;\n",
       "    }\n",
       "\n",
       "    .dataframe tbody tr th {\n",
       "        vertical-align: top;\n",
       "    }\n",
       "\n",
       "    .dataframe thead th {\n",
       "        text-align: right;\n",
       "    }\n",
       "</style>\n",
       "<table border=\"1\" class=\"dataframe\">\n",
       "  <thead>\n",
       "    <tr style=\"text-align: right;\">\n",
       "      <th></th>\n",
       "      <th>VIAJE</th>\n",
       "      <th>TAREA</th>\n",
       "      <th>Incumplidos_x</th>\n",
       "      <th>Incumplidos_y</th>\n",
       "    </tr>\n",
       "  </thead>\n",
       "  <tbody>\n",
       "    <tr>\n",
       "      <th>0</th>\n",
       "      <td>1.0</td>\n",
       "      <td>1.0</td>\n",
       "      <td>NaN</td>\n",
       "      <td>NaN</td>\n",
       "    </tr>\n",
       "    <tr>\n",
       "      <th>1</th>\n",
       "      <td>2.0</td>\n",
       "      <td>1.0</td>\n",
       "      <td>NaN</td>\n",
       "      <td>NaN</td>\n",
       "    </tr>\n",
       "    <tr>\n",
       "      <th>2</th>\n",
       "      <td>9.0</td>\n",
       "      <td>1.0</td>\n",
       "      <td>NaN</td>\n",
       "      <td>NaN</td>\n",
       "    </tr>\n",
       "    <tr>\n",
       "      <th>3</th>\n",
       "      <td>10.0</td>\n",
       "      <td>1.0</td>\n",
       "      <td>NaN</td>\n",
       "      <td>NaN</td>\n",
       "    </tr>\n",
       "    <tr>\n",
       "      <th>4</th>\n",
       "      <td>17.0</td>\n",
       "      <td>1.0</td>\n",
       "      <td>NaN</td>\n",
       "      <td>NaN</td>\n",
       "    </tr>\n",
       "    <tr>\n",
       "      <th>...</th>\n",
       "      <td>...</td>\n",
       "      <td>...</td>\n",
       "      <td>...</td>\n",
       "      <td>...</td>\n",
       "    </tr>\n",
       "    <tr>\n",
       "      <th>18640</th>\n",
       "      <td>9955.0</td>\n",
       "      <td>99753.0</td>\n",
       "      <td>NaN</td>\n",
       "      <td>NaN</td>\n",
       "    </tr>\n",
       "    <tr>\n",
       "      <th>18641</th>\n",
       "      <td>9956.0</td>\n",
       "      <td>99753.0</td>\n",
       "      <td>NaN</td>\n",
       "      <td>NaN</td>\n",
       "    </tr>\n",
       "    <tr>\n",
       "      <th>18642</th>\n",
       "      <td>9957.0</td>\n",
       "      <td>99753.0</td>\n",
       "      <td>NaN</td>\n",
       "      <td>NaN</td>\n",
       "    </tr>\n",
       "    <tr>\n",
       "      <th>18643</th>\n",
       "      <td>9958.0</td>\n",
       "      <td>99753.0</td>\n",
       "      <td>NaN</td>\n",
       "      <td>NaN</td>\n",
       "    </tr>\n",
       "    <tr>\n",
       "      <th>18644</th>\n",
       "      <td>9959.0</td>\n",
       "      <td>99753.0</td>\n",
       "      <td>NaN</td>\n",
       "      <td>NaN</td>\n",
       "    </tr>\n",
       "  </tbody>\n",
       "</table>\n",
       "<p>18645 rows × 4 columns</p>\n",
       "</div>"
      ],
      "text/plain": [
       "        VIAJE    TAREA  Incumplidos_x  Incumplidos_y\n",
       "0         1.0      1.0            NaN            NaN\n",
       "1         2.0      1.0            NaN            NaN\n",
       "2         9.0      1.0            NaN            NaN\n",
       "3        10.0      1.0            NaN            NaN\n",
       "4        17.0      1.0            NaN            NaN\n",
       "...       ...      ...            ...            ...\n",
       "18640  9955.0  99753.0            NaN            NaN\n",
       "18641  9956.0  99753.0            NaN            NaN\n",
       "18642  9957.0  99753.0            NaN            NaN\n",
       "18643  9958.0  99753.0            NaN            NaN\n",
       "18644  9959.0  99753.0            NaN            NaN\n",
       "\n",
       "[18645 rows x 4 columns]"
      ]
     },
     "execution_count": 47,
     "metadata": {},
     "output_type": "execute_result"
    }
   ],
   "source": [
    "mergebitacora[['VIAJE', 'TAREA', 'Incumplidos_x', 'Incumplidos_y']]"
   ]
  },
  {
   "cell_type": "markdown",
   "metadata": {},
   "source": [
    "verificacion"
   ]
  },
  {
   "cell_type": "code",
   "execution_count": 48,
   "metadata": {},
   "outputs": [],
   "source": [
    "##\n",
    "##\n",
    "##no va\n",
    "##\n",
    "##\n",
    "# Definir una función para aplicar a cada grupo\n",
    "def eliminar_duplicados_bitacora(row):\n",
    "    # Verificar si hay al menos un valor en 'Incumplidos_x'\n",
    "    if row['Incumplidos_x'].isnull() and row['Incumplidos_x'].isnull():   \n",
    "        return row[row['Incumplidos_x'].notnull()]  # Conservar la fila con 'Incumplidos_x' no nulo\n",
    "    # Verificar si hay al menos un valor en 'Incumplidos_y'\n",
    "    elif row['Incumplidos_y'].notnull().any():\n",
    "        return row[row['Incumplidos_y'].notnull()]  # Conservar la fila con 'Incumplidos_y' no nulo\n",
    "    # Conservar la fila con el valor más bajo en 'CALIFICACION'\n",
    "    else:\n",
    "        return row.loc[row['CALIFICACION'].idxmin()]"
   ]
  },
  {
   "cell_type": "code",
   "execution_count": 49,
   "metadata": {},
   "outputs": [
    {
     "data": {
      "text/html": [
       "<div>\n",
       "<style scoped>\n",
       "    .dataframe tbody tr th:only-of-type {\n",
       "        vertical-align: middle;\n",
       "    }\n",
       "\n",
       "    .dataframe tbody tr th {\n",
       "        vertical-align: top;\n",
       "    }\n",
       "\n",
       "    .dataframe thead th {\n",
       "        text-align: right;\n",
       "    }\n",
       "</style>\n",
       "<table border=\"1\" class=\"dataframe\">\n",
       "  <thead>\n",
       "    <tr style=\"text-align: right;\">\n",
       "      <th></th>\n",
       "      <th>Fecha_x</th>\n",
       "      <th>Día tipo_x</th>\n",
       "      <th>Designación de tarea vehículo_x</th>\n",
       "      <th>Línea_x</th>\n",
       "      <th>Tipo de viaje corto_x</th>\n",
       "      <th>Sentido_x</th>\n",
       "      <th>Tipo Kilómetros</th>\n",
       "      <th>Número de Vehículo</th>\n",
       "      <th>Concesionario de Transporte_x</th>\n",
       "      <th>Número de tarea vehículo_x</th>\n",
       "      <th>...</th>\n",
       "      <th>Kms cancelados</th>\n",
       "      <th>Jerarquía</th>\n",
       "      <th>Tarea</th>\n",
       "      <th>Viaje</th>\n",
       "      <th>Parada</th>\n",
       "      <th>Vehículo_y</th>\n",
       "      <th>Novedad</th>\n",
       "      <th>CALIFICACION</th>\n",
       "      <th>texto_cmb_vehi</th>\n",
       "      <th>Incumplido_y</th>\n",
       "    </tr>\n",
       "  </thead>\n",
       "  <tbody>\n",
       "  </tbody>\n",
       "</table>\n",
       "<p>0 rows × 80 columns</p>\n",
       "</div>"
      ],
      "text/plain": [
       "Empty DataFrame\n",
       "Columns: [Fecha_x, Día tipo_x, Designación de tarea vehículo_x, Línea_x, Tipo de viaje corto_x, Sentido_x, Tipo Kilómetros, Número de Vehículo, Concesionario de Transporte_x, Número de tarea vehículo_x, Desde, hasta_x, Duración_x, Punto de inicio_x, Punto de término_x, Largo_x, Número de viaje_x, Tipo de vehículo del viaje_x, Secuencia de arcos_x, Descripción Novedad_x, Concesionario Programado, Tipo de vehículo Programado, Incumplidos_x, Kilometros Programados-Desvios, Kilometros Programados Plan, Clase de viaje, a evaluar, TAREA, LINEA, VIAJE, VEHICULO SGCO, Kms en Servicio (MTS PLANEADOS), PARADAS PLANEADAS, PARADAS REALIZADAS SGCO, % PARADAS REALIZADAS SGCO, Kms en Servicio (MTS SGCO), FUENTE SGCO, HORA REAL SALIDA, HORA REAL LLEGADA, id, Fecha_y, Día tipo_y, Designación de tarea vehículo_y, Línea_y, Tipo de viaje corto_y, Sentido_y, Tipo de kilometros, Número de secuencia de carro, Concesionario de Transporte_y, Número de tarea vehículo_y, desde, hasta_y, Duración_y, Punto de inicio_y, Punto de término_y, Largo_y, Número de viaje_y, Tipo de vehículo del viaje_y, Secuencia de arcos_y, Descripción Novedad_y, Subcontratista, Tipo de vehículo del viaje.1, Incumplidos_y, Nro de caso, Tipo, Lugar, Jerarquia, Vehículo_x, Kms Planeados, Kms Perdidos, Kms cancelados, Jerarquía, Tarea, Viaje, Parada, Vehículo_y, Novedad, CALIFICACION, texto_cmb_vehi, Incumplido_y]\n",
       "Index: []\n",
       "\n",
       "[0 rows x 80 columns]"
      ]
     },
     "execution_count": 49,
     "metadata": {},
     "output_type": "execute_result"
    }
   ],
   "source": [
    "# Muestra los id duplicados producto del merge con bitacora\n",
    "mergebitacora[mergebitacora['id'].duplicated()]"
   ]
  },
  {
   "cell_type": "markdown",
   "metadata": {},
   "source": [
    "Revision de Adicionales"
   ]
  },
  {
   "cell_type": "markdown",
   "metadata": {},
   "source": [
    "Columna condicional "
   ]
  },
  {
   "cell_type": "code",
   "execution_count": 50,
   "metadata": {},
   "outputs": [],
   "source": [
    "# Se cambian los vehiculos del cierre por los de k2##\n",
    "mergebitacora['Número de secuencia de carro'] = [x if pd.notna(x) else y for x, y in zip(mergebitacora['Número de secuencia de carro'], mergebitacora['Número de Vehículo'])]\n",
    "# Marca en la columnas Cambios los cambios que realiza el código\n",
    "mergebitacora['condicion'] = [ np.nan if  pd.notna(x) else 'Se Cambia # V RF' for x, y in zip(mergebitacora['Número de secuencia de carro'], mergebitacora['Número de Vehículo'])]\n"
   ]
  },
  {
   "cell_type": "code",
   "execution_count": 51,
   "metadata": {},
   "outputs": [],
   "source": [
    "# # Función para actualizar el texto de la columna condicion para Largo_y si Largo_x es mayor\n",
    "def actualizar_largo_texto(row):\n",
    "    if pd.isna(row['Largo_y']) and pd.isna(row['condicion']) :\n",
    "        return 'Cambia largo por NAN'\n",
    "    elif pd.isna(row['Largo_y']) and pd.notnull(row['condicion']) :\n",
    "        return row['condicion'] + '/Cambia largo por NAN'\n",
    "    elif row['Largo_x'] > row['Largo_y'] and pd.isna(row['condicion']):\n",
    "        return 'Cambia x Mayor largo'\n",
    "    elif row['Largo_x'] > row['Largo_y'] and pd.notnull(row['condicion']) :\n",
    "        return row['condicion'] + '/Cambia x Mayor largo'\n",
    "    else:\n",
    "        if pd.notnull(row['condicion']):\n",
    "            return row['condicion']\n",
    "            "
   ]
  },
  {
   "cell_type": "code",
   "execution_count": 52,
   "metadata": {},
   "outputs": [],
   "source": [
    "# Función para actualizar los valores de Largo_y si Largo_x es mayor\n",
    "def actualizar_largo(row):\n",
    "    if pd.isna(row['Largo_y']):\n",
    "        return row['Largo_x']\n",
    "    elif row['Largo_x'] > row['Largo_y']:\n",
    "        return row['Largo_x']\n",
    "    else:\n",
    "        return row['Largo_y']"
   ]
  },
  {
   "cell_type": "code",
   "execution_count": 53,
   "metadata": {},
   "outputs": [],
   "source": [
    "# Marcar las filas donde se realizan cambios en una nueva columna\n",
    "mergebitacora['condicion'] = mergebitacora.apply(actualizar_largo_texto, axis=1)"
   ]
  },
  {
   "cell_type": "code",
   "execution_count": 54,
   "metadata": {},
   "outputs": [],
   "source": [
    "# Aplicar la función a la columna Largo_y\n",
    "mergebitacora['Largo_y'] = mergebitacora.apply(actualizar_largo, axis=1)"
   ]
  },
  {
   "cell_type": "code",
   "execution_count": 55,
   "metadata": {},
   "outputs": [
    {
     "data": {
      "text/plain": [
       "condicion\n",
       "Cambia largo por NAN                     15876\n",
       "Se Cambia # V RF/Cambia largo por NAN     2350\n",
       "Name: count, dtype: int64"
      ]
     },
     "execution_count": 55,
     "metadata": {},
     "output_type": "execute_result"
    }
   ],
   "source": [
    "#Se verifican los cambios realizados\n",
    "mergebitacora['condicion'].value_counts()"
   ]
  },
  {
   "cell_type": "code",
   "execution_count": null,
   "metadata": {},
   "outputs": [],
   "source": []
  },
  {
   "cell_type": "code",
   "execution_count": 56,
   "metadata": {},
   "outputs": [
    {
     "data": {
      "text/plain": [
       "('Número de secuencia de carro',\n",
       " 'Secuencia de arcos',\n",
       " 'Concesionario Programado')"
      ]
     },
     "execution_count": 56,
     "metadata": {},
     "output_type": "execute_result"
    }
   ],
   "source": [
    "'Número de secuencia de carro', 'Secuencia de arcos', 'Concesionario Programado'"
   ]
  },
  {
   "cell_type": "code",
   "execution_count": 57,
   "metadata": {},
   "outputs": [],
   "source": [
    "# Condiciones para la columna condicional\n",
    "condicion1 = mergebitacora['Largo_x'] != mergebitacora['Largo_y']\n",
    "condicion2 = mergebitacora['Número de Vehículo'] != mergebitacora['Número de secuencia de carro']\n",
    "condicion3 = mergebitacora['Secuencia de arcos_x'] != mergebitacora['Secuencia de arcos_y']\n",
    "condicion4 = mergebitacora['Concesionario de Transporte_x'] != mergebitacora['Concesionario Programado']\n",
    "\n",
    "# Aplicar condiciones y asignar valores a la nueva columna\n",
    "mergebitacora['condicional2'] = np.where(condicion1 & condicion2 & condicion3 & condicion4, 'Revisar largo, parada, vehículo y consecionario',\n",
    "                                    np.where(condicion1 & condicion2 & condicion3, 'Revisar largo, parada y vehículo',\n",
    "                                        np.where(condicion1 & condicion2 & condicion4, 'Revisar largo, parada y consecionario',         \n",
    "                                            np.where(condicion1 & condicion3 & condicion4, 'Revisar largo, parada y consecionarios',\n",
    "                                                np.where(condicion2 & condicion3 & condicion4, 'Revisar vehiculo, parada y consecionarios',        \n",
    "                                                    np.where(condicion1 & condicion2, 'Revisar largo y vehiculo',\n",
    "                                                        np.where(condicion1 & condicion3, 'Revisar largo y parada',\n",
    "                                                            np.where(condicion1 & condicion4, 'Revisar largo y consecionario', \n",
    "                                                                np.where(condicion2 & condicion3, 'Revisar vehiculo y parada',\n",
    "                                                                    np.where(condicion2 & condicion4, 'Revisar vehiculo y consecionario',        \n",
    "                                                                        np.where(condicion3 & condicion4, 'Revisar parada y consecionario',                                            \n",
    "                                                                            np.where(condicion1, 'Revisar largo', \n",
    "                                                                                np.where(condicion2, 'Revisar numero de vehiculo',\n",
    "                                                                                    np.where(condicion3, 'Revisar paradas',\n",
    "                                                                                        np.where(condicion4, 'Revisar consesionario', 'OK')))))))))))))))"
   ]
  },
  {
   "cell_type": "code",
   "execution_count": 58,
   "metadata": {},
   "outputs": [
    {
     "data": {
      "text/plain": [
       "condicional2\n",
       "OK                                  10235\n",
       "Revisar consesionario                5875\n",
       "Revisar vehiculo y consecionario     2506\n",
       "Revisar largo                          28\n",
       "Revisar largo y consecionario           1\n",
       "Name: count, dtype: int64"
      ]
     },
     "execution_count": 58,
     "metadata": {},
     "output_type": "execute_result"
    }
   ],
   "source": [
    "mergebitacora['condicional2'].value_counts()"
   ]
  },
  {
   "cell_type": "code",
   "execution_count": 59,
   "metadata": {},
   "outputs": [],
   "source": [
    "# Exporta a un archivo excel el Df\n",
    "#mergebitacora.to_excel('../output/prueba_mergebita.xlsx', index=False, sheet_name='k2_procesado')"
   ]
  }
 ],
 "metadata": {
  "kernelspec": {
   "display_name": "w-env",
   "language": "python",
   "name": "w-env"
  },
  "language_info": {
   "codemirror_mode": {
    "name": "ipython",
    "version": 3
   },
   "file_extension": ".py",
   "mimetype": "text/x-python",
   "name": "python",
   "nbconvert_exporter": "python",
   "pygments_lexer": "ipython3",
   "version": "3.12.2"
  },
  "orig_nbformat": 4
 },
 "nbformat": 4,
 "nbformat_minor": 2
}
