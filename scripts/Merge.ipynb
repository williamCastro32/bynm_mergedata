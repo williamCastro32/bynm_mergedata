{
 "cells": [
  {
   "attachments": {},
   "cell_type": "markdown",
   "metadata": {},
   "source": [
    "BYNmasivofy2024*"
   ]
  },
  {
   "cell_type": "code",
   "execution_count": 121,
   "metadata": {},
   "outputs": [],
   "source": [
    "# Importa las librerias a usar\n",
    "import pandas as pd\n",
    "import re\n",
    "import numpy as np\n"
   ]
  },
  {
   "cell_type": "markdown",
   "metadata": {},
   "source": [
    "importar arvhivos a procesar"
   ]
  },
  {
   "cell_type": "code",
   "execution_count": 122,
   "metadata": {},
   "outputs": [],
   "source": [
    "# ubicacion de los archivos\n",
    "patch1 = '../input/Kilometros en Servicio MIO - 05-Mar-2024.xlsx'# Se importa el archivo xlxs\n",
    "patch2 =  '../input/REPORTE FINALIZADO 05_MARZ_2024.xlsx'\n",
    "patch3 = '../input/JERARQUIAS.xlsx'"
   ]
  },
  {
   "cell_type": "code",
   "execution_count": 123,
   "metadata": {},
   "outputs": [],
   "source": [
    "# Se importa el archivo xlxs\n",
    "kmsmio = pd.read_excel(patch1, sheet_name='Programacion')\n",
    "repofi = pd.read_excel(patch2, sheet_name='Programacion')\n",
    "bitacora = pd.read_excel(patch2, sheet_name='Bitacora')\n",
    "jerarquias = pd.read_excel(patch3, sheet_name='Hoja1')\n",
    "# Se eliminan las filas y las columnas vacias\n",
    "kmsmio = kmsmio.dropna(axis=0, how='all').dropna(axis=1, how='all')\n",
    "repofi = repofi.dropna(axis=0, how='all').dropna(axis=1, how='all')\n",
    "bitacora = bitacora.dropna(axis=0, how='all').dropna(axis=1, how='all')"
   ]
  },
  {
   "cell_type": "code",
   "execution_count": 124,
   "metadata": {},
   "outputs": [],
   "source": [
    "# Se crea el df de adicionales\n",
    "adi = kmsmio[kmsmio['Kilometros Programados Plan'].isna()]"
   ]
  },
  {
   "cell_type": "markdown",
   "metadata": {},
   "source": [
    "Porcesar K2"
   ]
  },
  {
   "cell_type": "code",
   "execution_count": 125,
   "metadata": {},
   "outputs": [],
   "source": [
    "# Filtra el DF por Kms en Servicio\n",
    "kmsmio = kmsmio[kmsmio['Tipo Kilómetros']== 'Kms en Servicio']\n",
    "kmsmio = kmsmio[kmsmio['Kilometros Programados Plan'].notna()]"
   ]
  },
  {
   "cell_type": "code",
   "execution_count": 126,
   "metadata": {},
   "outputs": [],
   "source": [
    "# Cambiamos la hora 24 por 0\n",
    "kmsmio['Desde'] = kmsmio['Desde'].replace('24', '0')\n",
    "kmsmio = kmsmio[kmsmio['Desde'] != '0']\n"
   ]
  },
  {
   "cell_type": "code",
   "execution_count": 127,
   "metadata": {},
   "outputs": [],
   "source": [
    "# Se crea una nueva columna 'id'\n",
    "kmsmio['id'] = kmsmio.apply(lambda row: '-'.join([str(row['Línea']), str(row['Número de tarea vehículo']), \n",
    "                                                   str(row['Desde']), str(row['hasta'])]), axis=1)\n"
   ]
  },
  {
   "cell_type": "code",
   "execution_count": 128,
   "metadata": {},
   "outputs": [
    {
     "data": {
      "text/plain": [
       "(18645, 40)"
      ]
     },
     "execution_count": 128,
     "metadata": {},
     "output_type": "execute_result"
    }
   ],
   "source": [
    "# Se verifica el tamaño del df\n",
    "kmsmio.shape"
   ]
  },
  {
   "cell_type": "code",
   "execution_count": 129,
   "metadata": {},
   "outputs": [
    {
     "data": {
      "text/plain": [
       "id\n",
       "A14A-1-05:00:00-05:12:10                              1\n",
       "T47B-2-19:21:48-20:01:10                              1\n",
       "A14A-1-05:26:00-05:38:10                              1\n",
       "A14A-1-05:38:55-05:51:15                              1\n",
       "A14A-1-05:52:00-06:04:43                              1\n",
       "                                                     ..\n",
       "A35A-99753-1900-01-01 00:03:04-1900-01-01 00:14:39    1\n",
       "A35A-99753-23:03:04-23:14:39                          1\n",
       "A35A-99753-21:33:04-21:44:07                          1\n",
       "A35A-99753-21:30:02-21:30:17                          1\n",
       "A35A-99753-1900-01-01 00:16:10-1900-01-01 00:29:23    1\n",
       "Name: count, Length: 18645, dtype: int64"
      ]
     },
     "execution_count": 129,
     "metadata": {},
     "output_type": "execute_result"
    }
   ],
   "source": [
    "# Se verifica que la columna id no tenga id repetidos\n",
    "kmsmio['id'].value_counts().sort_values(ascending=False)"
   ]
  },
  {
   "cell_type": "markdown",
   "metadata": {},
   "source": [
    "Procesar reporte finalizado"
   ]
  },
  {
   "cell_type": "code",
   "execution_count": 130,
   "metadata": {},
   "outputs": [],
   "source": [
    "# Filtra el DF por Kms en Servicio\n",
    "repofi = repofi[repofi['Tipo de kilometros']== 'Kms en Servicio']\n",
    "# Se crea una nueva columna 'id'\n",
    "repofi['id'] = repofi.apply(lambda row: '-'.join([str(row['Línea']), str(row['Número de tarea vehículo']), \n",
    "                                                  str(row['desde']),str(row['hasta'])]), axis=1)\n"
   ]
  },
  {
   "cell_type": "code",
   "execution_count": 131,
   "metadata": {},
   "outputs": [
    {
     "data": {
      "text/plain": [
       "id\n",
       "A14A-1-05:00:00-05:12:10                              1\n",
       "T47B-2-19:21:48-20:01:10                              1\n",
       "A14A-1-05:26:00-05:38:10                              1\n",
       "A14A-1-05:38:55-05:51:15                              1\n",
       "A14A-1-05:52:00-06:04:43                              1\n",
       "                                                     ..\n",
       "A35A-99753-1900-01-01 00:03:04-1900-01-01 00:14:39    1\n",
       "A35A-99753-23:03:04-23:14:39                          1\n",
       "A35A-99753-21:33:04-21:44:07                          1\n",
       "A35A-99753-21:30:02-21:30:17                          1\n",
       "A35A-99753-1900-01-01 00:16:10-1900-01-01 00:29:23    1\n",
       "Name: count, Length: 18645, dtype: int64"
      ]
     },
     "execution_count": 131,
     "metadata": {},
     "output_type": "execute_result"
    }
   ],
   "source": [
    "# Se verifica que el id no tenga datos repetidos\n",
    "repofi['id'].value_counts().sort_values(ascending=False)"
   ]
  },
  {
   "cell_type": "code",
   "execution_count": 132,
   "metadata": {},
   "outputs": [
    {
     "data": {
      "text/plain": [
       "(18645, 32)"
      ]
     },
     "execution_count": 132,
     "metadata": {},
     "output_type": "execute_result"
    }
   ],
   "source": [
    "# Se verifica el tamaño del df\n",
    "repofi.shape"
   ]
  },
  {
   "cell_type": "code",
   "execution_count": 133,
   "metadata": {},
   "outputs": [],
   "source": [
    "reporf = repofi[['id', 'Largo', 'Número de secuencia de carro', 'Secuencia de arcos', 'Concesionario de Transporte']]"
   ]
  },
  {
   "cell_type": "markdown",
   "metadata": {},
   "source": [
    "Se realiza el respectivo Merge con los dos df"
   ]
  },
  {
   "cell_type": "code",
   "execution_count": 134,
   "metadata": {},
   "outputs": [],
   "source": [
    "# Se realiza el merge con outer en la columna id\n",
    "merge = pd.merge(kmsmio, repofi, on='id', how='outer')"
   ]
  },
  {
   "cell_type": "code",
   "execution_count": 135,
   "metadata": {},
   "outputs": [
    {
     "data": {
      "text/plain": [
       "True"
      ]
     },
     "execution_count": 135,
     "metadata": {},
     "output_type": "execute_result"
    }
   ],
   "source": [
    "# Se verifica que el numero de filas en los df sea igual (True), para poder concluir que el merge fue exitoso\n",
    "merge.shape[0] == kmsmio.shape[0] == repofi.shape[0]"
   ]
  },
  {
   "cell_type": "markdown",
   "metadata": {},
   "source": [
    "Calificaciones de jerarquias en Bitacora"
   ]
  },
  {
   "cell_type": "code",
   "execution_count": 136,
   "metadata": {},
   "outputs": [],
   "source": [
    "# Selecciona las columnas a usar\n",
    "jerarquias = jerarquias[['JERARQUIA HGI RECO2',\t'CALIFICACION']]"
   ]
  },
  {
   "cell_type": "code",
   "execution_count": 137,
   "metadata": {},
   "outputs": [],
   "source": [
    "# Esto elimina los espacios en blanco adelante y atras\n",
    "jerarquias['JERARQUIA HGI RECO2'] = jerarquias['JERARQUIA HGI RECO2'].str.strip()"
   ]
  },
  {
   "cell_type": "code",
   "execution_count": 138,
   "metadata": {},
   "outputs": [],
   "source": [
    "#combina los el df de bitacora con el de jerarquias\n",
    "bitacora = pd.merge(bitacora, jerarquias, left_on='Jerarquía', right_on='JERARQUIA HGI RECO2', how='left' )"
   ]
  },
  {
   "cell_type": "code",
   "execution_count": 139,
   "metadata": {},
   "outputs": [
    {
     "data": {
      "text/plain": [
       "Series([], Name: count, dtype: int64)"
      ]
     },
     "execution_count": 139,
     "metadata": {},
     "output_type": "execute_result"
    }
   ],
   "source": [
    "# Esta linea es para verificar las filas que no se cruzaron por jerarquia y agregarlas a la matriz fe jererquia en input\n",
    "x = bitacora[(bitacora['Jerarquía'].str.startswith('Salida'))& bitacora['CALIFICACION'].isnull()]\n",
    "x['Jerarquía'].value_counts()"
   ]
  },
  {
   "cell_type": "code",
   "execution_count": 140,
   "metadata": {},
   "outputs": [],
   "source": [
    "# Este codigo elimina los duplicado de la columna calificaciones eliminando el que no afecta a kilometros\n",
    "\n",
    "# Convertir la columna 'CALIFICACION' a numérica para poder comparar y encontrar el máximo\n",
    "bitacora['CALIFICACION'] = pd.to_numeric(bitacora['CALIFICACION'], errors='coerce')\n",
    "\n",
    "# Agrupar por las columnas 'Viaje' y 'Tarea', y mantener el valor máximo de 'CALIFICACION'\n",
    "bitacora_grouped = bitacora.groupby(['Viaje', 'Tarea']).agg({'CALIFICACION': 'max'}).reset_index()\n",
    "\n",
    "# Identificar las filas duplicadas en la tabla original\n",
    "duplicados = bitacora[bitacora.duplicated(subset=['Viaje', 'Tarea'], keep=False)]\n",
    "\n",
    "# Mantener solo una fila para cada grupo de duplicados en 'Viaje' y 'Tarea'\n",
    "bitacora_sin_duplicados = bitacora.drop_duplicates(subset=['Viaje', 'Tarea'])\n",
    "\n",
    "# Fusionar los datos filtrados con los valores máximos de 'CALIFICACION'\n",
    "bitacora_final = pd.merge(bitacora_sin_duplicados, bitacora_grouped, on=['Viaje', 'Tarea'])\n",
    "\n",
    "# Eliminar cualquiera de las filas duplicadas si ambas tienen valores nulos en 'CALIFICACION'\n",
    "bitacora = bitacora_final.drop_duplicates(subset=['Viaje', 'Tarea'], keep='last', ignore_index=True)\n",
    "    "
   ]
  },
  {
   "cell_type": "code",
   "execution_count": 141,
   "metadata": {},
   "outputs": [
    {
     "data": {
      "text/html": [
       "<div>\n",
       "<style scoped>\n",
       "    .dataframe tbody tr th:only-of-type {\n",
       "        vertical-align: middle;\n",
       "    }\n",
       "\n",
       "    .dataframe tbody tr th {\n",
       "        vertical-align: top;\n",
       "    }\n",
       "\n",
       "    .dataframe thead th {\n",
       "        text-align: right;\n",
       "    }\n",
       "</style>\n",
       "<table border=\"1\" class=\"dataframe\">\n",
       "  <thead>\n",
       "    <tr style=\"text-align: right;\">\n",
       "      <th></th>\n",
       "      <th># Caso MC</th>\n",
       "      <th>Tipo novedad</th>\n",
       "      <th>Jerarquía</th>\n",
       "      <th>Tarea</th>\n",
       "      <th>Viaje</th>\n",
       "      <th>Parada</th>\n",
       "      <th>Operador</th>\n",
       "      <th>Línea</th>\n",
       "      <th>Vehículo</th>\n",
       "      <th>Hora</th>\n",
       "      <th>...</th>\n",
       "      <th>Jerarquia</th>\n",
       "      <th>Tipo de Novedad</th>\n",
       "      <th>Novedad</th>\n",
       "      <th>Retoma/Salida</th>\n",
       "      <th>Unnamed: 16</th>\n",
       "      <th>Unnamed: 17</th>\n",
       "      <th>Unnamed: 18</th>\n",
       "      <th>JERARQUIA HGI RECO2</th>\n",
       "      <th>CALIFICACION_x</th>\n",
       "      <th>CALIFICACION_y</th>\n",
       "    </tr>\n",
       "  </thead>\n",
       "  <tbody>\n",
       "  </tbody>\n",
       "</table>\n",
       "<p>0 rows × 22 columns</p>\n",
       "</div>"
      ],
      "text/plain": [
       "Empty DataFrame\n",
       "Columns: [# Caso MC, Tipo novedad, Jerarquía, Tarea, Viaje, Parada, Operador, Línea, Vehículo, Hora, Fecha, Descripción, Jerarquia, Tipo de Novedad, Novedad, Retoma/Salida, Unnamed: 16, Unnamed: 17, Unnamed: 18, JERARQUIA HGI RECO2, CALIFICACION_x, CALIFICACION_y]\n",
       "Index: []\n",
       "\n",
       "[0 rows x 22 columns]"
      ]
     },
     "execution_count": 141,
     "metadata": {},
     "output_type": "execute_result"
    }
   ],
   "source": [
    "# Se verifica que no hay duplicados\n",
    "bitacora[bitacora.duplicated(subset=['Viaje', 'Tarea'], keep=False)]"
   ]
  },
  {
   "cell_type": "code",
   "execution_count": 142,
   "metadata": {},
   "outputs": [],
   "source": [
    "# Se elimina la columna CALIFICACION_X y se renombra la columna CALIFICACION_Y\n",
    "bitacora.drop(columns='CALIFICACION_x', axis=1, inplace=True)\n",
    "bitacora.rename(columns={'CALIFICACION_y': 'CALIFICACION'}, inplace=True)\n"
   ]
  },
  {
   "cell_type": "markdown",
   "metadata": {},
   "source": [
    "Merge con bitacora\n"
   ]
  },
  {
   "cell_type": "code",
   "execution_count": 143,
   "metadata": {},
   "outputs": [],
   "source": [
    "# Se reemplan las filas nulas por ceros de las dos columnas para posteriormente carbiar el tipo de dato\n",
    "bitacora[['Tarea', 'Viaje']] = bitacora[['Tarea', 'Viaje']].fillna(0).astype(int)"
   ]
  },
  {
   "cell_type": "code",
   "execution_count": 144,
   "metadata": {},
   "outputs": [],
   "source": [
    "# Se selecionan las columnas de Bitacora que se van a usar\n",
    "bitacora = bitacora[['Jerarquía',\t'Tarea',\t'Viaje', 'Parada', 'Vehículo', 'Novedad', 'CALIFICACION']]\n",
    "# Se filtran los casos que no tiene numero de viaje ya que no tiene retoma\n",
    "bitacora = bitacora[bitacora['Viaje'] != 0]"
   ]
  },
  {
   "cell_type": "code",
   "execution_count": 145,
   "metadata": {},
   "outputs": [
    {
     "data": {
      "text/plain": [
       "True"
      ]
     },
     "execution_count": 145,
     "metadata": {},
     "output_type": "execute_result"
    }
   ],
   "source": [
    "# Se compara las filas de los df, el resultado debe ser False\n",
    "bitacora.shape[0]==bitacora.shape[0]"
   ]
  },
  {
   "cell_type": "code",
   "execution_count": 146,
   "metadata": {},
   "outputs": [],
   "source": [
    "# Se agrega al merge anterior la informacion de bitacora\n",
    "# Importante tener en cuenta los vehiculos que tengan mas de un caso en la bitacora, esto genera id duplicados.\n",
    "mergebitacora = pd.merge(merge, bitacora, left_on=['Número de tarea vehículo_x', 'Número de viaje_x'], right_on=['Tarea', 'Viaje'], how='outer' )"
   ]
  },
  {
   "cell_type": "code",
   "execution_count": 147,
   "metadata": {},
   "outputs": [
    {
     "data": {
      "text/plain": [
       "0"
      ]
     },
     "execution_count": 147,
     "metadata": {},
     "output_type": "execute_result"
    }
   ],
   "source": [
    "# Revisar este resultado, ya que los valores que no coinceden deben ser iguales en el filtro\n",
    "mergebitacora.shape[0]- merge.shape[0]"
   ]
  },
  {
   "cell_type": "code",
   "execution_count": 148,
   "metadata": {},
   "outputs": [],
   "source": [
    "# Cambia Blanco y Negro Masivo por BYN en la columna Concesionario Programado\n",
    "mergebitacora['Concesionario Programado'] = mergebitacora['Concesionario Programado'].replace('Blanco y Negro Masivo','BYN')"
   ]
  },
  {
   "cell_type": "markdown",
   "metadata": {},
   "source": [
    "OK"
   ]
  },
  {
   "cell_type": "code",
   "execution_count": 149,
   "metadata": {},
   "outputs": [],
   "source": [
    "# Se reemplazan los valores 0 por -1\n",
    "#mergebitacora['Incumplidos_y'].replace(0, -1, inplace=True)\n",
    "#mergebitacora['Incumplidos_x'].replace(0, -1, inplace=True)"
   ]
  },
  {
   "cell_type": "code",
   "execution_count": 150,
   "metadata": {},
   "outputs": [],
   "source": [
    "# Se reemplazan los valores nulos por ceros\n",
    "#mergebitacora['Incumplidos_y'].fillna(0, inplace=True)\n",
    "#mergebitacora['Incumplidos_x'].fillna(0, inplace=True)"
   ]
  },
  {
   "cell_type": "code",
   "execution_count": 151,
   "metadata": {},
   "outputs": [],
   "source": [
    "# Se reemplazan los valores 0 por -1\n",
    "#mergebitacora['Incumplidos_y'].replace(0, -1, inplace=True)\n",
    "#mergebitacora['Incumplidos_x'].replace(0, -1, inplace=True)\n",
    "# Se reemplazan los valores nulos por ceros\n",
    "#mergebitacora['Incumplidos_y'].fillna(0, inplace=True)\n",
    "#mergebitacora['Incumplidos_x'].fillna(0, inplace=True)\n",
    "# Se cambia el tipo de dato para las columnas \n",
    "#mergebitacora['VIAJE'] =  mergebitacora['VIAJE'].astype(int)\n",
    "#mergebitacora['TAREA'] = mergebitacora['TAREA'].astype(int)\n"
   ]
  },
  {
   "cell_type": "code",
   "execution_count": 152,
   "metadata": {},
   "outputs": [],
   "source": [
    "x = mergebitacora"
   ]
  },
  {
   "cell_type": "code",
   "execution_count": 153,
   "metadata": {},
   "outputs": [],
   "source": [
    "y =x[(x['Incumplidos_x'].isna())&(x['Incumplidos_y'].notna())]"
   ]
  },
  {
   "cell_type": "code",
   "execution_count": 154,
   "metadata": {},
   "outputs": [
    {
     "data": {
      "text/html": [
       "<div>\n",
       "<style scoped>\n",
       "    .dataframe tbody tr th:only-of-type {\n",
       "        vertical-align: middle;\n",
       "    }\n",
       "\n",
       "    .dataframe tbody tr th {\n",
       "        vertical-align: top;\n",
       "    }\n",
       "\n",
       "    .dataframe thead th {\n",
       "        text-align: right;\n",
       "    }\n",
       "</style>\n",
       "<table border=\"1\" class=\"dataframe\">\n",
       "  <thead>\n",
       "    <tr style=\"text-align: right;\">\n",
       "      <th></th>\n",
       "      <th>Incumplidos_x</th>\n",
       "      <th>Incumplidos_y</th>\n",
       "    </tr>\n",
       "  </thead>\n",
       "  <tbody>\n",
       "    <tr>\n",
       "      <th>1112</th>\n",
       "      <td>NaN</td>\n",
       "      <td>2.0</td>\n",
       "    </tr>\n",
       "    <tr>\n",
       "      <th>3169</th>\n",
       "      <td>NaN</td>\n",
       "      <td>2.0</td>\n",
       "    </tr>\n",
       "    <tr>\n",
       "      <th>4069</th>\n",
       "      <td>NaN</td>\n",
       "      <td>2.0</td>\n",
       "    </tr>\n",
       "    <tr>\n",
       "      <th>4812</th>\n",
       "      <td>NaN</td>\n",
       "      <td>2.0</td>\n",
       "    </tr>\n",
       "    <tr>\n",
       "      <th>8868</th>\n",
       "      <td>NaN</td>\n",
       "      <td>2.0</td>\n",
       "    </tr>\n",
       "    <tr>\n",
       "      <th>9377</th>\n",
       "      <td>NaN</td>\n",
       "      <td>2.0</td>\n",
       "    </tr>\n",
       "    <tr>\n",
       "      <th>9794</th>\n",
       "      <td>NaN</td>\n",
       "      <td>2.0</td>\n",
       "    </tr>\n",
       "    <tr>\n",
       "      <th>9818</th>\n",
       "      <td>NaN</td>\n",
       "      <td>2.0</td>\n",
       "    </tr>\n",
       "    <tr>\n",
       "      <th>10032</th>\n",
       "      <td>NaN</td>\n",
       "      <td>2.0</td>\n",
       "    </tr>\n",
       "    <tr>\n",
       "      <th>10523</th>\n",
       "      <td>NaN</td>\n",
       "      <td>2.0</td>\n",
       "    </tr>\n",
       "    <tr>\n",
       "      <th>10524</th>\n",
       "      <td>NaN</td>\n",
       "      <td>2.0</td>\n",
       "    </tr>\n",
       "    <tr>\n",
       "      <th>11267</th>\n",
       "      <td>NaN</td>\n",
       "      <td>2.0</td>\n",
       "    </tr>\n",
       "    <tr>\n",
       "      <th>14189</th>\n",
       "      <td>NaN</td>\n",
       "      <td>2.0</td>\n",
       "    </tr>\n",
       "    <tr>\n",
       "      <th>16520</th>\n",
       "      <td>NaN</td>\n",
       "      <td>2.0</td>\n",
       "    </tr>\n",
       "  </tbody>\n",
       "</table>\n",
       "</div>"
      ],
      "text/plain": [
       "       Incumplidos_x  Incumplidos_y\n",
       "1112             NaN            2.0\n",
       "3169             NaN            2.0\n",
       "4069             NaN            2.0\n",
       "4812             NaN            2.0\n",
       "8868             NaN            2.0\n",
       "9377             NaN            2.0\n",
       "9794             NaN            2.0\n",
       "9818             NaN            2.0\n",
       "10032            NaN            2.0\n",
       "10523            NaN            2.0\n",
       "10524            NaN            2.0\n",
       "11267            NaN            2.0\n",
       "14189            NaN            2.0\n",
       "16520            NaN            2.0"
      ]
     },
     "execution_count": 154,
     "metadata": {},
     "output_type": "execute_result"
    }
   ],
   "source": [
    "y[['Incumplidos_x','Incumplidos_y']]"
   ]
  },
  {
   "cell_type": "code",
   "execution_count": null,
   "metadata": {},
   "outputs": [],
   "source": [
    "def vehiculos_xy_texto():"
   ]
  },
  {
   "cell_type": "code",
   "execution_count": null,
   "metadata": {},
   "outputs": [],
   "source": [
    "def vehiculo_xy(row):\n",
    "    if pd.isna(row['Número de Vehículo']) and  pd.notnan(row['Número de secuencia de carro']): \n",
    "        return row['Número de secuencia de carro']\n",
    "    elif pd.notna(row['Número de Vehículo']) and  pd.nan(row['Número de secuencia de carro']):\n",
    "        return row['Número de Vehículo']\n",
    "    elif row['Número de Vehículo'] !=  row['Número de secuencia de carro']:\n",
    "        return row['Número de Vehículo']\n"
   ]
  },
  {
   "cell_type": "code",
   "execution_count": 155,
   "metadata": {},
   "outputs": [],
   "source": [
    "def prueba(row, df):\n",
    "    \"\"\"\n",
    "    Calcula el valor según las condiciones especificadas.\n",
    "\n",
    "    Parámetros:\n",
    "    row (pandas.Series): Una fila del DataFrame que contiene los datos de la bitácora.\n",
    "    df (pandas.DataFrame): DataFrame que contiene los datos de la bitácora.\n",
    "\n",
    "    Retorna:\n",
    "    int or float or np.nan: El valor calculado según las condiciones.\n",
    "    \"\"\"\n",
    "    # Obtener el índice de la fila actual\n",
    "    index = row.name\n",
    "    \n",
    "    # Calcular el índice de la fila siguiente\n",
    "    next_index = index + 1\n",
    "    next_index_next = index + 2\n",
    "    \n",
    "    # Obtener la fila siguiente si el índice es válido, de lo contrario, establecerla como None\n",
    "    next_row = df.iloc[next_index] if next_index < len(df) else None\n",
    "    next_row_next = df.iloc[next_index_next] if next_index_next < len(df) else None\n",
    "\n",
    "    if row['Tipo Kilómetros'] == \"Kms en Servicio\" and pd.isna(row['Número de secuencia de carro']):\n",
    "        if row['Tipo de viaje corto_x'] == \"Viaje comercial\":\n",
    "            return 2\n",
    "        elif row['Tipo de viaje corto_x'] in [\"Viaje de punto operacional\", \"Viaje de posicionamiento\"]:\n",
    "            if next_row is not None and pd.isna(next_row['Número de secuencia de carro']):\n",
    "                if (next_row['Incumplidos_y'] == 2) and (next_row['Largo_y'] in [0, 1]):\n",
    "                    return 1\n",
    "                elif (next_row['Largo_y'] not in [0, 1]) or (next_row['Largo_y']  in [0, 1]):\n",
    "                    if pd.notna(row['Incumplidos_y']):\n",
    "                        return next_row_next['Incumplidos_y'] \n",
    "                    else:\n",
    "                        return 2\n",
    "            else:\n",
    "                if next_row is not None and next_row['Largo_y'] in [0, 1]:\n",
    "                    return 1\n",
    "                else:\n",
    "                    return 2\n",
    "        else:\n",
    "            return np.nan\n",
    "    elif (row['Número de secuencia de carro'] in [\"CAMBIO\", \"CANCELADA\"]) and row['Tipo Kilómetros'] == \"Kms en Servicio\":\n",
    "        return 0\n"
   ]
  },
  {
   "cell_type": "code",
   "execution_count": 156,
   "metadata": {},
   "outputs": [],
   "source": [
    "mergebitacora['prueba'] = np.nan"
   ]
  },
  {
   "cell_type": "code",
   "execution_count": 157,
   "metadata": {},
   "outputs": [],
   "source": [
    "# Aplicar la función a todo el DataFrame\n",
    "mergebitacora['prueba'] = mergebitacora.apply(prueba, axis=1, args=(mergebitacora,))"
   ]
  },
  {
   "cell_type": "code",
   "execution_count": 120,
   "metadata": {},
   "outputs": [
    {
     "data": {
      "text/plain": [
       "prueba\n",
       "2.0    11770\n",
       "0.0       38\n",
       "Name: count, dtype: int64"
      ]
     },
     "execution_count": 120,
     "metadata": {},
     "output_type": "execute_result"
    }
   ],
   "source": [
    "mergebitacora['prueba'].value_counts()"
   ]
  },
  {
   "cell_type": "code",
   "execution_count": 158,
   "metadata": {},
   "outputs": [],
   "source": [
    "def col_calificaciones(row, df):\n",
    "    \"\"\"\n",
    "    Calcula el valor del incumplimiento según las condiciones especificadas.\n",
    "\n",
    "    Parámetros:\n",
    "    row (pandas.Series): Una fila del DataFrame que contiene los datos de la bitácora.\n",
    "    df (pandas.DataFrame): DataFrame que contiene los datos de la bitácora.\n",
    "\n",
    "    Retorna:\n",
    "    int or float or np.nan: El valor del incumplimiento calculado según las condiciones.\n",
    "    \"\"\"\n",
    "    # Obtener el índice de la fila actual\n",
    "    #index = row.name\n",
    "    \n",
    "    # Calcular el índice de la fila siguiente\n",
    "    #next_index = index + 1\n",
    "    #next_index_next = index +2\n",
    "    # Obtener la fila siguiente si el índice es válido, de lo contrario, establecerla como None\n",
    "    #next_row = df.iloc[next_index] if next_index < len(df) else None\n",
    "    #next_row_next = df.iloc[next_index_next] if next_index_next < len(df) else None\n",
    "\n",
    "    # Condiciones para calcular el valor del incumplimiento\n",
    "    if pd.isna(row['Incumplidos_x']) and pd.notna(row['Incumplidos_y']):\n",
    "        return np.nan\n",
    "    elif row['Incumplidos_x'] == 3:\n",
    "        return row['Incumplidos_x']\n",
    "    elif row['Incumplidos_x'] < row['Incumplidos_y'] and row['Incumplidos_x'] != 2:\n",
    "        return row['Incumplidos_x']\n",
    "    elif pd.isna(row['Incumplidos_x']) and pd.notnull(row['Incumplidos_y']):\n",
    "        return np.nan\n",
    "    \n",
    "    else:\n",
    "        return np.nan\n",
    "    \n",
    "    \n",
    "\n"
   ]
  },
  {
   "cell_type": "code",
   "execution_count": 160,
   "metadata": {},
   "outputs": [],
   "source": [
    "mergebitacora.to_excel('../output/incumplidos.xlsx', sheet_name='prueba')"
   ]
  },
  {
   "cell_type": "code",
   "execution_count": 159,
   "metadata": {},
   "outputs": [
    {
     "name": "stdout",
     "output_type": "stream",
     "text": [
      "Valor de Incumplidos_x: nan\n",
      "Valor de Incumplidos_y: 2.0\n",
      "Valor de Incumplidos_x: nan\n",
      "Valor de Incumplidos_y: 2.0\n",
      "Valor de Incumplidos_x: nan\n",
      "Valor de Incumplidos_y: 2.0\n",
      "Valor de Incumplidos_x: nan\n",
      "Valor de Incumplidos_y: 2.0\n",
      "Valor de Incumplidos_x: nan\n",
      "Valor de Incumplidos_y: 2.0\n",
      "Valor de Incumplidos_x: nan\n",
      "Valor de Incumplidos_y: 2.0\n",
      "Valor de Incumplidos_x: nan\n",
      "Valor de Incumplidos_y: 2.0\n",
      "Valor de Incumplidos_x: nan\n",
      "Valor de Incumplidos_y: 2.0\n",
      "Valor de Incumplidos_x: nan\n",
      "Valor de Incumplidos_y: 2.0\n",
      "Valor de Incumplidos_x: nan\n",
      "Valor de Incumplidos_y: 2.0\n",
      "Valor de Incumplidos_x: nan\n",
      "Valor de Incumplidos_y: 2.0\n",
      "Valor de Incumplidos_x: nan\n",
      "Valor de Incumplidos_y: 2.0\n",
      "Valor de Incumplidos_x: nan\n",
      "Valor de Incumplidos_y: 2.0\n",
      "Valor de Incumplidos_x: nan\n",
      "Valor de Incumplidos_y: 2.0\n"
     ]
    }
   ],
   "source": [
    "# Aplicar la función a todo el DataFrame\n",
    "mergebitacora['Incumplidos_y'] = mergebitacora.apply(col_calificaciones, axis=1, args=(mergebitacora,))"
   ]
  },
  {
   "cell_type": "code",
   "execution_count": 851,
   "metadata": {},
   "outputs": [],
   "source": [
    "# Se reemplaza nuevamente el cero por NAN y el menos -1 por cero\n",
    "#mergebitacora['Incumplidos_y'].replace(0, np.nan, inplace=True)\n",
    "#mergebitacora['Incumplidos_x'].replace(0, np.nan, inplace=True)\n",
    "\n",
    "#mergebitacora['Incumplidos_y'].replace(-1, 0, inplace=True)\n",
    "#mergebitacora['Incumplidos_x'].replace(-1, 0, inplace=True)"
   ]
  },
  {
   "cell_type": "markdown",
   "metadata": {},
   "source": [
    "verificacion"
   ]
  },
  {
   "cell_type": "code",
   "execution_count": 41,
   "metadata": {},
   "outputs": [],
   "source": [
    "z = mergebitacora[(mergebitacora['Incumplidos_x'].isna())&(mergebitacora['Incumplidos_y'].notna())]"
   ]
  },
  {
   "cell_type": "code",
   "execution_count": 42,
   "metadata": {},
   "outputs": [
    {
     "data": {
      "text/html": [
       "<div>\n",
       "<style scoped>\n",
       "    .dataframe tbody tr th:only-of-type {\n",
       "        vertical-align: middle;\n",
       "    }\n",
       "\n",
       "    .dataframe tbody tr th {\n",
       "        vertical-align: top;\n",
       "    }\n",
       "\n",
       "    .dataframe thead th {\n",
       "        text-align: right;\n",
       "    }\n",
       "</style>\n",
       "<table border=\"1\" class=\"dataframe\">\n",
       "  <thead>\n",
       "    <tr style=\"text-align: right;\">\n",
       "      <th></th>\n",
       "      <th>VIAJE</th>\n",
       "      <th>TAREA</th>\n",
       "      <th>Incumplidos_x</th>\n",
       "      <th>Incumplidos_y</th>\n",
       "    </tr>\n",
       "  </thead>\n",
       "  <tbody>\n",
       "  </tbody>\n",
       "</table>\n",
       "</div>"
      ],
      "text/plain": [
       "Empty DataFrame\n",
       "Columns: [VIAJE, TAREA, Incumplidos_x, Incumplidos_y]\n",
       "Index: []"
      ]
     },
     "execution_count": 42,
     "metadata": {},
     "output_type": "execute_result"
    }
   ],
   "source": [
    "z[['VIAJE', 'TAREA', 'Incumplidos_x', 'Incumplidos_y']]"
   ]
  },
  {
   "cell_type": "code",
   "execution_count": 43,
   "metadata": {},
   "outputs": [
    {
     "data": {
      "text/html": [
       "<div>\n",
       "<style scoped>\n",
       "    .dataframe tbody tr th:only-of-type {\n",
       "        vertical-align: middle;\n",
       "    }\n",
       "\n",
       "    .dataframe tbody tr th {\n",
       "        vertical-align: top;\n",
       "    }\n",
       "\n",
       "    .dataframe thead th {\n",
       "        text-align: right;\n",
       "    }\n",
       "</style>\n",
       "<table border=\"1\" class=\"dataframe\">\n",
       "  <thead>\n",
       "    <tr style=\"text-align: right;\">\n",
       "      <th></th>\n",
       "      <th>VIAJE</th>\n",
       "      <th>TAREA</th>\n",
       "      <th>Incumplidos_x</th>\n",
       "      <th>Incumplidos_y</th>\n",
       "    </tr>\n",
       "  </thead>\n",
       "  <tbody>\n",
       "    <tr>\n",
       "      <th>0</th>\n",
       "      <td>1.0</td>\n",
       "      <td>1.0</td>\n",
       "      <td>NaN</td>\n",
       "      <td>NaN</td>\n",
       "    </tr>\n",
       "    <tr>\n",
       "      <th>1</th>\n",
       "      <td>2.0</td>\n",
       "      <td>1.0</td>\n",
       "      <td>NaN</td>\n",
       "      <td>NaN</td>\n",
       "    </tr>\n",
       "    <tr>\n",
       "      <th>2</th>\n",
       "      <td>9.0</td>\n",
       "      <td>1.0</td>\n",
       "      <td>NaN</td>\n",
       "      <td>NaN</td>\n",
       "    </tr>\n",
       "    <tr>\n",
       "      <th>3</th>\n",
       "      <td>10.0</td>\n",
       "      <td>1.0</td>\n",
       "      <td>NaN</td>\n",
       "      <td>NaN</td>\n",
       "    </tr>\n",
       "    <tr>\n",
       "      <th>4</th>\n",
       "      <td>17.0</td>\n",
       "      <td>1.0</td>\n",
       "      <td>NaN</td>\n",
       "      <td>NaN</td>\n",
       "    </tr>\n",
       "    <tr>\n",
       "      <th>...</th>\n",
       "      <td>...</td>\n",
       "      <td>...</td>\n",
       "      <td>...</td>\n",
       "      <td>...</td>\n",
       "    </tr>\n",
       "    <tr>\n",
       "      <th>18640</th>\n",
       "      <td>9955.0</td>\n",
       "      <td>99753.0</td>\n",
       "      <td>NaN</td>\n",
       "      <td>NaN</td>\n",
       "    </tr>\n",
       "    <tr>\n",
       "      <th>18641</th>\n",
       "      <td>9956.0</td>\n",
       "      <td>99753.0</td>\n",
       "      <td>NaN</td>\n",
       "      <td>NaN</td>\n",
       "    </tr>\n",
       "    <tr>\n",
       "      <th>18642</th>\n",
       "      <td>9957.0</td>\n",
       "      <td>99753.0</td>\n",
       "      <td>NaN</td>\n",
       "      <td>NaN</td>\n",
       "    </tr>\n",
       "    <tr>\n",
       "      <th>18643</th>\n",
       "      <td>9958.0</td>\n",
       "      <td>99753.0</td>\n",
       "      <td>NaN</td>\n",
       "      <td>NaN</td>\n",
       "    </tr>\n",
       "    <tr>\n",
       "      <th>18644</th>\n",
       "      <td>9959.0</td>\n",
       "      <td>99753.0</td>\n",
       "      <td>NaN</td>\n",
       "      <td>NaN</td>\n",
       "    </tr>\n",
       "  </tbody>\n",
       "</table>\n",
       "<p>18645 rows × 4 columns</p>\n",
       "</div>"
      ],
      "text/plain": [
       "        VIAJE    TAREA  Incumplidos_x  Incumplidos_y\n",
       "0         1.0      1.0            NaN            NaN\n",
       "1         2.0      1.0            NaN            NaN\n",
       "2         9.0      1.0            NaN            NaN\n",
       "3        10.0      1.0            NaN            NaN\n",
       "4        17.0      1.0            NaN            NaN\n",
       "...       ...      ...            ...            ...\n",
       "18640  9955.0  99753.0            NaN            NaN\n",
       "18641  9956.0  99753.0            NaN            NaN\n",
       "18642  9957.0  99753.0            NaN            NaN\n",
       "18643  9958.0  99753.0            NaN            NaN\n",
       "18644  9959.0  99753.0            NaN            NaN\n",
       "\n",
       "[18645 rows x 4 columns]"
      ]
     },
     "execution_count": 43,
     "metadata": {},
     "output_type": "execute_result"
    }
   ],
   "source": [
    "mergebitacora[['VIAJE', 'TAREA', 'Incumplidos_x', 'Incumplidos_y']]"
   ]
  },
  {
   "cell_type": "markdown",
   "metadata": {},
   "source": [
    "verificacion"
   ]
  },
  {
   "cell_type": "code",
   "execution_count": null,
   "metadata": {},
   "outputs": [],
   "source": [
    "##\n",
    "##\n",
    "##no va\n",
    "##\n",
    "##\n",
    "# Definir una función para aplicar a cada grupo\n",
    "def eliminar_duplicados_bitacora(row):\n",
    "    # Verificar si hay al menos un valor en 'Incumplidos_x'\n",
    "    if row['Incumplidos_x'].isnull() and row['Incumplidos_x'].isnull():   \n",
    "        return row[row['Incumplidos_x'].notnull()]  # Conservar la fila con 'Incumplidos_x' no nulo\n",
    "    # Verificar si hay al menos un valor en 'Incumplidos_y'\n",
    "    elif row['Incumplidos_y'].notnull().any():\n",
    "        return row[row['Incumplidos_y'].notnull()]  # Conservar la fila con 'Incumplidos_y' no nulo\n",
    "    # Conservar la fila con el valor más bajo en 'CALIFICACION'\n",
    "    else:\n",
    "        return row.loc[row['CALIFICACION'].idxmin()]"
   ]
  },
  {
   "cell_type": "code",
   "execution_count": null,
   "metadata": {},
   "outputs": [],
   "source": [
    "# Muestra los id duplicados producto del merge con bitacora\n",
    "mergebitacora[mergebitacora['id'].duplicated()]"
   ]
  },
  {
   "cell_type": "markdown",
   "metadata": {},
   "source": [
    "Revision de Adicionales"
   ]
  },
  {
   "cell_type": "markdown",
   "metadata": {},
   "source": [
    "Columna condicional "
   ]
  },
  {
   "cell_type": "code",
   "execution_count": null,
   "metadata": {},
   "outputs": [],
   "source": [
    "# Se cambian los vehiculos del cierre por los de k2##\n",
    "mergebitacora['Número de secuencia de carro'] = [x if pd.notna(x) else y for x, y in zip(mergebitacora['Número de secuencia de carro'], mergebitacora['Número de Vehículo'])]\n",
    "# Marca en la columnas Cambios los cambios que realiza el código\n",
    "mergebitacora['condicion'] = [ np.nan if  pd.notna(x) else 'Se Cambia # V RF' for x, y in zip(mergebitacora['Número de secuencia de carro'], mergebitacora['Número de Vehículo'])]\n"
   ]
  },
  {
   "cell_type": "code",
   "execution_count": null,
   "metadata": {},
   "outputs": [],
   "source": [
    "# # Función para actualizar el texto de la columna condicion para Largo_y si Largo_x es mayor\n",
    "def actualizar_largo_texto(row):\n",
    "    if pd.isna(row['Largo_y']) and pd.isna(row['condicion']) :\n",
    "        return 'Cambia largo por NAN'\n",
    "    elif pd.isna(row['Largo_y']) and pd.notnull(row['condicion']) :\n",
    "        return row['condicion'] + '/Cambia largo por NAN'\n",
    "    elif row['Largo_x'] > row['Largo_y'] and pd.isna(row['condicion']):\n",
    "        return 'Cambia x Mayor largo'\n",
    "    elif row['Largo_x'] > row['Largo_y'] and pd.notnull(row['condicion']) :\n",
    "        return row['condicion'] + '/Cambia x Mayor largo'\n",
    "    else:\n",
    "        if pd.notnull(row['condicion']):\n",
    "            return row['condicion']\n",
    "            "
   ]
  },
  {
   "cell_type": "code",
   "execution_count": null,
   "metadata": {},
   "outputs": [],
   "source": [
    "# Función para actualizar los valores de Largo_y si Largo_x es mayor\n",
    "def actualizar_largo(row):\n",
    "    if pd.isna(row['Largo_y']):\n",
    "        return row['Largo_x']\n",
    "    elif row['Largo_x'] > row['Largo_y']:\n",
    "        return row['Largo_x']\n",
    "    else:\n",
    "        return row['Largo_y']"
   ]
  },
  {
   "cell_type": "code",
   "execution_count": null,
   "metadata": {},
   "outputs": [],
   "source": [
    "# Marcar las filas donde se realizan cambios en una nueva columna\n",
    "mergebitacora['condicion'] = mergebitacora.apply(actualizar_largo_texto, axis=1)"
   ]
  },
  {
   "cell_type": "code",
   "execution_count": null,
   "metadata": {},
   "outputs": [],
   "source": [
    "# Aplicar la función a la columna Largo_y\n",
    "mergebitacora['Largo_y'] = mergebitacora.apply(actualizar_largo, axis=1)"
   ]
  },
  {
   "cell_type": "code",
   "execution_count": null,
   "metadata": {},
   "outputs": [],
   "source": [
    "#Se verifican los cambios realizados\n",
    "mergebitacora['condicion'].value_counts()"
   ]
  },
  {
   "cell_type": "code",
   "execution_count": null,
   "metadata": {},
   "outputs": [],
   "source": []
  },
  {
   "cell_type": "code",
   "execution_count": null,
   "metadata": {},
   "outputs": [],
   "source": [
    "'Número de secuencia de carro', 'Secuencia de arcos', 'Concesionario Programado'"
   ]
  },
  {
   "cell_type": "code",
   "execution_count": null,
   "metadata": {},
   "outputs": [],
   "source": [
    "# Condiciones para la columna condicional\n",
    "condicion1 = mergebitacora['Largo_x'] != mergebitacora['Largo_y']\n",
    "condicion2 = mergebitacora['Número de Vehículo'] != mergebitacora['Número de secuencia de carro']\n",
    "condicion3 = mergebitacora['Secuencia de arcos_x'] != mergebitacora['Secuencia de arcos_y']\n",
    "condicion4 = mergebitacora['Concesionario de Transporte_x'] != mergebitacora['Concesionario Programado']\n",
    "\n",
    "# Aplicar condiciones y asignar valores a la nueva columna\n",
    "mergebitacora['condicional2'] = np.where(condicion1 & condicion2 & condicion3 & condicion4, 'Revisar largo, parada, vehículo y consecionario',\n",
    "                                    np.where(condicion1 & condicion2 & condicion3, 'Revisar largo, parada y vehículo',\n",
    "                                        np.where(condicion1 & condicion2 & condicion4, 'Revisar largo, parada y consecionario',         \n",
    "                                            np.where(condicion1 & condicion3 & condicion4, 'Revisar largo, parada y consecionarios',\n",
    "                                                np.where(condicion2 & condicion3 & condicion4, 'Revisar vehiculo, parada y consecionarios',        \n",
    "                                                    np.where(condicion1 & condicion2, 'Revisar largo y vehiculo',\n",
    "                                                        np.where(condicion1 & condicion3, 'Revisar largo y parada',\n",
    "                                                            np.where(condicion1 & condicion4, 'Revisar largo y consecionario', \n",
    "                                                                np.where(condicion2 & condicion3, 'Revisar vehiculo y parada',\n",
    "                                                                    np.where(condicion2 & condicion4, 'Revisar vehiculo y consecionario',        \n",
    "                                                                        np.where(condicion3 & condicion4, 'Revisar parada y consecionario',                                            \n",
    "                                                                            np.where(condicion1, 'Revisar largo', \n",
    "                                                                                np.where(condicion2, 'Revisar numero de vehiculo',\n",
    "                                                                                    np.where(condicion3, 'Revisar paradas',\n",
    "                                                                                        np.where(condicion4, 'Revisar consesionario', 'OK')))))))))))))))"
   ]
  },
  {
   "cell_type": "code",
   "execution_count": null,
   "metadata": {},
   "outputs": [],
   "source": [
    "mergebitacora['condicional2'].value_counts()"
   ]
  },
  {
   "cell_type": "code",
   "execution_count": null,
   "metadata": {},
   "outputs": [],
   "source": [
    "# Exporta a un archivo excel el Df\n",
    "#mergebitacora.to_excel('../output/prueba_mergebita.xlsx', index=False, sheet_name='k2_procesado')"
   ]
  }
 ],
 "metadata": {
  "kernelspec": {
   "display_name": "w-env",
   "language": "python",
   "name": "w-env"
  },
  "language_info": {
   "codemirror_mode": {
    "name": "ipython",
    "version": 3
   },
   "file_extension": ".py",
   "mimetype": "text/x-python",
   "name": "python",
   "nbconvert_exporter": "python",
   "pygments_lexer": "ipython3",
   "version": "3.12.2"
  },
  "orig_nbformat": 4
 },
 "nbformat": 4,
 "nbformat_minor": 2
}
