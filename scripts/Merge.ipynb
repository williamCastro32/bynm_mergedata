{
 "cells": [
  {
   "cell_type": "code",
   "execution_count": 216,
   "metadata": {},
   "outputs": [],
   "source": [
    "# Importa las librerias a usar\n",
    "import pandas as pd\n",
    "import re\n",
    "import numpy as np\n",
    "import funcionesw as fw\n",
    "import datetime"
   ]
  },
  {
   "cell_type": "markdown",
   "metadata": {},
   "source": [
    "importar arvhivos a procesar"
   ]
  },
  {
   "cell_type": "code",
   "execution_count": 217,
   "metadata": {},
   "outputs": [],
   "source": [
    "# ubicacion de los archivos\n",
    "patch1 = '../input/Kilometros en Servicio MIO - 05-Mar-2024.xlsx'# Se importa el archivo xlxs\n",
    "patch2 =  '../input/REPORTE FINALIZADO 05_MARZ_2024.xlsx'\n",
    "patch3 = '../input/JERARQUIAS.xlsx'\n",
    "\n",
    "# Se importa el archivo xlxs\n",
    "kmsmio = pd.read_excel(patch1, sheet_name='Programacion')\n",
    "repofi = pd.read_excel(patch2, sheet_name='Programacion')\n",
    "bitacora = pd.read_excel(patch2, sheet_name='Bitacora')\n",
    "jerarquias = pd.read_excel(patch3, sheet_name='Hoja1')\n",
    "\n",
    "# Se eliminan las filas y las columnas vacias\n",
    "kmsmio = kmsmio.dropna(axis=0, how='all').dropna(axis=1, how='all')\n",
    "repofi = repofi.dropna(axis=0, how='all').dropna(axis=1, how='all')\n",
    "bitacora = bitacora.dropna(axis=0, how='all').dropna(axis=1, how='all')\n",
    "\n",
    "# Se crea el df de adicionales\n",
    "adi = kmsmio[kmsmio['Kilometros Programados Plan'].isna()]"
   ]
  },
  {
   "cell_type": "markdown",
   "metadata": {},
   "source": [
    "Porcesar K2"
   ]
  },
  {
   "cell_type": "code",
   "execution_count": 218,
   "metadata": {},
   "outputs": [
    {
     "data": {
      "text/plain": [
       "id\n",
       "2024-03-05 00:00:00-A14A-1-05:00:00-05:12:10        1\n",
       "2024-03-05 00:00:00-T47B-2-19:21:48-20:01:10        1\n",
       "2024-03-05 00:00:00-A14A-1-05:26:00-05:38:10        1\n",
       "2024-03-05 00:00:00-A14A-1-05:38:55-05:51:15        1\n",
       "2024-03-05 00:00:00-A14A-1-05:52:00-06:04:43        1\n",
       "                                                   ..\n",
       "2024-03-05 00:00:00-A35A-99753-24:03:04-24:14:39    1\n",
       "2024-03-05 00:00:00-A35A-99753-23:03:04-23:14:39    1\n",
       "2024-03-05 00:00:00-A35A-99753-21:33:04-21:44:07    1\n",
       "2024-03-05 00:00:00-A35A-99753-21:30:02-21:30:17    1\n",
       "2024-03-05 00:00:00-A35A-99753-24:16:10-24:29:23    1\n",
       "Name: count, Length: 18645, dtype: int64"
      ]
     },
     "execution_count": 218,
     "metadata": {},
     "output_type": "execute_result"
    }
   ],
   "source": [
    "# Filtra el DF por Kms en Servicio\n",
    "kmsmio = kmsmio[kmsmio['Tipo Kilómetros']== 'Kms en Servicio']\n",
    "kmsmio = kmsmio[kmsmio['Kilometros Programados Plan'].notna()]\n",
    "\n",
    "# Se aplica la funcion extraer_hora_regex para estandarizar la hora\n",
    "kmsmio['Desde'] = kmsmio['Desde'].apply(fw.extraer_hora_regex)\n",
    "kmsmio['hasta'] = kmsmio['hasta'].apply(fw.extraer_hora_regex)\n",
    "\n",
    "# Se crea una nueva columna 'id'\n",
    "kmsmio['id'] = kmsmio.apply(lambda row: '-'.join((str(row['Fecha']), str(row['Línea']), str(row['Número de tarea vehículo']), \n",
    "                                                   str(row['Desde']), str(row['hasta']))), axis=1)\n",
    "\n",
    "# Se verifica que la columna id no tenga id repetidos\n",
    "kmsmio['id'].value_counts().sort_values(ascending=False)\n"
   ]
  },
  {
   "cell_type": "markdown",
   "metadata": {},
   "source": [
    "Procesar reporte finalizado"
   ]
  },
  {
   "cell_type": "code",
   "execution_count": 219,
   "metadata": {},
   "outputs": [
    {
     "data": {
      "text/plain": [
       "id\n",
       "2024-03-05 00:00:00-A14A-1-05:00:00-05:12:10        1\n",
       "2024-03-05 00:00:00-T47B-2-19:21:48-20:01:10        1\n",
       "2024-03-05 00:00:00-A14A-1-05:26:00-05:38:10        1\n",
       "2024-03-05 00:00:00-A14A-1-05:38:55-05:51:15        1\n",
       "2024-03-05 00:00:00-A14A-1-05:52:00-06:04:43        1\n",
       "                                                   ..\n",
       "2024-03-05 00:00:00-A35A-99753-24:03:04-24:14:39    1\n",
       "2024-03-05 00:00:00-A35A-99753-23:03:04-23:14:39    1\n",
       "2024-03-05 00:00:00-A35A-99753-21:33:04-21:44:07    1\n",
       "2024-03-05 00:00:00-A35A-99753-21:30:02-21:30:17    1\n",
       "2024-03-05 00:00:00-A35A-99753-24:16:10-24:29:23    1\n",
       "Name: count, Length: 18645, dtype: int64"
      ]
     },
     "execution_count": 219,
     "metadata": {},
     "output_type": "execute_result"
    }
   ],
   "source": [
    "# Se aplica la funcion extraer_hora_regex para estandarizar la hora\n",
    "repofi['desde'] = repofi['desde'].apply(fw.extraer_hora_regex)\n",
    "repofi['hasta'] = repofi['hasta'].apply(fw.extraer_hora_regex)\n",
    "\n",
    "# Filtra el DF por Kms en Servicio\n",
    "repofi = repofi[repofi['Tipo de kilometros']== 'Kms en Servicio']\n",
    "\n",
    "# Se crea una nueva columna 'id'\n",
    "repofi['id'] = repofi.apply(lambda row: '-'.join((str(row['Fecha']), str(row['Línea']), str(row['Número de tarea vehículo']), \n",
    "                                                   str(row['desde']), str(row['hasta']))), axis=1)\n",
    "\n",
    "# Se seleccionan las columnas del reporte finalizado\n",
    "repofi = repofi[['id', 'Largo', 'Número de secuencia de carro', 'Número de tarea vehículo', 'Secuencia de arcos', \n",
    "                 'Número de viaje', 'Incumplidos','Descripción Novedad','Concesionario de Transporte', 'desde', 'hasta']]\n",
    "\n",
    "# Se verifica que el id no tenga datos repetidos\n",
    "repofi['id'].value_counts().sort_values(ascending=False)"
   ]
  },
  {
   "cell_type": "markdown",
   "metadata": {},
   "source": [
    "Se realiza el respectivo Merge con los dos df"
   ]
  },
  {
   "cell_type": "code",
   "execution_count": 220,
   "metadata": {},
   "outputs": [
    {
     "name": "stdout",
     "output_type": "stream",
     "text": [
      "Empty DataFrame\n",
      "Columns: [Fecha, Día tipo, Designación de tarea vehículo, Línea, Tipo de viaje corto, Sentido, Tipo Kilómetros, Número de Vehículo, Concesionario de Transporte_x, Número de tarea vehículo_x, Desde, hasta_x, Duración, Punto de inicio, Punto de término, Largo_x, Número de viaje_x, Tipo de vehículo del viaje, Secuencia de arcos_x, Descripción Novedad_x, Concesionario Programado, Tipo de vehículo Programado, Incumplidos_x, Kilometros Programados-Desvios, Kilometros Programados Plan, Clase de viaje, a evaluar, TAREA, LINEA, VIAJE, VEHICULO SGCO, Kms en Servicio (MTS PLANEADOS), PARADAS PLANEADAS, PARADAS REALIZADAS SGCO, % PARADAS REALIZADAS SGCO, Kms en Servicio (MTS SGCO), FUENTE SGCO, HORA REAL SALIDA, HORA REAL LLEGADA, id, Largo_y, Número de secuencia de carro, Número de tarea vehículo_y, Secuencia de arcos_y, Número de viaje_y, Incumplidos_y, Descripción Novedad_y, Concesionario de Transporte_y, desde, hasta_y]\n",
      "Index: []\n",
      "\n",
      "[0 rows x 50 columns]\n",
      "Len == en los 3 df:  True\n"
     ]
    }
   ],
   "source": [
    "# Se realiza el merge con outer en la columna id\n",
    "merge = pd.merge(kmsmio, repofi, on='id', how='outer')\n",
    "\n",
    "# Se verifica si hay duplicados o no coincidencias \n",
    "print(merge[merge.duplicated(subset='id')])\n",
    "\n",
    "# Se verifica que el numero de filas en los df sea igual (True), para poder concluir que el merge fue exitoso\n",
    "print(f'Len == en los 3 df: ', merge.shape[0] == kmsmio.shape[0] == repofi.shape[0])"
   ]
  },
  {
   "cell_type": "markdown",
   "metadata": {},
   "source": [
    "Calificaciones de jerarquias en Bitacora"
   ]
  },
  {
   "cell_type": "code",
   "execution_count": 221,
   "metadata": {},
   "outputs": [
    {
     "data": {
      "text/plain": [
       "Series([], Name: count, dtype: int64)"
      ]
     },
     "execution_count": 221,
     "metadata": {},
     "output_type": "execute_result"
    }
   ],
   "source": [
    "# Selecciona las columnas a usar\n",
    "jerarquias = jerarquias[['JERARQUIA HGI RECO2',\t'CALIFICACION']]\n",
    "\n",
    "# Esto elimina los espacios en blanco adelante y atras\n",
    "jerarquias['JERARQUIA HGI RECO2'] = jerarquias['JERARQUIA HGI RECO2'].str.strip()\n",
    "\n",
    "#combina los el df de bitacora con el de jerarquias\n",
    "bitacora = pd.merge(bitacora, jerarquias, left_on='Jerarquía', right_on='JERARQUIA HGI RECO2', how='left' )\n",
    "\n",
    "# Esta linea es para verificar las filas que no se cruzaron por jerarquia y agregarlas a la matriz fe jererquia en input\n",
    "x = bitacora[(bitacora['Jerarquía'].str.startswith('Salida'))& bitacora['CALIFICACION'].isnull()]\n",
    "x['Jerarquía'].value_counts()"
   ]
  },
  {
   "cell_type": "code",
   "execution_count": 222,
   "metadata": {},
   "outputs": [
    {
     "data": {
      "text/html": [
       "<div>\n",
       "<style scoped>\n",
       "    .dataframe tbody tr th:only-of-type {\n",
       "        vertical-align: middle;\n",
       "    }\n",
       "\n",
       "    .dataframe tbody tr th {\n",
       "        vertical-align: top;\n",
       "    }\n",
       "\n",
       "    .dataframe thead th {\n",
       "        text-align: right;\n",
       "    }\n",
       "</style>\n",
       "<table border=\"1\" class=\"dataframe\">\n",
       "  <thead>\n",
       "    <tr style=\"text-align: right;\">\n",
       "      <th></th>\n",
       "      <th># Caso MC</th>\n",
       "      <th>Tipo novedad</th>\n",
       "      <th>Jerarquía</th>\n",
       "      <th>Tarea</th>\n",
       "      <th>Viaje</th>\n",
       "      <th>Parada</th>\n",
       "      <th>Operador</th>\n",
       "      <th>Línea</th>\n",
       "      <th>Vehículo</th>\n",
       "      <th>Hora</th>\n",
       "      <th>...</th>\n",
       "      <th>Descripción</th>\n",
       "      <th>Jerarquia</th>\n",
       "      <th>Tipo de Novedad</th>\n",
       "      <th>Novedad</th>\n",
       "      <th>Retoma/Salida</th>\n",
       "      <th>Unnamed: 16</th>\n",
       "      <th>Unnamed: 17</th>\n",
       "      <th>Unnamed: 18</th>\n",
       "      <th>JERARQUIA HGI RECO2</th>\n",
       "      <th>CALIFICACION</th>\n",
       "    </tr>\n",
       "  </thead>\n",
       "  <tbody>\n",
       "  </tbody>\n",
       "</table>\n",
       "<p>0 rows × 21 columns</p>\n",
       "</div>"
      ],
      "text/plain": [
       "Empty DataFrame\n",
       "Columns: [# Caso MC, Tipo novedad, Jerarquía, Tarea, Viaje, Parada, Operador, Línea, Vehículo, Hora, Fecha, Descripción, Jerarquia, Tipo de Novedad, Novedad, Retoma/Salida, Unnamed: 16, Unnamed: 17, Unnamed: 18, JERARQUIA HGI RECO2, CALIFICACION]\n",
       "Index: []\n",
       "\n",
       "[0 rows x 21 columns]"
      ]
     },
     "execution_count": 222,
     "metadata": {},
     "output_type": "execute_result"
    }
   ],
   "source": [
    "# Este codigo elimina los duplicado de la columna calificaciones eliminando el que no afecta a kilometros\n",
    "\n",
    "# Convertir la columna 'CALIFICACION' a numérica para poder comparar y encontrar el máximo\n",
    "bitacora['CALIFICACION'] = pd.to_numeric(bitacora['CALIFICACION'], errors='coerce')\n",
    "\n",
    "# Agrupar por las columnas 'Viaje' y 'Tarea', y mantener el valor máximo de 'CALIFICACION'\n",
    "bitacora_grouped = bitacora.groupby(['Viaje', 'Tarea']).agg({'CALIFICACION': 'max'}).reset_index()\n",
    "\n",
    "# Identificar las filas duplicadas en la tabla original\n",
    "duplicados = bitacora[bitacora.duplicated(subset=['Viaje', 'Tarea'], keep=False)]\n",
    "\n",
    "# Mantener solo una fila para cada grupo de duplicados en 'Viaje' y 'Tarea'\n",
    "bitacora_sin_duplicados = bitacora.drop_duplicates(subset=['Viaje', 'Tarea'])\n",
    "\n",
    "# Fusionar los datos filtrados con los valores máximos de 'CALIFICACION'\n",
    "bitacora_final = pd.merge(bitacora_sin_duplicados, bitacora_grouped, on=['Viaje', 'Tarea'])\n",
    "\n",
    "# Eliminar cualquiera de las filas duplicadas si ambas tienen valores nulos en 'CALIFICACION'\n",
    "bitacora = bitacora_final.drop_duplicates(subset=['Viaje', 'Tarea'], keep='last', ignore_index=True)\n",
    "\n",
    "# Se elimina la columna CALIFICACION_X y se renombra la columna CALIFICACION_Y\n",
    "bitacora.drop(columns='CALIFICACION_x', axis=1, inplace=True)\n",
    "bitacora.rename(columns={'CALIFICACION_y': 'CALIFICACION'}, inplace=True)\n",
    "\n",
    "# Se verifica que no hay duplicados\n",
    "bitacora[bitacora.duplicated(subset=['Viaje', 'Tarea'], keep=False)]"
   ]
  },
  {
   "cell_type": "markdown",
   "metadata": {},
   "source": [
    "Merge con bitacora\n"
   ]
  },
  {
   "cell_type": "code",
   "execution_count": 223,
   "metadata": {},
   "outputs": [
    {
     "name": "stdout",
     "output_type": "stream",
     "text": [
      "len == en los 2 df  True\n"
     ]
    }
   ],
   "source": [
    "# Se reemplan las filas nulas por ceros de las dos columnas para posteriormente carbiar el tipo de dato\n",
    "bitacora[['Tarea', 'Viaje']] = bitacora[['Tarea', 'Viaje']].fillna(0).astype(int)\n",
    "\n",
    "# Se selecionan las columnas de Bitacora que se van a usar\n",
    "bitacora = bitacora[['Jerarquía',\t'Tarea',\t'Viaje', 'Parada', 'Vehículo', 'Novedad', 'CALIFICACION']]\n",
    "# Se filtran los casos que no tiene numero de viaje ya que no tiene retoma\n",
    "bitacora = bitacora[bitacora['Viaje'] != 0]\n",
    "\n",
    "# Se agrega al merge anterior la informacion de bitacora\n",
    "# Importante tener en cuenta los vehiculos que tengan mas de un caso en la bitacora, esto genera id duplicados.\n",
    "mergebitacora = pd.merge(merge, bitacora, left_on=['Número de tarea vehículo_x', 'Número de viaje_x'], right_on=['Tarea', 'Viaje'], how='outer' )\n",
    "\n",
    "# Revisar este resultado, ya que los valores que no coinceden deben ser iguales en el filtro\n",
    "print(f'len == en los 2 df ',mergebitacora.shape[0] ==  merge.shape[0])"
   ]
  },
  {
   "cell_type": "code",
   "execution_count": 224,
   "metadata": {},
   "outputs": [],
   "source": [
    "# Elimina las filas que 'Número de Vehículo' y 'Número de secuencia de carro' esten vacios\n",
    "def eliminar_no_realizados(row):\n",
    "    if pd.isna(row['Número de Vehículo']) and pd.isna(row['Número de secuencia de carro']):\n",
    "        index = row.name\n",
    "        mergebitacora.drop(index, axis=0, inplace=True) \n",
    "# Aplicar la función a cada fila del DataFrame mergebitacora\n",
    "mergebitacora.apply(eliminar_no_realizados, axis=1)\n",
    "\n",
    "\n",
    "# Cambia Blanco y Negro Masivo por BYN en la columna Concesionario Programado\n",
    "mergebitacora['Concesionario Programado'] = mergebitacora['Concesionario Programado'].replace('Blanco y Negro Masivo','BYN')"
   ]
  },
  {
   "cell_type": "code",
   "execution_count": 225,
   "metadata": {},
   "outputs": [],
   "source": [
    "# Condiciones para la columna condicional\n",
    "condicion1 = mergebitacora['Largo_x'] != mergebitacora['Largo_y']\n",
    "condicion2 = mergebitacora['Número de Vehículo'] != mergebitacora['Número de secuencia de carro']\n",
    "condicion3 = mergebitacora['Secuencia de arcos_x'] != mergebitacora['Secuencia de arcos_y']\n",
    "condicion4 = mergebitacora['Concesionario de Transporte_x'] != mergebitacora['Concesionario Programado']\n",
    "\n",
    "# Aplicar condiciones y asignar valores a la nueva columna\n",
    "mergebitacora['Condicional_ini'] = np.where(condicion1 & condicion2 & condicion3 & condicion4, 'Revisar largo, parada, vehículo y consecionario',\n",
    "                                    np.where(condicion1 & condicion2 & condicion3, 'Revisar largo, parada y vehículo',\n",
    "                                        np.where(condicion1 & condicion2 & condicion4, 'Revisar largo, vehiculo y consecionario',         \n",
    "                                            np.where(condicion1 & condicion3 & condicion4, 'Revisar largo, parada y consecionario',\n",
    "                                                np.where(condicion2 & condicion3 & condicion4, 'Revisar vehiculo, parada y consecionarios',        \n",
    "                                                    np.where(condicion1 & condicion2, 'Revisar largo y vehiculo',\n",
    "                                                        np.where(condicion1 & condicion3, 'Revisar largo y parada',\n",
    "                                                            np.where(condicion1 & condicion4, 'Revisar largo y consecionario', \n",
    "                                                                np.where(condicion2 & condicion3, 'Revisar vehiculo y parada',\n",
    "                                                                    np.where(condicion2 & condicion4, 'Revisar vehiculo y consecionario',        \n",
    "                                                                        np.where(condicion3 & condicion4, 'Revisar parada y consecionario',                                            \n",
    "                                                                            np.where(condicion1, 'Revisar largo', \n",
    "                                                                                np.where(condicion2, 'Revisar numero de vehiculo',\n",
    "                                                                                    np.where(condicion3, 'Revisar paradas',\n",
    "                                                                                        np.where(condicion4, 'Revisar consesionario', 'OK')))))))))))))))"
   ]
  },
  {
   "cell_type": "code",
   "execution_count": 226,
   "metadata": {},
   "outputs": [],
   "source": [
    "# mergebitacora.to_excel('../output/prueba_4_columns.xlsx', sheet_name='Solicitud_M')"
   ]
  },
  {
   "cell_type": "markdown",
   "metadata": {},
   "source": [
    "Revisar de numero de vehiculos para posteriormente verificar el incumplimiento"
   ]
  },
  {
   "cell_type": "code",
   "execution_count": 227,
   "metadata": {},
   "outputs": [
    {
     "data": {
      "text/plain": [
       "cambios_realizados\n",
       "vehiculo_y Nan repl k2      9496\n",
       "Numero ok                   6445\n",
       "vehiculo_x != vehiculo_y     198\n",
       "x=nan vihiculo_y no Nan      156\n",
       "Name: count, dtype: int64"
      ]
     },
     "execution_count": 227,
     "metadata": {},
     "output_type": "execute_result"
    }
   ],
   "source": [
    "# Se crea una nueva columna donde se pondra los cambios que realizara la funcion\n",
    "mergebitacora['cambios_realizados'] = np.nan\n",
    "\n",
    "# Se aplica la funcion al df\n",
    "mergebitacora['cambios_realizados'] = mergebitacora.apply(fw.vehiculos_xy_texto, axis=1)\n",
    "\n",
    "# Se aplica la funcion vehiculo_xy\n",
    "mergebitacora['Número_de_secuencia_de_carro_p'] = mergebitacora.apply(fw.vehiculo_xy, axis=1)\n",
    "\n",
    "# Se verifica \n",
    "mergebitacora['cambios_realizados'].value_counts()"
   ]
  },
  {
   "cell_type": "markdown",
   "metadata": {},
   "source": [
    "TESTEADO"
   ]
  },
  {
   "cell_type": "code",
   "execution_count": 228,
   "metadata": {},
   "outputs": [
    {
     "name": "stdout",
     "output_type": "stream",
     "text": [
      "      Número de Vehículo     Desde     hasta                    idadi\n",
      "20274              22117  16:10:09  16:39:28  22117_16:10:09_16:39:28\n",
      "20275              22117  16:10:09  16:39:28  22117_16:10:09_16:39:28\n"
     ]
    }
   ],
   "source": [
    "# Se seleccionan las columnas de adicional para el merge\n",
    "adi = adi[['Número de Vehículo','Desde','hasta']]\n",
    "\n",
    "# Convertir la columna 'Desde' a tipo datetime\n",
    "adi['Desde'] = pd.to_datetime(adi['Desde'], format='%H:%M:%S')\n",
    "adi['hasta'] = pd.to_datetime(adi['hasta'], format='%H:%M:%S')\n",
    "\n",
    "# Restar un minuto a cada valor en la columna 'Desde'\n",
    "adi['Desde'] = adi['Desde'] - pd.Timedelta(minutes=1)\n",
    "adi['hasta'] = adi['hasta'] - pd.Timedelta(minutes=1)\n",
    "\n",
    "# Se aplica nuevamente la estandarizacion en la hora\n",
    "adi['Desde'] = adi['Desde'].apply(fw.extraer_hora_regex)\n",
    "adi['hasta'] = adi['hasta'].apply(fw.extraer_hora_regex)\n",
    "\n",
    "# Crea una nueva columna llamada 'ID' que combine las columnas 'Número de secuencia de carro', 'Desde' y 'hasta_x'\n",
    "mergebitacora['idadi'] = mergebitacora.apply(lambda row: f\"{row['Número_de_secuencia_de_carro_p']}_{row['desde']}_{row['hasta_y']}\", axis=1)\n",
    "adi['idadi'] = adi.apply(lambda row: f\"{row['Número de Vehículo']}_{row['Desde']}_{row['hasta']}\", axis=1)\n",
    "\n",
    "# Se verifican si hay duplicados por id en el df adicionales\n",
    "print(adi[adi.duplicated(subset='idadi', keep=False)])# Preguntar a cristan"
   ]
  },
  {
   "cell_type": "code",
   "execution_count": 229,
   "metadata": {},
   "outputs": [
    {
     "name": "stdout",
     "output_type": "stream",
     "text": [
      "len == en los 2 df  True\n"
     ]
    }
   ],
   "source": [
    "# Merde de merbitacora y df adicional\n",
    "merge_bi_adic = pd.merge(mergebitacora, adi, on='idadi', how='left')\n",
    "\n",
    "# Revisar este resultado, ya que los valores que no coinceden deben ser iguales en el filtro # Cual vehiculo dejar o eliminar, revisar la descripcion\n",
    "print(f'len == en los 2 df ',mergebitacora.shape[0] ==  merge_bi_adic.shape[0])\n"
   ]
  },
  {
   "cell_type": "markdown",
   "metadata": {},
   "source": [
    "ok - revisar adicioneles "
   ]
  },
  {
   "cell_type": "markdown",
   "metadata": {},
   "source": [
    "Revision de casos amarillos y rosa"
   ]
  },
  {
   "cell_type": "code",
   "execution_count": 230,
   "metadata": {},
   "outputs": [],
   "source": [
    "# Seleccion de casos Amarillos\n",
    "amarillos = ['INGRESO::RETOMA','SALIDAS::POR FLOTA','SALIDAS::POR ACCIDENTE','SALIDAS::POR ABANDONO DE TAREA','INGRESO::ADICIONAL',\n",
    "            'SALIDAS::POR VANDALISMO','SALIDAS::POR ALARMA','CANCELACION::DE ADICIONAL','SALIDAS::POR OPERADOR'\n",
    "            ]\n",
    "\n"
   ]
  },
  {
   "cell_type": "code",
   "execution_count": 231,
   "metadata": {},
   "outputs": [],
   "source": [
    "# Esta funcion marcara en una columna los cambios que se hagan a la columna Largo_y\n",
    "def rev_amarillos_rosa_text(row):\n",
    "    \"\"\"\n",
    "    Esta función se aplica a cada fila del DataFrame para evaluar si se cumplen ciertas condiciones\n",
    "    basadas en las columnas 'Número de Vehículo', 'Descripción Novedad_x' y 'PARADAS PLANEADAS'.\n",
    "    Según las condiciones cumplidas, devuelve un texto descriptivo correspondiente.\n",
    "\n",
    "    Parámetros:\n",
    "    row (pandas.Series): Una fila del DataFrame que contiene los datos de la bitácora.\n",
    "\n",
    "    Retorna:\n",
    "    str: Un texto descriptivo basado en las condiciones especificadas.\n",
    "\n",
    "    Detalles de la lógica:\n",
    "    - Si 'Número de Vehículo' no es NaN y 'Descripción Novedad_x' no es NaN, se evalúan las condiciones.\n",
    "    - Si 'Descripción Novedad_x' contiene al menos uno de los elementos de la lista 'amarillos',\n",
    "      se procede a realizar búsquedas específicas en 'Descripción Novedad_x'.\n",
    "    - Se utilizan expresiones regulares para buscar patrones relacionados con 'INGRESO', 'SALIDAS' y 'CANCELACION'\n",
    "      seguidos del número de parada en 'Descripción Novedad_x'.\n",
    "    - Dependiendo de los resultados de las búsquedas y de los valores en 'PARADAS PLANEADAS', se devuelve un texto\n",
    "      descriptivo que indica cómo se debe manejar el valor de 'Largo' en esa fila.\n",
    "\n",
    "    \"\"\"\n",
    "    if pd.notna(row['Número de Vehículo_x']):\n",
    "        if pd.notna(row['Descripción Novedad_x']): \n",
    "            # Casos rosa\n",
    "            if isinstance(row['Descripción Novedad_x'], str) and 'Nro. Caso Desvio:' in row['Descripción Novedad_x']:\n",
    "                    if row['Largo_y'] == row['Kilometros Programados Plan']:\n",
    "                        return 'Caso rosa1'\n",
    "                    elif row['Largo_y'] != row['Kilometros Programados Plan']:\n",
    "                        if row['Largo_y'] != row['Kilometros Programados-Desvios']:\n",
    "                            if row['Largo_y'] < row['Largo_x']:\n",
    "                                return 'Caso rosa2'\n",
    "                            else:\n",
    "                                return 'Caso rosa2 else'\n",
    "                        else:\n",
    "                            'Caso rosa else 2'\n",
    "                    else:\n",
    "                        return 'Caso rosa else'\n",
    "            # Casos Amarillos                \n",
    "            elif isinstance(amarillos, list) and any(isinstance(amarillo, str) and amarillo in row['Descripción Novedad_x'] for amarillo in amarillos):\n",
    "                ingreso_match = re.search(r'INGRESO.*?Nro\\. Parada:\\s*(\\d{1,3})', row['Descripción Novedad_x'])\n",
    "                salida_match = re.search(r'SALIDAS.*?Nro\\. Parada:\\s*(\\d{1,3})', row['Descripción Novedad_x'])\n",
    "                cancelacion_match = re.search(r'CANCELACION.*?Nro\\. Parada:\\s*(\\d{1,3})', row['Descripción Novedad_x'])       \n",
    "                if ingreso_match and int(ingreso_match.group(1)) == 1 and int(row['PARADAS PLANEADAS']) != 1:\n",
    "                    return 'Caso amarillo1'\n",
    "                elif ingreso_match and int(ingreso_match.group(1)) != 1:\n",
    "                    return 'Caso amarillo2'\n",
    "                elif salida_match and int(salida_match.group(1)) != int(row['PARADAS PLANEADAS']):\n",
    "                    return 'Caso amarillo3'\n",
    "                elif salida_match and int(salida_match.group(1)) == int(row['PARADAS PLANEADAS']):\n",
    "                    return 'Caso amarillo4'\n",
    "                elif cancelacion_match and int(cancelacion_match.group(1)) != int(row['PARADAS PLANEADAS']):\n",
    "                    return 'Caso amarillo5'\n",
    "                elif cancelacion_match and int(cancelacion_match.group(1)) == int(row['PARADAS PLANEADAS']):\n",
    "                    return 'Caso amarillo6'\n",
    "                else:\n",
    "                    return 'Caso amarillo else'                       \n",
    "            else:\n",
    "                return 'Sin color'\n",
    "        else:\n",
    "            return 'Sin descripcion' \n",
    "    else:\n",
    "        if pd.notna(row['Desde_y']):\n",
    "            return  'casos verde' # No hay Número de Vehículo_x pero si info en Desde_y\n",
    "        else:\n",
    "            return 'No clasificado' # No hay Número de Vehículo_x\n"
   ]
  },
  {
   "cell_type": "code",
   "execution_count": 232,
   "metadata": {},
   "outputs": [],
   "source": [
    "merge_bi_adic['texto_colores'] = np.nan"
   ]
  },
  {
   "cell_type": "code",
   "execution_count": 233,
   "metadata": {},
   "outputs": [],
   "source": [
    "merge_bi_adic['texto_colores'] = merge_bi_adic.apply(rev_amarillos_rosa_text, axis=1)"
   ]
  },
  {
   "cell_type": "code",
   "execution_count": 234,
   "metadata": {},
   "outputs": [
    {
     "data": {
      "text/plain": [
       "texto_colores\n",
       "Sin descripcion    14954\n",
       "Caso rosa1           418\n",
       "Caso amarillo4       311\n",
       "Caso amarillo1       189\n",
       "Caso amarillo2       166\n",
       "No clasificado       148\n",
       "Caso amarillo3        63\n",
       "Sin color             30\n",
       "casos verde            8\n",
       "Caso amarillo6         6\n",
       "Caso rosa2             1\n",
       "Caso amarillo5         1\n",
       "Name: count, dtype: int64"
      ]
     },
     "execution_count": 234,
     "metadata": {},
     "output_type": "execute_result"
    }
   ],
   "source": [
    "merge_bi_adic['texto_colores'].value_counts()"
   ]
  },
  {
   "cell_type": "code",
   "execution_count": 235,
   "metadata": {},
   "outputs": [],
   "source": [
    "# Esta funcion marcara en una columna los cambios que se hagan a la columna Largo_y\n",
    "def rev_amarillos_rosa(row):\n",
    "    \"\"\"\n",
    "    Aplica lógica condicional para marcar los cambios realizados en la columna 'Largo_y' en función de las características de la fila.\n",
    "\n",
    "    Parámetros:\n",
    "    row (pandas.Series): Una fila del DataFrame que contiene los datos de la bitácora.\n",
    "\n",
    "    Retorna:\n",
    "    int or float: El valor de 'Largo_y' después de aplicar las modificaciones, o el mismo valor si no se realizan cambios.\n",
    "\n",
    "    Detalles de la lógica:\n",
    "    - Verifica si el 'Número de Vehículo' no es NaN.\n",
    "    - Verifica si la 'Descripción Novedad_x' no es NaN.\n",
    "    - Si la 'Descripción Novedad_x' contiene 'Nro. Caso Desvio:', aplica la lógica específica para estos casos:\n",
    "      - Si 'Largo_y' es igual a 'Kilometros Programados Plan', devuelve 'Kilometros Programados-Desvios'.\n",
    "      - Si 'Largo_y' es diferente a 'Kilometros Programados Plan', pero igual a 'Kilometros Programados-Desvios', devuelve 'Largo_y'.\n",
    "      - Si 'Largo_y' es menor que 'Largo_x', devuelve 'Largo_x', de lo contrario, devuelve 'Largo_y'.\n",
    "    - Si la 'Descripción Novedad_x' contiene alguna de las cadenas definidas en la lista 'amarillos', aplica la lógica específica para estos casos:\n",
    "      - Basado en patrones de expresiones regulares, determina si se deben realizar cambios en 'Largo_y'.\n",
    "      - Si se cumplen las condiciones anteriores, devuelve 'Largo_x' o 'Largo_y' según corresponda.\n",
    "    - Si ninguna de las condiciones anteriores se cumple, devuelve el valor actual de 'Largo_y'.\n",
    "\n",
    "    Casos Especiales:\n",
    "    - Si el 'Número de Vehículo' es NaN, devuelve el valor actual de 'Largo_y'.\n",
    "    \"\"\"\n",
    "    # Lógica condicional para marcar los cambios en 'Largo_y' según las características de la fila\n",
    "      \n",
    "    if pd.notna(row['Número de Vehículo_x']):\n",
    "        if pd.notna(row['Descripción Novedad_x']): \n",
    "            # Casos rosa\n",
    "            if isinstance(row['Descripción Novedad_x'], str) and 'Nro. Caso Desvio:' in row['Descripción Novedad_x']:\n",
    "                    if row['Largo_y'] == row['Kilometros Programados Plan']:# Verificar el valor de los desvios # todo desvio debe salir el largo real de la medicion de los desvis que debe hacer el analista\n",
    "                        return row['Kilometros Programados-Desvios'] # 'Caso rosa1'\n",
    "                    elif row['Largo_y'] != row['Kilometros Programados Plan']:\n",
    "                        if row['Largo_y'] != row['Kilometros Programados-Desvios']:\n",
    "                            if row['Largo_y'] < row['Largo_x']:\n",
    "                                return row['Largo_x'] ## 'Caso rosa2'\n",
    "                            else:\n",
    "                                row['Largo_y']\n",
    "                        else:\n",
    "                            row['Largo_y']\n",
    "                    else:\n",
    "                        row['Largo_y']\n",
    "            # Casos Amarillos   # El largo debe salir del numero de parada del archivo de arcos cortos comerciales             \n",
    "            elif isinstance(amarillos, list) and any(isinstance(amarillo, str) and amarillo in row['Descripción Novedad_x'] for amarillo in amarillos):\n",
    "                ingreso_match = re.search(r'INGRESO.*?Nro\\. Parada:\\s*(\\d{1,3})', row['Descripción Novedad_x'])\n",
    "                salida_match = re.search(r'SALIDAS.*?Nro\\. Parada:\\s*(\\d{1,3})', row['Descripción Novedad_x'])\n",
    "                cancelacion_match = re.search(r'CANCELACION.*?Nro\\. Parada:\\s*(\\d{1,3})', row['Descripción Novedad_x'])       \n",
    "                if ingreso_match and int(ingreso_match.group(1)) == 1 and int(row['PARADAS PLANEADAS']) != 1:\n",
    "                    return row['Largo_x']\n",
    "                elif ingreso_match and int(ingreso_match.group(1)) != 1:\n",
    "                    return row['Largo_x']\n",
    "                elif salida_match and int(salida_match.group(1)) != int(row['PARADAS PLANEADAS']):\n",
    "                    return row['Largo_x']\n",
    "                elif salida_match and int(salida_match.group(1)) == int(row['PARADAS PLANEADAS']):\n",
    "                    return  row['Largo_y']\n",
    "                elif cancelacion_match and int(cancelacion_match.group(1)) != int(row['PARADAS PLANEADAS']):\n",
    "                    return row['Largo_x']\n",
    "                elif cancelacion_match and int(cancelacion_match.group(1)) == int(row['PARADAS PLANEADAS']):\n",
    "                    return  row['Largo_y']\n",
    "                else:\n",
    "                    return  row['Largo_y']                       \n",
    "            else:\n",
    "                row['Largo_y']\n",
    "        else:\n",
    "            return row['Largo_y']\n",
    "    else: \n",
    "        if pd.notna(row['Desde_y']):\n",
    "            return  row['Largo_x']\n",
    "        else:\n",
    "            row['Largo_y']\n",
    "        "
   ]
  },
  {
   "cell_type": "code",
   "execution_count": 236,
   "metadata": {},
   "outputs": [],
   "source": [
    "merge_bi_adic['Largo_p'] = merge_bi_adic.apply(rev_amarillos_rosa, axis=1)"
   ]
  },
  {
   "cell_type": "code",
   "execution_count": 237,
   "metadata": {},
   "outputs": [],
   "source": [
    "# Elimina el numero de vehiculo en los casos verdes\n",
    "def delete_Vahi_caso_verde(row):\n",
    "    if pd.notna(row['Desde_y']):# Verificar la secuencia del carro # no se p\n",
    "        return np.nan\n",
    "\n",
    "merge_bi_adic['Número de secuencia de carro_p'] = merge_bi_adic.apply(delete_Vahi_caso_verde, axis=1)\n"
   ]
  },
  {
   "cell_type": "code",
   "execution_count": 238,
   "metadata": {},
   "outputs": [],
   "source": [
    "# Actualiza la condicion a la nueva columna \n",
    "condicion1 = merge_bi_adic['Largo_x'] != merge_bi_adic['Largo_p']\n",
    "condicion2 = merge_bi_adic['Número de Vehículo_x'] != merge_bi_adic['Número_de_secuencia_de_carro_p']\n",
    "condicion3 = merge_bi_adic['Secuencia de arcos_x'] != merge_bi_adic['Secuencia de arcos_y']\n",
    "condicion4 = merge_bi_adic['Concesionario de Transporte_x'] != merge_bi_adic['Concesionario Programado']\n",
    "\n",
    "# Aplicar condiciones y asignar valores a la nueva columna\n",
    "merge_bi_adic['Condicional_fin'] = np.where(condicion1 & condicion2 & condicion3 & condicion4, 'Revisar largo, parada, vehículo y consecionario',\n",
    "                                    np.where(condicion1 & condicion2 & condicion3, 'Revisar largo, parada y vehículo',\n",
    "                                        np.where(condicion1 & condicion2 & condicion4, 'Revisar largo, vehiculo y consecionario',         \n",
    "                                            np.where(condicion1 & condicion3 & condicion4, 'Revisar largo, parada y consecionario',\n",
    "                                                np.where(condicion2 & condicion3 & condicion4, 'Revisar vehiculo, parada y consecionarios',        \n",
    "                                                    np.where(condicion1 & condicion2, 'Revisar largo y vehiculo',\n",
    "                                                        np.where(condicion1 & condicion3, 'Revisar largo y parada',\n",
    "                                                            np.where(condicion1 & condicion4, 'Revisar largo y consecionario', \n",
    "                                                                np.where(condicion2 & condicion3, 'Revisar vehiculo y parada',\n",
    "                                                                    np.where(condicion2 & condicion4, 'Revisar vehiculo y consecionario',        \n",
    "                                                                        np.where(condicion3 & condicion4, 'Revisar parada y consecionario',                                            \n",
    "                                                                            np.where(condicion1, 'Revisar largo', \n",
    "                                                                                np.where(condicion2, 'Revisar numero de vehiculo',\n",
    "                                                                                    np.where(condicion3, 'Revisar paradas',\n",
    "                                                                                        np.where(condicion4, 'Revisar consesionario', 'OK')))))))))))))))"
   ]
  },
  {
   "cell_type": "code",
   "execution_count": 239,
   "metadata": {},
   "outputs": [],
   "source": [
    "merge_bi_adic.to_excel('../output/despuesprueba2.xlsx')"
   ]
  },
  {
   "cell_type": "code",
   "execution_count": 54,
   "metadata": {},
   "outputs": [],
   "source": [
    "# x = mergebitacora[mergebitacora['Desde_y'].notna()]\n",
    "# x[['Número de secuencia de carro','Número de Vehículo_x','Largo_x', 'Largo_y']]"
   ]
  },
  {
   "cell_type": "code",
   "execution_count": 55,
   "metadata": {},
   "outputs": [],
   "source": [
    "# # Esta funcion en caso de tener adicioneales realiza el siguiente proceso\n",
    "# def verdes(row):\n",
    "#     if pd.notna(row['Desde_y']):\n",
    "#         row['Incumplidos_y'] = row['Incumplidos_x']\n",
    "\n"
   ]
  },
  {
   "cell_type": "code",
   "execution_count": 56,
   "metadata": {},
   "outputs": [],
   "source": [
    "# # Elimina las columnas que no son necesarias\n",
    "# mergebitacora.drop(columns=['Número de Vehículo_y', 'Desde_y', 'hasta', 'texto'], inplace= True)"
   ]
  },
  {
   "cell_type": "code",
   "execution_count": 57,
   "metadata": {},
   "outputs": [
    {
     "data": {
      "text/plain": [
       "Incumplidos_x\n",
       "2.0    331\n",
       "0.0     68\n",
       "1.0     62\n",
       "3.0      4\n",
       "Name: count, dtype: int64"
      ]
     },
     "execution_count": 57,
     "metadata": {},
     "output_type": "execute_result"
    }
   ],
   "source": [
    "mergebitacora['Incumplidos_x'].value_counts()"
   ]
  },
  {
   "cell_type": "markdown",
   "metadata": {},
   "source": [
    "ok"
   ]
  },
  {
   "cell_type": "markdown",
   "metadata": {},
   "source": [
    "Calificaciones incumplimineto "
   ]
  },
  {
   "cell_type": "code",
   "execution_count": 58,
   "metadata": {},
   "outputs": [
    {
     "name": "stdout",
     "output_type": "stream",
     "text": [
      "2815\n",
      "1003\n",
      "2815\n",
      "1003\n",
      "465\n",
      "66\n"
     ]
    }
   ],
   "source": [
    "print(kmsmio['Incumplidos'].value_counts().sum())\n",
    "print(repofi['Incumplidos'].value_counts().sum())\n",
    "print(merge['Incumplidos_x'].value_counts().sum())\n",
    "print(merge['Incumplidos_y'].value_counts().sum())\n",
    "print(mergebitacora['Incumplidos_x'].value_counts().sum())\n",
    "print(mergebitacora['Incumplidos_y'].value_counts().sum())"
   ]
  },
  {
   "cell_type": "code",
   "execution_count": null,
   "metadata": {},
   "outputs": [],
   "source": []
  },
  {
   "cell_type": "code",
   "execution_count": 59,
   "metadata": {},
   "outputs": [],
   "source": [
    "# Funcion replica de la funcion de Excel para el calculo de incumpliminetos, pero la siguiente funcion la anula, revisar si es necesaria\n",
    "def col_calificaciones_funtion(row, df):\n",
    "    \"\"\"\n",
    "    Calcula el valor del incumplimiento según las condiciones especificadas.\n",
    "\n",
    "    Parámetros:\n",
    "    row (pandas.Series): Una fila del DataFrame que contiene los datos de la bitácora.\n",
    "    df (pandas.DataFrame): DataFrame que contiene los datos de la bitácora.\n",
    "\n",
    "    Retorna:\n",
    "    int or float or np.nan: El valor del incumplimiento calculado según las condiciones.\n",
    "    \"\"\"\n",
    "    \n",
    "    # Obtener el índice de la fila actual\n",
    "    index = row.name\n",
    "    \n",
    "    # Calcular el índice de la fila siguiente\n",
    "    next_index = index + 1\n",
    "    next_index_next = index + 2\n",
    "    \n",
    "    # Obtener la fila siguiente si el índice es válido, de lo contrario, establecerla como None\n",
    "    next_row = df.iloc[next_index] if next_index < len(df) else None\n",
    "    next_row_next = df.iloc[next_index_next] if next_index_next < len(df) else None\n",
    "\n",
    "    if pd.notnull(row['Incumplidos_y']):\n",
    "        if row['Tipo Kilómetros'] == \"Kms en Servicio\" and pd.isna(row['Número de secuencia de carro']):\n",
    "            if row['Tipo de viaje corto'] == \"Viaje comercial\":\n",
    "                return 2\n",
    "            elif row['Tipo de viaje corto'] in [\"Viaje de punto operacional\", \"Viaje de posicionamiento\"]:\n",
    "                if next_row is not None and pd.isna(next_row['Número de secuencia de carro']):\n",
    "                    if (next_row['Incumplidos_y'] == 2) and (row['Largo_y'] in [0, 1]):\n",
    "                        return 1\n",
    "                    elif (row['Largo_y'] not in [0, 1]) or (next_row['Largo_y']  in [0, 1]):\n",
    "                        if pd.notna(next_row_next['Incumplidos_y']):\n",
    "                            return next_row_next['Incumplidos_y'] \n",
    "                        else:\n",
    "                            return 2\n",
    "                    else:\n",
    "                        return next_row['Incumplidos_y']\n",
    "                else:\n",
    "                    if row is not None and row['Largo_y'] in [0, 1]:\n",
    "                        return 1\n",
    "                    else:\n",
    "                        return 2\n",
    "            else:\n",
    "                return np.nan\n",
    "        elif (row['Número de secuencia de carro'] in [\"CAMBIO\", \"CANCELADA\"]) and row['Tipo Kilómetros'] == \"Kms en Vacio\":\n",
    "            return 0\n",
    "        else:\n",
    "            return np.nan\n",
    "    else:\n",
    "        return row['Incumplidos_y']\n"
   ]
  },
  {
   "cell_type": "code",
   "execution_count": 60,
   "metadata": {},
   "outputs": [],
   "source": [
    "# def col_calificaciones_function(row, df):\n",
    "#     \"\"\"\n",
    "#     Calcula el valor del incumplimiento según las condiciones especificadas.\n",
    "\n",
    "#     Parámetros:\n",
    "#     row (pandas.Series): Una fila del DataFrame que contiene los datos de la bitácora.\n",
    "#     df (pandas.DataFrame): DataFrame que contiene los datos de la bitácora.\n",
    "\n",
    "#     Retorna:\n",
    "#     int or float or np.nan: El valor del incumplimiento calculado según las condiciones.\n",
    "#     \"\"\"\n",
    "    \n",
    "#     # Obtener el índice de la fila actual\n",
    "#     index = row.name\n",
    "    \n",
    "#     # Calcular el índice de la fila siguiente y la siguiente siguiente\n",
    "#     next_index = index + 1\n",
    "#     next_index_next = index + 2\n",
    "    \n",
    "#     # Obtener la fila siguiente si el índice es válido, de lo contrario, establecerla como None\n",
    "#     next_row = df.iloc[next_index] if next_index < len(df) else None\n",
    "#     next_row_next = df.iloc[next_index_next] if next_index_next < len(df) else None\n",
    "\n",
    "#     # Verificar si hay valores nulos en 'Incumplidos_y'\n",
    "#     if pd.notnull(row['Incumplidos_y']):\n",
    "#         # Verificar condiciones específicas\n",
    "#         if row['Tipo Kilómetros'] == \"Kms en Servicio\" and pd.isna(row['Número de secuencia de carro']):\n",
    "#             if row['Tipo de viaje corto'] == \"Viaje comercial\":\n",
    "#                 return 2\n",
    "#             elif row['Tipo de viaje corto'] in [\"Viaje de punto operacional\", \"Viaje de posicionamiento\"]:\n",
    "#                 if next_row is not None and pd.isna(next_row['Número de secuencia de carro']):\n",
    "#                     if (next_row['Incumplidos_y'] == 2) and (row['Largo_y'] in [0, 1]):\n",
    "#                         return 1\n",
    "#                     elif (row['Largo_y'] not in [0, 1]) or (next_row['Largo_y']  in [0, 1]):\n",
    "#                         if pd.notna(next_row_next['Incumplidos_y']):\n",
    "#                             return next_row_next['Incumplidos_y'] \n",
    "#                         else:\n",
    "#                             return 2\n",
    "#                     else:\n",
    "#                         return next_row['Incumplidos_y']\n",
    "#                 else:\n",
    "#                     if row is not None and row['Largo_y'] in [0, 1]:\n",
    "#                         return 1\n",
    "#                     else:\n",
    "#                         return 2\n",
    "#             else:\n",
    "#                 return np.nan\n",
    "#         elif (row['Número de secuencia de carro'] in [\"CAMBIO\", \"CANCELADA\"]) and row['Tipo Kilómetros'] == \"Kms en Vacio\":\n",
    "#             return 0\n",
    "#         else:\n",
    "#             return np.nan\n",
    "#     else:\n",
    "#         return row['Incumplidos_y']\n"
   ]
  },
  {
   "cell_type": "code",
   "execution_count": 61,
   "metadata": {},
   "outputs": [],
   "source": [
    "# #Aplicar la función a todo el DataFrame\n",
    "# mergebitacora['Incumplido_y'] = mergebitacora.apply(col_calificaciones_funtion, axis=1, args=(mergebitacora,))"
   ]
  },
  {
   "cell_type": "code",
   "execution_count": 62,
   "metadata": {},
   "outputs": [],
   "source": [
    "# print(kmsmio['Incumplidos'].value_counts().sum())\n",
    "# print(repofi['Incumplidos'].value_counts().sum())\n",
    "# print(merge['Incumplidos_x'].value_counts().sum())\n",
    "# print(merge['Incumplidos_y'].value_counts().sum())\n",
    "# print(mergebitacora['Incumplidos_x'].value_counts().sum())\n",
    "# print(mergebitacora['Incumplidos_y'].value_counts().sum())"
   ]
  },
  {
   "cell_type": "code",
   "execution_count": 63,
   "metadata": {},
   "outputs": [
    {
     "name": "stdout",
     "output_type": "stream",
     "text": [
      "465\n",
      "66\n"
     ]
    }
   ],
   "source": [
    "print(mergebitacora['Incumplidos_x'].value_counts().sum())\n",
    "print(mergebitacora['Incumplidos_y'].value_counts().sum())"
   ]
  },
  {
   "cell_type": "code",
   "execution_count": 64,
   "metadata": {},
   "outputs": [],
   "source": [
    "x = mergebitacora[(mergebitacora['Incumplidos_x']!=mergebitacora['Incumplidos_y']) & (pd.notna(mergebitacora['Incumplidos_x']))]"
   ]
  },
  {
   "cell_type": "code",
   "execution_count": 65,
   "metadata": {},
   "outputs": [
    {
     "data": {
      "text/html": [
       "<div>\n",
       "<style scoped>\n",
       "    .dataframe tbody tr th:only-of-type {\n",
       "        vertical-align: middle;\n",
       "    }\n",
       "\n",
       "    .dataframe tbody tr th {\n",
       "        vertical-align: top;\n",
       "    }\n",
       "\n",
       "    .dataframe thead th {\n",
       "        text-align: right;\n",
       "    }\n",
       "</style>\n",
       "<table border=\"1\" class=\"dataframe\">\n",
       "  <thead>\n",
       "    <tr style=\"text-align: right;\">\n",
       "      <th></th>\n",
       "      <th>Número de Vehículo_x</th>\n",
       "      <th>Incumplidos_x</th>\n",
       "      <th>Largo_x</th>\n",
       "      <th>Número de secuencia de carro</th>\n",
       "      <th>Incumplidos_y</th>\n",
       "      <th>Largo_y</th>\n",
       "    </tr>\n",
       "  </thead>\n",
       "  <tbody>\n",
       "    <tr>\n",
       "      <th>176</th>\n",
       "      <td>22125</td>\n",
       "      <td>0.0</td>\n",
       "      <td>4965</td>\n",
       "      <td>None</td>\n",
       "      <td>NaN</td>\n",
       "      <td>4965.0</td>\n",
       "    </tr>\n",
       "    <tr>\n",
       "      <th>319</th>\n",
       "      <td>NaN</td>\n",
       "      <td>2.0</td>\n",
       "      <td>4704</td>\n",
       "      <td>None</td>\n",
       "      <td>NaN</td>\n",
       "      <td>NaN</td>\n",
       "    </tr>\n",
       "    <tr>\n",
       "      <th>321</th>\n",
       "      <td>NaN</td>\n",
       "      <td>2.0</td>\n",
       "      <td>4704</td>\n",
       "      <td>None</td>\n",
       "      <td>NaN</td>\n",
       "      <td>NaN</td>\n",
       "    </tr>\n",
       "    <tr>\n",
       "      <th>322</th>\n",
       "      <td>NaN</td>\n",
       "      <td>2.0</td>\n",
       "      <td>4704</td>\n",
       "      <td>None</td>\n",
       "      <td>NaN</td>\n",
       "      <td>NaN</td>\n",
       "    </tr>\n",
       "    <tr>\n",
       "      <th>323</th>\n",
       "      <td>NaN</td>\n",
       "      <td>2.0</td>\n",
       "      <td>4704</td>\n",
       "      <td>None</td>\n",
       "      <td>NaN</td>\n",
       "      <td>NaN</td>\n",
       "    </tr>\n",
       "    <tr>\n",
       "      <th>...</th>\n",
       "      <td>...</td>\n",
       "      <td>...</td>\n",
       "      <td>...</td>\n",
       "      <td>...</td>\n",
       "      <td>...</td>\n",
       "      <td>...</td>\n",
       "    </tr>\n",
       "    <tr>\n",
       "      <th>16091</th>\n",
       "      <td>NaN</td>\n",
       "      <td>2.0</td>\n",
       "      <td>3658</td>\n",
       "      <td>None</td>\n",
       "      <td>NaN</td>\n",
       "      <td>NaN</td>\n",
       "    </tr>\n",
       "    <tr>\n",
       "      <th>16092</th>\n",
       "      <td>NaN</td>\n",
       "      <td>2.0</td>\n",
       "      <td>4172</td>\n",
       "      <td>None</td>\n",
       "      <td>NaN</td>\n",
       "      <td>NaN</td>\n",
       "    </tr>\n",
       "    <tr>\n",
       "      <th>16093</th>\n",
       "      <td>54006</td>\n",
       "      <td>2.0</td>\n",
       "      <td>3412</td>\n",
       "      <td>None</td>\n",
       "      <td>NaN</td>\n",
       "      <td>3412.0</td>\n",
       "    </tr>\n",
       "    <tr>\n",
       "      <th>16097</th>\n",
       "      <td>NaN</td>\n",
       "      <td>2.0</td>\n",
       "      <td>384</td>\n",
       "      <td>None</td>\n",
       "      <td>NaN</td>\n",
       "      <td>NaN</td>\n",
       "    </tr>\n",
       "    <tr>\n",
       "      <th>16238</th>\n",
       "      <td>53014</td>\n",
       "      <td>2.0</td>\n",
       "      <td>3879</td>\n",
       "      <td>None</td>\n",
       "      <td>NaN</td>\n",
       "      <td>3879.0</td>\n",
       "    </tr>\n",
       "  </tbody>\n",
       "</table>\n",
       "<p>416 rows × 6 columns</p>\n",
       "</div>"
      ],
      "text/plain": [
       "      Número de Vehículo_x  Incumplidos_x  Largo_x  \\\n",
       "176                  22125            0.0     4965   \n",
       "319                    NaN            2.0     4704   \n",
       "321                    NaN            2.0     4704   \n",
       "322                    NaN            2.0     4704   \n",
       "323                    NaN            2.0     4704   \n",
       "...                    ...            ...      ...   \n",
       "16091                  NaN            2.0     3658   \n",
       "16092                  NaN            2.0     4172   \n",
       "16093                54006            2.0     3412   \n",
       "16097                  NaN            2.0      384   \n",
       "16238                53014            2.0     3879   \n",
       "\n",
       "      Número de secuencia de carro  Incumplidos_y  Largo_y  \n",
       "176                           None            NaN   4965.0  \n",
       "319                           None            NaN      NaN  \n",
       "321                           None            NaN      NaN  \n",
       "322                           None            NaN      NaN  \n",
       "323                           None            NaN      NaN  \n",
       "...                            ...            ...      ...  \n",
       "16091                         None            NaN      NaN  \n",
       "16092                         None            NaN      NaN  \n",
       "16093                         None            NaN   3412.0  \n",
       "16097                         None            NaN      NaN  \n",
       "16238                         None            NaN   3879.0  \n",
       "\n",
       "[416 rows x 6 columns]"
      ]
     },
     "execution_count": 65,
     "metadata": {},
     "output_type": "execute_result"
    }
   ],
   "source": [
    "x[['Número de Vehículo_x', 'Incumplidos_x', 'Largo_x', 'Número de secuencia de carro', 'Incumplidos_y', 'Largo_y']]# los caso vacios son por los verdes"
   ]
  },
  {
   "cell_type": "code",
   "execution_count": 66,
   "metadata": {},
   "outputs": [
    {
     "data": {
      "text/plain": [
       "Incumplidos_y\n",
       "0.0    38\n",
       "2.0    28\n",
       "Name: count, dtype: int64"
      ]
     },
     "execution_count": 66,
     "metadata": {},
     "output_type": "execute_result"
    }
   ],
   "source": [
    "mergebitacora['Incumplidos_y'].value_counts()"
   ]
  },
  {
   "cell_type": "code",
   "execution_count": 67,
   "metadata": {},
   "outputs": [],
   "source": [
    "def col_calificaciones(row, df):\n",
    "    \"\"\"\n",
    "    Calcula el valor del incumplimiento según las condiciones especificadas.\n",
    "\n",
    "    Parámetros:\n",
    "    row (pandas.Series): Una fila del DataFrame que contiene los datos de la bitácora.\n",
    "    df (pandas.DataFrame): DataFrame que contiene los datos de la bitácora.\n",
    "\n",
    "    Retorna:\n",
    "    int or float or np.nan: El valor del incumplimiento calculado según las condiciones.\n",
    "    \"\"\"\n",
    "   \n",
    "    if pd.isna(row['Incumplidos_x']) and pd.notna(row['Incumplidos_y']):\n",
    "        return np.nan\n",
    "    elif row['Incumplidos_x'] == 0:\n",
    "        return 0\n",
    "    elif row['Incumplidos_x'] in [2,3] and row['CALIFICACION'] == 1:\n",
    "        return row['CALIFICACION']\n",
    "    elif row['Incumplidos_x'] == 3:\n",
    "        return row['Incumplidos_x']\n",
    "    elif row['Incumplidos_x'] in [0,1,3] and row['Incumplidos_y']== 2:\n",
    "        return row['Incumplidos_x'] \n",
    "    elif row['Incumplidos_x']== 2 and  row['Incumplidos_y']== 2:\n",
    "        return row['Incumplidos_x'] \n",
    "    else:\n",
    "        'verifica'\n"
   ]
  },
  {
   "cell_type": "code",
   "execution_count": 68,
   "metadata": {},
   "outputs": [],
   "source": [
    "# Aplicar la función a todo el DataFrame\n",
    "mergebitacora['Incumplidos_y'] = mergebitacora.apply(col_calificaciones, axis=1, args=(mergebitacora,))"
   ]
  },
  {
   "cell_type": "code",
   "execution_count": 69,
   "metadata": {},
   "outputs": [
    {
     "data": {
      "text/plain": [
       "Incumplidos_y\n",
       "0.0    68\n",
       "2.0    11\n",
       "1.0     7\n",
       "3.0     2\n",
       "Name: count, dtype: int64"
      ]
     },
     "execution_count": 69,
     "metadata": {},
     "output_type": "execute_result"
    }
   ],
   "source": [
    "mergebitacora['Incumplidos_y'].value_counts()"
   ]
  },
  {
   "cell_type": "code",
   "execution_count": 70,
   "metadata": {},
   "outputs": [
    {
     "data": {
      "text/plain": [
       "(16295, 63)"
      ]
     },
     "execution_count": 70,
     "metadata": {},
     "output_type": "execute_result"
    }
   ],
   "source": [
    "mergebitacora.shape"
   ]
  },
  {
   "cell_type": "markdown",
   "metadata": {},
   "source": [
    "OK pendiente revisar calificaciones"
   ]
  },
  {
   "cell_type": "code",
   "execution_count": 71,
   "metadata": {},
   "outputs": [],
   "source": [
    "z = mergebitacora[(mergebitacora['Incumplidos_x'].isna())&(mergebitacora['Incumplidos_y'].notna())]"
   ]
  },
  {
   "cell_type": "code",
   "execution_count": 72,
   "metadata": {},
   "outputs": [
    {
     "data": {
      "text/html": [
       "<div>\n",
       "<style scoped>\n",
       "    .dataframe tbody tr th:only-of-type {\n",
       "        vertical-align: middle;\n",
       "    }\n",
       "\n",
       "    .dataframe tbody tr th {\n",
       "        vertical-align: top;\n",
       "    }\n",
       "\n",
       "    .dataframe thead th {\n",
       "        text-align: right;\n",
       "    }\n",
       "</style>\n",
       "<table border=\"1\" class=\"dataframe\">\n",
       "  <thead>\n",
       "    <tr style=\"text-align: right;\">\n",
       "      <th></th>\n",
       "      <th>VIAJE</th>\n",
       "      <th>TAREA</th>\n",
       "      <th>Incumplidos_x</th>\n",
       "      <th>Incumplidos_y</th>\n",
       "    </tr>\n",
       "  </thead>\n",
       "  <tbody>\n",
       "  </tbody>\n",
       "</table>\n",
       "</div>"
      ],
      "text/plain": [
       "Empty DataFrame\n",
       "Columns: [VIAJE, TAREA, Incumplidos_x, Incumplidos_y]\n",
       "Index: []"
      ]
     },
     "execution_count": 72,
     "metadata": {},
     "output_type": "execute_result"
    }
   ],
   "source": [
    "z[['VIAJE', 'TAREA', 'Incumplidos_x', 'Incumplidos_y']]"
   ]
  },
  {
   "cell_type": "code",
   "execution_count": 73,
   "metadata": {},
   "outputs": [
    {
     "data": {
      "text/html": [
       "<div>\n",
       "<style scoped>\n",
       "    .dataframe tbody tr th:only-of-type {\n",
       "        vertical-align: middle;\n",
       "    }\n",
       "\n",
       "    .dataframe tbody tr th {\n",
       "        vertical-align: top;\n",
       "    }\n",
       "\n",
       "    .dataframe thead th {\n",
       "        text-align: right;\n",
       "    }\n",
       "</style>\n",
       "<table border=\"1\" class=\"dataframe\">\n",
       "  <thead>\n",
       "    <tr style=\"text-align: right;\">\n",
       "      <th></th>\n",
       "      <th>VIAJE</th>\n",
       "      <th>TAREA</th>\n",
       "      <th>Incumplidos_x</th>\n",
       "      <th>Incumplidos_y</th>\n",
       "    </tr>\n",
       "  </thead>\n",
       "  <tbody>\n",
       "    <tr>\n",
       "      <th>0</th>\n",
       "      <td>1.0</td>\n",
       "      <td>1.0</td>\n",
       "      <td>NaN</td>\n",
       "      <td>NaN</td>\n",
       "    </tr>\n",
       "    <tr>\n",
       "      <th>1</th>\n",
       "      <td>2.0</td>\n",
       "      <td>1.0</td>\n",
       "      <td>NaN</td>\n",
       "      <td>NaN</td>\n",
       "    </tr>\n",
       "    <tr>\n",
       "      <th>2</th>\n",
       "      <td>9.0</td>\n",
       "      <td>1.0</td>\n",
       "      <td>NaN</td>\n",
       "      <td>NaN</td>\n",
       "    </tr>\n",
       "    <tr>\n",
       "      <th>3</th>\n",
       "      <td>10.0</td>\n",
       "      <td>1.0</td>\n",
       "      <td>NaN</td>\n",
       "      <td>NaN</td>\n",
       "    </tr>\n",
       "    <tr>\n",
       "      <th>4</th>\n",
       "      <td>17.0</td>\n",
       "      <td>1.0</td>\n",
       "      <td>NaN</td>\n",
       "      <td>NaN</td>\n",
       "    </tr>\n",
       "    <tr>\n",
       "      <th>...</th>\n",
       "      <td>...</td>\n",
       "      <td>...</td>\n",
       "      <td>...</td>\n",
       "      <td>...</td>\n",
       "    </tr>\n",
       "    <tr>\n",
       "      <th>16290</th>\n",
       "      <td>9955.0</td>\n",
       "      <td>99753.0</td>\n",
       "      <td>NaN</td>\n",
       "      <td>NaN</td>\n",
       "    </tr>\n",
       "    <tr>\n",
       "      <th>16291</th>\n",
       "      <td>9956.0</td>\n",
       "      <td>99753.0</td>\n",
       "      <td>NaN</td>\n",
       "      <td>NaN</td>\n",
       "    </tr>\n",
       "    <tr>\n",
       "      <th>16292</th>\n",
       "      <td>9957.0</td>\n",
       "      <td>99753.0</td>\n",
       "      <td>NaN</td>\n",
       "      <td>NaN</td>\n",
       "    </tr>\n",
       "    <tr>\n",
       "      <th>16293</th>\n",
       "      <td>9958.0</td>\n",
       "      <td>99753.0</td>\n",
       "      <td>NaN</td>\n",
       "      <td>NaN</td>\n",
       "    </tr>\n",
       "    <tr>\n",
       "      <th>16294</th>\n",
       "      <td>9959.0</td>\n",
       "      <td>99753.0</td>\n",
       "      <td>NaN</td>\n",
       "      <td>NaN</td>\n",
       "    </tr>\n",
       "  </tbody>\n",
       "</table>\n",
       "<p>16295 rows × 4 columns</p>\n",
       "</div>"
      ],
      "text/plain": [
       "        VIAJE    TAREA  Incumplidos_x  Incumplidos_y\n",
       "0         1.0      1.0            NaN            NaN\n",
       "1         2.0      1.0            NaN            NaN\n",
       "2         9.0      1.0            NaN            NaN\n",
       "3        10.0      1.0            NaN            NaN\n",
       "4        17.0      1.0            NaN            NaN\n",
       "...       ...      ...            ...            ...\n",
       "16290  9955.0  99753.0            NaN            NaN\n",
       "16291  9956.0  99753.0            NaN            NaN\n",
       "16292  9957.0  99753.0            NaN            NaN\n",
       "16293  9958.0  99753.0            NaN            NaN\n",
       "16294  9959.0  99753.0            NaN            NaN\n",
       "\n",
       "[16295 rows x 4 columns]"
      ]
     },
     "execution_count": 73,
     "metadata": {},
     "output_type": "execute_result"
    }
   ],
   "source": [
    "mergebitacora[['VIAJE', 'TAREA', 'Incumplidos_x', 'Incumplidos_y']]"
   ]
  },
  {
   "cell_type": "markdown",
   "metadata": {},
   "source": [
    "verificacion"
   ]
  },
  {
   "cell_type": "code",
   "execution_count": 74,
   "metadata": {},
   "outputs": [],
   "source": [
    "# ##\n",
    "# ##\n",
    "# ##no va\n",
    "# ##\n",
    "# ##\n",
    "# # Definir una función para aplicar a cada grupo\n",
    "# def eliminar_duplicados_bitacora(row):\n",
    "#     # Verificar si hay al menos un valor en 'Incumplidos_x'\n",
    "#     if row['Incumplidos_x'].isnull() and row['Incumplidos_x'].isnull():   \n",
    "#         return row[row['Incumplidos_x'].notnull()]  # Conservar la fila con 'Incumplidos_x' no nulo\n",
    "#     # Verificar si hay al menos un valor en 'Incumplidos_y'\n",
    "#     elif row['Incumplidos_y'].notnull().any():\n",
    "#         return row[row['Incumplidos_y'].notnull()]  # Conservar la fila con 'Incumplidos_y' no nulo\n",
    "#     # Conservar la fila con el valor más bajo en 'CALIFICACION'\n",
    "#     else:\n",
    "#         return row.loc[row['CALIFICACION'].idxmin()]"
   ]
  },
  {
   "cell_type": "code",
   "execution_count": 75,
   "metadata": {},
   "outputs": [
    {
     "data": {
      "text/html": [
       "<div>\n",
       "<style scoped>\n",
       "    .dataframe tbody tr th:only-of-type {\n",
       "        vertical-align: middle;\n",
       "    }\n",
       "\n",
       "    .dataframe tbody tr th {\n",
       "        vertical-align: top;\n",
       "    }\n",
       "\n",
       "    .dataframe thead th {\n",
       "        text-align: right;\n",
       "    }\n",
       "</style>\n",
       "<table border=\"1\" class=\"dataframe\">\n",
       "  <thead>\n",
       "    <tr style=\"text-align: right;\">\n",
       "      <th></th>\n",
       "      <th>Fecha</th>\n",
       "      <th>Día tipo</th>\n",
       "      <th>Designación de tarea vehículo</th>\n",
       "      <th>Línea</th>\n",
       "      <th>Tipo de viaje corto</th>\n",
       "      <th>Sentido</th>\n",
       "      <th>Tipo Kilómetros</th>\n",
       "      <th>Número de Vehículo_x</th>\n",
       "      <th>Concesionario de Transporte_x</th>\n",
       "      <th>Número de tarea vehículo_x</th>\n",
       "      <th>...</th>\n",
       "      <th>Parada</th>\n",
       "      <th>Vehículo</th>\n",
       "      <th>Novedad</th>\n",
       "      <th>CALIFICACION</th>\n",
       "      <th>texto_cmb_vehi</th>\n",
       "      <th>idadi</th>\n",
       "      <th>Número de Vehículo_y</th>\n",
       "      <th>Desde_y</th>\n",
       "      <th>hasta</th>\n",
       "      <th>texto_colores</th>\n",
       "    </tr>\n",
       "  </thead>\n",
       "  <tbody>\n",
       "  </tbody>\n",
       "</table>\n",
       "<p>0 rows × 63 columns</p>\n",
       "</div>"
      ],
      "text/plain": [
       "Empty DataFrame\n",
       "Columns: [Fecha, Día tipo, Designación de tarea vehículo, Línea, Tipo de viaje corto, Sentido, Tipo Kilómetros, Número de Vehículo_x, Concesionario de Transporte_x, Número de tarea vehículo_x, Desde_x, hasta_x, Duración, Punto de inicio, Punto de término, Largo_x, Número de viaje_x, Tipo de vehículo del viaje, Secuencia de arcos_x, Descripción Novedad_x, Concesionario Programado, Tipo de vehículo Programado, Incumplidos_x, Kilometros Programados-Desvios, Kilometros Programados Plan, Clase de viaje, a evaluar, TAREA, LINEA, VIAJE, VEHICULO SGCO, Kms en Servicio (MTS PLANEADOS), PARADAS PLANEADAS, PARADAS REALIZADAS SGCO, % PARADAS REALIZADAS SGCO, Kms en Servicio (MTS SGCO), FUENTE SGCO, HORA REAL SALIDA, HORA REAL LLEGADA, id, Largo_y, Número de secuencia de carro, Número de tarea vehículo_y, Secuencia de arcos_y, Número de viaje_y, Incumplidos_y, Descripción Novedad_y, Concesionario de Transporte_y, desde, hasta_y, Jerarquía, Tarea, Viaje, Parada, Vehículo, Novedad, CALIFICACION, texto_cmb_vehi, idadi, Número de Vehículo_y, Desde_y, hasta, texto_colores]\n",
       "Index: []\n",
       "\n",
       "[0 rows x 63 columns]"
      ]
     },
     "execution_count": 75,
     "metadata": {},
     "output_type": "execute_result"
    }
   ],
   "source": [
    "# Muestra los id duplicados producto del merge con bitacora\n",
    "mergebitacora[mergebitacora['id'].duplicated()]"
   ]
  },
  {
   "cell_type": "markdown",
   "metadata": {},
   "source": [
    "Revision de Adicionales"
   ]
  },
  {
   "cell_type": "markdown",
   "metadata": {},
   "source": [
    "Columna condicional "
   ]
  },
  {
   "cell_type": "code",
   "execution_count": 78,
   "metadata": {},
   "outputs": [],
   "source": [
    "# Se cambian los vehiculos del cierre por los de k2##\n",
    "mergebitacora['Número de secuencia de carro'] = [x if pd.notna(x) else y for x, y in zip(mergebitacora['Número de secuencia de carro'], mergebitacora['Número de Vehículo_x'])]\n",
    "# Marca en la columnas Cambios los cambios que realiza el código\n",
    "mergebitacora['condicion'] = [ np.nan if  pd.notna(x) else 'Se Cambia # V RF' for x, y in zip(mergebitacora['Número de secuencia de carro'], mergebitacora['Número de Vehículo_x'])]\n"
   ]
  },
  {
   "cell_type": "code",
   "execution_count": 79,
   "metadata": {},
   "outputs": [],
   "source": [
    "# # Función para actualizar el texto de la columna condicion para Largo_y si Largo_x es mayor\n",
    "def actualizar_largo_texto(row):\n",
    "    if pd.isna(row['Largo_y']) and pd.isna(row['condicion']) :\n",
    "        return 'Cambia largo por NAN'\n",
    "    elif pd.isna(row['Largo_y']) and pd.notnull(row['condicion']) :\n",
    "        return row['condicion'] + '/Cambia largo por NAN'\n",
    "    elif row['Largo_x'] > row['Largo_y'] and pd.isna(row['condicion']):\n",
    "        return 'Cambia x Mayor largo'\n",
    "    elif row['Largo_x'] > row['Largo_y'] and pd.notnull(row['condicion']) :\n",
    "        return row['condicion'] + '/Cambia x Mayor largo'\n",
    "    else:\n",
    "        if pd.notnull(row['condicion']):\n",
    "            return row['condicion']\n",
    "            "
   ]
  },
  {
   "cell_type": "code",
   "execution_count": 80,
   "metadata": {},
   "outputs": [],
   "source": [
    "# # Función para actualizar los valores de Largo_y si Largo_x es mayor\n",
    "# def actualizar_largo(row):\n",
    "#     if pd.isna(row['Largo_y']):\n",
    "#         return row['Largo_x']\n",
    "#     elif row['Largo_x'] > row['Largo_y']:\n",
    "#         return row['Largo_x']\n",
    "#     else:\n",
    "#         return row['Largo_y']"
   ]
  },
  {
   "cell_type": "code",
   "execution_count": null,
   "metadata": {},
   "outputs": [],
   "source": [
    "# # Marcar las filas donde se realizan cambios en una nueva columna\n",
    "# mergebitacora['condicion'] = mergebitacora.apply(actualizar_largo_texto, axis=1)"
   ]
  },
  {
   "cell_type": "code",
   "execution_count": null,
   "metadata": {},
   "outputs": [],
   "source": [
    "# # Aplicar la función a la columna Largo_y\n",
    "# mergebitacora['Largo_y'] = mergebitacora.apply(actualizar_largo, axis=1)"
   ]
  },
  {
   "cell_type": "code",
   "execution_count": 81,
   "metadata": {},
   "outputs": [
    {
     "data": {
      "text/plain": [
       "condicion\n",
       "Se Cambia # V RF    156\n",
       "Name: count, dtype: int64"
      ]
     },
     "execution_count": 81,
     "metadata": {},
     "output_type": "execute_result"
    }
   ],
   "source": [
    "#Se verifican los cambios realizados\n",
    "mergebitacora['condicion'].value_counts()"
   ]
  },
  {
   "cell_type": "code",
   "execution_count": 82,
   "metadata": {},
   "outputs": [
    {
     "data": {
      "text/plain": [
       "('Número de secuencia de carro',\n",
       " 'Secuencia de arcos',\n",
       " 'Concesionario Programado')"
      ]
     },
     "execution_count": 82,
     "metadata": {},
     "output_type": "execute_result"
    }
   ],
   "source": [
    "'Número de secuencia de carro', 'Secuencia de arcos', 'Concesionario Programado'"
   ]
  },
  {
   "cell_type": "code",
   "execution_count": 76,
   "metadata": {},
   "outputs": [],
   "source": [
    "# Aplicar condiciones y asignar valores a la nueva columna\n",
    "mergebitacora['Condicional_fin'] = np.where(condicion1 & condicion2 & condicion3 & condicion4, 'Revisar largo, parada, vehículo y consecionario',\n",
    "                                    np.where(condicion1 & condicion2 & condicion3, 'Revisar largo, parada y vehículo',\n",
    "                                        np.where(condicion1 & condicion2 & condicion4, 'Revisar largo, vehiculo y consecionario',         \n",
    "                                            np.where(condicion1 & condicion3 & condicion4, 'Revisar largo, parada y consecionario',\n",
    "                                                np.where(condicion2 & condicion3 & condicion4, 'Revisar vehiculo, parada y consecionarios',        \n",
    "                                                    np.where(condicion1 & condicion2, 'Revisar largo y vehiculo',\n",
    "                                                        np.where(condicion1 & condicion3, 'Revisar largo y parada',\n",
    "                                                            np.where(condicion1 & condicion4, 'Revisar largo y consecionario', \n",
    "                                                                np.where(condicion2 & condicion3, 'Revisar vehiculo y parada',\n",
    "                                                                    np.where(condicion2 & condicion4, 'Revisar vehiculo y consecionario',        \n",
    "                                                                        np.where(condicion3 & condicion4, 'Revisar parada y consecionario',                                            \n",
    "                                                                            np.where(condicion1, 'Revisar largo', \n",
    "                                                                                np.where(condicion2, 'Revisar numero de vehiculo',\n",
    "                                                                                    np.where(condicion3, 'Revisar paradas',\n",
    "                                                                                        np.where(condicion4, 'Revisar consesionario', 'OK')))))))))))))))"
   ]
  },
  {
   "cell_type": "code",
   "execution_count": 85,
   "metadata": {},
   "outputs": [
    {
     "data": {
      "text/plain": [
       "condicional2\n",
       "Revisar largo                            9615\n",
       "Revisar largo y consecionario            5410\n",
       "OK                                        648\n",
       "Revisar consesionario                     466\n",
       "Revisar largo, parada y consecionario     156\n",
       "Name: count, dtype: int64"
      ]
     },
     "execution_count": 85,
     "metadata": {},
     "output_type": "execute_result"
    }
   ],
   "source": [
    "mergebitacora['condicional2'].value_counts()"
   ]
  },
  {
   "cell_type": "code",
   "execution_count": 86,
   "metadata": {},
   "outputs": [],
   "source": [
    "# Exporta a un archivo excel el Df\n",
    "# mergebitacora.to_excel('../output/prueba_mergebita.xlsx', index=False, sheet_name='k2_procesado')"
   ]
  }
 ],
 "metadata": {
  "kernelspec": {
   "display_name": "w-env",
   "language": "python",
   "name": "w-env"
  },
  "language_info": {
   "codemirror_mode": {
    "name": "ipython",
    "version": 3
   },
   "file_extension": ".py",
   "mimetype": "text/x-python",
   "name": "python",
   "nbconvert_exporter": "python",
   "pygments_lexer": "ipython3",
   "version": "3.12.2"
  },
  "orig_nbformat": 4
 },
 "nbformat": 4,
 "nbformat_minor": 2
}
