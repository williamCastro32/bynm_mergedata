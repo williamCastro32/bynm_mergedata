{
 "cells": [
  {
   "attachments": {},
   "cell_type": "markdown",
   "metadata": {},
   "source": [
    "BYNmasivofy2024*"
   ]
  },
  {
   "cell_type": "code",
   "execution_count": 32,
   "metadata": {},
   "outputs": [],
   "source": [
    "# Importa las librerias a usar\n",
    "import pandas as pd\n",
    "import re\n",
    "import numpy as np\n"
   ]
  },
  {
   "cell_type": "markdown",
   "metadata": {},
   "source": [
    "importar y procesar el K2"
   ]
  },
  {
   "cell_type": "code",
   "execution_count": 33,
   "metadata": {},
   "outputs": [],
   "source": [
    "\n",
    "# Ubicacion de los archivos a usar\n",
    "patch1 = '../input/Kilometros en Servicio MIO - 05-Mar-2024.xlsx'# Se importa el archivo xlxs\n",
    "kmsmio = pd.read_excel(patch1, sheet_name='Programacion')\n",
    "# Se eliminan las filas y las columnas vacias\n",
    "kmsmio = kmsmio.dropna(axis=0, how='all').dropna(axis=1, how='all')\n"
   ]
  },
  {
   "cell_type": "code",
   "execution_count": 34,
   "metadata": {},
   "outputs": [],
   "source": [
    "# Filtra el DF por Kms en Servicio\n",
    "kmsmio = kmsmio[kmsmio['Tipo Kilómetros']== 'Kms en Servicio']\n",
    "kmsmio = kmsmio[kmsmio['Kilometros Programados Plan'].notna()]"
   ]
  },
  {
   "cell_type": "code",
   "execution_count": 35,
   "metadata": {},
   "outputs": [],
   "source": [
    "# Cambiamos la hora 24 por 0\n",
    "kmsmio['Desde'] = kmsmio['Desde'].replace('24', '0')\n",
    "kmsmio = kmsmio[kmsmio['Desde'] != '0']\n"
   ]
  },
  {
   "cell_type": "code",
   "execution_count": 36,
   "metadata": {},
   "outputs": [],
   "source": [
    "# Se crea una nueva columna 'id'\n",
    "kmsmio['id'] = kmsmio.apply(lambda row: '-'.join([str(row['Línea']), str(row['Número de tarea vehículo']), \n",
    "                                                   str(row['Desde']), str(row['hasta'])]), axis=1)\n"
   ]
  },
  {
   "cell_type": "code",
   "execution_count": 37,
   "metadata": {},
   "outputs": [
    {
     "data": {
      "text/plain": [
       "(18645, 40)"
      ]
     },
     "execution_count": 37,
     "metadata": {},
     "output_type": "execute_result"
    }
   ],
   "source": [
    "# Se verifica el tamaño del df\n",
    "kmsmio.shape"
   ]
  },
  {
   "cell_type": "code",
   "execution_count": 38,
   "metadata": {},
   "outputs": [
    {
     "data": {
      "text/plain": [
       "id\n",
       "A14A-1-05:00:00-05:12:10                              1\n",
       "T47B-2-19:21:48-20:01:10                              1\n",
       "A14A-1-05:26:00-05:38:10                              1\n",
       "A14A-1-05:38:55-05:51:15                              1\n",
       "A14A-1-05:52:00-06:04:43                              1\n",
       "                                                     ..\n",
       "A35A-99753-1900-01-01 00:03:04-1900-01-01 00:14:39    1\n",
       "A35A-99753-23:03:04-23:14:39                          1\n",
       "A35A-99753-21:33:04-21:44:07                          1\n",
       "A35A-99753-21:30:02-21:30:17                          1\n",
       "A35A-99753-1900-01-01 00:16:10-1900-01-01 00:29:23    1\n",
       "Name: count, Length: 18645, dtype: int64"
      ]
     },
     "execution_count": 38,
     "metadata": {},
     "output_type": "execute_result"
    }
   ],
   "source": [
    "# Se verifica que la columna id no tenga id repetidos\n",
    "kmsmio['id'].value_counts().sort_values(ascending=False)"
   ]
  },
  {
   "cell_type": "markdown",
   "metadata": {},
   "source": [
    "Importar reporte finalizado"
   ]
  },
  {
   "cell_type": "code",
   "execution_count": 39,
   "metadata": {},
   "outputs": [],
   "source": [
    "# ubicacion del archivo\n",
    "patch2 =  '../input/REPORTE FINALIZADO 05_MARZ_2024.xlsx'\n",
    "# Se importa el archivo xlxs\n",
    "repofi = pd.read_excel(patch2, sheet_name='Programacion')\n",
    "bitacora = pd.read_excel(patch2, sheet_name='Bitacora')\n",
    "# Se eliminan las filas y las columnas vacias\n",
    "repofi = repofi.dropna(axis=0, how='all').dropna(axis=1, how='all')\n",
    "bitacora = bitacora.dropna(axis=0, how='all').dropna(axis=1, how='all')\n"
   ]
  },
  {
   "cell_type": "code",
   "execution_count": 40,
   "metadata": {},
   "outputs": [],
   "source": [
    "# Filtra el DF por Kms en Servicio\n",
    "repofi = repofi[repofi['Tipo de kilometros']== 'Kms en Servicio']\n",
    "# Se crea una nueva columna 'id'\n",
    "repofi['id'] = repofi.apply(lambda row: '-'.join([str(row['Línea']), str(row['Número de tarea vehículo']), \n",
    "                                                  str(row['desde']),str(row['hasta'])]), axis=1)\n"
   ]
  },
  {
   "cell_type": "code",
   "execution_count": 41,
   "metadata": {},
   "outputs": [
    {
     "data": {
      "text/plain": [
       "id\n",
       "A14A-1-05:00:00-05:12:10                              1\n",
       "T47B-2-19:21:48-20:01:10                              1\n",
       "A14A-1-05:26:00-05:38:10                              1\n",
       "A14A-1-05:38:55-05:51:15                              1\n",
       "A14A-1-05:52:00-06:04:43                              1\n",
       "                                                     ..\n",
       "A35A-99753-1900-01-01 00:03:04-1900-01-01 00:14:39    1\n",
       "A35A-99753-23:03:04-23:14:39                          1\n",
       "A35A-99753-21:33:04-21:44:07                          1\n",
       "A35A-99753-21:30:02-21:30:17                          1\n",
       "A35A-99753-1900-01-01 00:16:10-1900-01-01 00:29:23    1\n",
       "Name: count, Length: 18645, dtype: int64"
      ]
     },
     "execution_count": 41,
     "metadata": {},
     "output_type": "execute_result"
    }
   ],
   "source": [
    "# Se verifica que el id no tenga datos repetidos\n",
    "repofi['id'].value_counts().sort_values(ascending=False)"
   ]
  },
  {
   "cell_type": "code",
   "execution_count": 42,
   "metadata": {},
   "outputs": [
    {
     "data": {
      "text/plain": [
       "(18645, 32)"
      ]
     },
     "execution_count": 42,
     "metadata": {},
     "output_type": "execute_result"
    }
   ],
   "source": [
    "# Se verifica el tamaño del df\n",
    "repofi.shape"
   ]
  },
  {
   "cell_type": "markdown",
   "metadata": {},
   "source": [
    "Se realiza el respectivo Merge con los dos df"
   ]
  },
  {
   "cell_type": "code",
   "execution_count": 43,
   "metadata": {},
   "outputs": [],
   "source": [
    "# Se realiza el merge con outer en la columna id\n",
    "merge = pd.merge(kmsmio, repofi, on='id', how='outer')"
   ]
  },
  {
   "cell_type": "code",
   "execution_count": 44,
   "metadata": {},
   "outputs": [
    {
     "data": {
      "text/plain": [
       "True"
      ]
     },
     "execution_count": 44,
     "metadata": {},
     "output_type": "execute_result"
    }
   ],
   "source": [
    "# Se verifica que el numero de filas en los df sea igual (True), para poder concluir que el merge fue exitoso\n",
    "merge.shape[0] == kmsmio.shape[0] == repofi.shape[0]"
   ]
  },
  {
   "cell_type": "code",
   "execution_count": 45,
   "metadata": {},
   "outputs": [
    {
     "data": {
      "text/plain": [
       "(18645, 71)"
      ]
     },
     "execution_count": 45,
     "metadata": {},
     "output_type": "execute_result"
    }
   ],
   "source": [
    "merge.shape"
   ]
  },
  {
   "cell_type": "markdown",
   "metadata": {},
   "source": []
  },
  {
   "cell_type": "code",
   "execution_count": 46,
   "metadata": {},
   "outputs": [],
   "source": [
    "# Exporta a un archivo excel el Df\n",
    "#mergebitacora.to_excel('../output/prueba_mergebita.xlsx', index=False, sheet_name='k2_procesado')"
   ]
  },
  {
   "cell_type": "markdown",
   "metadata": {},
   "source": [
    "Merge con bitacora\n"
   ]
  },
  {
   "cell_type": "code",
   "execution_count": 47,
   "metadata": {},
   "outputs": [
    {
     "data": {
      "text/html": [
       "<div>\n",
       "<style scoped>\n",
       "    .dataframe tbody tr th:only-of-type {\n",
       "        vertical-align: middle;\n",
       "    }\n",
       "\n",
       "    .dataframe tbody tr th {\n",
       "        vertical-align: top;\n",
       "    }\n",
       "\n",
       "    .dataframe thead th {\n",
       "        text-align: right;\n",
       "    }\n",
       "</style>\n",
       "<table border=\"1\" class=\"dataframe\">\n",
       "  <thead>\n",
       "    <tr style=\"text-align: right;\">\n",
       "      <th></th>\n",
       "      <th>Número de tarea vehículo_x</th>\n",
       "      <th>Número de viaje_x</th>\n",
       "    </tr>\n",
       "  </thead>\n",
       "  <tbody>\n",
       "    <tr>\n",
       "      <th>0</th>\n",
       "      <td>13</td>\n",
       "      <td>1</td>\n",
       "    </tr>\n",
       "    <tr>\n",
       "      <th>1</th>\n",
       "      <td>13</td>\n",
       "      <td>2</td>\n",
       "    </tr>\n",
       "    <tr>\n",
       "      <th>2</th>\n",
       "      <td>13</td>\n",
       "      <td>3</td>\n",
       "    </tr>\n",
       "    <tr>\n",
       "      <th>3</th>\n",
       "      <td>13</td>\n",
       "      <td>4</td>\n",
       "    </tr>\n",
       "    <tr>\n",
       "      <th>4</th>\n",
       "      <td>13</td>\n",
       "      <td>5</td>\n",
       "    </tr>\n",
       "    <tr>\n",
       "      <th>...</th>\n",
       "      <td>...</td>\n",
       "      <td>...</td>\n",
       "    </tr>\n",
       "    <tr>\n",
       "      <th>18640</th>\n",
       "      <td>85</td>\n",
       "      <td>175</td>\n",
       "    </tr>\n",
       "    <tr>\n",
       "      <th>18641</th>\n",
       "      <td>85</td>\n",
       "      <td>9983</td>\n",
       "    </tr>\n",
       "    <tr>\n",
       "      <th>18642</th>\n",
       "      <td>85</td>\n",
       "      <td>194</td>\n",
       "    </tr>\n",
       "    <tr>\n",
       "      <th>18643</th>\n",
       "      <td>85</td>\n",
       "      <td>9982</td>\n",
       "    </tr>\n",
       "    <tr>\n",
       "      <th>18644</th>\n",
       "      <td>85</td>\n",
       "      <td>203</td>\n",
       "    </tr>\n",
       "  </tbody>\n",
       "</table>\n",
       "<p>18645 rows × 2 columns</p>\n",
       "</div>"
      ],
      "text/plain": [
       "      Número de tarea vehículo_x Número de viaje_x\n",
       "0                             13                 1\n",
       "1                             13                 2\n",
       "2                             13                 3\n",
       "3                             13                 4\n",
       "4                             13                 5\n",
       "...                          ...               ...\n",
       "18640                         85               175\n",
       "18641                         85              9983\n",
       "18642                         85               194\n",
       "18643                         85              9982\n",
       "18644                         85               203\n",
       "\n",
       "[18645 rows x 2 columns]"
      ]
     },
     "execution_count": 47,
     "metadata": {},
     "output_type": "execute_result"
    }
   ],
   "source": [
    "merge[['Número de tarea vehículo_x', 'Número de viaje_x']]"
   ]
  },
  {
   "cell_type": "code",
   "execution_count": 48,
   "metadata": {},
   "outputs": [],
   "source": [
    "bitacora[['Tarea', 'Viaje']] = bitacora[['Tarea', 'Viaje']].fillna(0).astype(int)"
   ]
  },
  {
   "cell_type": "code",
   "execution_count": 49,
   "metadata": {},
   "outputs": [],
   "source": [
    "# Se selecionan las columnas de Bitacora que se van a usar\n",
    "bitacorafil = bitacora[['Jerarquía',\t'Tarea',\t'Viaje', 'Parada', 'Vehículo', 'Novedad']]\n",
    "# Se filtran los casos que no tiene numero de viaje ya que no tiene retoma\n",
    "bitacorafil = bitacorafil[bitacorafil['Viaje'] != 0]"
   ]
  },
  {
   "cell_type": "code",
   "execution_count": 50,
   "metadata": {},
   "outputs": [
    {
     "data": {
      "text/plain": [
       "False"
      ]
     },
     "execution_count": 50,
     "metadata": {},
     "output_type": "execute_result"
    }
   ],
   "source": [
    "# Se compara las filas de los df, el resultado debe ser False\n",
    "bitacora.shape[0]==bitacorafil.shape[0]"
   ]
  },
  {
   "cell_type": "code",
   "execution_count": 51,
   "metadata": {},
   "outputs": [],
   "source": [
    "# Se agrega al merge anterior la informacion de bitacora\n",
    "# Importante tener en cuenta los vehiculos que tengan mas de un caso en la bitacora, esto genera id duplicados.\n",
    "mergebitacora = pd.merge(merge, bitacorafil, left_on=['Número de tarea vehículo_x', 'Número de viaje_x'], right_on=['Tarea', 'Viaje'], how='outer' )"
   ]
  },
  {
   "cell_type": "code",
   "execution_count": 52,
   "metadata": {},
   "outputs": [
    {
     "data": {
      "text/plain": [
       "34"
      ]
     },
     "execution_count": 52,
     "metadata": {},
     "output_type": "execute_result"
    }
   ],
   "source": [
    "# Revisar este resultado, ya que los valore sque no coinceden deven se iguales en el filtro\n",
    "mergebitacora.shape[0]- merge.shape[0]"
   ]
  },
  {
   "cell_type": "code",
   "execution_count": 53,
   "metadata": {},
   "outputs": [
    {
     "name": "stdout",
     "output_type": "stream",
     "text": [
      "<class 'pandas.core.frame.DataFrame'>\n",
      "RangeIndex: 18679 entries, 0 to 18678\n",
      "Data columns (total 77 columns):\n",
      " #   Column                           Non-Null Count  Dtype         \n",
      "---  ------                           --------------  -----         \n",
      " 0   Fecha_x                          18679 non-null  datetime64[ns]\n",
      " 1   Día tipo_x                       18679 non-null  object        \n",
      " 2   Designación de tarea vehículo_x  18679 non-null  object        \n",
      " 3   Línea_x                          18679 non-null  object        \n",
      " 4   Tipo de viaje corto_x            18679 non-null  object        \n",
      " 5   Sentido_x                        13902 non-null  object        \n",
      " 6   Tipo Kilómetros                  18679 non-null  object        \n",
      " 7   Número de Vehículo               16165 non-null  object        \n",
      " 8   Concesionario de Transporte_x    16117 non-null  object        \n",
      " 9   Número de tarea vehículo_x       18679 non-null  object        \n",
      " 10  Desde                            18679 non-null  object        \n",
      " 11  hasta_x                          18679 non-null  object        \n",
      " 12  Duración_x                       18679 non-null  object        \n",
      " 13  Punto de inicio_x                18679 non-null  object        \n",
      " 14  Punto de término_x               18679 non-null  object        \n",
      " 15  Largo_x                          18679 non-null  int64         \n",
      " 16  Número de viaje_x                18679 non-null  object        \n",
      " 17  Tipo de vehículo del viaje_x     16117 non-null  object        \n",
      " 18  Secuencia de arcos_x             18679 non-null  object        \n",
      " 19  Descripción Novedad_x            1321 non-null   object        \n",
      " 20  Concesionario Programado         18679 non-null  object        \n",
      " 21  Tipo de vehículo Programado      18679 non-null  object        \n",
      " 22  Incumplidos_x                    2834 non-null   float64       \n",
      " 23  Kilometros Programados-Desvios   18679 non-null  float64       \n",
      " 24  Kilometros Programados Plan      18679 non-null  float64       \n",
      " 25  Clase de viaje                   13902 non-null  object        \n",
      " 26  a evaluar                        10069 non-null  object        \n",
      " 27  TAREA                            18679 non-null  float64       \n",
      " 28  LINEA                            18679 non-null  object        \n",
      " 29  VIAJE                            18679 non-null  float64       \n",
      " 30  VEHICULO SGCO                    18679 non-null  float64       \n",
      " 31  Kms en Servicio (MTS PLANEADOS)  18679 non-null  float64       \n",
      " 32  PARADAS PLANEADAS                18679 non-null  float64       \n",
      " 33  PARADAS REALIZADAS SGCO          18679 non-null  float64       \n",
      " 34  % PARADAS REALIZADAS SGCO        18679 non-null  float64       \n",
      " 35  Kms en Servicio (MTS SGCO)       18679 non-null  float64       \n",
      " 36  FUENTE SGCO                      18679 non-null  object        \n",
      " 37  HORA REAL SALIDA                 18679 non-null  object        \n",
      " 38  HORA REAL LLEGADA                18679 non-null  object        \n",
      " 39  id                               18679 non-null  object        \n",
      " 40  Fecha_y                          18679 non-null  datetime64[ns]\n",
      " 41  Día tipo_y                       18679 non-null  object        \n",
      " 42  Designación de tarea vehículo_y  18679 non-null  int64         \n",
      " 43  Línea_y                          18679 non-null  object        \n",
      " 44  Tipo de viaje corto_y            18679 non-null  object        \n",
      " 45  Sentido_y                        13902 non-null  object        \n",
      " 46  Tipo de kilometros               18679 non-null  object        \n",
      " 47  Número de secuencia de carro     6826 non-null   object        \n",
      " 48  Concesionario de Transporte_y    6788 non-null   object        \n",
      " 49  Número de tarea vehículo_y       18679 non-null  int64         \n",
      " 50  desde                            18679 non-null  object        \n",
      " 51  hasta_y                          18679 non-null  object        \n",
      " 52  Duración_y                       18679 non-null  object        \n",
      " 53  Punto de inicio_y                18679 non-null  object        \n",
      " 54  Punto de término_y               18679 non-null  object        \n",
      " 55  Largo_y                          18679 non-null  int64         \n",
      " 56  Número de viaje_y                13902 non-null  float64       \n",
      " 57  Tipo de vehículo del viaje_y     6788 non-null   object        \n",
      " 58  Secuencia de arcos_y             18679 non-null  object        \n",
      " 59  Descripción Novedad_y            507 non-null    object        \n",
      " 60  Subcontratista                   18679 non-null  object        \n",
      " 61  Tipo de vehículo del viaje.1     18679 non-null  object        \n",
      " 62  Incumplidos_y                    1010 non-null   float64       \n",
      " 63  Nro de caso                      514 non-null    object        \n",
      " 64  Tipo                             503 non-null    object        \n",
      " 65  Lugar                            503 non-null    object        \n",
      " 66  Jerarquia                        507 non-null    object        \n",
      " 67  Vehículo_x                       503 non-null    float64       \n",
      " 68  Kms Planeados                    18679 non-null  int64         \n",
      " 69  Kms Perdidos                     1059 non-null   float64       \n",
      " 70  Kms cancelados                   38 non-null     float64       \n",
      " 71  Jerarquía                        475 non-null    object        \n",
      " 72  Tarea                            475 non-null    float64       \n",
      " 73  Viaje                            475 non-null    float64       \n",
      " 74  Parada                           475 non-null    object        \n",
      " 75  Vehículo_y                       475 non-null    float64       \n",
      " 76  Novedad                          475 non-null    object        \n",
      "dtypes: datetime64[ns](2), float64(19), int64(5), object(51)\n",
      "memory usage: 11.0+ MB\n"
     ]
    }
   ],
   "source": [
    "mergebitacora.info()"
   ]
  },
  {
   "cell_type": "code",
   "execution_count": 54,
   "metadata": {},
   "outputs": [],
   "source": [
    "#mergebitacora[mergebitacora['id'].duplicated()]"
   ]
  },
  {
   "cell_type": "markdown",
   "metadata": {},
   "source": [
    "Columna condicional "
   ]
  },
  {
   "cell_type": "code",
   "execution_count": 55,
   "metadata": {},
   "outputs": [],
   "source": [
    "# Se cambian los vehiculos del cierre por los de k2##\n",
    "mergebitacora['Número de secuencia de carro'] = [x if pd.notna(x) else y for x, y in zip(mergebitacora['Número de secuencia de carro'], mergebitacora['Número de Vehículo'])]\n",
    "# Marca en la columnas Cambios los cambios que realiza el código\n",
    "mergebitacora['condicion'] = [ np.nan if  pd.notna(x) else 'Se Cambia # V RF' for x, y in zip(mergebitacora['Número de secuencia de carro'], mergebitacora['Número de Vehículo'])]\n"
   ]
  },
  {
   "cell_type": "code",
   "execution_count": 56,
   "metadata": {},
   "outputs": [],
   "source": [
    "# Función para actualizar los valores de Largo_y si Largo_x es mayor\n",
    "def actualizar_largo(row):\n",
    "    if pd.isna(row['Largo_y']):\n",
    "        return row['Largo_x']\n",
    "    elif row['Largo_x'] > row['Largo_y']:\n",
    "        return row['Largo_x']\n",
    "    else:\n",
    "        return row['Largo_y']"
   ]
  },
  {
   "cell_type": "code",
   "execution_count": 57,
   "metadata": {},
   "outputs": [],
   "source": [
    "\n",
    "def actualizar_largo_texto(row):\n",
    "    if pd.isna(row['Largo_y']) and pd.isna(row['condicion']) :\n",
    "        return 'Cambia largo por NAN'\n",
    "    elif pd.isna(row['Largo_y']) and pd.notnull(row['condicion']) :\n",
    "        return row['condicion'] + '/Cambia largo por NAN'\n",
    "    elif row['Largo_x'] > row['Largo_y'] and pd.isna(row['condicion']):\n",
    "        return 'Cambia x Mayor largo'\n",
    "    elif row['Largo_x'] > row['Largo_y'] and pd.notnull(row['condicion']) :\n",
    "        return row['condicion'] + '/Cambia x Mayor largo'\n",
    "    else:\n",
    "        if pd.notnull(row['condicion']):\n",
    "            return row['condicion']\n",
    "            \n"
   ]
  },
  {
   "cell_type": "code",
   "execution_count": 58,
   "metadata": {},
   "outputs": [],
   "source": [
    "# Marcar las filas donde se realizan cambios en una nueva columna\n",
    "mergebitacora['condicion'] = mergebitacora.apply(actualizar_largo_texto, axis=1)"
   ]
  },
  {
   "cell_type": "code",
   "execution_count": 59,
   "metadata": {},
   "outputs": [],
   "source": [
    "# Aplicar la función a la columna Largo_y\n",
    "mergebitacora['Largo_y'] = mergebitacora.apply(actualizar_largo, axis=1)"
   ]
  },
  {
   "cell_type": "code",
   "execution_count": 60,
   "metadata": {},
   "outputs": [
    {
     "data": {
      "text/plain": [
       "condicion\n",
       "Se Cambia # V RF                         2332\n",
       "Cambia x Mayor largo                      363\n",
       "Se Cambia # V RF/Cambia x Mayor largo      20\n",
       "Name: count, dtype: int64"
      ]
     },
     "execution_count": 60,
     "metadata": {},
     "output_type": "execute_result"
    }
   ],
   "source": [
    "mergebitacora['condicion'].value_counts()"
   ]
  },
  {
   "cell_type": "code",
   "execution_count": 67,
   "metadata": {},
   "outputs": [],
   "source": [
    "# Cambia Blanco y Negro Masivo por BYN \n",
    "mergebitacora['Concesionario Programado'] = mergebitacora['Concesionario Programado'].replace('Blanco y Negro Masivo','BYN')"
   ]
  },
  {
   "cell_type": "code",
   "execution_count": 81,
   "metadata": {},
   "outputs": [],
   "source": [
    "# Condiciones para la nueva columna\n",
    "condicion1 = mergebitacora['Largo_x'] != mergebitacora['Largo_y']\n",
    "condicion2 = mergebitacora['Número de Vehículo'] != mergebitacora['Número de secuencia de carro']\n",
    "condicion3 = mergebitacora['Secuencia de arcos_x'] != mergebitacora['Secuencia de arcos_y']\n",
    "condicion4 = mergebitacora['Concesionario de Transporte_x'] != mergebitacora['Concesionario Programado']\n",
    "\n",
    "# Aplicar condiciones y asignar valores a la nueva columna\n",
    "mergebitacora['condicional2'] = np.where(condicion1 & condicion2 & condicion3 & condicion4, 'Revisar largo, parada, vehículo y consecionario',\n",
    "                                    np.where(condicion1 & condicion2 & condicion3, 'Revisar largo, parada y vehículo',\n",
    "                                        np.where(condicion1 & condicion2 & condicion4, 'Revisar largo, parada y consecionario',         \n",
    "                                            np.where(condicion1 & condicion3 & condicion4, 'Revisar largo, parada y consecionarios',\n",
    "                                                np.where(condicion2 & condicion3 & condicion4, 'Revisar vehiculo, parada y consecionarios',        \n",
    "                                                    np.where(condicion1 & condicion2, 'Revisar largo y vehiculo',\n",
    "                                                        np.where(condicion1 & condicion3, 'Revisar largo y parada',\n",
    "                                                            np.where(condicion1 & condicion4, 'Revisar largo y consecionario', \n",
    "                                                                np.where(condicion2 & condicion3, 'Revisar vehiculo y parada',\n",
    "                                                                    np.where(condicion2 & condicion4, 'Revisar vehiculo y consecionario',        \n",
    "                                                                        np.where(condicion3 & condicion4, 'Revisar parada y consecionario',                                            \n",
    "                                                                            np.where(condicion1, 'Revisar largo', \n",
    "                                                                                np.where(condicion2, 'Revisar numero de vehiculo',\n",
    "                                                                                    np.where(condicion3, 'Revisar paradas',\n",
    "                                                                                        np.where(condicion4, 'Revisar consesionario', 'OK')))))))))))))))"
   ]
  },
  {
   "cell_type": "code",
   "execution_count": 82,
   "metadata": {},
   "outputs": [
    {
     "data": {
      "text/plain": [
       "condicional2\n",
       "OK                                       9946\n",
       "Revisar consesionario                    5540\n",
       "Revisar vehiculo y consecionario         2603\n",
       "Revisar largo y consecionario             243\n",
       "Revisar largo                             236\n",
       "Revisar numero de vehiculo                100\n",
       "Revisar largo y vehiculo                    7\n",
       "Revisar largo, parada y consecionario       4\n",
       "Name: count, dtype: int64"
      ]
     },
     "execution_count": 82,
     "metadata": {},
     "output_type": "execute_result"
    }
   ],
   "source": [
    "mergebitacora['condicional2'].value_counts()"
   ]
  },
  {
   "cell_type": "code",
   "execution_count": null,
   "metadata": {},
   "outputs": [],
   "source": [
    "# Exporta a un archivo excel el Df\n",
    "mergebitacora.to_excel('../output/prueba_mergebita.xlsx', index=False, sheet_name='k2_procesado')"
   ]
  }
 ],
 "metadata": {
  "kernelspec": {
   "display_name": "w-env",
   "language": "python",
   "name": "w-env"
  },
  "language_info": {
   "codemirror_mode": {
    "name": "ipython",
    "version": 3
   },
   "file_extension": ".py",
   "mimetype": "text/x-python",
   "name": "python",
   "nbconvert_exporter": "python",
   "pygments_lexer": "ipython3",
   "version": "3.12.2"
  },
  "orig_nbformat": 4
 },
 "nbformat": 4,
 "nbformat_minor": 2
}
