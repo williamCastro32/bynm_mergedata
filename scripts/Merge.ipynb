{
 "cells": [
  {
   "attachments": {},
   "cell_type": "markdown",
   "metadata": {},
   "source": [
    "BYNmasivofy2024*"
   ]
  },
  {
   "cell_type": "code",
   "execution_count": 272,
   "metadata": {},
   "outputs": [],
   "source": [
    "# Importa las librerias a usar\n",
    "import pandas as pd\n",
    "import re\n",
    "import numpy as np\n"
   ]
  },
  {
   "cell_type": "markdown",
   "metadata": {},
   "source": [
    "K2"
   ]
  },
  {
   "cell_type": "code",
   "execution_count": 273,
   "metadata": {},
   "outputs": [],
   "source": [
    "\n",
    "# Ubicacion de los archivos a usar\n",
    "patch1 = '../input/Kilometros en Servicio MIO - 05-Mar-2024.xlsx'# Se importa el archivo xlxs\n",
    "kmsmio = pd.read_excel(patch1, sheet_name='Programacion')\n",
    "# Se eliminan las filas y las columnas vacias\n",
    "kmsmio = kmsmio.dropna(axis=0, how='all').dropna(axis=1, how='all')\n"
   ]
  },
  {
   "cell_type": "code",
   "execution_count": 274,
   "metadata": {},
   "outputs": [],
   "source": [
    "# Filtra el DF por Kms en Servicio\n",
    "kmsmio = kmsmio[kmsmio['Tipo Kilómetros']== 'Kms en Servicio']\n",
    "kmsmio = kmsmio[kmsmio['Kilometros Programados Plan'].notna()]"
   ]
  },
  {
   "cell_type": "code",
   "execution_count": 275,
   "metadata": {},
   "outputs": [],
   "source": [
    "# Cambiamos la hora 24 por 0\n",
    "kmsmio['Desde'] = kmsmio['Desde'].replace('24', '0')\n",
    "kmsmio = kmsmio[kmsmio['Desde'] != '0']\n"
   ]
  },
  {
   "cell_type": "code",
   "execution_count": 276,
   "metadata": {},
   "outputs": [],
   "source": [
    "# Se crea una nueva columna 'id'\n",
    "kmsmio['id'] = kmsmio.apply(lambda row: '-'.join([str(row['Línea']), str(row['Número de tarea vehículo']), \n",
    "                                                   str(row['Desde']), str(row['hasta'])]), axis=1)\n"
   ]
  },
  {
   "cell_type": "code",
   "execution_count": 277,
   "metadata": {},
   "outputs": [
    {
     "data": {
      "text/plain": [
       "(18645, 40)"
      ]
     },
     "execution_count": 277,
     "metadata": {},
     "output_type": "execute_result"
    }
   ],
   "source": [
    "kmsmio.shape"
   ]
  },
  {
   "cell_type": "code",
   "execution_count": 278,
   "metadata": {},
   "outputs": [
    {
     "data": {
      "text/plain": [
       "id\n",
       "A14A-1-05:00:00-05:12:10                              1\n",
       "T51-562-09:33:30-10:30:24                             1\n",
       "P51A-559-13:58:14-13:59:14                            1\n",
       "P51A-559-13:01:28-13:57:59                            1\n",
       "P51A-559-12:00:39-13:00:58                            1\n",
       "                                                     ..\n",
       "P21C-235-17:20:17-18:22:37                            1\n",
       "E21-234-07:48:36-08:47:15                             1\n",
       "E21-234-07:44:14-07:45:14                             1\n",
       "E21-234-06:44:00-07:43:59                             1\n",
       "A35A-99753-1900-01-01 00:16:10-1900-01-01 00:29:23    1\n",
       "Name: count, Length: 18645, dtype: int64"
      ]
     },
     "execution_count": 278,
     "metadata": {},
     "output_type": "execute_result"
    }
   ],
   "source": [
    "kmsmio['id'].value_counts()"
   ]
  },
  {
   "cell_type": "markdown",
   "metadata": {},
   "source": [
    "Reporte finalizado"
   ]
  },
  {
   "cell_type": "code",
   "execution_count": 279,
   "metadata": {},
   "outputs": [],
   "source": [
    "# ubicacion del archivo\n",
    "patch2 =  '../input/REPORTE FINALIZADO 05_MARZ_2024.xlsx'\n",
    "# Se importa el archivo xlxs\n",
    "repofi = pd.read_excel(patch2, sheet_name='Programacion')\n",
    "bitacora = pd.read_excel(patch2, sheet_name='Bitacora')\n",
    "# Se eliminan las filas y las columnas vacias\n",
    "repofi = repofi.dropna(axis=0, how='all').dropna(axis=1, how='all')\n",
    "bitacora = bitacora.dropna(axis=0, how='all').dropna(axis=1, how='all')\n"
   ]
  },
  {
   "cell_type": "code",
   "execution_count": 280,
   "metadata": {},
   "outputs": [],
   "source": [
    "# Filtra el DF por Kms en Servicio\n",
    "repofi = repofi[repofi['Tipo de kilometros']== 'Kms en Servicio']\n",
    "# Se crea una nueva columna 'id'\n",
    "repofi['id'] = repofi.apply(lambda row: '-'.join([str(row['Línea']), str(row['Número de tarea vehículo']), \n",
    "                                                  str(row['desde']),str(row['hasta'])]), axis=1)\n"
   ]
  },
  {
   "cell_type": "code",
   "execution_count": 281,
   "metadata": {},
   "outputs": [
    {
     "data": {
      "text/plain": [
       "id\n",
       "A14A-1-05:00:00-05:12:10                              1\n",
       "T51-562-09:33:30-10:30:24                             1\n",
       "P51A-559-13:58:14-13:59:14                            1\n",
       "P51A-559-13:01:28-13:57:59                            1\n",
       "P51A-559-12:00:39-13:00:58                            1\n",
       "                                                     ..\n",
       "P21C-235-17:20:17-18:22:37                            1\n",
       "E21-234-07:48:36-08:47:15                             1\n",
       "E21-234-07:44:14-07:45:14                             1\n",
       "E21-234-06:44:00-07:43:59                             1\n",
       "A35A-99753-1900-01-01 00:16:10-1900-01-01 00:29:23    1\n",
       "Name: count, Length: 18645, dtype: int64"
      ]
     },
     "execution_count": 281,
     "metadata": {},
     "output_type": "execute_result"
    }
   ],
   "source": [
    "repofi['id'].value_counts()"
   ]
  },
  {
   "cell_type": "code",
   "execution_count": 282,
   "metadata": {},
   "outputs": [
    {
     "data": {
      "text/plain": [
       "(18645, 32)"
      ]
     },
     "execution_count": 282,
     "metadata": {},
     "output_type": "execute_result"
    }
   ],
   "source": [
    "repofi.shape"
   ]
  },
  {
   "cell_type": "markdown",
   "metadata": {},
   "source": [
    "Merge"
   ]
  },
  {
   "cell_type": "code",
   "execution_count": 283,
   "metadata": {},
   "outputs": [],
   "source": [
    "merge = pd.merge(kmsmio, repofi, on='id', how='outer')"
   ]
  },
  {
   "cell_type": "code",
   "execution_count": 284,
   "metadata": {},
   "outputs": [
    {
     "data": {
      "text/plain": [
       "(18645, 71)"
      ]
     },
     "execution_count": 284,
     "metadata": {},
     "output_type": "execute_result"
    }
   ],
   "source": [
    "merge.shape"
   ]
  },
  {
   "cell_type": "markdown",
   "metadata": {},
   "source": [
    "Filtro para columna condicional"
   ]
  },
  {
   "cell_type": "code",
   "execution_count": 285,
   "metadata": {},
   "outputs": [],
   "source": [
    "# Filtro para verificar \n",
    "filtro = merge"
   ]
  },
  {
   "cell_type": "code",
   "execution_count": 286,
   "metadata": {},
   "outputs": [
    {
     "data": {
      "text/plain": [
       "Index(['Fecha_x', 'Día tipo_x', 'Designación de tarea vehículo_x', 'Línea_x',\n",
       "       'Tipo de viaje corto_x', 'Sentido_x', 'Tipo Kilómetros',\n",
       "       'Número de Vehículo', 'Concesionario de Transporte_x',\n",
       "       'Número de tarea vehículo_x', 'Desde', 'hasta_x', 'Duración_x',\n",
       "       'Punto de inicio_x', 'Punto de término_x', 'Largo_x',\n",
       "       'Número de viaje_x', 'Tipo de vehículo del viaje_x',\n",
       "       'Secuencia de arcos_x', 'Descripción Novedad_x',\n",
       "       'Concesionario Programado', 'Tipo de vehículo Programado',\n",
       "       'Incumplidos_x', 'Kilometros Programados-Desvios',\n",
       "       'Kilometros Programados Plan', 'Clase de viaje', 'a evaluar', 'TAREA',\n",
       "       'LINEA', 'VIAJE', 'VEHICULO SGCO', 'Kms en Servicio (MTS PLANEADOS)',\n",
       "       'PARADAS PLANEADAS', 'PARADAS REALIZADAS SGCO',\n",
       "       '% PARADAS REALIZADAS SGCO', 'Kms en Servicio (MTS SGCO)',\n",
       "       'FUENTE SGCO', 'HORA REAL SALIDA', 'HORA REAL LLEGADA', 'id', 'Fecha_y',\n",
       "       'Día tipo_y', 'Designación de tarea vehículo_y', 'Línea_y',\n",
       "       'Tipo de viaje corto_y', 'Sentido_y', 'Tipo de kilometros',\n",
       "       'Número de secuencia de carro', 'Concesionario de Transporte_y',\n",
       "       'Número de tarea vehículo_y', 'desde', 'hasta_y', 'Duración_y',\n",
       "       'Punto de inicio_y', 'Punto de término_y', 'Largo_y',\n",
       "       'Número de viaje_y', 'Tipo de vehículo del viaje_y',\n",
       "       'Secuencia de arcos_y', 'Descripción Novedad_y', 'Subcontratista',\n",
       "       'Tipo de vehículo del viaje.1', 'Incumplidos_y', 'Nro de caso', 'Tipo',\n",
       "       'Lugar', 'Jerarquia', 'Vehículo', 'Kms Planeados', 'Kms Perdidos',\n",
       "       'Kms cancelados'],\n",
       "      dtype='object')"
      ]
     },
     "execution_count": 286,
     "metadata": {},
     "output_type": "execute_result"
    }
   ],
   "source": [
    "filtro.columns"
   ]
  },
  {
   "cell_type": "code",
   "execution_count": 307,
   "metadata": {},
   "outputs": [],
   "source": [
    "filtro = merge[merge['Largo_x'] != merge['Largo_y']]\n",
    "#862"
   ]
  },
  {
   "cell_type": "code",
   "execution_count": 288,
   "metadata": {},
   "outputs": [],
   "source": [
    "filtro = merge[merge['Número de Vehículo'] != merge['Número de secuencia de carro']]\n",
    "#12200  "
   ]
  },
  {
   "cell_type": "code",
   "execution_count": 289,
   "metadata": {},
   "outputs": [],
   "source": [
    "filtro = merge[merge['Secuencia de arcos_x'] != merge['Secuencia de arcos_y']]\n",
    " "
   ]
  },
  {
   "cell_type": "code",
   "execution_count": 292,
   "metadata": {},
   "outputs": [],
   "source": [
    "#replece blanco y negro a byn\n",
    "merge['Concesionario Programado'].replace('Blanco y Negro Masivo', 'BYN', inplace=True)\n"
   ]
  },
  {
   "cell_type": "code",
   "execution_count": 305,
   "metadata": {},
   "outputs": [
    {
     "name": "stderr",
     "output_type": "stream",
     "text": [
      "C:\\Users\\miguel.ortiz\\AppData\\Local\\Temp\\ipykernel_28424\\470402479.py:8: SettingWithCopyWarning: \n",
      "A value is trying to be set on a copy of a slice from a DataFrame.\n",
      "Try using .loc[row_indexer,col_indexer] = value instead\n",
      "\n",
      "See the caveats in the documentation: https://pandas.pydata.org/pandas-docs/stable/user_guide/indexing.html#returning-a-view-versus-a-copy\n",
      "  filtro['condicional'] = np.where(condicion1 & condicion2 & condicion3, 'Revisar largo, parada y vehículo',\n"
     ]
    }
   ],
   "source": [
    "# Condiciones para la nueva columna\n",
    "condicion1 = merge['Largo_x'] != merge['Largo_y']\n",
    "condicion2 = merge['Número de Vehículo'] != merge['Número de secuencia de carro']\n",
    "condicion3 = merge['Secuencia de arcos_x'] != merge['Secuencia de arcos_y']\n",
    "condicion4 = merge['Concesionario de Transporte_x'] != merge['Concesionario Programado']\n",
    "\n",
    "# Aplicar condiciones y asignar valores a la nueva columna\n",
    "filtro['condicional'] = np.where(condicion1 & condicion2 & condicion3, 'Revisar largo, parada y vehículo',\n",
    "                                 np.where(condicion1, 'Revisar largo', \n",
    "                                          np.where(condicion2, 'Revisar numero de vehiculo',\n",
    "                                                   np.where(condicion3, 'Revisar paradas',\n",
    "                                                            np.where(condicion4, 'Revisar consesionario', 'OK')))))\n"
   ]
  },
  {
   "cell_type": "code",
   "execution_count": 308,
   "metadata": {},
   "outputs": [
    {
     "data": {
      "text/plain": [
       "(862, 71)"
      ]
     },
     "execution_count": 308,
     "metadata": {},
     "output_type": "execute_result"
    }
   ],
   "source": [
    "filtro.shape"
   ]
  },
  {
   "cell_type": "code",
   "execution_count": 302,
   "metadata": {},
   "outputs": [
    {
     "data": {
      "text/plain": [
       "18645"
      ]
     },
     "execution_count": 302,
     "metadata": {},
     "output_type": "execute_result"
    }
   ],
   "source": [
    "filtro['condicional'].value_counts().sum()"
   ]
  },
  {
   "cell_type": "code",
   "execution_count": 306,
   "metadata": {},
   "outputs": [
    {
     "data": {
      "text/plain": [
       "condicional\n",
       "Revisar numero de vehiculo    11615\n",
       "OK                             6152\n",
       "Revisar largo                   862\n",
       "Revisar consesionario            16\n",
       "Name: count, dtype: int64"
      ]
     },
     "execution_count": 306,
     "metadata": {},
     "output_type": "execute_result"
    }
   ],
   "source": [
    "filtro['condicional'].value_counts()"
   ]
  },
  {
   "cell_type": "code",
   "execution_count": 230,
   "metadata": {},
   "outputs": [
    {
     "data": {
      "text/html": [
       "<div>\n",
       "<style scoped>\n",
       "    .dataframe tbody tr th:only-of-type {\n",
       "        vertical-align: middle;\n",
       "    }\n",
       "\n",
       "    .dataframe tbody tr th {\n",
       "        vertical-align: top;\n",
       "    }\n",
       "\n",
       "    .dataframe thead th {\n",
       "        text-align: right;\n",
       "    }\n",
       "</style>\n",
       "<table border=\"1\" class=\"dataframe\">\n",
       "  <thead>\n",
       "    <tr style=\"text-align: right;\">\n",
       "      <th></th>\n",
       "      <th>Fecha_x</th>\n",
       "      <th>Día tipo_x</th>\n",
       "      <th>Designación de tarea vehículo_x</th>\n",
       "      <th>Línea_x</th>\n",
       "      <th>Tipo de viaje corto_x</th>\n",
       "      <th>Sentido_x</th>\n",
       "      <th>Tipo Kilómetros</th>\n",
       "      <th>Número de Vehículo</th>\n",
       "      <th>Concesionario de Transporte_x</th>\n",
       "      <th>Número de tarea vehículo_x</th>\n",
       "      <th>...</th>\n",
       "      <th>Tipo de vehículo del viaje.1</th>\n",
       "      <th>Incumplidos_y</th>\n",
       "      <th>Nro de caso</th>\n",
       "      <th>Tipo</th>\n",
       "      <th>Lugar</th>\n",
       "      <th>Jerarquia</th>\n",
       "      <th>Vehículo</th>\n",
       "      <th>Kms Planeados</th>\n",
       "      <th>Kms Perdidos</th>\n",
       "      <th>Kms cancelados</th>\n",
       "    </tr>\n",
       "  </thead>\n",
       "  <tbody>\n",
       "    <tr>\n",
       "      <th>0</th>\n",
       "      <td>2024-03-05</td>\n",
       "      <td>DHABIL</td>\n",
       "      <td>13</td>\n",
       "      <td>A01A</td>\n",
       "      <td>Viaje comercial</td>\n",
       "      <td>Ida</td>\n",
       "      <td>Kms en Servicio</td>\n",
       "      <td>NaN</td>\n",
       "      <td>NaN</td>\n",
       "      <td>13</td>\n",
       "      <td>...</td>\n",
       "      <td>DUA</td>\n",
       "      <td>2.0</td>\n",
       "      <td>I20051442</td>\n",
       "      <td>Incumplimiento del COT</td>\n",
       "      <td>SANBO2</td>\n",
       "      <td>Incumplimiento del COT::Flota::Combustible</td>\n",
       "      <td>54004.0</td>\n",
       "      <td>4704</td>\n",
       "      <td>4704.0</td>\n",
       "      <td>NaN</td>\n",
       "    </tr>\n",
       "    <tr>\n",
       "      <th>1</th>\n",
       "      <td>2024-03-05</td>\n",
       "      <td>DHABIL</td>\n",
       "      <td>13</td>\n",
       "      <td>A01A</td>\n",
       "      <td>Viaje comercial</td>\n",
       "      <td>Ida</td>\n",
       "      <td>Kms en Servicio</td>\n",
       "      <td>NaN</td>\n",
       "      <td>NaN</td>\n",
       "      <td>13</td>\n",
       "      <td>...</td>\n",
       "      <td>DUA</td>\n",
       "      <td>2.0</td>\n",
       "      <td>NaN</td>\n",
       "      <td>NaN</td>\n",
       "      <td>NaN</td>\n",
       "      <td>NaN</td>\n",
       "      <td>NaN</td>\n",
       "      <td>4704</td>\n",
       "      <td>4704.0</td>\n",
       "      <td>NaN</td>\n",
       "    </tr>\n",
       "    <tr>\n",
       "      <th>2</th>\n",
       "      <td>2024-03-05</td>\n",
       "      <td>DHABIL</td>\n",
       "      <td>13</td>\n",
       "      <td>A01A</td>\n",
       "      <td>Viaje comercial</td>\n",
       "      <td>Ida</td>\n",
       "      <td>Kms en Servicio</td>\n",
       "      <td>54013</td>\n",
       "      <td>BYNCPC</td>\n",
       "      <td>13</td>\n",
       "      <td>...</td>\n",
       "      <td>DUA</td>\n",
       "      <td>NaN</td>\n",
       "      <td>20022922</td>\n",
       "      <td>Retoma</td>\n",
       "      <td>SANBO2</td>\n",
       "      <td>Retoma</td>\n",
       "      <td>54013.0</td>\n",
       "      <td>4704</td>\n",
       "      <td>NaN</td>\n",
       "      <td>NaN</td>\n",
       "    </tr>\n",
       "    <tr>\n",
       "      <th>3</th>\n",
       "      <td>2024-03-05</td>\n",
       "      <td>DHABIL</td>\n",
       "      <td>13</td>\n",
       "      <td>A01A</td>\n",
       "      <td>Viaje comercial</td>\n",
       "      <td>Ida</td>\n",
       "      <td>Kms en Servicio</td>\n",
       "      <td>54013</td>\n",
       "      <td>BYNCPC</td>\n",
       "      <td>13</td>\n",
       "      <td>...</td>\n",
       "      <td>DUA</td>\n",
       "      <td>NaN</td>\n",
       "      <td>2374293</td>\n",
       "      <td>Incidente</td>\n",
       "      <td>SANPAS6</td>\n",
       "      <td>Incidente::Por Flota::Con Protocolo Tecnologic...</td>\n",
       "      <td>54013.0</td>\n",
       "      <td>4704</td>\n",
       "      <td>NaN</td>\n",
       "      <td>NaN</td>\n",
       "    </tr>\n",
       "    <tr>\n",
       "      <th>4</th>\n",
       "      <td>2024-03-05</td>\n",
       "      <td>DHABIL</td>\n",
       "      <td>13</td>\n",
       "      <td>A01A</td>\n",
       "      <td>Viaje comercial</td>\n",
       "      <td>Ida</td>\n",
       "      <td>Kms en Servicio</td>\n",
       "      <td>54013</td>\n",
       "      <td>BYNCPC</td>\n",
       "      <td>13</td>\n",
       "      <td>...</td>\n",
       "      <td>DUA</td>\n",
       "      <td>NaN</td>\n",
       "      <td>NaN</td>\n",
       "      <td>NaN</td>\n",
       "      <td>NaN</td>\n",
       "      <td>NaN</td>\n",
       "      <td>NaN</td>\n",
       "      <td>4704</td>\n",
       "      <td>NaN</td>\n",
       "      <td>NaN</td>\n",
       "    </tr>\n",
       "    <tr>\n",
       "      <th>...</th>\n",
       "      <td>...</td>\n",
       "      <td>...</td>\n",
       "      <td>...</td>\n",
       "      <td>...</td>\n",
       "      <td>...</td>\n",
       "      <td>...</td>\n",
       "      <td>...</td>\n",
       "      <td>...</td>\n",
       "      <td>...</td>\n",
       "      <td>...</td>\n",
       "      <td>...</td>\n",
       "      <td>...</td>\n",
       "      <td>...</td>\n",
       "      <td>...</td>\n",
       "      <td>...</td>\n",
       "      <td>...</td>\n",
       "      <td>...</td>\n",
       "      <td>...</td>\n",
       "      <td>...</td>\n",
       "      <td>...</td>\n",
       "      <td>...</td>\n",
       "    </tr>\n",
       "    <tr>\n",
       "      <th>18640</th>\n",
       "      <td>2024-03-05</td>\n",
       "      <td>DHABIL</td>\n",
       "      <td>85</td>\n",
       "      <td>T53</td>\n",
       "      <td>Viaje comercial</td>\n",
       "      <td>Ida</td>\n",
       "      <td>Kms en Servicio</td>\n",
       "      <td>21016</td>\n",
       "      <td>BYN</td>\n",
       "      <td>85</td>\n",
       "      <td>...</td>\n",
       "      <td>ART</td>\n",
       "      <td>NaN</td>\n",
       "      <td>NaN</td>\n",
       "      <td>NaN</td>\n",
       "      <td>NaN</td>\n",
       "      <td>NaN</td>\n",
       "      <td>NaN</td>\n",
       "      <td>13963</td>\n",
       "      <td>NaN</td>\n",
       "      <td>NaN</td>\n",
       "    </tr>\n",
       "    <tr>\n",
       "      <th>18641</th>\n",
       "      <td>2024-03-05</td>\n",
       "      <td>DHABIL</td>\n",
       "      <td>85</td>\n",
       "      <td>T53</td>\n",
       "      <td>Viaje de posicionamiento</td>\n",
       "      <td>NaN</td>\n",
       "      <td>Kms en Servicio</td>\n",
       "      <td>21016</td>\n",
       "      <td>BYN</td>\n",
       "      <td>85</td>\n",
       "      <td>...</td>\n",
       "      <td>ART</td>\n",
       "      <td>NaN</td>\n",
       "      <td>NaN</td>\n",
       "      <td>NaN</td>\n",
       "      <td>NaN</td>\n",
       "      <td>NaN</td>\n",
       "      <td>NaN</td>\n",
       "      <td>436</td>\n",
       "      <td>NaN</td>\n",
       "      <td>NaN</td>\n",
       "    </tr>\n",
       "    <tr>\n",
       "      <th>18642</th>\n",
       "      <td>2024-03-05</td>\n",
       "      <td>DHABIL</td>\n",
       "      <td>85</td>\n",
       "      <td>T53</td>\n",
       "      <td>Viaje comercial</td>\n",
       "      <td>Vuelta</td>\n",
       "      <td>Kms en Servicio</td>\n",
       "      <td>21016</td>\n",
       "      <td>BYN</td>\n",
       "      <td>85</td>\n",
       "      <td>...</td>\n",
       "      <td>ART</td>\n",
       "      <td>NaN</td>\n",
       "      <td>NaN</td>\n",
       "      <td>NaN</td>\n",
       "      <td>NaN</td>\n",
       "      <td>NaN</td>\n",
       "      <td>NaN</td>\n",
       "      <td>14647</td>\n",
       "      <td>NaN</td>\n",
       "      <td>NaN</td>\n",
       "    </tr>\n",
       "    <tr>\n",
       "      <th>18643</th>\n",
       "      <td>2024-03-05</td>\n",
       "      <td>DHABIL</td>\n",
       "      <td>85</td>\n",
       "      <td>T53</td>\n",
       "      <td>Viaje de posicionamiento</td>\n",
       "      <td>NaN</td>\n",
       "      <td>Kms en Servicio</td>\n",
       "      <td>21016</td>\n",
       "      <td>BYN</td>\n",
       "      <td>85</td>\n",
       "      <td>...</td>\n",
       "      <td>ART</td>\n",
       "      <td>NaN</td>\n",
       "      <td>NaN</td>\n",
       "      <td>NaN</td>\n",
       "      <td>NaN</td>\n",
       "      <td>NaN</td>\n",
       "      <td>NaN</td>\n",
       "      <td>104</td>\n",
       "      <td>NaN</td>\n",
       "      <td>NaN</td>\n",
       "    </tr>\n",
       "    <tr>\n",
       "      <th>18644</th>\n",
       "      <td>2024-03-05</td>\n",
       "      <td>DHABIL</td>\n",
       "      <td>85</td>\n",
       "      <td>T53</td>\n",
       "      <td>Viaje comercial</td>\n",
       "      <td>Ida</td>\n",
       "      <td>Kms en Servicio</td>\n",
       "      <td>21016</td>\n",
       "      <td>BYN</td>\n",
       "      <td>85</td>\n",
       "      <td>...</td>\n",
       "      <td>ART</td>\n",
       "      <td>NaN</td>\n",
       "      <td>NaN</td>\n",
       "      <td>NaN</td>\n",
       "      <td>NaN</td>\n",
       "      <td>NaN</td>\n",
       "      <td>NaN</td>\n",
       "      <td>13963</td>\n",
       "      <td>NaN</td>\n",
       "      <td>NaN</td>\n",
       "    </tr>\n",
       "  </tbody>\n",
       "</table>\n",
       "<p>18645 rows × 71 columns</p>\n",
       "</div>"
      ],
      "text/plain": [
       "         Fecha_x Día tipo_x Designación de tarea vehículo_x Línea_x  \\\n",
       "0     2024-03-05     DHABIL                              13    A01A   \n",
       "1     2024-03-05     DHABIL                              13    A01A   \n",
       "2     2024-03-05     DHABIL                              13    A01A   \n",
       "3     2024-03-05     DHABIL                              13    A01A   \n",
       "4     2024-03-05     DHABIL                              13    A01A   \n",
       "...          ...        ...                             ...     ...   \n",
       "18640 2024-03-05     DHABIL                              85     T53   \n",
       "18641 2024-03-05     DHABIL                              85     T53   \n",
       "18642 2024-03-05     DHABIL                              85     T53   \n",
       "18643 2024-03-05     DHABIL                              85     T53   \n",
       "18644 2024-03-05     DHABIL                              85     T53   \n",
       "\n",
       "          Tipo de viaje corto_x Sentido_x  Tipo Kilómetros Número de Vehículo  \\\n",
       "0               Viaje comercial       Ida  Kms en Servicio                NaN   \n",
       "1               Viaje comercial       Ida  Kms en Servicio                NaN   \n",
       "2               Viaje comercial       Ida  Kms en Servicio              54013   \n",
       "3               Viaje comercial       Ida  Kms en Servicio              54013   \n",
       "4               Viaje comercial       Ida  Kms en Servicio              54013   \n",
       "...                         ...       ...              ...                ...   \n",
       "18640           Viaje comercial       Ida  Kms en Servicio              21016   \n",
       "18641  Viaje de posicionamiento       NaN  Kms en Servicio              21016   \n",
       "18642           Viaje comercial    Vuelta  Kms en Servicio              21016   \n",
       "18643  Viaje de posicionamiento       NaN  Kms en Servicio              21016   \n",
       "18644           Viaje comercial       Ida  Kms en Servicio              21016   \n",
       "\n",
       "      Concesionario de Transporte_x Número de tarea vehículo_x  ...  \\\n",
       "0                               NaN                         13  ...   \n",
       "1                               NaN                         13  ...   \n",
       "2                            BYNCPC                         13  ...   \n",
       "3                            BYNCPC                         13  ...   \n",
       "4                            BYNCPC                         13  ...   \n",
       "...                             ...                        ...  ...   \n",
       "18640                           BYN                         85  ...   \n",
       "18641                           BYN                         85  ...   \n",
       "18642                           BYN                         85  ...   \n",
       "18643                           BYN                         85  ...   \n",
       "18644                           BYN                         85  ...   \n",
       "\n",
       "      Tipo de vehículo del viaje.1 Incumplidos_y Nro de caso  \\\n",
       "0                              DUA           2.0   I20051442   \n",
       "1                              DUA           2.0         NaN   \n",
       "2                              DUA           NaN    20022922   \n",
       "3                              DUA           NaN     2374293   \n",
       "4                              DUA           NaN         NaN   \n",
       "...                            ...           ...         ...   \n",
       "18640                          ART           NaN         NaN   \n",
       "18641                          ART           NaN         NaN   \n",
       "18642                          ART           NaN         NaN   \n",
       "18643                          ART           NaN         NaN   \n",
       "18644                          ART           NaN         NaN   \n",
       "\n",
       "                         Tipo    Lugar  \\\n",
       "0      Incumplimiento del COT   SANBO2   \n",
       "1                         NaN      NaN   \n",
       "2                      Retoma   SANBO2   \n",
       "3                   Incidente  SANPAS6   \n",
       "4                         NaN      NaN   \n",
       "...                       ...      ...   \n",
       "18640                     NaN      NaN   \n",
       "18641                     NaN      NaN   \n",
       "18642                     NaN      NaN   \n",
       "18643                     NaN      NaN   \n",
       "18644                     NaN      NaN   \n",
       "\n",
       "                                               Jerarquia Vehículo  \\\n",
       "0             Incumplimiento del COT::Flota::Combustible  54004.0   \n",
       "1                                                    NaN      NaN   \n",
       "2                                                 Retoma  54013.0   \n",
       "3      Incidente::Por Flota::Con Protocolo Tecnologic...  54013.0   \n",
       "4                                                    NaN      NaN   \n",
       "...                                                  ...      ...   \n",
       "18640                                                NaN      NaN   \n",
       "18641                                                NaN      NaN   \n",
       "18642                                                NaN      NaN   \n",
       "18643                                                NaN      NaN   \n",
       "18644                                                NaN      NaN   \n",
       "\n",
       "      Kms Planeados Kms Perdidos Kms cancelados  \n",
       "0              4704       4704.0            NaN  \n",
       "1              4704       4704.0            NaN  \n",
       "2              4704          NaN            NaN  \n",
       "3              4704          NaN            NaN  \n",
       "4              4704          NaN            NaN  \n",
       "...             ...          ...            ...  \n",
       "18640         13963          NaN            NaN  \n",
       "18641           436          NaN            NaN  \n",
       "18642         14647          NaN            NaN  \n",
       "18643           104          NaN            NaN  \n",
       "18644         13963          NaN            NaN  \n",
       "\n",
       "[18645 rows x 71 columns]"
      ]
     },
     "execution_count": 230,
     "metadata": {},
     "output_type": "execute_result"
    }
   ],
   "source": [
    "filtro"
   ]
  },
  {
   "cell_type": "code",
   "execution_count": null,
   "metadata": {},
   "outputs": [],
   "source": [
    "filtro[filtro['Número de tarea vehículo_x']== 6]"
   ]
  },
  {
   "cell_type": "markdown",
   "metadata": {},
   "source": []
  },
  {
   "cell_type": "code",
   "execution_count": null,
   "metadata": {},
   "outputs": [],
   "source": [
    "# Exporta a un archivo excel el Df\n",
    "#merge.to_excel('../output/prueba_merge.xlsx', index=False, sheet_name='k2_procesado')"
   ]
  },
  {
   "cell_type": "markdown",
   "metadata": {},
   "source": [
    "Incumplido\n"
   ]
  },
  {
   "cell_type": "code",
   "execution_count": 316,
   "metadata": {},
   "outputs": [
    {
     "data": {
      "text/plain": [
       "Index(['Fecha_x', 'Día tipo_x', 'Designación de tarea vehículo_x', 'Línea_x',\n",
       "       'Tipo de viaje corto_x', 'Sentido_x', 'Tipo Kilómetros',\n",
       "       'Número de Vehículo', 'Concesionario de Transporte_x',\n",
       "       'Número de tarea vehículo_x', 'Desde', 'hasta_x', 'Duración_x',\n",
       "       'Punto de inicio_x', 'Punto de término_x', 'Largo_x',\n",
       "       'Número de viaje_x', 'Tipo de vehículo del viaje_x',\n",
       "       'Secuencia de arcos_x', 'Descripción Novedad_x',\n",
       "       'Concesionario Programado', 'Tipo de vehículo Programado',\n",
       "       'Incumplidos_x', 'Kilometros Programados-Desvios',\n",
       "       'Kilometros Programados Plan', 'Clase de viaje', 'a evaluar', 'TAREA',\n",
       "       'LINEA', 'VIAJE', 'VEHICULO SGCO', 'Kms en Servicio (MTS PLANEADOS)',\n",
       "       'PARADAS PLANEADAS', 'PARADAS REALIZADAS SGCO',\n",
       "       '% PARADAS REALIZADAS SGCO', 'Kms en Servicio (MTS SGCO)',\n",
       "       'FUENTE SGCO', 'HORA REAL SALIDA', 'HORA REAL LLEGADA', 'id', 'Fecha_y',\n",
       "       'Día tipo_y', 'Designación de tarea vehículo_y', 'Línea_y',\n",
       "       'Tipo de viaje corto_y', 'Sentido_y', 'Tipo de kilometros',\n",
       "       'Número de secuencia de carro', 'Concesionario de Transporte_y',\n",
       "       'Número de tarea vehículo_y', 'desde', 'hasta_y', 'Duración_y',\n",
       "       'Punto de inicio_y', 'Punto de término_y', 'Largo_y',\n",
       "       'Número de viaje_y', 'Tipo de vehículo del viaje_y',\n",
       "       'Secuencia de arcos_y', 'Descripción Novedad_y', 'Subcontratista',\n",
       "       'Tipo de vehículo del viaje.1', 'Incumplidos_y', 'Nro de caso', 'Tipo',\n",
       "       'Lugar', 'Jerarquia', 'Vehículo', 'Kms Planeados', 'Kms Perdidos',\n",
       "       'Kms cancelados'],\n",
       "      dtype='object')"
      ]
     },
     "execution_count": 316,
     "metadata": {},
     "output_type": "execute_result"
    }
   ],
   "source": [
    "merge.columns"
   ]
  },
  {
   "cell_type": "code",
   "execution_count": 315,
   "metadata": {},
   "outputs": [
    {
     "data": {
      "text/html": [
       "<div>\n",
       "<style scoped>\n",
       "    .dataframe tbody tr th:only-of-type {\n",
       "        vertical-align: middle;\n",
       "    }\n",
       "\n",
       "    .dataframe tbody tr th {\n",
       "        vertical-align: top;\n",
       "    }\n",
       "\n",
       "    .dataframe thead th {\n",
       "        text-align: right;\n",
       "    }\n",
       "</style>\n",
       "<table border=\"1\" class=\"dataframe\">\n",
       "  <thead>\n",
       "    <tr style=\"text-align: right;\">\n",
       "      <th></th>\n",
       "      <th>Incumplidos_x</th>\n",
       "      <th>Incumplidos_y</th>\n",
       "    </tr>\n",
       "  </thead>\n",
       "  <tbody>\n",
       "    <tr>\n",
       "      <th>0</th>\n",
       "      <td>2.0</td>\n",
       "      <td>2.0</td>\n",
       "    </tr>\n",
       "    <tr>\n",
       "      <th>1</th>\n",
       "      <td>2.0</td>\n",
       "      <td>2.0</td>\n",
       "    </tr>\n",
       "    <tr>\n",
       "      <th>2</th>\n",
       "      <td>NaN</td>\n",
       "      <td>NaN</td>\n",
       "    </tr>\n",
       "    <tr>\n",
       "      <th>3</th>\n",
       "      <td>NaN</td>\n",
       "      <td>NaN</td>\n",
       "    </tr>\n",
       "    <tr>\n",
       "      <th>4</th>\n",
       "      <td>NaN</td>\n",
       "      <td>NaN</td>\n",
       "    </tr>\n",
       "    <tr>\n",
       "      <th>...</th>\n",
       "      <td>...</td>\n",
       "      <td>...</td>\n",
       "    </tr>\n",
       "    <tr>\n",
       "      <th>18640</th>\n",
       "      <td>NaN</td>\n",
       "      <td>NaN</td>\n",
       "    </tr>\n",
       "    <tr>\n",
       "      <th>18641</th>\n",
       "      <td>NaN</td>\n",
       "      <td>NaN</td>\n",
       "    </tr>\n",
       "    <tr>\n",
       "      <th>18642</th>\n",
       "      <td>NaN</td>\n",
       "      <td>NaN</td>\n",
       "    </tr>\n",
       "    <tr>\n",
       "      <th>18643</th>\n",
       "      <td>NaN</td>\n",
       "      <td>NaN</td>\n",
       "    </tr>\n",
       "    <tr>\n",
       "      <th>18644</th>\n",
       "      <td>NaN</td>\n",
       "      <td>NaN</td>\n",
       "    </tr>\n",
       "  </tbody>\n",
       "</table>\n",
       "<p>18645 rows × 2 columns</p>\n",
       "</div>"
      ],
      "text/plain": [
       "       Incumplidos_x  Incumplidos_y\n",
       "0                2.0            2.0\n",
       "1                2.0            2.0\n",
       "2                NaN            NaN\n",
       "3                NaN            NaN\n",
       "4                NaN            NaN\n",
       "...              ...            ...\n",
       "18640            NaN            NaN\n",
       "18641            NaN            NaN\n",
       "18642            NaN            NaN\n",
       "18643            NaN            NaN\n",
       "18644            NaN            NaN\n",
       "\n",
       "[18645 rows x 2 columns]"
      ]
     },
     "execution_count": 315,
     "metadata": {},
     "output_type": "execute_result"
    }
   ],
   "source": [
    "merge[['Incumplidos_x', 'Incumplidos_y']]"
   ]
  },
  {
   "cell_type": "code",
   "execution_count": null,
   "metadata": {},
   "outputs": [],
   "source": [
    "import numpy as np\n",
    "\n",
    "# Aplicar la lógica a cada fila del DataFrame y asignar el resultado a una nueva columna\n",
    "merge['resultado'] = merge.apply(lambda row: \\\n",
    "    2 if (row['Tipo Kilómetros'] == \"Kms en Servicio\" and pd.isna(row['AC193'])) \\\n",
    "      and row['Tipo de viaje corto'] == \"Viaje comercial\" \\\n",
    "    else (1 if (row['Tipo Kilómetros'] == \"Kms en Servicio\" and pd.isna(row['AC193'])) \\\n",
    "      and ((row['Tipo de viaje corto'] == \"Viaje de punto operacional\" or row['Tipo de viaje corto'] == \"Viaje de posicionamiento\") \\\n",
    "      and (pd.isna(row['Número de Vehículo']) and (row['AH194'] == 2 and (row['AF193'] == 0 or row['AF193'] == 1) \\\n",
    "      or ((row['AF193'] != 0 and row['AF193'] != 1) or (row['AF194'] == 0 or row['AF194'] == 1)) and (pd.notna(row['AH195']) or 2))))) \\\n",
    "    else (0 if (row['AC193'] == \"CAMBIO\" or row['AC193'] == \"CANCELADA\") and row['G193'] != \"Kms en Vacio\" else \"\"), axis=1)\n"
   ]
  },
  {
   "cell_type": "code",
   "execution_count": null,
   "metadata": {},
   "outputs": [],
   "source": [
    "if G193 != \"Kms en Vacio\":\n",
    "    if P193 != AF193:\n",
    "        if AD193 == \"\":\n",
    "            resultado = \"#Error\"\n",
    "        else:\n",
    "            resultado = \"Arco va desde \" + AD193 + \" hasta \" + AE193 + \" con un arco de \" + str(AF193) + \", revisar calificacion\"\n",
    "    elif W193 != AH193:\n",
    "        resultado = \"Calificacion debe ser \" + str(AH193) + \" verificar\"\n",
    "    elif H193 and H193[1] != AC193[1]:\n",
    "        if AC193 == \"\" or AC193 == 0:\n",
    "            if H193 == \"\":\n",
    "                resultado = \"\"\n",
    "            else:\n",
    "                resultado = \"Verificar Vehiculo: \" + H193\n",
    "        else:\n",
    "            resultado = \"Actualizar vehiculo: \" + str(AC193)\n",
    "    else:\n",
    "        resultado = \"\"\n",
    "else:\n",
    "    resultado = \"\"\n"
   ]
  },
  {
   "cell_type": "markdown",
   "metadata": {},
   "source": [
    "Jerarquias"
   ]
  },
  {
   "cell_type": "code",
   "execution_count": null,
   "metadata": {},
   "outputs": [],
   "source": [
    "prueba = bitacora['Jerarquía'].drop_duplicates().to_frame()"
   ]
  },
  {
   "cell_type": "code",
   "execution_count": null,
   "metadata": {},
   "outputs": [],
   "source": [
    "# Función para dividir el texto en base a \":\" y seleccionar la parte deseada\n",
    "def split_text(text):\n",
    "    if \":\" in text:\n",
    "        # Dividir el texto en base a \":\" y tomar la primera parte\n",
    "        return text.split(\":\", 1)[0]\n",
    "    else:\n",
    "        return text"
   ]
  },
  {
   "cell_type": "code",
   "execution_count": null,
   "metadata": {},
   "outputs": [],
   "source": [
    "# Aplicar la función a la columna 'Jerarquía'\n",
    "prueba['Texto_Antes'] = prueba['Jerarquía'].apply(split_text)\n",
    "\n"
   ]
  },
  {
   "cell_type": "code",
   "execution_count": null,
   "metadata": {},
   "outputs": [],
   "source": [
    "# Funcion para obtener el ultimo dato de la columna\n",
    "def obtener_texto_despues_ultimo(texto):\n",
    "    # Usamos una expresión regular para encontrar el texto después del último \":\"\n",
    "    match = re.search(r'[^:]*$', texto)\n",
    "    if match:\n",
    "        return match.group(0)\n",
    "    else:\n",
    "        return ''\n"
   ]
  },
  {
   "cell_type": "code",
   "execution_count": null,
   "metadata": {},
   "outputs": [],
   "source": [
    "\n",
    "prueba['despues_text'] = prueba['Jerarquía'].apply(obtener_texto_despues_ultimo)\n",
    "\n"
   ]
  },
  {
   "cell_type": "markdown",
   "metadata": {},
   "source": [
    "Merge con Jererquias"
   ]
  },
  {
   "cell_type": "code",
   "execution_count": null,
   "metadata": {},
   "outputs": [],
   "source": [
    "merge.shape"
   ]
  },
  {
   "cell_type": "code",
   "execution_count": null,
   "metadata": {},
   "outputs": [],
   "source": [
    "# Se selecionan las columnas de Bitacora que se van a usar\n",
    "bitacorafil = bitacora[['Jerarquía',\t'Tarea',\t'Viaje', 'Parada', 'Vehículo', 'Novedad']]"
   ]
  },
  {
   "cell_type": "code",
   "execution_count": null,
   "metadata": {},
   "outputs": [],
   "source": [
    "# Se agrega al merge anterior la informacion de bitacora\n",
    "mergebitacora = pd.merge(merge, bitacorafil, left_on=['Número de tarea vehículo_x', 'Número de viaje_x'], right_on=['Tarea', 'Viaje'], how='outer' )"
   ]
  },
  {
   "cell_type": "code",
   "execution_count": null,
   "metadata": {},
   "outputs": [],
   "source": [
    "mergebitacora.shape"
   ]
  },
  {
   "cell_type": "code",
   "execution_count": null,
   "metadata": {},
   "outputs": [],
   "source": [
    "filtro = mergebitacora[(mergebitacora['Fecha_x'].isna()) & (mergebitacora['Tipo novedad'].notna())]\n"
   ]
  },
  {
   "cell_type": "code",
   "execution_count": null,
   "metadata": {},
   "outputs": [],
   "source": [
    "filtro[['Tarea', 'Viaje']]"
   ]
  }
 ],
 "metadata": {
  "kernelspec": {
   "display_name": "w-env",
   "language": "python",
   "name": "w-env"
  },
  "language_info": {
   "codemirror_mode": {
    "name": "ipython",
    "version": 3
   },
   "file_extension": ".py",
   "mimetype": "text/x-python",
   "name": "python",
   "nbconvert_exporter": "python",
   "pygments_lexer": "ipython3",
   "version": "3.12.2"
  },
  "orig_nbformat": 4
 },
 "nbformat": 4,
 "nbformat_minor": 2
}
